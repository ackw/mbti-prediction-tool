{
  "cells": [
    {
      "cell_type": "code",
      "source": [
        "# Notebook 4/4"
      ],
      "metadata": {
        "id": "BliuxNhOf8Zx"
      },
      "execution_count": null,
      "outputs": []
    },
    {
      "cell_type": "markdown",
      "source": [
        "# Imports"
      ],
      "metadata": {
        "id": "88kKg6SaH2kQ"
      }
    },
    {
      "cell_type": "code",
      "source": [
        "# imports\n",
        "import numpy as np\n",
        "import pandas as pd\n",
        "import re\n",
        "\n",
        "import matplotlib.pyplot as plt\n",
        "import seaborn as sns\n",
        "sns.set_style(\"whitegrid\", {'axes.grid' : False})\n",
        "\n",
        "from plotly import graph_objs as go\n",
        "import plotly.express as px\n",
        "import plotly.figure_factory as ff\n",
        "\n",
        "from wordcloud import WordCloud\n",
        "import collections\n",
        "from collections import Counter\n",
        "from textblob import TextBlob\n",
        "\n",
        "# cleaning\n",
        "import nltk\n",
        "nltk.download('wordnet')\n",
        "\n",
        "# stopwords\n",
        "nltk.download('stopwords')\n",
        "from nltk.corpus import stopwords\n",
        "\n",
        "# lemmatization\n",
        "nltk.download('punkt')\n",
        "from nltk.stem import WordNetLemmatizer \n",
        "\n",
        "# vader sentiment analysis\n",
        "nltk.download('vader_lexicon')\n",
        "from nltk.sentiment.vader import SentimentIntensityAnalyzer\n",
        "\n",
        "# flair sentiment analysis\n",
        "from flair.models import TextClassifier\n",
        "from flair.data import Sentence\n",
        "\n",
        "from sklearn.feature_extraction.text import CountVectorizer\n",
        "from sklearn.metrics import confusion_matrix, accuracy_score, f1_score\n",
        "from sklearn.model_selection import train_test_split\n",
        "\n",
        "from tensorflow.keras.models import Model\n",
        "from keras.preprocessing.text import Tokenizer\n",
        "from keras.preprocessing.sequence import pad_sequences\n",
        "from keras.models import Sequential\n",
        "from keras.layers import *\n",
        "from keras.utils.np_utils import to_categorical\n",
        "from keras.initializers import Constant\n",
        "from tensorflow.keras.optimizers import Adam\n",
        "from keras.utils.vis_utils import plot_model\n",
        "\n",
        "from tensorflow import keras\n",
        "from tensorflow.keras.models import Model\n",
        "from tensorflow.keras import layers\n",
        "\n",
        "# attention\n",
        "import math\n",
        "import transformers\n",
        "from transformers import AutoTokenizer,AutoModelForQuestionAnswering"
      ],
      "metadata": {
        "id": "_LpCsiyBuohv"
      },
      "execution_count": null,
      "outputs": []
    },
    {
      "cell_type": "code",
      "source": [
        "# installations\n",
        "!pip install transformers\n",
        "!pip install flair\n",
        "!pip install textblob\n",
        "!pip install pycaret"
      ],
      "metadata": {
        "id": "EbqBd37yvQMb"
      },
      "execution_count": null,
      "outputs": []
    },
    {
      "cell_type": "code",
      "source": [
        "def get_version(name):\n",
        "  ver = name.__version__\n",
        "  print(ver, \"\", name)\n",
        "\n",
        "import flair\n",
        "import plotly\n",
        "import sklearn\n",
        "import textblob\n",
        "import wordcloud\n",
        "\n",
        "get_version(flair)\n",
        "get_version(keras)\n",
        "get_version(matplotlib)\n",
        "get_version(nltk)\n",
        "get_version(np)\n",
        "get_version(pd)\n",
        "get_version(plotly)\n",
        "get_version(sklearn)\n",
        "get_version(sns)\n",
        "get_version(tf)\n",
        "get_version(textblob)\n",
        "get_version(transformers)\n",
        "get_version(twint)\n",
        "get_version(wordcloud)"
      ],
      "metadata": {
        "colab": {
          "base_uri": "https://localhost:8080/"
        },
        "id": "EdEZS8234hf5",
        "outputId": "98197498-b492-4733-de74-d2874ae76fad"
      },
      "execution_count": null,
      "outputs": [
        {
          "output_type": "stream",
          "name": "stdout",
          "text": [
            "0.10  <module 'flair' from '/usr/local/lib/python3.7/dist-packages/flair/__init__.py'>\n",
            "2.8.0  <module 'tensorflow.keras' from '/usr/local/lib/python3.7/dist-packages/keras/api/_v2/keras/__init__.py'>\n",
            "3.2.2  <module 'matplotlib' from '/usr/local/lib/python3.7/dist-packages/matplotlib/__init__.py'>\n",
            "3.2.5  <module 'nltk' from '/usr/local/lib/python3.7/dist-packages/nltk/__init__.py'>\n",
            "1.21.5  <module 'numpy' from '/usr/local/lib/python3.7/dist-packages/numpy/__init__.py'>\n",
            "1.3.5  <module 'pandas' from '/usr/local/lib/python3.7/dist-packages/pandas/__init__.py'>\n",
            "5.5.0  <module 'plotly' from '/usr/local/lib/python3.7/dist-packages/plotly/__init__.py'>\n",
            "0.23.2  <module 'sklearn' from '/usr/local/lib/python3.7/dist-packages/sklearn/__init__.py'>\n",
            "0.11.2  <module 'seaborn' from '/usr/local/lib/python3.7/dist-packages/seaborn/__init__.py'>\n",
            "2.8.0  <module 'tensorflow.compat.v2' from '/usr/local/lib/python3.7/dist-packages/tensorflow/_api/v2/compat/v2/__init__.py'>\n",
            "0.15.3  <module 'textblob' from '/usr/local/lib/python3.7/dist-packages/textblob/__init__.py'>\n",
            "4.16.2  <module 'transformers' from '/usr/local/lib/python3.7/dist-packages/transformers/__init__.py'>\n",
            "2.1.21  <module 'twint' from '/root/.local/lib/python3.7/site-packages/twint/__init__.py'>\n",
            "1.5.0  <module 'wordcloud' from '/usr/local/lib/python3.7/dist-packages/wordcloud/__init__.py'>\n"
          ]
        }
      ]
    },
    {
      "cell_type": "code",
      "source": [
        "!nvidia-smi"
      ],
      "metadata": {
        "colab": {
          "base_uri": "https://localhost:8080/"
        },
        "id": "AIrSyMircKh2",
        "outputId": "ab29643e-1f89-469c-8b71-281eb6493604"
      },
      "execution_count": null,
      "outputs": [
        {
          "output_type": "stream",
          "name": "stdout",
          "text": [
            "Sat Feb 19 19:23:54 2022       \n",
            "+-----------------------------------------------------------------------------+\n",
            "| NVIDIA-SMI 460.32.03    Driver Version: 460.32.03    CUDA Version: 11.2     |\n",
            "|-------------------------------+----------------------+----------------------+\n",
            "| GPU  Name        Persistence-M| Bus-Id        Disp.A | Volatile Uncorr. ECC |\n",
            "| Fan  Temp  Perf  Pwr:Usage/Cap|         Memory-Usage | GPU-Util  Compute M. |\n",
            "|                               |                      |               MIG M. |\n",
            "|===============================+======================+======================|\n",
            "|   0  Tesla K80           Off  | 00000000:00:04.0 Off |                    0 |\n",
            "| N/A   35C    P8    27W / 149W |      0MiB / 11441MiB |      0%      Default |\n",
            "|                               |                      |                  N/A |\n",
            "+-------------------------------+----------------------+----------------------+\n",
            "                                                                               \n",
            "+-----------------------------------------------------------------------------+\n",
            "| Processes:                                                                  |\n",
            "|  GPU   GI   CI        PID   Type   Process name                  GPU Memory |\n",
            "|        ID   ID                                                   Usage      |\n",
            "|=============================================================================|\n",
            "|  No running processes found                                                 |\n",
            "+-----------------------------------------------------------------------------+\n"
          ]
        }
      ]
    },
    {
      "cell_type": "code",
      "execution_count": null,
      "metadata": {
        "colab": {
          "base_uri": "https://localhost:8080/",
          "height": 201
        },
        "id": "1cT6hSQRMwy_",
        "outputId": "72590165-4f47-4f0c-c323-06fb9cac94f2"
      },
      "outputs": [
        {
          "output_type": "execute_result",
          "data": {
            "text/html": [
              "\n",
              "  <div id=\"df-91ca5ec8-3f50-4015-ac8c-2c2e7c0fd694\">\n",
              "    <div class=\"colab-df-container\">\n",
              "      <div>\n",
              "<style scoped>\n",
              "    .dataframe tbody tr th:only-of-type {\n",
              "        vertical-align: middle;\n",
              "    }\n",
              "\n",
              "    .dataframe tbody tr th {\n",
              "        vertical-align: top;\n",
              "    }\n",
              "\n",
              "    .dataframe thead th {\n",
              "        text-align: right;\n",
              "    }\n",
              "</style>\n",
              "<table border=\"1\" class=\"dataframe\">\n",
              "  <thead>\n",
              "    <tr style=\"text-align: right;\">\n",
              "      <th></th>\n",
              "      <th>text</th>\n",
              "      <th>label</th>\n",
              "      <th>IE</th>\n",
              "      <th>NS</th>\n",
              "      <th>TF</th>\n",
              "      <th>JP</th>\n",
              "    </tr>\n",
              "  </thead>\n",
              "  <tbody>\n",
              "    <tr>\n",
              "      <th>0</th>\n",
              "      <td>intj moment play experience life repeat today ...</td>\n",
              "      <td>INFJ</td>\n",
              "      <td>I</td>\n",
              "      <td>N</td>\n",
              "      <td>F</td>\n",
              "      <td>J</td>\n",
              "    </tr>\n",
              "    <tr>\n",
              "      <th>1</th>\n",
              "      <td>find lack post alarm sex boring position often...</td>\n",
              "      <td>ENTP</td>\n",
              "      <td>E</td>\n",
              "      <td>N</td>\n",
              "      <td>T</td>\n",
              "      <td>P</td>\n",
              "    </tr>\n",
              "    <tr>\n",
              "      <th>2</th>\n",
              "      <td>good course say know absolutely positive good ...</td>\n",
              "      <td>INTP</td>\n",
              "      <td>I</td>\n",
              "      <td>N</td>\n",
              "      <td>T</td>\n",
              "      <td>P</td>\n",
              "    </tr>\n",
              "    <tr>\n",
              "      <th>3</th>\n",
              "      <td>dear rule arbitrary construct create dear entj...</td>\n",
              "      <td>INTJ</td>\n",
              "      <td>I</td>\n",
              "      <td>N</td>\n",
              "      <td>T</td>\n",
              "      <td>J</td>\n",
              "    </tr>\n",
              "    <tr>\n",
              "      <th>4</th>\n",
              "      <td>silly misconception approach logically go key ...</td>\n",
              "      <td>ENTJ</td>\n",
              "      <td>E</td>\n",
              "      <td>N</td>\n",
              "      <td>T</td>\n",
              "      <td>J</td>\n",
              "    </tr>\n",
              "  </tbody>\n",
              "</table>\n",
              "</div>\n",
              "      <button class=\"colab-df-convert\" onclick=\"convertToInteractive('df-91ca5ec8-3f50-4015-ac8c-2c2e7c0fd694')\"\n",
              "              title=\"Convert this dataframe to an interactive table.\"\n",
              "              style=\"display:none;\">\n",
              "        \n",
              "  <svg xmlns=\"http://www.w3.org/2000/svg\" height=\"24px\"viewBox=\"0 0 24 24\"\n",
              "       width=\"24px\">\n",
              "    <path d=\"M0 0h24v24H0V0z\" fill=\"none\"/>\n",
              "    <path d=\"M18.56 5.44l.94 2.06.94-2.06 2.06-.94-2.06-.94-.94-2.06-.94 2.06-2.06.94zm-11 1L8.5 8.5l.94-2.06 2.06-.94-2.06-.94L8.5 2.5l-.94 2.06-2.06.94zm10 10l.94 2.06.94-2.06 2.06-.94-2.06-.94-.94-2.06-.94 2.06-2.06.94z\"/><path d=\"M17.41 7.96l-1.37-1.37c-.4-.4-.92-.59-1.43-.59-.52 0-1.04.2-1.43.59L10.3 9.45l-7.72 7.72c-.78.78-.78 2.05 0 2.83L4 21.41c.39.39.9.59 1.41.59.51 0 1.02-.2 1.41-.59l7.78-7.78 2.81-2.81c.8-.78.8-2.07 0-2.86zM5.41 20L4 18.59l7.72-7.72 1.47 1.35L5.41 20z\"/>\n",
              "  </svg>\n",
              "      </button>\n",
              "      \n",
              "  <style>\n",
              "    .colab-df-container {\n",
              "      display:flex;\n",
              "      flex-wrap:wrap;\n",
              "      gap: 12px;\n",
              "    }\n",
              "\n",
              "    .colab-df-convert {\n",
              "      background-color: #E8F0FE;\n",
              "      border: none;\n",
              "      border-radius: 50%;\n",
              "      cursor: pointer;\n",
              "      display: none;\n",
              "      fill: #1967D2;\n",
              "      height: 32px;\n",
              "      padding: 0 0 0 0;\n",
              "      width: 32px;\n",
              "    }\n",
              "\n",
              "    .colab-df-convert:hover {\n",
              "      background-color: #E2EBFA;\n",
              "      box-shadow: 0px 1px 2px rgba(60, 64, 67, 0.3), 0px 1px 3px 1px rgba(60, 64, 67, 0.15);\n",
              "      fill: #174EA6;\n",
              "    }\n",
              "\n",
              "    [theme=dark] .colab-df-convert {\n",
              "      background-color: #3B4455;\n",
              "      fill: #D2E3FC;\n",
              "    }\n",
              "\n",
              "    [theme=dark] .colab-df-convert:hover {\n",
              "      background-color: #434B5C;\n",
              "      box-shadow: 0px 1px 3px 1px rgba(0, 0, 0, 0.15);\n",
              "      filter: drop-shadow(0px 1px 2px rgba(0, 0, 0, 0.3));\n",
              "      fill: #FFFFFF;\n",
              "    }\n",
              "  </style>\n",
              "\n",
              "      <script>\n",
              "        const buttonEl =\n",
              "          document.querySelector('#df-91ca5ec8-3f50-4015-ac8c-2c2e7c0fd694 button.colab-df-convert');\n",
              "        buttonEl.style.display =\n",
              "          google.colab.kernel.accessAllowed ? 'block' : 'none';\n",
              "\n",
              "        async function convertToInteractive(key) {\n",
              "          const element = document.querySelector('#df-91ca5ec8-3f50-4015-ac8c-2c2e7c0fd694');\n",
              "          const dataTable =\n",
              "            await google.colab.kernel.invokeFunction('convertToInteractive',\n",
              "                                                     [key], {});\n",
              "          if (!dataTable) return;\n",
              "\n",
              "          const docLinkHtml = 'Like what you see? Visit the ' +\n",
              "            '<a target=\"_blank\" href=https://colab.research.google.com/notebooks/data_table.ipynb>data table notebook</a>'\n",
              "            + ' to learn more about interactive tables.';\n",
              "          element.innerHTML = '';\n",
              "          dataTable['output_type'] = 'display_data';\n",
              "          await google.colab.output.renderOutput(dataTable, element);\n",
              "          const docLink = document.createElement('div');\n",
              "          docLink.innerHTML = docLinkHtml;\n",
              "          element.appendChild(docLink);\n",
              "        }\n",
              "      </script>\n",
              "    </div>\n",
              "  </div>\n",
              "  "
            ],
            "text/plain": [
              "                                                text label IE NS TF JP\n",
              "0  intj moment play experience life repeat today ...  INFJ  I  N  F  J\n",
              "1  find lack post alarm sex boring position often...  ENTP  E  N  T  P\n",
              "2  good course say know absolutely positive good ...  INTP  I  N  T  P\n",
              "3  dear rule arbitrary construct create dear entj...  INTJ  I  N  T  J\n",
              "4  silly misconception approach logically go key ...  ENTJ  E  N  T  J"
            ]
          },
          "metadata": {},
          "execution_count": 1
        }
      ],
      "source": [
        "# mbti_1_cleaned_all as final dataset\n",
        "import pandas as pd\n",
        "data = pd.read_csv(\"/content/drive/MyDrive/mbti/mbti_1_cleaned_all.csv\")\n",
        "data.head()"
      ]
    },
    {
      "cell_type": "code",
      "source": [
        "# data = pd.read_csv(\"https://drive.google.com/uc?id=1NWGrm705AS3xOWrDFfETswf2saoPCkyu\")"
      ],
      "metadata": {
        "id": "TaRlopEeN803"
      },
      "execution_count": null,
      "outputs": []
    },
    {
      "cell_type": "markdown",
      "source": [
        "# MBTI Prediction Tool"
      ],
      "metadata": {
        "id": "utT5p1Sn9m2U"
      }
    },
    {
      "cell_type": "code",
      "source": [
        "# extra runs using the same configurations on cnn multiclass model\n",
        "# this is to allow an additional option for prediction"
      ],
      "metadata": {
        "id": "aovajFZJ6y3o"
      },
      "execution_count": null,
      "outputs": []
    },
    {
      "cell_type": "markdown",
      "source": [
        "### CNN + Reddit Data: GloVe"
      ],
      "metadata": {
        "id": "fLfJxjoi_10h"
      }
    },
    {
      "cell_type": "code",
      "source": [
        "data = pd.read_csv(\"/content/drive/MyDrive/mbti/submission datasets/3thousand_4axis.csv\")\n",
        "data.head()"
      ],
      "metadata": {
        "colab": {
          "base_uri": "https://localhost:8080/",
          "height": 201
        },
        "id": "K72MYAuLvgYZ",
        "outputId": "2f68c425-cc53-413e-fb62-9522e853c563"
      },
      "execution_count": null,
      "outputs": [
        {
          "output_type": "execute_result",
          "data": {
            "text/html": [
              "\n",
              "  <div id=\"df-cfa60b68-55ee-4b87-b9bf-808e57825ec1\">\n",
              "    <div class=\"colab-df-container\">\n",
              "      <div>\n",
              "<style scoped>\n",
              "    .dataframe tbody tr th:only-of-type {\n",
              "        vertical-align: middle;\n",
              "    }\n",
              "\n",
              "    .dataframe tbody tr th {\n",
              "        vertical-align: top;\n",
              "    }\n",
              "\n",
              "    .dataframe thead th {\n",
              "        text-align: right;\n",
              "    }\n",
              "</style>\n",
              "<table border=\"1\" class=\"dataframe\">\n",
              "  <thead>\n",
              "    <tr style=\"text-align: right;\">\n",
              "      <th></th>\n",
              "      <th>text</th>\n",
              "      <th>label</th>\n",
              "      <th>IE</th>\n",
              "      <th>NS</th>\n",
              "      <th>TF</th>\n",
              "      <th>JP</th>\n",
              "      <th>label_int</th>\n",
              "      <th>IE_int</th>\n",
              "      <th>NS_int</th>\n",
              "      <th>TF_int</th>\n",
              "      <th>JP_int</th>\n",
              "    </tr>\n",
              "  </thead>\n",
              "  <tbody>\n",
              "    <tr>\n",
              "      <th>0</th>\n",
              "      <td>Hitman please!  Favorite game is Persona 5</td>\n",
              "      <td>INFJ</td>\n",
              "      <td>introvert</td>\n",
              "      <td>intuition</td>\n",
              "      <td>feeling</td>\n",
              "      <td>judging</td>\n",
              "      <td>0</td>\n",
              "      <td>0</td>\n",
              "      <td>0</td>\n",
              "      <td>0</td>\n",
              "      <td>0</td>\n",
              "    </tr>\n",
              "    <tr>\n",
              "      <th>1</th>\n",
              "      <td>If there were a dedicated ARAM mode people wou...</td>\n",
              "      <td>INFJ</td>\n",
              "      <td>introvert</td>\n",
              "      <td>intuition</td>\n",
              "      <td>feeling</td>\n",
              "      <td>judging</td>\n",
              "      <td>0</td>\n",
              "      <td>0</td>\n",
              "      <td>0</td>\n",
              "      <td>0</td>\n",
              "      <td>0</td>\n",
              "    </tr>\n",
              "    <tr>\n",
              "      <th>2</th>\n",
              "      <td>It's obscure game, but Starmade might be more ...</td>\n",
              "      <td>ENTP</td>\n",
              "      <td>extrovert</td>\n",
              "      <td>intuition</td>\n",
              "      <td>thinking</td>\n",
              "      <td>perceiving</td>\n",
              "      <td>1</td>\n",
              "      <td>1</td>\n",
              "      <td>0</td>\n",
              "      <td>1</td>\n",
              "      <td>1</td>\n",
              "    </tr>\n",
              "    <tr>\n",
              "      <th>3</th>\n",
              "      <td>I can't even count the reasons why it's comple...</td>\n",
              "      <td>INTP</td>\n",
              "      <td>introvert</td>\n",
              "      <td>intuition</td>\n",
              "      <td>thinking</td>\n",
              "      <td>perceiving</td>\n",
              "      <td>2</td>\n",
              "      <td>0</td>\n",
              "      <td>0</td>\n",
              "      <td>1</td>\n",
              "      <td>1</td>\n",
              "    </tr>\n",
              "    <tr>\n",
              "      <th>4</th>\n",
              "      <td>Thanks for the tip. Please forgive me, I am st...</td>\n",
              "      <td>ENTJ</td>\n",
              "      <td>extrovert</td>\n",
              "      <td>intuition</td>\n",
              "      <td>thinking</td>\n",
              "      <td>judging</td>\n",
              "      <td>3</td>\n",
              "      <td>1</td>\n",
              "      <td>0</td>\n",
              "      <td>1</td>\n",
              "      <td>0</td>\n",
              "    </tr>\n",
              "  </tbody>\n",
              "</table>\n",
              "</div>\n",
              "      <button class=\"colab-df-convert\" onclick=\"convertToInteractive('df-cfa60b68-55ee-4b87-b9bf-808e57825ec1')\"\n",
              "              title=\"Convert this dataframe to an interactive table.\"\n",
              "              style=\"display:none;\">\n",
              "        \n",
              "  <svg xmlns=\"http://www.w3.org/2000/svg\" height=\"24px\"viewBox=\"0 0 24 24\"\n",
              "       width=\"24px\">\n",
              "    <path d=\"M0 0h24v24H0V0z\" fill=\"none\"/>\n",
              "    <path d=\"M18.56 5.44l.94 2.06.94-2.06 2.06-.94-2.06-.94-.94-2.06-.94 2.06-2.06.94zm-11 1L8.5 8.5l.94-2.06 2.06-.94-2.06-.94L8.5 2.5l-.94 2.06-2.06.94zm10 10l.94 2.06.94-2.06 2.06-.94-2.06-.94-.94-2.06-.94 2.06-2.06.94z\"/><path d=\"M17.41 7.96l-1.37-1.37c-.4-.4-.92-.59-1.43-.59-.52 0-1.04.2-1.43.59L10.3 9.45l-7.72 7.72c-.78.78-.78 2.05 0 2.83L4 21.41c.39.39.9.59 1.41.59.51 0 1.02-.2 1.41-.59l7.78-7.78 2.81-2.81c.8-.78.8-2.07 0-2.86zM5.41 20L4 18.59l7.72-7.72 1.47 1.35L5.41 20z\"/>\n",
              "  </svg>\n",
              "      </button>\n",
              "      \n",
              "  <style>\n",
              "    .colab-df-container {\n",
              "      display:flex;\n",
              "      flex-wrap:wrap;\n",
              "      gap: 12px;\n",
              "    }\n",
              "\n",
              "    .colab-df-convert {\n",
              "      background-color: #E8F0FE;\n",
              "      border: none;\n",
              "      border-radius: 50%;\n",
              "      cursor: pointer;\n",
              "      display: none;\n",
              "      fill: #1967D2;\n",
              "      height: 32px;\n",
              "      padding: 0 0 0 0;\n",
              "      width: 32px;\n",
              "    }\n",
              "\n",
              "    .colab-df-convert:hover {\n",
              "      background-color: #E2EBFA;\n",
              "      box-shadow: 0px 1px 2px rgba(60, 64, 67, 0.3), 0px 1px 3px 1px rgba(60, 64, 67, 0.15);\n",
              "      fill: #174EA6;\n",
              "    }\n",
              "\n",
              "    [theme=dark] .colab-df-convert {\n",
              "      background-color: #3B4455;\n",
              "      fill: #D2E3FC;\n",
              "    }\n",
              "\n",
              "    [theme=dark] .colab-df-convert:hover {\n",
              "      background-color: #434B5C;\n",
              "      box-shadow: 0px 1px 3px 1px rgba(0, 0, 0, 0.15);\n",
              "      filter: drop-shadow(0px 1px 2px rgba(0, 0, 0, 0.3));\n",
              "      fill: #FFFFFF;\n",
              "    }\n",
              "  </style>\n",
              "\n",
              "      <script>\n",
              "        const buttonEl =\n",
              "          document.querySelector('#df-cfa60b68-55ee-4b87-b9bf-808e57825ec1 button.colab-df-convert');\n",
              "        buttonEl.style.display =\n",
              "          google.colab.kernel.accessAllowed ? 'block' : 'none';\n",
              "\n",
              "        async function convertToInteractive(key) {\n",
              "          const element = document.querySelector('#df-cfa60b68-55ee-4b87-b9bf-808e57825ec1');\n",
              "          const dataTable =\n",
              "            await google.colab.kernel.invokeFunction('convertToInteractive',\n",
              "                                                     [key], {});\n",
              "          if (!dataTable) return;\n",
              "\n",
              "          const docLinkHtml = 'Like what you see? Visit the ' +\n",
              "            '<a target=\"_blank\" href=https://colab.research.google.com/notebooks/data_table.ipynb>data table notebook</a>'\n",
              "            + ' to learn more about interactive tables.';\n",
              "          element.innerHTML = '';\n",
              "          dataTable['output_type'] = 'display_data';\n",
              "          await google.colab.output.renderOutput(dataTable, element);\n",
              "          const docLink = document.createElement('div');\n",
              "          docLink.innerHTML = docLinkHtml;\n",
              "          element.appendChild(docLink);\n",
              "        }\n",
              "      </script>\n",
              "    </div>\n",
              "  </div>\n",
              "  "
            ],
            "text/plain": [
              "                                                text label  ... TF_int JP_int\n",
              "0         Hitman please!  Favorite game is Persona 5  INFJ  ...      0      0\n",
              "1  If there were a dedicated ARAM mode people wou...  INFJ  ...      0      0\n",
              "2  It's obscure game, but Starmade might be more ...  ENTP  ...      1      1\n",
              "3  I can't even count the reasons why it's comple...  INTP  ...      1      1\n",
              "4  Thanks for the tip. Please forgive me, I am st...  ENTJ  ...      1      0\n",
              "\n",
              "[5 rows x 11 columns]"
            ]
          },
          "metadata": {},
          "execution_count": 25
        }
      ]
    },
    {
      "cell_type": "code",
      "source": [
        "data.label.value_counts()"
      ],
      "metadata": {
        "colab": {
          "base_uri": "https://localhost:8080/"
        },
        "id": "9ImcaMjnvmLE",
        "outputId": "687e9bb6-3cac-42d5-8ab2-8746ed5d7c25"
      },
      "execution_count": null,
      "outputs": [
        {
          "output_type": "execute_result",
          "data": {
            "text/plain": [
              "INFJ    3000\n",
              "ENTP    3000\n",
              "INTP    3000\n",
              "ENTJ    3000\n",
              "INFP    3000\n",
              "ENFJ    3000\n",
              "INTJ    3000\n",
              "ENFP    3000\n",
              "ISTP    3000\n",
              "ISFJ    3000\n",
              "ESFP    3000\n",
              "ESTP    3000\n",
              "ISFP    3000\n",
              "ESFJ    3000\n",
              "ISTJ    3000\n",
              "ESTJ    2812\n",
              "Name: label, dtype: int64"
            ]
          },
          "metadata": {},
          "execution_count": 7
        }
      ]
    },
    {
      "cell_type": "code",
      "source": [
        "# cleaning\n",
        "\n",
        "# lowercase for all text\n",
        "data['text'] = data['text'].str.lower()\n",
        "\n",
        "# remove urls\n",
        "data['text'] = data['text'].apply(lambda x: re.split('https:\\/\\/.*', str(x))[0])\n",
        "\n",
        "# remove punctuations\n",
        "data['text'] = data['text'].str.replace('[^\\w\\s]','')\n",
        "\n",
        "# remove digits\n",
        "data['text'] = data['text'].apply(lambda x: re.sub(r\"\\d\", '', x))\n",
        "\n",
        "# stopwords\n",
        "stop = stopwords.words('english')\n",
        "data['text'] = data['text'].apply(lambda x: ' '.join([word for word in x.split() if word not in (stop)]))\n",
        "\n",
        "# lemmatization\n",
        "lemmatizer = WordNetLemmatizer()\n",
        "data['text'] = data['text'].apply(lambda sentence:' '.join([lemmatizer.lemmatize(w) for w in nltk.word_tokenize(sentence)]))"
      ],
      "metadata": {
        "colab": {
          "base_uri": "https://localhost:8080/"
        },
        "id": "oMTg4sClwA0H",
        "outputId": "daf29ae8-2d91-4dd8-eb5e-099216952c6e"
      },
      "execution_count": null,
      "outputs": [
        {
          "output_type": "stream",
          "name": "stderr",
          "text": [
            "/usr/local/lib/python3.7/dist-packages/ipykernel_launcher.py:10: FutureWarning: The default value of regex will change from True to False in a future version.\n",
            "  # Remove the CWD from sys.path while we load stuff.\n"
          ]
        }
      ]
    },
    {
      "cell_type": "code",
      "execution_count": null,
      "metadata": {
        "colab": {
          "base_uri": "https://localhost:8080/"
        },
        "outputId": "e9763ef1-04f1-47ae-8fc1-985993690a30",
        "id": "RWrXuLEI_10t"
      },
      "outputs": [
        {
          "output_type": "stream",
          "name": "stdout",
          "text": [
            "873\n"
          ]
        }
      ],
      "source": [
        "wordcout = data\n",
        "wordcout['wordcount'] = data['text'].apply(lambda x: len(str(x).split(' ')))\n",
        "sequence_length = wordcout.wordcount.max() # max length\n",
        "\n",
        "print(sequence_length)"
      ]
    },
    {
      "cell_type": "code",
      "execution_count": null,
      "metadata": {
        "colab": {
          "base_uri": "https://localhost:8080/"
        },
        "outputId": "5dcb7f44-be2e-4c02-938a-4b446df2e5d9",
        "id": "SF8v5o4d_10t"
      },
      "outputs": [
        {
          "output_type": "stream",
          "name": "stdout",
          "text": [
            "Download complete!\n",
            "1193514\n"
          ]
        }
      ],
      "source": [
        "import urllib.request\n",
        "import zipfile\n",
        "import os\n",
        "\n",
        "glovefile = 'glove.twitter.27B.100d.txt'\n",
        "\n",
        "# download file if not in file directory\n",
        "if not os.path.isfile(glovefile):\n",
        "    urllib.request.urlretrieve('http://nlp.stanford.edu/data/glove.twitter.27B.zip',\n",
        "                              'glove.twitter.27B.zip')\n",
        "    with zipfile.ZipFile('glove.twitter.27B.zip', 'r') as zip_ref:\n",
        "        zip_ref.extractall('')\n",
        "\n",
        "    print('Download complete!')\n",
        "    os.remove('glove.twitter.27B.zip')\n",
        "\n",
        "# creating embeddings index\n",
        "embeddings_index = {}\n",
        "\n",
        "f = open(glovefile)\n",
        "for line in f:\n",
        "    values = line.split()\n",
        "    word = values[0]\n",
        "    vector = np.asarray(values[1:], dtype='float32')\n",
        "    embeddings_index[word] = vector\n",
        "\n",
        "f.close()\n",
        "\n",
        "print(len(embeddings_index)) # num of word vectors found"
      ]
    },
    {
      "cell_type": "code",
      "execution_count": null,
      "metadata": {
        "colab": {
          "base_uri": "https://localhost:8080/"
        },
        "outputId": "3fd90de4-1a43-41fa-cc87-6b83535b3951",
        "id": "7cxFtqKR_10u"
      },
      "outputs": [
        {
          "output_type": "stream",
          "name": "stdout",
          "text": [
            "52549\n"
          ]
        }
      ],
      "source": [
        "max_features = 53000\n",
        "tokenizer = Tokenizer(num_words=max_features, split=' ', oov_token='<unw>', filters=' ')\n",
        "tokenizer.fit_on_texts(data['text'].values)\n",
        "\n",
        "X = tokenizer.texts_to_sequences(data['text'].values)\n",
        "word_index = tokenizer.word_index\n",
        "print(len(word_index)) # num of unique tokens"
      ]
    },
    {
      "cell_type": "code",
      "execution_count": null,
      "metadata": {
        "colab": {
          "base_uri": "https://localhost:8080/"
        },
        "outputId": "484cbee4-3f7b-40fd-c752-e15297f5df3d",
        "id": "4oUQGBCX_10v"
      },
      "outputs": [
        {
          "output_type": "stream",
          "name": "stdout",
          "text": [
            "52550\n"
          ]
        }
      ],
      "source": [
        "num_words = min(max_features, len(word_index)) + 1\n",
        "print(num_words)"
      ]
    },
    {
      "cell_type": "code",
      "source": [
        "embedding_dim = 100\n",
        "embedding_matrix = np.zeros((num_words, embedding_dim)) # fill with zeros\n",
        "\n",
        "for word, i in word_index.items():\n",
        "    if i > max_features:\n",
        "        continue\n",
        "    \n",
        "    embedding_vector = embeddings_index.get(word)\n",
        "    if embedding_vector is not None:\n",
        "        embedding_matrix[i] = embedding_vector\n",
        "    else:\n",
        "        embedding_matrix[i] = np.random.randn(embedding_dim) # assign random vector"
      ],
      "metadata": {
        "id": "qLszc6Eg_10x"
      },
      "execution_count": null,
      "outputs": []
    },
    {
      "cell_type": "markdown",
      "metadata": {
        "id": "afhPPFHn_10y"
      },
      "source": [
        "### CNN + Reddit Data: Model - deployed"
      ]
    },
    {
      "cell_type": "code",
      "source": [
        "data = data[['text', 'label']]\n",
        "data.head()"
      ],
      "metadata": {
        "colab": {
          "base_uri": "https://localhost:8080/",
          "height": 201
        },
        "id": "5vaboIVyxLOl",
        "outputId": "3df4d241-8646-41d6-db98-20608763582a"
      },
      "execution_count": null,
      "outputs": [
        {
          "output_type": "execute_result",
          "data": {
            "text/html": [
              "\n",
              "  <div id=\"df-d3533bcf-794a-4d2a-a84c-ccb58fe4a73c\">\n",
              "    <div class=\"colab-df-container\">\n",
              "      <div>\n",
              "<style scoped>\n",
              "    .dataframe tbody tr th:only-of-type {\n",
              "        vertical-align: middle;\n",
              "    }\n",
              "\n",
              "    .dataframe tbody tr th {\n",
              "        vertical-align: top;\n",
              "    }\n",
              "\n",
              "    .dataframe thead th {\n",
              "        text-align: right;\n",
              "    }\n",
              "</style>\n",
              "<table border=\"1\" class=\"dataframe\">\n",
              "  <thead>\n",
              "    <tr style=\"text-align: right;\">\n",
              "      <th></th>\n",
              "      <th>text</th>\n",
              "      <th>label</th>\n",
              "    </tr>\n",
              "  </thead>\n",
              "  <tbody>\n",
              "    <tr>\n",
              "      <th>0</th>\n",
              "      <td>hitman please favorite game persona</td>\n",
              "      <td>INFJ</td>\n",
              "    </tr>\n",
              "    <tr>\n",
              "      <th>1</th>\n",
              "      <td>dedicated aram mode people would stop playing ...</td>\n",
              "      <td>INFJ</td>\n",
              "    </tr>\n",
              "    <tr>\n",
              "      <th>2</th>\n",
              "      <td>obscure game starmade might alley actually fly...</td>\n",
              "      <td>ENTP</td>\n",
              "    </tr>\n",
              "    <tr>\n",
              "      <th>3</th>\n",
              "      <td>cant even count reason completely insane</td>\n",
              "      <td>INTP</td>\n",
              "    </tr>\n",
              "    <tr>\n",
              "      <th>4</th>\n",
              "      <td>thanks tip please forgive stupid</td>\n",
              "      <td>ENTJ</td>\n",
              "    </tr>\n",
              "  </tbody>\n",
              "</table>\n",
              "</div>\n",
              "      <button class=\"colab-df-convert\" onclick=\"convertToInteractive('df-d3533bcf-794a-4d2a-a84c-ccb58fe4a73c')\"\n",
              "              title=\"Convert this dataframe to an interactive table.\"\n",
              "              style=\"display:none;\">\n",
              "        \n",
              "  <svg xmlns=\"http://www.w3.org/2000/svg\" height=\"24px\"viewBox=\"0 0 24 24\"\n",
              "       width=\"24px\">\n",
              "    <path d=\"M0 0h24v24H0V0z\" fill=\"none\"/>\n",
              "    <path d=\"M18.56 5.44l.94 2.06.94-2.06 2.06-.94-2.06-.94-.94-2.06-.94 2.06-2.06.94zm-11 1L8.5 8.5l.94-2.06 2.06-.94-2.06-.94L8.5 2.5l-.94 2.06-2.06.94zm10 10l.94 2.06.94-2.06 2.06-.94-2.06-.94-.94-2.06-.94 2.06-2.06.94z\"/><path d=\"M17.41 7.96l-1.37-1.37c-.4-.4-.92-.59-1.43-.59-.52 0-1.04.2-1.43.59L10.3 9.45l-7.72 7.72c-.78.78-.78 2.05 0 2.83L4 21.41c.39.39.9.59 1.41.59.51 0 1.02-.2 1.41-.59l7.78-7.78 2.81-2.81c.8-.78.8-2.07 0-2.86zM5.41 20L4 18.59l7.72-7.72 1.47 1.35L5.41 20z\"/>\n",
              "  </svg>\n",
              "      </button>\n",
              "      \n",
              "  <style>\n",
              "    .colab-df-container {\n",
              "      display:flex;\n",
              "      flex-wrap:wrap;\n",
              "      gap: 12px;\n",
              "    }\n",
              "\n",
              "    .colab-df-convert {\n",
              "      background-color: #E8F0FE;\n",
              "      border: none;\n",
              "      border-radius: 50%;\n",
              "      cursor: pointer;\n",
              "      display: none;\n",
              "      fill: #1967D2;\n",
              "      height: 32px;\n",
              "      padding: 0 0 0 0;\n",
              "      width: 32px;\n",
              "    }\n",
              "\n",
              "    .colab-df-convert:hover {\n",
              "      background-color: #E2EBFA;\n",
              "      box-shadow: 0px 1px 2px rgba(60, 64, 67, 0.3), 0px 1px 3px 1px rgba(60, 64, 67, 0.15);\n",
              "      fill: #174EA6;\n",
              "    }\n",
              "\n",
              "    [theme=dark] .colab-df-convert {\n",
              "      background-color: #3B4455;\n",
              "      fill: #D2E3FC;\n",
              "    }\n",
              "\n",
              "    [theme=dark] .colab-df-convert:hover {\n",
              "      background-color: #434B5C;\n",
              "      box-shadow: 0px 1px 3px 1px rgba(0, 0, 0, 0.15);\n",
              "      filter: drop-shadow(0px 1px 2px rgba(0, 0, 0, 0.3));\n",
              "      fill: #FFFFFF;\n",
              "    }\n",
              "  </style>\n",
              "\n",
              "      <script>\n",
              "        const buttonEl =\n",
              "          document.querySelector('#df-d3533bcf-794a-4d2a-a84c-ccb58fe4a73c button.colab-df-convert');\n",
              "        buttonEl.style.display =\n",
              "          google.colab.kernel.accessAllowed ? 'block' : 'none';\n",
              "\n",
              "        async function convertToInteractive(key) {\n",
              "          const element = document.querySelector('#df-d3533bcf-794a-4d2a-a84c-ccb58fe4a73c');\n",
              "          const dataTable =\n",
              "            await google.colab.kernel.invokeFunction('convertToInteractive',\n",
              "                                                     [key], {});\n",
              "          if (!dataTable) return;\n",
              "\n",
              "          const docLinkHtml = 'Like what you see? Visit the ' +\n",
              "            '<a target=\"_blank\" href=https://colab.research.google.com/notebooks/data_table.ipynb>data table notebook</a>'\n",
              "            + ' to learn more about interactive tables.';\n",
              "          element.innerHTML = '';\n",
              "          dataTable['output_type'] = 'display_data';\n",
              "          await google.colab.output.renderOutput(dataTable, element);\n",
              "          const docLink = document.createElement('div');\n",
              "          docLink.innerHTML = docLinkHtml;\n",
              "          element.appendChild(docLink);\n",
              "        }\n",
              "      </script>\n",
              "    </div>\n",
              "  </div>\n",
              "  "
            ],
            "text/plain": [
              "                                                text label\n",
              "0                hitman please favorite game persona  INFJ\n",
              "1  dedicated aram mode people would stop playing ...  INFJ\n",
              "2  obscure game starmade might alley actually fly...  ENTP\n",
              "3           cant even count reason completely insane  INTP\n",
              "4                   thanks tip please forgive stupid  ENTJ"
            ]
          },
          "metadata": {},
          "execution_count": 67
        }
      ]
    },
    {
      "cell_type": "code",
      "source": [
        "X = pad_sequences(X, sequence_length) # pad sequences to the same len\n",
        "y = pd.get_dummies(data['label']).values\n",
        "\n",
        "X_train, X_test, y_train, y_test = train_test_split(X, y, test_size = 0.2)"
      ],
      "metadata": {
        "id": "1eRL5Wpqw5I5"
      },
      "execution_count": null,
      "outputs": []
    },
    {
      "cell_type": "markdown",
      "source": [
        "Embedding Layer"
      ],
      "metadata": {
        "id": "aymP2plTALJM"
      }
    },
    {
      "cell_type": "code",
      "source": [
        "model = Sequential()\n",
        "model.add(Embedding(num_words,\n",
        "                    embedding_dim,\n",
        "                    embeddings_initializer=Constant(embedding_matrix),\n",
        "                    input_length=sequence_length,\n",
        "                    trainable=False))\n",
        "model.add(Conv1D(128, 5, activation='relu'))\n",
        "model.add(GlobalMaxPooling1D())\n",
        "model.add(Dropout(rate=0.3))\n",
        "model.add(Dense(32, activation='relu'))\n",
        "model.add(Dropout(0.25))\n",
        "model.add(Dense(16, activation='softmax'))\n",
        "model.compile(loss = 'categorical_crossentropy', optimizer='adam',metrics = ['accuracy'])\n",
        "print(model.summary())"
      ],
      "metadata": {
        "colab": {
          "base_uri": "https://localhost:8080/"
        },
        "id": "GaOYJE_-3KoL",
        "outputId": "f2f27612-91db-4e13-9052-268d1289d5b9"
      },
      "execution_count": null,
      "outputs": [
        {
          "output_type": "stream",
          "name": "stdout",
          "text": [
            "Model: \"sequential_7\"\n",
            "_________________________________________________________________\n",
            " Layer (type)                Output Shape              Param #   \n",
            "=================================================================\n",
            " embedding_7 (Embedding)     (None, 881, 100)          5261800   \n",
            "                                                                 \n",
            " conv1d_7 (Conv1D)           (None, 877, 128)          64128     \n",
            "                                                                 \n",
            " global_max_pooling1d_7 (Glo  (None, 128)              0         \n",
            " balMaxPooling1D)                                                \n",
            "                                                                 \n",
            " dropout_14 (Dropout)        (None, 128)               0         \n",
            "                                                                 \n",
            " dense_14 (Dense)            (None, 32)                4128      \n",
            "                                                                 \n",
            " dropout_15 (Dropout)        (None, 32)                0         \n",
            "                                                                 \n",
            " dense_15 (Dense)            (None, 16)                528       \n",
            "                                                                 \n",
            "=================================================================\n",
            "Total params: 5,330,584\n",
            "Trainable params: 68,784\n",
            "Non-trainable params: 5,261,800\n",
            "_________________________________________________________________\n",
            "None\n"
          ]
        }
      ]
    },
    {
      "cell_type": "code",
      "source": [
        "history = model.fit(X_train, y_train, epochs=20, batch_size=128, verbose=1, validation_data=(X_test, y_test))"
      ],
      "metadata": {
        "colab": {
          "base_uri": "https://localhost:8080/"
        },
        "id": "vl_mrfo23RJH",
        "outputId": "b45ee4d6-33fb-4aa6-cef2-e72f01d1d8c8"
      },
      "execution_count": null,
      "outputs": [
        {
          "output_type": "stream",
          "name": "stdout",
          "text": [
            "Epoch 1/20\n",
            "299/299 [==============================] - 14s 43ms/step - loss: 2.7853 - accuracy: 0.0649 - val_loss: 2.7577 - val_accuracy: 0.0783\n",
            "Epoch 2/20\n",
            "299/299 [==============================] - 12s 42ms/step - loss: 2.7558 - accuracy: 0.0747 - val_loss: 2.7475 - val_accuracy: 0.0856\n",
            "Epoch 3/20\n",
            "299/299 [==============================] - 13s 43ms/step - loss: 2.7428 - accuracy: 0.0825 - val_loss: 2.7346 - val_accuracy: 0.0870\n",
            "Epoch 4/20\n",
            "299/299 [==============================] - 13s 43ms/step - loss: 2.7314 - accuracy: 0.0890 - val_loss: 2.7296 - val_accuracy: 0.0929\n",
            "Epoch 5/20\n",
            "299/299 [==============================] - 13s 42ms/step - loss: 2.7195 - accuracy: 0.0949 - val_loss: 2.7301 - val_accuracy: 0.0909\n",
            "Epoch 6/20\n",
            "299/299 [==============================] - 13s 42ms/step - loss: 2.7030 - accuracy: 0.1033 - val_loss: 2.7188 - val_accuracy: 0.0979\n",
            "Epoch 7/20\n",
            "299/299 [==============================] - 12s 41ms/step - loss: 2.6895 - accuracy: 0.1118 - val_loss: 2.7140 - val_accuracy: 0.1062\n",
            "Epoch 8/20\n",
            "299/299 [==============================] - 12s 41ms/step - loss: 2.6711 - accuracy: 0.1195 - val_loss: 2.7134 - val_accuracy: 0.1016\n",
            "Epoch 9/20\n",
            "299/299 [==============================] - 12s 41ms/step - loss: 2.6524 - accuracy: 0.1278 - val_loss: 2.7170 - val_accuracy: 0.1016\n",
            "Epoch 10/20\n",
            "299/299 [==============================] - 12s 41ms/step - loss: 2.6351 - accuracy: 0.1338 - val_loss: 2.7192 - val_accuracy: 0.1011\n",
            "Epoch 11/20\n",
            "299/299 [==============================] - 13s 42ms/step - loss: 2.6137 - accuracy: 0.1436 - val_loss: 2.7179 - val_accuracy: 0.1059\n",
            "Epoch 12/20\n",
            "299/299 [==============================] - 12s 41ms/step - loss: 2.5964 - accuracy: 0.1499 - val_loss: 2.7228 - val_accuracy: 0.1026\n",
            "Epoch 13/20\n",
            "299/299 [==============================] - 13s 42ms/step - loss: 2.5762 - accuracy: 0.1569 - val_loss: 2.7295 - val_accuracy: 0.1023\n",
            "Epoch 14/20\n",
            "299/299 [==============================] - 12s 41ms/step - loss: 2.5564 - accuracy: 0.1640 - val_loss: 2.7359 - val_accuracy: 0.1035\n",
            "Epoch 15/20\n",
            "299/299 [==============================] - 12s 41ms/step - loss: 2.5450 - accuracy: 0.1681 - val_loss: 2.7400 - val_accuracy: 0.1074\n",
            "Epoch 16/20\n",
            "299/299 [==============================] - 13s 43ms/step - loss: 2.5250 - accuracy: 0.1793 - val_loss: 2.7362 - val_accuracy: 0.1069\n",
            "Epoch 17/20\n",
            "299/299 [==============================] - 13s 42ms/step - loss: 2.5035 - accuracy: 0.1862 - val_loss: 2.7504 - val_accuracy: 0.1065\n",
            "Epoch 18/20\n",
            "299/299 [==============================] - 13s 42ms/step - loss: 2.4857 - accuracy: 0.1945 - val_loss: 2.7600 - val_accuracy: 0.1081\n",
            "Epoch 19/20\n",
            "299/299 [==============================] - 12s 41ms/step - loss: 2.4739 - accuracy: 0.1960 - val_loss: 2.7652 - val_accuracy: 0.1042\n",
            "Epoch 20/20\n",
            "299/299 [==============================] - 13s 43ms/step - loss: 2.4554 - accuracy: 0.2031 - val_loss: 2.7631 - val_accuracy: 0.1069\n"
          ]
        }
      ]
    },
    {
      "cell_type": "code",
      "source": [
        "import matplotlib.pyplot as plt\n",
        "%matplotlib inline\n",
        "plt.plot(history.history['accuracy'])\n",
        "plt.plot(history.history['val_accuracy'])\n",
        "plt.title('model accuracy')\n",
        "plt.ylabel('accuracy')\n",
        "plt.xlabel('epoch')\n",
        "plt.legend(['train', 'validation'], loc='upper left')\n",
        "plt.show()\n",
        "\n",
        "plt.plot(history.history['loss'])\n",
        "plt.plot(history.history['val_loss'])\n",
        "plt.title('model loss')\n",
        "plt.ylabel('loss')\n",
        "plt.xlabel('epoch')\n",
        "plt.legend(['train', 'validation'], loc='upper left')\n",
        "plt.show()"
      ],
      "metadata": {
        "colab": {
          "base_uri": "https://localhost:8080/",
          "height": 572
        },
        "id": "108mbF263laB",
        "outputId": "f6216bfb-79b7-462f-ea38-ff6b92c82ba2"
      },
      "execution_count": null,
      "outputs": [
        {
          "output_type": "display_data",
          "data": {
            "image/png": "[encoded data removed]",
            "text/plain": [
              "<Figure size 432x288 with 1 Axes>"
            ]
          },
          "metadata": {
            "needs_background": "light"
          }
        },
        {
          "output_type": "display_data",
          "data": {
            "image/png": "[encoded data removed]",
            "text/plain": [
              "<Figure size 432x288 with 1 Axes>"
            ]
          },
          "metadata": {
            "needs_background": "light"
          }
        }
      ]
    },
    {
      "cell_type": "code",
      "source": [
        "y_hat = model.predict(X_test)\n",
        "\n",
        "from sklearn.metrics import classification_report\n",
        "matrix = classification_report(list(map(lambda x: np.argmax(x), y_test)), list(map(lambda x: np.argmax(x), y_hat)))\n",
        "print('Classification report : \\n',matrix)"
      ],
      "metadata": {
        "colab": {
          "base_uri": "https://localhost:8080/"
        },
        "id": "gI5r4VpP3o8x",
        "outputId": "fdf3d9e3-16f5-4344-cbc5-348328d0b3f0"
      },
      "execution_count": null,
      "outputs": [
        {
          "output_type": "stream",
          "name": "stdout",
          "text": [
            "Classification report : \n",
            "               precision    recall  f1-score   support\n",
            "\n",
            "           0       0.09      0.13      0.11       609\n",
            "           1       0.09      0.18      0.12       597\n",
            "           2       0.10      0.08      0.09       598\n",
            "           3       0.12      0.02      0.03       580\n",
            "           4       0.11      0.22      0.14       603\n",
            "           5       0.13      0.14      0.13       589\n",
            "           6       0.33      0.33      0.33       542\n",
            "           7       0.11      0.06      0.08       621\n",
            "           8       0.07      0.07      0.07       597\n",
            "           9       0.11      0.04      0.06       614\n",
            "          10       0.07      0.11      0.08       599\n",
            "          11       0.07      0.06      0.06       576\n",
            "          12       0.10      0.10      0.10       629\n",
            "          13       0.10      0.05      0.07       594\n",
            "          14       0.09      0.08      0.08       618\n",
            "          15       0.09      0.06      0.07       597\n",
            "\n",
            "    accuracy                           0.11      9563\n",
            "   macro avg       0.11      0.11      0.10      9563\n",
            "weighted avg       0.11      0.11      0.10      9563\n",
            "\n"
          ]
        }
      ]
    },
    {
      "cell_type": "code",
      "source": [
        "accuracy_score(list(map(lambda x: np.argmax(x), y_test)), list(map(lambda x: np.argmax(x), y_hat)))"
      ],
      "metadata": {
        "colab": {
          "base_uri": "https://localhost:8080/"
        },
        "id": "NHFCwXpb3tIA",
        "outputId": "1c1d6366-e03c-4666-d7db-f2b7d8b2a3a9"
      },
      "execution_count": null,
      "outputs": [
        {
          "output_type": "execute_result",
          "data": {
            "text/plain": [
              "0.10687022900763359"
            ]
          },
          "metadata": {},
          "execution_count": 79
        }
      ]
    },
    {
      "cell_type": "code",
      "source": [
        "model.save('model_reddit.h5')"
      ],
      "metadata": {
        "id": "I4pc6-Nq9Xe_"
      },
      "execution_count": null,
      "outputs": []
    },
    {
      "cell_type": "code",
      "source": [
        "import pickle\n",
        "# save tokenizer\n",
        "with open('tokenizer_reddit.pickle', 'wb') as handle:\n",
        "    pickle.dump(tokenizer, handle, protocol=pickle.HIGHEST_PROTOCOL)"
      ],
      "metadata": {
        "id": "wILt1cJ9CdtY"
      },
      "execution_count": null,
      "outputs": []
    },
    {
      "cell_type": "markdown",
      "metadata": {
        "id": "cseOlDZlaKkw"
      },
      "source": [
        "### CNN + Reddit Data: Model - for testing"
      ]
    },
    {
      "cell_type": "code",
      "source": [
        "# test run with confusion matrix"
      ],
      "metadata": {
        "id": "ZBznVU98aKkz"
      },
      "execution_count": null,
      "outputs": []
    },
    {
      "cell_type": "markdown",
      "source": [
        "Embedding Layer"
      ],
      "metadata": {
        "id": "XoHhAimtaKkz"
      }
    },
    {
      "cell_type": "code",
      "source": [
        "model = Sequential()\n",
        "model.add(Embedding(num_words,\n",
        "                    embedding_dim,\n",
        "                    embeddings_initializer=Constant(embedding_matrix),\n",
        "                    input_length=sequence_length,\n",
        "                    trainable=False))\n",
        "model.add(Conv1D(128, 5, activation='relu'))\n",
        "model.add(GlobalMaxPooling1D())\n",
        "model.add(Dropout(rate=0.3))\n",
        "model.add(Dense(32, activation='relu'))\n",
        "model.add(Dropout(0.25))\n",
        "model.add(Dense(16, activation='softmax'))\n",
        "model.compile(loss = 'categorical_crossentropy', optimizer='adam',metrics = ['accuracy'])\n",
        "print(model.summary())"
      ],
      "metadata": {
        "colab": {
          "base_uri": "https://localhost:8080/"
        },
        "outputId": "94cfbd43-4241-4aae-c639-cb322b6a9cbf",
        "id": "VME36EO7aKkz"
      },
      "execution_count": null,
      "outputs": [
        {
          "output_type": "stream",
          "name": "stdout",
          "text": [
            "Model: \"sequential_2\"\n",
            "_________________________________________________________________\n",
            " Layer (type)                Output Shape              Param #   \n",
            "=================================================================\n",
            " embedding_2 (Embedding)     (None, 873, 100)          5255000   \n",
            "                                                                 \n",
            " conv1d_2 (Conv1D)           (None, 869, 128)          64128     \n",
            "                                                                 \n",
            " global_max_pooling1d_2 (Glo  (None, 128)              0         \n",
            " balMaxPooling1D)                                                \n",
            "                                                                 \n",
            " dropout_4 (Dropout)         (None, 128)               0         \n",
            "                                                                 \n",
            " dense_4 (Dense)             (None, 32)                4128      \n",
            "                                                                 \n",
            " dropout_5 (Dropout)         (None, 32)                0         \n",
            "                                                                 \n",
            " dense_5 (Dense)             (None, 16)                528       \n",
            "                                                                 \n",
            "=================================================================\n",
            "Total params: 5,323,784\n",
            "Trainable params: 68,784\n",
            "Non-trainable params: 5,255,000\n",
            "_________________________________________________________________\n",
            "None\n"
          ]
        }
      ]
    },
    {
      "cell_type": "code",
      "source": [
        "history = model.fit(X_train, y_train, epochs=20, batch_size=128, verbose=1, validation_data=(X_test, y_test))"
      ],
      "metadata": {
        "colab": {
          "base_uri": "https://localhost:8080/"
        },
        "outputId": "3793b63c-861c-48a5-b5e3-d02b37aad57b",
        "id": "FTymwP5oaKk0"
      },
      "execution_count": null,
      "outputs": [
        {
          "output_type": "stream",
          "name": "stdout",
          "text": [
            "Epoch 1/20\n",
            "299/299 [==============================] - 17s 49ms/step - loss: 2.7796 - accuracy: 0.0620 - val_loss: 2.7725 - val_accuracy: 0.0582\n",
            "Epoch 2/20\n",
            "299/299 [==============================] - 14s 48ms/step - loss: 2.7706 - accuracy: 0.0649 - val_loss: 2.7680 - val_accuracy: 0.0622\n",
            "Epoch 3/20\n",
            "299/299 [==============================] - 15s 51ms/step - loss: 2.7575 - accuracy: 0.0779 - val_loss: 2.7463 - val_accuracy: 0.0733\n",
            "Epoch 4/20\n",
            "299/299 [==============================] - 14s 48ms/step - loss: 2.7334 - accuracy: 0.0913 - val_loss: 2.7263 - val_accuracy: 0.0972\n",
            "Epoch 5/20\n",
            "299/299 [==============================] - 14s 48ms/step - loss: 2.7093 - accuracy: 0.1045 - val_loss: 2.7076 - val_accuracy: 0.1102\n",
            "Epoch 6/20\n",
            "299/299 [==============================] - 15s 49ms/step - loss: 2.6840 - accuracy: 0.1173 - val_loss: 2.6978 - val_accuracy: 0.1171\n",
            "Epoch 7/20\n",
            "299/299 [==============================] - 14s 48ms/step - loss: 2.6613 - accuracy: 0.1300 - val_loss: 2.6878 - val_accuracy: 0.1205\n",
            "Epoch 8/20\n",
            "299/299 [==============================] - 14s 48ms/step - loss: 2.6362 - accuracy: 0.1380 - val_loss: 2.6853 - val_accuracy: 0.1217\n",
            "Epoch 9/20\n",
            "299/299 [==============================] - 14s 47ms/step - loss: 2.6130 - accuracy: 0.1480 - val_loss: 2.6869 - val_accuracy: 0.1197\n",
            "Epoch 10/20\n",
            "299/299 [==============================] - 15s 49ms/step - loss: 2.5872 - accuracy: 0.1612 - val_loss: 2.6807 - val_accuracy: 0.1248\n",
            "Epoch 11/20\n",
            "299/299 [==============================] - 15s 49ms/step - loss: 2.5647 - accuracy: 0.1712 - val_loss: 2.6826 - val_accuracy: 0.1272\n",
            "Epoch 12/20\n",
            "299/299 [==============================] - 15s 49ms/step - loss: 2.5414 - accuracy: 0.1783 - val_loss: 2.6842 - val_accuracy: 0.1267\n",
            "Epoch 13/20\n",
            "299/299 [==============================] - 14s 48ms/step - loss: 2.5203 - accuracy: 0.1861 - val_loss: 2.6925 - val_accuracy: 0.1268\n",
            "Epoch 14/20\n",
            "299/299 [==============================] - 16s 52ms/step - loss: 2.4976 - accuracy: 0.1932 - val_loss: 2.6937 - val_accuracy: 0.1264\n",
            "Epoch 15/20\n",
            "299/299 [==============================] - 14s 48ms/step - loss: 2.4744 - accuracy: 0.2019 - val_loss: 2.6960 - val_accuracy: 0.1287\n",
            "Epoch 16/20\n",
            "299/299 [==============================] - 14s 47ms/step - loss: 2.4605 - accuracy: 0.2069 - val_loss: 2.7019 - val_accuracy: 0.1250\n",
            "Epoch 17/20\n",
            "299/299 [==============================] - 15s 49ms/step - loss: 2.4411 - accuracy: 0.2122 - val_loss: 2.7070 - val_accuracy: 0.1255\n",
            "Epoch 18/20\n",
            "299/299 [==============================] - 14s 48ms/step - loss: 2.4240 - accuracy: 0.2197 - val_loss: 2.7095 - val_accuracy: 0.1255\n",
            "Epoch 19/20\n",
            "299/299 [==============================] - 15s 49ms/step - loss: 2.4115 - accuracy: 0.2243 - val_loss: 2.7165 - val_accuracy: 0.1291\n",
            "Epoch 20/20\n",
            "299/299 [==============================] - 15s 50ms/step - loss: 2.3968 - accuracy: 0.2288 - val_loss: 2.7233 - val_accuracy: 0.1242\n"
          ]
        }
      ]
    },
    {
      "cell_type": "code",
      "source": [
        "import matplotlib.pyplot as plt\n",
        "%matplotlib inline\n",
        "plt.plot(history.history['accuracy'])\n",
        "plt.plot(history.history['val_accuracy'])\n",
        "plt.title('model accuracy')\n",
        "plt.ylabel('accuracy')\n",
        "plt.xlabel('epoch')\n",
        "plt.legend(['train', 'validation'], loc='upper left')\n",
        "plt.show()\n",
        "\n",
        "plt.plot(history.history['loss'])\n",
        "plt.plot(history.history['val_loss'])\n",
        "plt.title('model loss')\n",
        "plt.ylabel('loss')\n",
        "plt.xlabel('epoch')\n",
        "plt.legend(['train', 'validation'], loc='upper left')\n",
        "plt.show()"
      ],
      "metadata": {
        "colab": {
          "base_uri": "https://localhost:8080/",
          "height": 572
        },
        "outputId": "70241241-7272-4d07-d713-a1664176fad5",
        "id": "1WfiGacRaKk0"
      },
      "execution_count": null,
      "outputs": [
        {
          "output_type": "display_data",
          "data": {
            "image/png": "[encoded data removed]",
            "text/plain": [
              "<Figure size 432x288 with 1 Axes>"
            ]
          },
          "metadata": {
            "needs_background": "light"
          }
        },
        {
          "output_type": "display_data",
          "data": {
            "image/png": "[encoded data removed]",
            "text/plain": [
              "<Figure size 432x288 with 1 Axes>"
            ]
          },
          "metadata": {
            "needs_background": "light"
          }
        }
      ]
    },
    {
      "cell_type": "code",
      "source": [
        "y_hat = model.predict(X_test)\n",
        "\n",
        "from sklearn.metrics import classification_report\n",
        "matrix = classification_report(list(map(lambda x: np.argmax(x), y_test)), list(map(lambda x: np.argmax(x), y_hat)))\n",
        "print('Classification report : \\n',matrix)"
      ],
      "metadata": {
        "colab": {
          "base_uri": "https://localhost:8080/"
        },
        "outputId": "479b9119-9bba-49dd-9603-f8b972faa2a5",
        "id": "RAGolDfkaKk1"
      },
      "execution_count": null,
      "outputs": [
        {
          "output_type": "stream",
          "name": "stdout",
          "text": [
            "Classification report : \n",
            "               precision    recall  f1-score   support\n",
            "\n",
            "           0       0.11      0.13      0.12       602\n",
            "           1       0.08      0.06      0.07       612\n",
            "           2       0.10      0.13      0.11       577\n",
            "           3       0.06      0.03      0.04       568\n",
            "           4       0.14      0.18      0.16       637\n",
            "           5       0.15      0.18      0.17       591\n",
            "           6       0.40      0.35      0.37       553\n",
            "           7       0.14      0.08      0.10       618\n",
            "           8       0.08      0.04      0.05       616\n",
            "           9       0.08      0.05      0.07       583\n",
            "          10       0.10      0.19      0.13       608\n",
            "          11       0.08      0.07      0.08       622\n",
            "          12       0.11      0.12      0.12       592\n",
            "          13       0.16      0.16      0.16       630\n",
            "          14       0.09      0.15      0.11       554\n",
            "          15       0.10      0.07      0.08       600\n",
            "\n",
            "    accuracy                           0.12      9563\n",
            "   macro avg       0.13      0.13      0.12      9563\n",
            "weighted avg       0.12      0.12      0.12      9563\n",
            "\n"
          ]
        }
      ]
    },
    {
      "cell_type": "code",
      "source": [
        "accuracy_score(list(map(lambda x: np.argmax(x), y_test)), list(map(lambda x: np.argmax(x), y_hat)))"
      ],
      "metadata": {
        "colab": {
          "base_uri": "https://localhost:8080/"
        },
        "outputId": "017e2e96-5cb0-404f-b0f5-1cf636d3d60c",
        "id": "SaO5OUxraKk2"
      },
      "execution_count": null,
      "outputs": [
        {
          "output_type": "execute_result",
          "data": {
            "text/plain": [
              "0.12422879849419638"
            ]
          },
          "metadata": {},
          "execution_count": 46
        }
      ]
    },
    {
      "cell_type": "code",
      "source": [
        "from sklearn.metrics import confusion_matrix, accuracy_score, f1_score\n",
        "f1_score(list(map(lambda x: np.argmax(x), y_test)), list(map(lambda x: np.argmax(x), y_hat)), average='macro')"
      ],
      "metadata": {
        "colab": {
          "base_uri": "https://localhost:8080/"
        },
        "outputId": "6244a5bb-cc3d-4d10-e08f-904da6acd0c5",
        "id": "2SQiZN0gaQs0"
      },
      "execution_count": null,
      "outputs": [
        {
          "output_type": "execute_result",
          "data": {
            "text/plain": [
              "0.12159958727381837"
            ]
          },
          "metadata": {},
          "execution_count": 47
        }
      ]
    },
    {
      "cell_type": "code",
      "source": [
        "conf = confusion_matrix(list(map(lambda x: np.argmax(x), y_test)), list(map(lambda x: np.argmax(x), y_hat)))\n",
        "plt.imshow(conf)"
      ],
      "metadata": {
        "colab": {
          "base_uri": "https://localhost:8080/",
          "height": 281
        },
        "outputId": "3d79a2c8-4006-4ab4-a891-9cbb3205b8a0",
        "id": "p0OKxqXFaQs1"
      },
      "execution_count": null,
      "outputs": [
        {
          "output_type": "execute_result",
          "data": {
            "text/plain": [
              "<matplotlib.image.AxesImage at 0x7f7e04c83290>"
            ]
          },
          "metadata": {},
          "execution_count": 48
        },
        {
          "output_type": "display_data",
          "data": {
            "image/png": "[encoded data removed]",
            "text/plain": [
              "<Figure size 432x288 with 1 Axes>"
            ]
          },
          "metadata": {
            "needs_background": "light"
          }
        }
      ]
    },
    {
      "cell_type": "code",
      "source": [
        "model.save('model_reddit.h5')"
      ],
      "metadata": {
        "id": "ovFqQ71RaKk2"
      },
      "execution_count": null,
      "outputs": []
    },
    {
      "cell_type": "code",
      "source": [
        "import pickle\n",
        "# save tokenizer\n",
        "with open('tokenizer_reddit.pickle', 'wb') as handle:\n",
        "    pickle.dump(tokenizer, handle, protocol=pickle.HIGHEST_PROTOCOL)"
      ],
      "metadata": {
        "id": "KOkY_tKJaKk2"
      },
      "execution_count": null,
      "outputs": []
    },
    {
      "cell_type": "markdown",
      "source": [
        "### CNN + PersonalityCafe/Kaggle Data: GloVe Word Embedding Config"
      ],
      "metadata": {
        "id": "Ag5Cv-ayoM7F"
      }
    },
    {
      "cell_type": "code",
      "source": [
        "data = pd.read_csv(\"/content/drive/MyDrive/mbti/mbti_1_cleaned_all.csv\")\n",
        "data.head()"
      ],
      "metadata": {
        "colab": {
          "base_uri": "https://localhost:8080/",
          "height": 201
        },
        "outputId": "be4a5151-db8b-4ef1-e76d-ccc27d35cd47",
        "id": "SgXf89mloM7M"
      },
      "execution_count": null,
      "outputs": [
        {
          "output_type": "execute_result",
          "data": {
            "text/html": [
              "\n",
              "  <div id=\"df-4e9ff8bf-4754-43c5-9a07-7dd3416038d1\">\n",
              "    <div class=\"colab-df-container\">\n",
              "      <div>\n",
              "<style scoped>\n",
              "    .dataframe tbody tr th:only-of-type {\n",
              "        vertical-align: middle;\n",
              "    }\n",
              "\n",
              "    .dataframe tbody tr th {\n",
              "        vertical-align: top;\n",
              "    }\n",
              "\n",
              "    .dataframe thead th {\n",
              "        text-align: right;\n",
              "    }\n",
              "</style>\n",
              "<table border=\"1\" class=\"dataframe\">\n",
              "  <thead>\n",
              "    <tr style=\"text-align: right;\">\n",
              "      <th></th>\n",
              "      <th>text</th>\n",
              "      <th>label</th>\n",
              "      <th>IE</th>\n",
              "      <th>NS</th>\n",
              "      <th>TF</th>\n",
              "      <th>JP</th>\n",
              "    </tr>\n",
              "  </thead>\n",
              "  <tbody>\n",
              "    <tr>\n",
              "      <th>0</th>\n",
              "      <td>intj moment play experience life repeat today ...</td>\n",
              "      <td>INFJ</td>\n",
              "      <td>I</td>\n",
              "      <td>N</td>\n",
              "      <td>F</td>\n",
              "      <td>J</td>\n",
              "    </tr>\n",
              "    <tr>\n",
              "      <th>1</th>\n",
              "      <td>find lack post alarm sex boring position often...</td>\n",
              "      <td>ENTP</td>\n",
              "      <td>E</td>\n",
              "      <td>N</td>\n",
              "      <td>T</td>\n",
              "      <td>P</td>\n",
              "    </tr>\n",
              "    <tr>\n",
              "      <th>2</th>\n",
              "      <td>good course say know absolutely positive good ...</td>\n",
              "      <td>INTP</td>\n",
              "      <td>I</td>\n",
              "      <td>N</td>\n",
              "      <td>T</td>\n",
              "      <td>P</td>\n",
              "    </tr>\n",
              "    <tr>\n",
              "      <th>3</th>\n",
              "      <td>dear rule arbitrary construct create dear entj...</td>\n",
              "      <td>INTJ</td>\n",
              "      <td>I</td>\n",
              "      <td>N</td>\n",
              "      <td>T</td>\n",
              "      <td>J</td>\n",
              "    </tr>\n",
              "    <tr>\n",
              "      <th>4</th>\n",
              "      <td>silly misconception approach logically go key ...</td>\n",
              "      <td>ENTJ</td>\n",
              "      <td>E</td>\n",
              "      <td>N</td>\n",
              "      <td>T</td>\n",
              "      <td>J</td>\n",
              "    </tr>\n",
              "  </tbody>\n",
              "</table>\n",
              "</div>\n",
              "      <button class=\"colab-df-convert\" onclick=\"convertToInteractive('df-4e9ff8bf-4754-43c5-9a07-7dd3416038d1')\"\n",
              "              title=\"Convert this dataframe to an interactive table.\"\n",
              "              style=\"display:none;\">\n",
              "        \n",
              "  <svg xmlns=\"http://www.w3.org/2000/svg\" height=\"24px\"viewBox=\"0 0 24 24\"\n",
              "       width=\"24px\">\n",
              "    <path d=\"M0 0h24v24H0V0z\" fill=\"none\"/>\n",
              "    <path d=\"M18.56 5.44l.94 2.06.94-2.06 2.06-.94-2.06-.94-.94-2.06-.94 2.06-2.06.94zm-11 1L8.5 8.5l.94-2.06 2.06-.94-2.06-.94L8.5 2.5l-.94 2.06-2.06.94zm10 10l.94 2.06.94-2.06 2.06-.94-2.06-.94-.94-2.06-.94 2.06-2.06.94z\"/><path d=\"M17.41 7.96l-1.37-1.37c-.4-.4-.92-.59-1.43-.59-.52 0-1.04.2-1.43.59L10.3 9.45l-7.72 7.72c-.78.78-.78 2.05 0 2.83L4 21.41c.39.39.9.59 1.41.59.51 0 1.02-.2 1.41-.59l7.78-7.78 2.81-2.81c.8-.78.8-2.07 0-2.86zM5.41 20L4 18.59l7.72-7.72 1.47 1.35L5.41 20z\"/>\n",
              "  </svg>\n",
              "      </button>\n",
              "      \n",
              "  <style>\n",
              "    .colab-df-container {\n",
              "      display:flex;\n",
              "      flex-wrap:wrap;\n",
              "      gap: 12px;\n",
              "    }\n",
              "\n",
              "    .colab-df-convert {\n",
              "      background-color: #E8F0FE;\n",
              "      border: none;\n",
              "      border-radius: 50%;\n",
              "      cursor: pointer;\n",
              "      display: none;\n",
              "      fill: #1967D2;\n",
              "      height: 32px;\n",
              "      padding: 0 0 0 0;\n",
              "      width: 32px;\n",
              "    }\n",
              "\n",
              "    .colab-df-convert:hover {\n",
              "      background-color: #E2EBFA;\n",
              "      box-shadow: 0px 1px 2px rgba(60, 64, 67, 0.3), 0px 1px 3px 1px rgba(60, 64, 67, 0.15);\n",
              "      fill: #174EA6;\n",
              "    }\n",
              "\n",
              "    [theme=dark] .colab-df-convert {\n",
              "      background-color: #3B4455;\n",
              "      fill: #D2E3FC;\n",
              "    }\n",
              "\n",
              "    [theme=dark] .colab-df-convert:hover {\n",
              "      background-color: #434B5C;\n",
              "      box-shadow: 0px 1px 3px 1px rgba(0, 0, 0, 0.15);\n",
              "      filter: drop-shadow(0px 1px 2px rgba(0, 0, 0, 0.3));\n",
              "      fill: #FFFFFF;\n",
              "    }\n",
              "  </style>\n",
              "\n",
              "      <script>\n",
              "        const buttonEl =\n",
              "          document.querySelector('#df-4e9ff8bf-4754-43c5-9a07-7dd3416038d1 button.colab-df-convert');\n",
              "        buttonEl.style.display =\n",
              "          google.colab.kernel.accessAllowed ? 'block' : 'none';\n",
              "\n",
              "        async function convertToInteractive(key) {\n",
              "          const element = document.querySelector('#df-4e9ff8bf-4754-43c5-9a07-7dd3416038d1');\n",
              "          const dataTable =\n",
              "            await google.colab.kernel.invokeFunction('convertToInteractive',\n",
              "                                                     [key], {});\n",
              "          if (!dataTable) return;\n",
              "\n",
              "          const docLinkHtml = 'Like what you see? Visit the ' +\n",
              "            '<a target=\"_blank\" href=https://colab.research.google.com/notebooks/data_table.ipynb>data table notebook</a>'\n",
              "            + ' to learn more about interactive tables.';\n",
              "          element.innerHTML = '';\n",
              "          dataTable['output_type'] = 'display_data';\n",
              "          await google.colab.output.renderOutput(dataTable, element);\n",
              "          const docLink = document.createElement('div');\n",
              "          docLink.innerHTML = docLinkHtml;\n",
              "          element.appendChild(docLink);\n",
              "        }\n",
              "      </script>\n",
              "    </div>\n",
              "  </div>\n",
              "  "
            ],
            "text/plain": [
              "                                                text label IE NS TF JP\n",
              "0  intj moment play experience life repeat today ...  INFJ  I  N  F  J\n",
              "1  find lack post alarm sex boring position often...  ENTP  E  N  T  P\n",
              "2  good course say know absolutely positive good ...  INTP  I  N  T  P\n",
              "3  dear rule arbitrary construct create dear entj...  INTJ  I  N  T  J\n",
              "4  silly misconception approach logically go key ...  ENTJ  E  N  T  J"
            ]
          },
          "metadata": {},
          "execution_count": 2
        }
      ]
    },
    {
      "cell_type": "code",
      "source": [
        "data.label.value_counts()"
      ],
      "metadata": {
        "colab": {
          "base_uri": "https://localhost:8080/"
        },
        "outputId": "5e862739-03a3-4666-ac6b-86159dfb0bcc",
        "id": "4PAI3SUxoM7P"
      },
      "execution_count": null,
      "outputs": [
        {
          "output_type": "execute_result",
          "data": {
            "text/plain": [
              "INFP    1831\n",
              "INFJ    1470\n",
              "INTP    1304\n",
              "INTJ    1091\n",
              "ENTP     685\n",
              "ENFP     675\n",
              "ISTP     337\n",
              "ISFP     271\n",
              "ENTJ     231\n",
              "ISTJ     205\n",
              "ENFJ     190\n",
              "ISFJ     166\n",
              "ESTP      89\n",
              "ESFP      48\n",
              "ESFJ      42\n",
              "ESTJ      39\n",
              "Name: label, dtype: int64"
            ]
          },
          "metadata": {},
          "execution_count": 3
        }
      ]
    },
    {
      "cell_type": "code",
      "execution_count": null,
      "metadata": {
        "colab": {
          "base_uri": "https://localhost:8080/"
        },
        "outputId": "2bde3f1c-00f7-4ba9-a006-cb8fd6b183b1",
        "id": "koGRD65poM7R"
      },
      "outputs": [
        {
          "output_type": "stream",
          "name": "stdout",
          "text": [
            "764\n"
          ]
        }
      ],
      "source": [
        "wordcout = data\n",
        "wordcout['wordcount'] = data['text'].apply(lambda x: len(str(x).split(' ')))\n",
        "sequence_length = wordcout.wordcount.max() # max length\n",
        "\n",
        "print(sequence_length)"
      ]
    },
    {
      "cell_type": "code",
      "execution_count": null,
      "metadata": {
        "colab": {
          "base_uri": "https://localhost:8080/"
        },
        "outputId": "eb29aa92-98aa-46a7-c06d-aae3c5e515f0",
        "id": "z3h9QRQyoM7S"
      },
      "outputs": [
        {
          "output_type": "stream",
          "name": "stdout",
          "text": [
            "Download complete!\n",
            "1193514\n"
          ]
        }
      ],
      "source": [
        "import urllib.request\n",
        "import zipfile\n",
        "import os\n",
        "\n",
        "glovefile = 'glove.twitter.27B.100d.txt'\n",
        "\n",
        "# download file if not in file directory\n",
        "if not os.path.isfile(glovefile):\n",
        "    urllib.request.urlretrieve('http://nlp.stanford.edu/data/glove.twitter.27B.zip',\n",
        "                              'glove.twitter.27B.zip')\n",
        "    with zipfile.ZipFile('glove.twitter.27B.zip', 'r') as zip_ref:\n",
        "        zip_ref.extractall('')\n",
        "\n",
        "    print('Download complete!')\n",
        "    os.remove('glove.twitter.27B.zip')\n",
        "\n",
        "# creating embeddings index\n",
        "embeddings_index = {}\n",
        "\n",
        "f = open(glovefile)\n",
        "for line in f:\n",
        "    values = line.split()\n",
        "    word = values[0]\n",
        "    vector = np.asarray(values[1:], dtype='float32')\n",
        "    embeddings_index[word] = vector\n",
        "\n",
        "f.close()\n",
        "\n",
        "print(len(embeddings_index)) # num of word vectors found"
      ]
    },
    {
      "cell_type": "code",
      "execution_count": null,
      "metadata": {
        "colab": {
          "base_uri": "https://localhost:8080/"
        },
        "outputId": "37f831ff-bc6a-44ad-fc80-2184b82f7012",
        "id": "h5QbsK5-oM7T"
      },
      "outputs": [
        {
          "output_type": "stream",
          "name": "stdout",
          "text": [
            "53186\n"
          ]
        }
      ],
      "source": [
        "max_features = 54000\n",
        "tokenizer = Tokenizer(num_words=max_features, split=' ', oov_token='<unw>', filters=' ')\n",
        "tokenizer.fit_on_texts(data['text'].values)\n",
        "\n",
        "X = tokenizer.texts_to_sequences(data['text'].values)\n",
        "word_index = tokenizer.word_index\n",
        "print(len(word_index)) # num of unique tokens"
      ]
    },
    {
      "cell_type": "code",
      "execution_count": null,
      "metadata": {
        "colab": {
          "base_uri": "https://localhost:8080/"
        },
        "outputId": "85e9f6ca-390e-4506-f561-0b838caa5db4",
        "id": "5zm60AY4oM7T"
      },
      "outputs": [
        {
          "output_type": "stream",
          "name": "stdout",
          "text": [
            "53187\n"
          ]
        }
      ],
      "source": [
        "num_words = min(max_features, len(word_index)) + 1\n",
        "print(num_words)"
      ]
    },
    {
      "cell_type": "code",
      "source": [
        "embedding_dim = 100\n",
        "embedding_matrix = np.zeros((num_words, embedding_dim)) # fill with zeros\n",
        "\n",
        "for word, i in word_index.items():\n",
        "    if i > max_features:\n",
        "        continue\n",
        "    \n",
        "    embedding_vector = embeddings_index.get(word)\n",
        "    if embedding_vector is not None:\n",
        "        embedding_matrix[i] = embedding_vector\n",
        "    else:\n",
        "        embedding_matrix[i] = np.random.randn(embedding_dim) # assign random vector"
      ],
      "metadata": {
        "id": "rs2auYKHoM7W"
      },
      "execution_count": null,
      "outputs": []
    },
    {
      "cell_type": "markdown",
      "metadata": {
        "id": "Af7ci8AuotGG"
      },
      "source": [
        "### CNN + PersonalityCafe/Kaggle Data: Model - deployed"
      ]
    },
    {
      "cell_type": "code",
      "source": [
        "data = data[['text', 'label']]\n",
        "data.head()"
      ],
      "metadata": {
        "colab": {
          "base_uri": "https://localhost:8080/",
          "height": 201
        },
        "outputId": "c40e7d2b-afb4-4c63-8a58-5dbd9b367fd5",
        "id": "b5qoL3C-otGH"
      },
      "execution_count": null,
      "outputs": [
        {
          "output_type": "execute_result",
          "data": {
            "text/html": [
              "\n",
              "  <div id=\"df-4255dc11-f7eb-49a4-aa28-a8b0b5fa7ac1\">\n",
              "    <div class=\"colab-df-container\">\n",
              "      <div>\n",
              "<style scoped>\n",
              "    .dataframe tbody tr th:only-of-type {\n",
              "        vertical-align: middle;\n",
              "    }\n",
              "\n",
              "    .dataframe tbody tr th {\n",
              "        vertical-align: top;\n",
              "    }\n",
              "\n",
              "    .dataframe thead th {\n",
              "        text-align: right;\n",
              "    }\n",
              "</style>\n",
              "<table border=\"1\" class=\"dataframe\">\n",
              "  <thead>\n",
              "    <tr style=\"text-align: right;\">\n",
              "      <th></th>\n",
              "      <th>text</th>\n",
              "      <th>label</th>\n",
              "    </tr>\n",
              "  </thead>\n",
              "  <tbody>\n",
              "    <tr>\n",
              "      <th>0</th>\n",
              "      <td>intj moment play experience life repeat today ...</td>\n",
              "      <td>INFJ</td>\n",
              "    </tr>\n",
              "    <tr>\n",
              "      <th>1</th>\n",
              "      <td>find lack post alarm sex boring position often...</td>\n",
              "      <td>ENTP</td>\n",
              "    </tr>\n",
              "    <tr>\n",
              "      <th>2</th>\n",
              "      <td>good course say know absolutely positive good ...</td>\n",
              "      <td>INTP</td>\n",
              "    </tr>\n",
              "    <tr>\n",
              "      <th>3</th>\n",
              "      <td>dear rule arbitrary construct create dear entj...</td>\n",
              "      <td>INTJ</td>\n",
              "    </tr>\n",
              "    <tr>\n",
              "      <th>4</th>\n",
              "      <td>silly misconception approach logically go key ...</td>\n",
              "      <td>ENTJ</td>\n",
              "    </tr>\n",
              "  </tbody>\n",
              "</table>\n",
              "</div>\n",
              "      <button class=\"colab-df-convert\" onclick=\"convertToInteractive('df-4255dc11-f7eb-49a4-aa28-a8b0b5fa7ac1')\"\n",
              "              title=\"Convert this dataframe to an interactive table.\"\n",
              "              style=\"display:none;\">\n",
              "        \n",
              "  <svg xmlns=\"http://www.w3.org/2000/svg\" height=\"24px\"viewBox=\"0 0 24 24\"\n",
              "       width=\"24px\">\n",
              "    <path d=\"M0 0h24v24H0V0z\" fill=\"none\"/>\n",
              "    <path d=\"M18.56 5.44l.94 2.06.94-2.06 2.06-.94-2.06-.94-.94-2.06-.94 2.06-2.06.94zm-11 1L8.5 8.5l.94-2.06 2.06-.94-2.06-.94L8.5 2.5l-.94 2.06-2.06.94zm10 10l.94 2.06.94-2.06 2.06-.94-2.06-.94-.94-2.06-.94 2.06-2.06.94z\"/><path d=\"M17.41 7.96l-1.37-1.37c-.4-.4-.92-.59-1.43-.59-.52 0-1.04.2-1.43.59L10.3 9.45l-7.72 7.72c-.78.78-.78 2.05 0 2.83L4 21.41c.39.39.9.59 1.41.59.51 0 1.02-.2 1.41-.59l7.78-7.78 2.81-2.81c.8-.78.8-2.07 0-2.86zM5.41 20L4 18.59l7.72-7.72 1.47 1.35L5.41 20z\"/>\n",
              "  </svg>\n",
              "      </button>\n",
              "      \n",
              "  <style>\n",
              "    .colab-df-container {\n",
              "      display:flex;\n",
              "      flex-wrap:wrap;\n",
              "      gap: 12px;\n",
              "    }\n",
              "\n",
              "    .colab-df-convert {\n",
              "      background-color: #E8F0FE;\n",
              "      border: none;\n",
              "      border-radius: 50%;\n",
              "      cursor: pointer;\n",
              "      display: none;\n",
              "      fill: #1967D2;\n",
              "      height: 32px;\n",
              "      padding: 0 0 0 0;\n",
              "      width: 32px;\n",
              "    }\n",
              "\n",
              "    .colab-df-convert:hover {\n",
              "      background-color: #E2EBFA;\n",
              "      box-shadow: 0px 1px 2px rgba(60, 64, 67, 0.3), 0px 1px 3px 1px rgba(60, 64, 67, 0.15);\n",
              "      fill: #174EA6;\n",
              "    }\n",
              "\n",
              "    [theme=dark] .colab-df-convert {\n",
              "      background-color: #3B4455;\n",
              "      fill: #D2E3FC;\n",
              "    }\n",
              "\n",
              "    [theme=dark] .colab-df-convert:hover {\n",
              "      background-color: #434B5C;\n",
              "      box-shadow: 0px 1px 3px 1px rgba(0, 0, 0, 0.15);\n",
              "      filter: drop-shadow(0px 1px 2px rgba(0, 0, 0, 0.3));\n",
              "      fill: #FFFFFF;\n",
              "    }\n",
              "  </style>\n",
              "\n",
              "      <script>\n",
              "        const buttonEl =\n",
              "          document.querySelector('#df-4255dc11-f7eb-49a4-aa28-a8b0b5fa7ac1 button.colab-df-convert');\n",
              "        buttonEl.style.display =\n",
              "          google.colab.kernel.accessAllowed ? 'block' : 'none';\n",
              "\n",
              "        async function convertToInteractive(key) {\n",
              "          const element = document.querySelector('#df-4255dc11-f7eb-49a4-aa28-a8b0b5fa7ac1');\n",
              "          const dataTable =\n",
              "            await google.colab.kernel.invokeFunction('convertToInteractive',\n",
              "                                                     [key], {});\n",
              "          if (!dataTable) return;\n",
              "\n",
              "          const docLinkHtml = 'Like what you see? Visit the ' +\n",
              "            '<a target=\"_blank\" href=https://colab.research.google.com/notebooks/data_table.ipynb>data table notebook</a>'\n",
              "            + ' to learn more about interactive tables.';\n",
              "          element.innerHTML = '';\n",
              "          dataTable['output_type'] = 'display_data';\n",
              "          await google.colab.output.renderOutput(dataTable, element);\n",
              "          const docLink = document.createElement('div');\n",
              "          docLink.innerHTML = docLinkHtml;\n",
              "          element.appendChild(docLink);\n",
              "        }\n",
              "      </script>\n",
              "    </div>\n",
              "  </div>\n",
              "  "
            ],
            "text/plain": [
              "                                                text label\n",
              "0  intj moment play experience life repeat today ...  INFJ\n",
              "1  find lack post alarm sex boring position often...  ENTP\n",
              "2  good course say know absolutely positive good ...  INTP\n",
              "3  dear rule arbitrary construct create dear entj...  INTJ\n",
              "4  silly misconception approach logically go key ...  ENTJ"
            ]
          },
          "metadata": {},
          "execution_count": 11
        }
      ]
    },
    {
      "cell_type": "code",
      "source": [
        "X = pad_sequences(X, sequence_length) # pad sequences to the same len\n",
        "y = pd.get_dummies(data['label']).values\n",
        "\n",
        "X_train, X_test, y_train, y_test = train_test_split(X, y, test_size = 0.2)"
      ],
      "metadata": {
        "id": "-k6mg0GLotGI"
      },
      "execution_count": null,
      "outputs": []
    },
    {
      "cell_type": "markdown",
      "source": [
        "Embedding Layer"
      ],
      "metadata": {
        "id": "ZT2AxyY0otGM"
      }
    },
    {
      "cell_type": "code",
      "source": [
        "model = Sequential()\n",
        "model.add(Embedding(num_words,\n",
        "                    embedding_dim,\n",
        "                    embeddings_initializer=Constant(embedding_matrix),\n",
        "                    input_length=sequence_length,\n",
        "                    trainable=False))\n",
        "model.add(Conv1D(128, 5, activation='relu'))\n",
        "model.add(GlobalMaxPooling1D())\n",
        "model.add(Dropout(rate=0.3))\n",
        "model.add(Dense(32, activation='relu'))\n",
        "model.add(Dropout(0.25))\n",
        "model.add(Dense(16, activation='softmax'))\n",
        "model.compile(loss = 'categorical_crossentropy', optimizer='adam',metrics = ['accuracy'])\n",
        "print(model.summary())"
      ],
      "metadata": {
        "colab": {
          "base_uri": "https://localhost:8080/"
        },
        "outputId": "0b93f3f3-dbf2-4784-a7f0-dc63aba8c432",
        "id": "LruGESLOotGN"
      },
      "execution_count": null,
      "outputs": [
        {
          "output_type": "stream",
          "name": "stdout",
          "text": [
            "Model: \"sequential_1\"\n",
            "_________________________________________________________________\n",
            " Layer (type)                Output Shape              Param #   \n",
            "=================================================================\n",
            " embedding_1 (Embedding)     (None, 764, 100)          5318700   \n",
            "                                                                 \n",
            " conv1d_1 (Conv1D)           (None, 760, 128)          64128     \n",
            "                                                                 \n",
            " global_max_pooling1d_1 (Glo  (None, 128)              0         \n",
            " balMaxPooling1D)                                                \n",
            "                                                                 \n",
            " dropout_2 (Dropout)         (None, 128)               0         \n",
            "                                                                 \n",
            " dense_2 (Dense)             (None, 32)                4128      \n",
            "                                                                 \n",
            " dropout_3 (Dropout)         (None, 32)                0         \n",
            "                                                                 \n",
            " dense_3 (Dense)             (None, 16)                528       \n",
            "                                                                 \n",
            "=================================================================\n",
            "Total params: 5,387,484\n",
            "Trainable params: 68,784\n",
            "Non-trainable params: 5,318,700\n",
            "_________________________________________________________________\n",
            "None\n"
          ]
        }
      ]
    },
    {
      "cell_type": "code",
      "source": [
        "history = model.fit(X_train, y_train, epochs=20, batch_size=128, verbose=1, validation_data=(X_test, y_test))"
      ],
      "metadata": {
        "colab": {
          "base_uri": "https://localhost:8080/"
        },
        "outputId": "288b3743-5f9f-4a86-b2d7-03cbb0d1e72d",
        "id": "3t2ELMayotGO"
      },
      "execution_count": null,
      "outputs": [
        {
          "output_type": "stream",
          "name": "stdout",
          "text": [
            "Epoch 1/20\n",
            "55/55 [==============================] - 5s 57ms/step - loss: 2.8113 - accuracy: 0.1613 - val_loss: 2.3446 - val_accuracy: 0.2150\n",
            "Epoch 2/20\n",
            "55/55 [==============================] - 3s 49ms/step - loss: 2.3967 - accuracy: 0.2118 - val_loss: 2.1402 - val_accuracy: 0.2772\n",
            "Epoch 3/20\n",
            "55/55 [==============================] - 3s 48ms/step - loss: 2.2119 - accuracy: 0.2564 - val_loss: 1.9971 - val_accuracy: 0.3187\n",
            "Epoch 4/20\n",
            "55/55 [==============================] - 3s 49ms/step - loss: 2.1120 - accuracy: 0.2871 - val_loss: 1.9304 - val_accuracy: 0.3602\n",
            "Epoch 5/20\n",
            "55/55 [==============================] - 3s 48ms/step - loss: 2.0046 - accuracy: 0.3411 - val_loss: 1.8660 - val_accuracy: 0.3954\n",
            "Epoch 6/20\n",
            "55/55 [==============================] - 3s 50ms/step - loss: 1.9210 - accuracy: 0.3663 - val_loss: 1.8311 - val_accuracy: 0.4179\n",
            "Epoch 7/20\n",
            "55/55 [==============================] - 3s 49ms/step - loss: 1.8571 - accuracy: 0.3913 - val_loss: 1.8209 - val_accuracy: 0.4248\n",
            "Epoch 8/20\n",
            "55/55 [==============================] - 3s 50ms/step - loss: 1.7685 - accuracy: 0.4132 - val_loss: 1.7680 - val_accuracy: 0.4277\n",
            "Epoch 9/20\n",
            "55/55 [==============================] - 3s 49ms/step - loss: 1.6797 - accuracy: 0.4475 - val_loss: 1.7315 - val_accuracy: 0.4334\n",
            "Epoch 10/20\n",
            "55/55 [==============================] - 3s 48ms/step - loss: 1.6267 - accuracy: 0.4671 - val_loss: 1.7112 - val_accuracy: 0.4548\n",
            "Epoch 11/20\n",
            "55/55 [==============================] - 3s 49ms/step - loss: 1.5424 - accuracy: 0.5041 - val_loss: 1.6893 - val_accuracy: 0.4548\n",
            "Epoch 12/20\n",
            "55/55 [==============================] - 3s 48ms/step - loss: 1.4705 - accuracy: 0.5270 - val_loss: 1.6762 - val_accuracy: 0.4692\n",
            "Epoch 13/20\n",
            "55/55 [==============================] - 3s 49ms/step - loss: 1.3978 - accuracy: 0.5502 - val_loss: 1.6718 - val_accuracy: 0.4686\n",
            "Epoch 14/20\n",
            "55/55 [==============================] - 3s 48ms/step - loss: 1.3188 - accuracy: 0.5829 - val_loss: 1.6676 - val_accuracy: 0.4674\n",
            "Epoch 15/20\n",
            "55/55 [==============================] - 3s 47ms/step - loss: 1.2371 - accuracy: 0.6139 - val_loss: 1.6898 - val_accuracy: 0.4720\n",
            "Epoch 16/20\n",
            "55/55 [==============================] - 3s 50ms/step - loss: 1.1970 - accuracy: 0.6155 - val_loss: 1.7188 - val_accuracy: 0.4582\n",
            "Epoch 17/20\n",
            "55/55 [==============================] - 3s 47ms/step - loss: 1.1275 - accuracy: 0.6426 - val_loss: 1.7270 - val_accuracy: 0.4634\n",
            "Epoch 18/20\n",
            "55/55 [==============================] - 3s 50ms/step - loss: 1.0788 - accuracy: 0.6646 - val_loss: 1.7224 - val_accuracy: 0.4767\n",
            "Epoch 19/20\n",
            "55/55 [==============================] - 3s 48ms/step - loss: 1.0428 - accuracy: 0.6778 - val_loss: 1.7490 - val_accuracy: 0.4617\n",
            "Epoch 20/20\n",
            "55/55 [==============================] - 3s 49ms/step - loss: 1.0064 - accuracy: 0.6900 - val_loss: 1.7874 - val_accuracy: 0.4582\n"
          ]
        }
      ]
    },
    {
      "cell_type": "code",
      "source": [
        "import matplotlib.pyplot as plt\n",
        "%matplotlib inline\n",
        "plt.plot(history.history['accuracy'])\n",
        "plt.plot(history.history['val_accuracy'])\n",
        "plt.title('model accuracy')\n",
        "plt.ylabel('accuracy')\n",
        "plt.xlabel('epoch')\n",
        "plt.legend(['train', 'validation'], loc='upper left')\n",
        "plt.show()\n",
        "\n",
        "plt.plot(history.history['loss'])\n",
        "plt.plot(history.history['val_loss'])\n",
        "plt.title('model loss')\n",
        "plt.ylabel('loss')\n",
        "plt.xlabel('epoch')\n",
        "plt.legend(['train', 'validation'], loc='upper left')\n",
        "plt.show()"
      ],
      "metadata": {
        "colab": {
          "base_uri": "https://localhost:8080/",
          "height": 572
        },
        "outputId": "977d4608-2e65-4b09-e5c3-47f696f6b68e",
        "id": "ie3aNsYpotGP"
      },
      "execution_count": null,
      "outputs": [
        {
          "output_type": "display_data",
          "data": {
            "image/png": "[encoded data removed]",
            "text/plain": [
              "<Figure size 432x288 with 1 Axes>"
            ]
          },
          "metadata": {
            "needs_background": "light"
          }
        },
        {
          "output_type": "display_data",
          "data": {
            "image/png": "[encoded data removed]",
            "text/plain": [
              "<Figure size 432x288 with 1 Axes>"
            ]
          },
          "metadata": {
            "needs_background": "light"
          }
        }
      ]
    },
    {
      "cell_type": "code",
      "source": [
        "y_hat = model.predict(X_test)\n",
        "\n",
        "from sklearn.metrics import classification_report\n",
        "matrix = classification_report(list(map(lambda x: np.argmax(x), y_test)), list(map(lambda x: np.argmax(x), y_hat)))\n",
        "print('Classification report : \\n',matrix)"
      ],
      "metadata": {
        "colab": {
          "base_uri": "https://localhost:8080/"
        },
        "outputId": "82c2f606-7dd2-427a-b2aa-f42a21913c8e",
        "id": "dn-vj_c6otGP"
      },
      "execution_count": null,
      "outputs": [
        {
          "output_type": "stream",
          "name": "stdout",
          "text": [
            "Classification report : \n",
            "               precision    recall  f1-score   support\n",
            "\n",
            "           0       0.00      0.00      0.00        33\n",
            "           1       0.55      0.42      0.48       139\n",
            "           2       0.40      0.20      0.27        50\n",
            "           3       0.48      0.67      0.56       119\n",
            "           4       0.00      0.00      0.00         8\n",
            "           5       0.00      0.00      0.00         6\n",
            "           6       0.00      0.00      0.00         5\n",
            "           7       0.00      0.00      0.00        19\n",
            "           8       0.54      0.34      0.42       339\n",
            "           9       0.44      0.58      0.50       361\n",
            "          10       0.47      0.53      0.50       222\n",
            "          11       0.40      0.56      0.47       263\n",
            "          12       0.39      0.28      0.33        25\n",
            "          13       0.30      0.41      0.34        44\n",
            "          14       0.43      0.07      0.12        42\n",
            "          15       0.57      0.52      0.54        60\n",
            "\n",
            "    accuracy                           0.46      1735\n",
            "   macro avg       0.31      0.29      0.28      1735\n",
            "weighted avg       0.45      0.46      0.44      1735\n",
            "\n"
          ]
        },
        {
          "output_type": "stream",
          "name": "stderr",
          "text": [
            "/usr/local/lib/python3.7/dist-packages/sklearn/metrics/_classification.py:1318: UndefinedMetricWarning: Precision and F-score are ill-defined and being set to 0.0 in labels with no predicted samples. Use `zero_division` parameter to control this behavior.\n",
            "  _warn_prf(average, modifier, msg_start, len(result))\n",
            "/usr/local/lib/python3.7/dist-packages/sklearn/metrics/_classification.py:1318: UndefinedMetricWarning: Precision and F-score are ill-defined and being set to 0.0 in labels with no predicted samples. Use `zero_division` parameter to control this behavior.\n",
            "  _warn_prf(average, modifier, msg_start, len(result))\n",
            "/usr/local/lib/python3.7/dist-packages/sklearn/metrics/_classification.py:1318: UndefinedMetricWarning: Precision and F-score are ill-defined and being set to 0.0 in labels with no predicted samples. Use `zero_division` parameter to control this behavior.\n",
            "  _warn_prf(average, modifier, msg_start, len(result))\n"
          ]
        }
      ]
    },
    {
      "cell_type": "code",
      "source": [
        "accuracy_score(list(map(lambda x: np.argmax(x), y_test)), list(map(lambda x: np.argmax(x), y_hat)))"
      ],
      "metadata": {
        "colab": {
          "base_uri": "https://localhost:8080/"
        },
        "outputId": "56cdcb88-bb72-4758-8615-23d32af114a2",
        "id": "efswsutmotGQ"
      },
      "execution_count": null,
      "outputs": [
        {
          "output_type": "execute_result",
          "data": {
            "text/plain": [
              "0.45821325648414984"
            ]
          },
          "metadata": {},
          "execution_count": 23
        }
      ]
    },
    {
      "cell_type": "code",
      "source": [
        "model.save('model_kaggle.h5')"
      ],
      "metadata": {
        "id": "FAOo57zeotGQ"
      },
      "execution_count": null,
      "outputs": []
    },
    {
      "cell_type": "code",
      "source": [
        "import pickle\n",
        "# save tokenizer\n",
        "with open('tokenizer_kaggle.pickle', 'wb') as handle:\n",
        "    pickle.dump(tokenizer, handle, protocol=pickle.HIGHEST_PROTOCOL)"
      ],
      "metadata": {
        "id": "CQOEZwv9otGR"
      },
      "execution_count": null,
      "outputs": []
    },
    {
      "cell_type": "markdown",
      "metadata": {
        "id": "wbxoCUMWXHaw"
      },
      "source": [
        "### CNN + PersonalityCafe/Kaggle Data: Model - for testing"
      ]
    },
    {
      "cell_type": "code",
      "source": [
        "# test run with confusion matrix"
      ],
      "metadata": {
        "id": "1XHAVMrIz-fj"
      },
      "execution_count": null,
      "outputs": []
    },
    {
      "cell_type": "markdown",
      "source": [
        "Embedding Layer"
      ],
      "metadata": {
        "id": "p-cXxUm_XHa-"
      }
    },
    {
      "cell_type": "code",
      "source": [
        "model = Sequential()\n",
        "model.add(Embedding(num_words,\n",
        "                    embedding_dim,\n",
        "                    embeddings_initializer=Constant(embedding_matrix),\n",
        "                    input_length=sequence_length,\n",
        "                    trainable=False))\n",
        "model.add(Conv1D(128, 5, activation='relu'))\n",
        "model.add(GlobalMaxPooling1D())\n",
        "model.add(Dropout(rate=0.3))\n",
        "model.add(Dense(32, activation='relu'))\n",
        "model.add(Dropout(0.25))\n",
        "model.add(Dense(16, activation='softmax'))\n",
        "model.compile(loss = 'categorical_crossentropy', optimizer='adam',metrics = ['accuracy'])\n",
        "print(model.summary())"
      ],
      "metadata": {
        "colab": {
          "base_uri": "https://localhost:8080/"
        },
        "outputId": "65ee9047-ccb0-41e2-8313-0be56f1994b3",
        "id": "5MphkpB_XHa_"
      },
      "execution_count": null,
      "outputs": [
        {
          "output_type": "stream",
          "name": "stdout",
          "text": [
            "Model: \"sequential\"\n",
            "_________________________________________________________________\n",
            " Layer (type)                Output Shape              Param #   \n",
            "=================================================================\n",
            " embedding (Embedding)       (None, 764, 100)          5318700   \n",
            "                                                                 \n",
            " conv1d (Conv1D)             (None, 760, 128)          64128     \n",
            "                                                                 \n",
            " global_max_pooling1d (Globa  (None, 128)              0         \n",
            " lMaxPooling1D)                                                  \n",
            "                                                                 \n",
            " dropout (Dropout)           (None, 128)               0         \n",
            "                                                                 \n",
            " dense (Dense)               (None, 32)                4128      \n",
            "                                                                 \n",
            " dropout_1 (Dropout)         (None, 32)                0         \n",
            "                                                                 \n",
            " dense_1 (Dense)             (None, 16)                528       \n",
            "                                                                 \n",
            "=================================================================\n",
            "Total params: 5,387,484\n",
            "Trainable params: 68,784\n",
            "Non-trainable params: 5,318,700\n",
            "_________________________________________________________________\n",
            "None\n"
          ]
        }
      ]
    },
    {
      "cell_type": "code",
      "source": [
        "history = model.fit(X_train, y_train, epochs=20, batch_size=128, verbose=1, validation_data=(X_test, y_test))"
      ],
      "metadata": {
        "colab": {
          "base_uri": "https://localhost:8080/"
        },
        "outputId": "6697c2fe-f845-4f2c-c6eb-e74d1d9d46fe",
        "id": "wSf1LsGZXHbA"
      },
      "execution_count": null,
      "outputs": [
        {
          "output_type": "stream",
          "name": "stdout",
          "text": [
            "Epoch 1/20\n",
            "55/55 [==============================] - 18s 71ms/step - loss: 2.5803 - accuracy: 0.1814 - val_loss: 2.3310 - val_accuracy: 0.2127\n",
            "Epoch 2/20\n",
            "55/55 [==============================] - 3s 56ms/step - loss: 2.3265 - accuracy: 0.2163 - val_loss: 2.1990 - val_accuracy: 0.2484\n",
            "Epoch 3/20\n",
            "55/55 [==============================] - 3s 58ms/step - loss: 2.2041 - accuracy: 0.2496 - val_loss: 2.1061 - val_accuracy: 0.3095\n",
            "Epoch 4/20\n",
            "55/55 [==============================] - 3s 58ms/step - loss: 2.1144 - accuracy: 0.2761 - val_loss: 2.0491 - val_accuracy: 0.3072\n",
            "Epoch 5/20\n",
            "55/55 [==============================] - 3s 57ms/step - loss: 2.0376 - accuracy: 0.3013 - val_loss: 2.0046 - val_accuracy: 0.3337\n",
            "Epoch 6/20\n",
            "55/55 [==============================] - 3s 56ms/step - loss: 1.9609 - accuracy: 0.3355 - val_loss: 1.9472 - val_accuracy: 0.3568\n",
            "Epoch 7/20\n",
            "55/55 [==============================] - 3s 57ms/step - loss: 1.8695 - accuracy: 0.3750 - val_loss: 1.8896 - val_accuracy: 0.3850\n",
            "Epoch 8/20\n",
            "55/55 [==============================] - 3s 56ms/step - loss: 1.7911 - accuracy: 0.4047 - val_loss: 1.8370 - val_accuracy: 0.4075\n",
            "Epoch 9/20\n",
            "55/55 [==============================] - 3s 56ms/step - loss: 1.7193 - accuracy: 0.4321 - val_loss: 1.8147 - val_accuracy: 0.4207\n",
            "Epoch 10/20\n",
            "55/55 [==============================] - 3s 59ms/step - loss: 1.6219 - accuracy: 0.4627 - val_loss: 1.7811 - val_accuracy: 0.4403\n",
            "Epoch 11/20\n",
            "55/55 [==============================] - 3s 57ms/step - loss: 1.5446 - accuracy: 0.5051 - val_loss: 1.7502 - val_accuracy: 0.4427\n",
            "Epoch 12/20\n",
            "55/55 [==============================] - 3s 58ms/step - loss: 1.4733 - accuracy: 0.5298 - val_loss: 1.7498 - val_accuracy: 0.4501\n",
            "Epoch 13/20\n",
            "55/55 [==============================] - 3s 58ms/step - loss: 1.4055 - accuracy: 0.5476 - val_loss: 1.7321 - val_accuracy: 0.4605\n",
            "Epoch 14/20\n",
            "55/55 [==============================] - 3s 56ms/step - loss: 1.3347 - accuracy: 0.5756 - val_loss: 1.7333 - val_accuracy: 0.4674\n",
            "Epoch 15/20\n",
            "55/55 [==============================] - 3s 59ms/step - loss: 1.2549 - accuracy: 0.5985 - val_loss: 1.7509 - val_accuracy: 0.4565\n",
            "Epoch 16/20\n",
            "55/55 [==============================] - 3s 58ms/step - loss: 1.2151 - accuracy: 0.6118 - val_loss: 1.7657 - val_accuracy: 0.4467\n",
            "Epoch 17/20\n",
            "55/55 [==============================] - 3s 56ms/step - loss: 1.1202 - accuracy: 0.6397 - val_loss: 1.7604 - val_accuracy: 0.4576\n",
            "Epoch 18/20\n",
            "55/55 [==============================] - 3s 56ms/step - loss: 1.0698 - accuracy: 0.6649 - val_loss: 1.8031 - val_accuracy: 0.4455\n",
            "Epoch 19/20\n",
            "55/55 [==============================] - 3s 57ms/step - loss: 1.0430 - accuracy: 0.6688 - val_loss: 1.8014 - val_accuracy: 0.4496\n",
            "Epoch 20/20\n",
            "55/55 [==============================] - 3s 57ms/step - loss: 0.9728 - accuracy: 0.6946 - val_loss: 1.8127 - val_accuracy: 0.4524\n"
          ]
        }
      ]
    },
    {
      "cell_type": "code",
      "source": [
        "import matplotlib.pyplot as plt\n",
        "%matplotlib inline\n",
        "plt.plot(history.history['accuracy'])\n",
        "plt.plot(history.history['val_accuracy'])\n",
        "plt.title('model accuracy')\n",
        "plt.ylabel('accuracy')\n",
        "plt.xlabel('epoch')\n",
        "plt.legend(['train', 'validation'], loc='upper left')\n",
        "plt.show()\n",
        "\n",
        "plt.plot(history.history['loss'])\n",
        "plt.plot(history.history['val_loss'])\n",
        "plt.title('model loss')\n",
        "plt.ylabel('loss')\n",
        "plt.xlabel('epoch')\n",
        "plt.legend(['train', 'validation'], loc='upper left')\n",
        "plt.show()"
      ],
      "metadata": {
        "colab": {
          "base_uri": "https://localhost:8080/",
          "height": 572
        },
        "outputId": "a87c581f-e513-41cf-afe2-e4633120e75f",
        "id": "PXQw9tzbXHbB"
      },
      "execution_count": null,
      "outputs": [
        {
          "output_type": "display_data",
          "data": {
            "image/png": "[encoded data removed]",
            "text/plain": [
              "<Figure size 432x288 with 1 Axes>"
            ]
          },
          "metadata": {
            "needs_background": "light"
          }
        },
        {
          "output_type": "display_data",
          "data": {
            "image/png": "[encoded data removed]",
            "text/plain": [
              "<Figure size 432x288 with 1 Axes>"
            ]
          },
          "metadata": {
            "needs_background": "light"
          }
        }
      ]
    },
    {
      "cell_type": "code",
      "source": [
        "y_hat = model.predict(X_test)\n",
        "\n",
        "from sklearn.metrics import classification_report\n",
        "matrix = classification_report(list(map(lambda x: np.argmax(x), y_test)), list(map(lambda x: np.argmax(x), y_hat)))\n",
        "print('Classification report : \\n',matrix)"
      ],
      "metadata": {
        "colab": {
          "base_uri": "https://localhost:8080/"
        },
        "outputId": "82ae4723-6c66-442e-aea8-a141ea7540ab",
        "id": "aDRfH6MOXHbB"
      },
      "execution_count": null,
      "outputs": [
        {
          "output_type": "stream",
          "name": "stdout",
          "text": [
            "Classification report : \n",
            "               precision    recall  f1-score   support\n",
            "\n",
            "           0       1.00      0.05      0.10        39\n",
            "           1       0.41      0.46      0.44       138\n",
            "           2       0.53      0.34      0.41        50\n",
            "           3       0.47      0.65      0.55       136\n",
            "           4       0.00      0.00      0.00        14\n",
            "           5       0.00      0.00      0.00         8\n",
            "           6       0.00      0.00      0.00         6\n",
            "           7       0.00      0.00      0.00        19\n",
            "           8       0.38      0.47      0.42       262\n",
            "           9       0.51      0.54      0.53       368\n",
            "          10       0.50      0.48      0.49       229\n",
            "          11       0.41      0.46      0.43       253\n",
            "          12       0.44      0.25      0.32        44\n",
            "          13       0.47      0.47      0.47        58\n",
            "          14       0.00      0.00      0.00        53\n",
            "          15       0.55      0.41      0.47        58\n",
            "\n",
            "    accuracy                           0.45      1735\n",
            "   macro avg       0.35      0.29      0.29      1735\n",
            "weighted avg       0.44      0.45      0.43      1735\n",
            "\n"
          ]
        },
        {
          "output_type": "stream",
          "name": "stderr",
          "text": [
            "/usr/local/lib/python3.7/dist-packages/sklearn/metrics/_classification.py:1318: UndefinedMetricWarning: Precision and F-score are ill-defined and being set to 0.0 in labels with no predicted samples. Use `zero_division` parameter to control this behavior.\n",
            "  _warn_prf(average, modifier, msg_start, len(result))\n",
            "/usr/local/lib/python3.7/dist-packages/sklearn/metrics/_classification.py:1318: UndefinedMetricWarning: Precision and F-score are ill-defined and being set to 0.0 in labels with no predicted samples. Use `zero_division` parameter to control this behavior.\n",
            "  _warn_prf(average, modifier, msg_start, len(result))\n",
            "/usr/local/lib/python3.7/dist-packages/sklearn/metrics/_classification.py:1318: UndefinedMetricWarning: Precision and F-score are ill-defined and being set to 0.0 in labels with no predicted samples. Use `zero_division` parameter to control this behavior.\n",
            "  _warn_prf(average, modifier, msg_start, len(result))\n"
          ]
        }
      ]
    },
    {
      "cell_type": "code",
      "source": [
        "accuracy_score(list(map(lambda x: np.argmax(x), y_test)), list(map(lambda x: np.argmax(x), y_hat)))"
      ],
      "metadata": {
        "colab": {
          "base_uri": "https://localhost:8080/"
        },
        "outputId": "cb9f20b4-4a4f-4e81-a3fd-ad31f34f6d1d",
        "id": "Tua2GeccXHbC"
      },
      "execution_count": null,
      "outputs": [
        {
          "output_type": "execute_result",
          "data": {
            "text/plain": [
              "0.45244956772334294"
            ]
          },
          "metadata": {},
          "execution_count": 15
        }
      ]
    },
    {
      "cell_type": "code",
      "source": [
        "f1_score(list(map(lambda x: np.argmax(x), y_test)), list(map(lambda x: np.argmax(x), y_hat)), average='macro')"
      ],
      "metadata": {
        "colab": {
          "base_uri": "https://localhost:8080/"
        },
        "id": "w5CBQWOxXUPE",
        "outputId": "21656513-fc6d-4a4c-f9de-d1ee24e0976a"
      },
      "execution_count": null,
      "outputs": [
        {
          "output_type": "execute_result",
          "data": {
            "text/plain": [
              "0.28887751742986156"
            ]
          },
          "metadata": {},
          "execution_count": 20
        }
      ]
    },
    {
      "cell_type": "code",
      "source": [
        "conf = confusion_matrix(list(map(lambda x: np.argmax(x), y_test)), list(map(lambda x: np.argmax(x), y_hat)))\n",
        "plt.imshow(conf)"
      ],
      "metadata": {
        "colab": {
          "base_uri": "https://localhost:8080/",
          "height": 281
        },
        "id": "nvUsxZ8xXcH2",
        "outputId": "d4041d9c-7829-42cd-8211-75f4531b3cd1"
      },
      "execution_count": null,
      "outputs": [
        {
          "output_type": "execute_result",
          "data": {
            "text/plain": [
              "<matplotlib.image.AxesImage at 0x7f7e7df6af90>"
            ]
          },
          "metadata": {},
          "execution_count": 21
        },
        {
          "output_type": "display_data",
          "data": {
            "image/png": "[encoded data removed]",
            "text/plain": [
              "<Figure size 432x288 with 1 Axes>"
            ]
          },
          "metadata": {
            "needs_background": "light"
          }
        }
      ]
    },
    {
      "cell_type": "markdown",
      "source": [
        "# Crawling Tweets to Test"
      ],
      "metadata": {
        "id": "_XYo1SGalaqX"
      }
    },
    {
      "cell_type": "code",
      "source": [
        "!pip3 uninstall twint\n",
        "!pip3 install --user --upgrade git+https://github.com/twintproject/twint.git@origin/master#egg=twint"
      ],
      "metadata": {
        "id": "abif2kILleoD"
      },
      "execution_count": null,
      "outputs": []
    },
    {
      "cell_type": "code",
      "source": [
        "import twint\n",
        "twint.__version__"
      ],
      "metadata": {
        "colab": {
          "base_uri": "https://localhost:8080/",
          "height": 34
        },
        "id": "UuiG-e9B346P",
        "outputId": "c7bf4109-f3f1-4c7d-e645-3457c0e45103"
      },
      "execution_count": null,
      "outputs": [
        {
          "output_type": "execute_result",
          "data": {
            "application/vnd.google.colaboratory.intrinsic+json": {
              "type": "string"
            },
            "text/plain": [
              "'2.1.21'"
            ]
          },
          "metadata": {},
          "execution_count": 4
        }
      ]
    },
    {
      "cell_type": "code",
      "source": [
        "import twint\n",
        "import nest_asyncio\n",
        "nest_asyncio.apply()\n",
        "\n",
        "c = twint.Config()\n",
        "c.Limit = 3000\n",
        "c.Lang = \"en\"\n",
        "c.Store_csv = True\n",
        "c.Search = \"food\"\n",
        "c.Output = \"food.csv\"\n",
        "twint.run.Search(c)"
      ],
      "metadata": {
        "colab": {
          "base_uri": "https://localhost:8080/"
        },
        "id": "4bLNA5k7nBG7",
        "outputId": "18c87e23-7659-4961-9041-3b639d922bc5"
      },
      "execution_count": null,
      "outputs": [
        {
          "output_type": "stream",
          "name": "stdout",
          "text": [
            "1495271521517916166 2022-02-20 05:38:06 +0000 <BoogieShmooo> @ChrisNeuen @nofish_nonuts @life_is_art___ I used to use over the counter meds. Had to see a neurologist for my migraines. Given a trigger list of foods, environmental factors. I know my triggers now. Some u can’t avoid but when I get one I take  Excedrin migraine. Hugs and love ❤️ hope u feel better\n",
            "1495271517218824196 2022-02-20 05:38:05 +0000 <stripesfensky> this one’s called: “why do they call it oven when you of in the cold food of out hot eat the food” (ft. disko and @ovenotter)  https://t.co/dQZWdN49KN\n",
            "1495271507634929667 2022-02-20 05:38:02 +0000 <EatEmpathy__95> The food I made was tastier than I expected 🤤; I gobbled it up too fast to take a pic 📸\n",
            "1495271503419838465 2022-02-20 05:38:01 +0000 <bang_nuno> @cat5ims @bukanliaitzyy @FOOD_FESS Coba ikhtiar ke pendeta dulu kak. Atau bisa minta tolong ke saudara/tetangga yg muslim boleh kok kak.. Kalau ada yg bilang gak bolehin bilang saya 🙂 biasa cuma dirukyah pakai alfatehah dan 3 kul plus ayat kursi secara rutin bisa media air. Semangat kakak..\n",
            "1495271503415308289 2022-02-20 05:38:01 +0000 <Cryptoper7> @Imaginary_Ones Like food for the soul. It makes you question things, the sublime and the mundane. It stirs my emotions and takes me on a journey - to places I've never been, never likely to go - and sometimes would never want to go to. Without art we're just hollow vessels @Imaginary_Ones\n",
            "1495271502630952961 2022-02-20 05:38:01 +0000 <anytvnews> Indian Railways News: Railway is going to take a big step, now the food will be checked daily in the train  #India #LatestNews  https://t.co/TV6roUDnUE\n",
            "1495271501255299074 2022-02-20 05:38:01 +0000 <eo_august> @Yasmin_araujo07 @food_porn17 KKKKKKKKKKKKKK foi quase isso\n",
            "1495271500965822464 2022-02-20 05:38:01 +0000 <OuSoumounTwop> Ma’am, you’re at the top of the food chain…please act like it\n",
            "1495271495290949634 2022-02-20 05:37:59 +0000 <11nbyul> @Sheoru will u buy me food\n",
            "1495271494649143297 2022-02-20 05:37:59 +0000 <GoDodgersRams> @lythlyn @brucewhite @JelleBreur @julesyugo @LawrenceHanson3 @OttawaPolice When your in food lines because of these tyrants you will wish you supported the truckers\n",
            "1495271493701300227 2022-02-20 05:37:59 +0000 <punkwedge> the only thing that gets me through 9 hour shifts is thinking abt food i’ve got at home\n",
            "1495271489490272259 2022-02-20 05:37:58 +0000 <peteypete_p> Time restricted feeding: eating from noon - 8pm  Fasting: not eating for 24 hours then when you break your fast you eat a decent sized meal.  Not eating shit until dinner time then over eating is not fasting! Fasting is designated for us to Limit our food intake.  Eat responsibly\n",
            "1495271477490307077 2022-02-20 05:37:55 +0000 <MrWokeJoker> @ScubaMySteve Think about the food you eat. There are ingredients and nutrient facts on a food label which you by as regulated by the FDA. Supplements are not regulated by the FDA and don't have any standards that they have to meet and the nutrient facts label can be inaccurate\n",
            "1495271476055855105 2022-02-20 05:37:55 +0000 <Sehxnni> Baked all day, now to food coma from lunch/dinner 😴\n",
            "1495271475393093635 2022-02-20 05:37:55 +0000 <Soffellsaveus> @7FriendsBTS @unionsmia @merseybois_ @himmatweeting @FOOD_FESS You dont get my point right? G tau ya susahnya pdam survive biar balik modal? Dana pdam itu di hold2 terus, rugi karena kebijakan seenaknya? Mbak data yg anda sajikan juga g ter connect with my point, bapak gw kerja pdam n gw skrg di pln, yeah its always happen lol\n",
            "1495271468053286917 2022-02-20 05:37:53 +0000 <AbrehamHoney> 40% of #Tigray|ans are suffering an extreme lack of food &amp; 83% are food insecure. @StateDept must act now to #EndTigraySiege to avert catastrophic deaths in #Tigray.   @RepMcCaul @RepGregoryMeeks @BradSherman @Malinowski @SenatorRisch @SenatorMenendez\n",
            "1495271466425729024 2022-02-20 05:37:53 +0000 <mariajeanf> Luge kapag ganitong panahon, tamang foods lang kaming tatlo hahahah\n",
            "1495271462176972802 2022-02-20 05:37:52 +0000 <AlphaAlimi> I need a friend I can cook for and enjoy my food or a cooking partner (Romantic)\n",
            "1495271460235100163 2022-02-20 05:37:51 +0000 <tellemmendes> every time i eat asian food (korean, chinese, thai) i get hives 😩😩 i love asian food sm this is so disappointing\n",
            "1495271457370218497 2022-02-20 05:37:50 +0000 <rajaathrh> @boxerbatmanZ Glad you enjoy your food though\n",
            "1495271454992121860 2022-02-20 05:37:50 +0000 <Pawgyle> I wonder what the name would it be if it's mukbang, but instead of food, it's to show off what you buy at a dealer's den\n",
            "1495271454140735490 2022-02-20 05:37:50 +0000 <secondchances09> @evolutionarypsy @DavidEbel So you respond by showing your ass about other people's food choices...and at the same time, are \"poor people don't exist\" in how you responded🤦‍♀️\n",
            "1495271451032625152 2022-02-20 05:37:49 +0000 <ancientlyric> Iliad 5.900 “just as juice of fig speedily makes to grow thick the white milk that is liquid…”  🤔@JerolynMorrison @histofgreekfood  @LuciaNixon   Ancient Greek food experts?  https://t.co/73SnzmITYy\n",
            "1495271448495099904 2022-02-20 05:37:48 +0000 <CelesteKO_O> preparing a modest little salad from a late summer garden - thinking bout how seasons and our food are divorced because of supermarket culture… I may become obsessed with growing food &amp; prep &amp; preservation 🤔  https://t.co/gdTu0UXBEy\n",
            "1495271448205611010 2022-02-20 05:37:48 +0000 <AdrienneMagui12> @corigonzalezma1 They are only there for the fee shit! Free kids entertainment, free food, free clothes... Meh they could give two fvks about the mandates.\n",
            "1495271442518360064 2022-02-20 05:37:47 +0000 <JustMeTeeCee> oh ok it was food lol\n",
            "1495271439464763395 2022-02-20 05:37:46 +0000 <scatteredmom> @HappyGeek75 Funny thing is, years ago our family did a Food Revolution Road Trip (@jamieoliver style). It *really* has helped for this kind of thing. I know what to bring!\n",
            "1495271438202273793 2022-02-20 05:37:46 +0000 <Leeyuhnn> Had some delicious food made by my sensei.  https://t.co/7N5k7qoDzk\n",
            "1495271436755292162 2022-02-20 05:37:45 +0000 <TrashPandaJo> @RevBlackNetwork I sort of did make a choice to live on Skid Row. It was that or starvation and/or hypo thermos. I could have gotten food stamps but they are useless if you can't afford transportation. Skid Row is no joke, but it's where the resources are.\n",
            "1495271432342880257 2022-02-20 05:37:44 +0000 <hipTAROT> When I mean I’m keeping this mf to myself. He going in a cage 😭. Basement only come up for water and food.   🥰🤍\n",
            "1495271429427900416 2022-02-20 05:37:44 +0000 <BUSTYDAEMON> “ ohh, ihop does sound pretty good. i love breakfast food. “  mousey continued to take sips from her glass. it seems the obvious mess didn’t bother her, if anything, it just made the experience better, that she really was here with vei at her house.\n",
            "1495271427745857536 2022-02-20 05:37:43 +0000 <Jacinto59850733> @TheDemocrats @JoeBiden Let's hope it continues in the future and that the price of food and gasoline stop raising.\n",
            "1495271427515236353 2022-02-20 05:37:43 +0000 <mazharfakhar1> @nosheenali So what do i do if i want to live in the mountains with clean air, simpler and basic life? Was it my fault that i was born in a shit hole of a concrete jungle with no clean air, water, contaminated food?\n",
            "1495271426739167235 2022-02-20 05:37:43 +0000 <nanditaacharyya> @_Nehahaha__ Food always is :)\n",
            "1495271416438173701 2022-02-20 05:37:41 +0000 <JohnFis27692292> @laowhy86 hey did you guys eat in Binghamton NY for the “Chinese Girl Tries American Chinese Food video? I live in Binghamton.\n",
            "1495271412440788993 2022-02-20 05:37:40 +0000 <ObsidianHide> Man the comments, I don't get people that act like their region is the only one with good *insert food here* Just bizarre\n",
            "1495271411921088515 2022-02-20 05:37:40 +0000 <ashilikeit> @Candid_HRavii 😂😂😂😂😂 I’m very greedy when it comes to Mangalorean food\n",
            "1495271411899940864 2022-02-20 05:37:40 +0000 <drl_family> LETTING FAST FOOD EMPLOYEES DECIDE WHAT WE EAT  https://t.co/0K5HpdG4fS\n",
            "1495271410607931393 2022-02-20 05:37:39 +0000 <jjunggives> MCDO FOOD GIVEAWAY 🐝  — retweet + follow me (🔔)  Ends asap  https://t.co/hhHvEUIADE\n",
            "1495271407185543170 2022-02-20 05:37:38 +0000 <lencho22> @fakephilsgood Food poisoning just 30-hours before? Insane\n",
            "1495271406497583104 2022-02-20 05:37:38 +0000 <dienamyc_> Food for thought, maybe I could hear footsteps if you wouldn’t talk about your day in team coms #CSGO #VALORANT #Apex3rdBirthday\n",
            "1495271404765253636 2022-02-20 05:37:38 +0000 <alokamail07> @BesuraTaansane Jai @BJP4India  1. Ram mandir  2.dhara 370 3. Toilet  4. Better road  5. Better Light  6. Bulldozer 7. Encounters 8. Bank account for poor person  9. Kisan saman nidhi  10.corona kal mai arthik madad food  11. Without bribe government job  12. No casteism in government schemes\n",
            "1495271402274004995 2022-02-20 05:37:37 +0000 <AmishCatholic> @Monocarp_ Unfortunately my parents would get fried but I might survive for a few days before a roving horde decapitates me for food.\n",
            "1495271397479825414 2022-02-20 05:37:36 +0000 <CherieCherishU> Best Food For Healthy Heart and Lungs 🥗 💘 🍲 #healthis #healthyfoods #dailyroutine #bigconcern #incorporate  https://t.co/aAL06nlQ95\n",
            "1495271390286520323 2022-02-20 05:37:34 +0000 <issaagurb77> @AmbeerBlanco Yeah iAint Had No Good Soul Food\n",
            "1495271386843070468 2022-02-20 05:37:34 +0000 <sorrisx> @uececi SIIIMM eu não tinha parado pra observar q era uma baita de uma mangueira saca!!! quando olhei pra copa e vi ALTOS MANGAI fiquei DE CARA OPEN FOOD VEGANO ROLOU!!!\n",
            "1495271386352291840 2022-02-20 05:37:33 +0000 <arrmandoo_c> @Aperez_left7 Hong Kong. Heard they have the best Chinese food ever bro! 😎\n",
            "1495271384494354432 2022-02-20 05:37:33 +0000 <chicana_sapphic> these white bitches wanna appropriate poc food and can’t even fucking cook, dumb bitches x\n",
            "1495271372498817029 2022-02-20 05:37:30 +0000 <Melissa29736755> @neomeowow He's way too thin. The man needs rest . he also needs homemade food and a comfortable place after the back to back movies he's done. Ok. I will feed him!\n",
            "1495271363992375298 2022-02-20 05:37:28 +0000 <PsethNbrc> Also show this to your kids who often make fuss over food offered to them.  One should try to feed at least one person a day...or atleast not waste food in your plates or during buffet.\n",
            "1495271361513766912 2022-02-20 05:37:28 +0000 <NWallis7777> Chefs Reveal the 33 Items They Always Buy at the Grocery Store | Food &amp; Wine  https://t.co/ZR0OyJmfmT\n",
            "1495271360314105856 2022-02-20 05:37:27 +0000 <JNichol00230923> @Zora8me Come to TN. Beautiful landscape, low cost of living, great buyers housing market, freedom loving Americans, all the guns, wildlife, and great food you can handle. We get all four seasons, and none are extreme. We say yes ma'am because that's how we were raised, &amp; you're welcome.\n",
            "1495271358351097859 2022-02-20 05:37:27 +0000 <mumbai_wakeup> Thane District is become a Role model for Mumbai and other regions. Number of Special Kids increasing due to adverse effects of  medicine, adulterated food products, pollution, Sedentary lifestyle, comfortable living, lack of physical movements during pregnancy.Hope policy makers\n",
            "1495271356174381058 2022-02-20 05:37:26 +0000 <444kor> @emsttfeld Absolutely what food should I bring?\n",
            "1495271350482657281 2022-02-20 05:37:25 +0000 <NYCKING> key food on Union Turnpike in Glen Oaks closing for good\n",
            "1495271345512349699 2022-02-20 05:37:24 +0000 <oreoo_boi> send food 👉🏼👈🏼\n",
            "1495271345411657728 2022-02-20 05:37:24 +0000 <Aradiaeternal> @EllesworthT They should avoid it altogether withholding all food and goods\n",
            "1495271341116649472 2022-02-20 05:37:23 +0000 <pokopanhari> @taisei_foods こんにちは♪ 老舗製麺所大成食品様謹製のラーメンやつけ麺のセット🍜💕 本格的なラーメンが自宅で楽しめるのは嬉しいです😊 色々なスープの飲み比べもできちゃいますね😋❗️是非味わえたら嬉しいです😊\n",
            "1495271335861260290 2022-02-20 05:37:21 +0000 <therealdouble_a> @DocAtCDI Imagine how the squirrel felt. Haunts him to this day. One day just looking for food then grabbed out of nowhere forced to be a weapon of death 💀🤪😜😜\n",
            "1495271335223697413 2022-02-20 05:37:21 +0000 <sweepz> Read somewhere that there are Leni supporters boycotting Jollibee Foods Corporation for they aren't changing its color from red to pink. It's just sad that their thinking became really shallow. It will not only hurt them but their candidate also. #JustSaying  https://t.co/4VcUt3AorI\n",
            "1495271334707806213 2022-02-20 05:37:21 +0000 <ononori24> 今度は飲みに来たいな。Foodメニューが美味しそうだった。\n",
            "1495271331113414656 2022-02-20 05:37:20 +0000 <GreenDragonpip> @CNN Bear saw opportunity because it down to mucky humans throwing food away not securing bins. Animals can be resourceful. I'm in UK before wheelie bins we had gulls/crows rip bin bags,  I seen a badger climb wall to open wheelie bin. Fox beating up handle locked food recycling bin.\n",
            "1495271326768152576 2022-02-20 05:37:19 +0000 <DULLIRSES> / /  eating food   Magdonal\n",
            "1495271318811336713 2022-02-20 05:37:17 +0000 <jfrappier87> @ArtfulTakedown It's 2022, we're preparing to go to Mars. Smarten up ppl, this shit should be beyond us by now. You see someone trying to steal diapers (just as important as food/ water), help them as best you can or direct them to social/ financial help.\n",
            "1495271317859225600 2022-02-20 05:37:17 +0000 <jasonsisney> After a bout with food poisoning a day ago!\n",
            "1495271315309150211 2022-02-20 05:37:17 +0000 <ETommyBS1> Ravioli House   Best Italian Food in Bay Area   https://t.co/6X1nB7urrw\n",
            "1495271304718696451 2022-02-20 05:37:14 +0000 <Shortii_Dee> @Notorious_VI lmaoo shut up i’m talking bout food\n",
            "1495271295692509184 2022-02-20 05:37:12 +0000 <WildcatTina> @AsgardSG1 I bet it is delicious, I have that very same food dehydrator and that is what we make our jerky in and you just can’t beat it!😋👍\n",
            "1495271294660657155 2022-02-20 05:37:12 +0000 <jswriter65> @terrygenekelly Childish name-calling, from a guy who voted for the lying, corrupt puppet in the White House.  King is rich beyond caring @ gas prices,the rent, food--the things his readers have no choice but to worry about.   He just bitches and whines, as repetitive and dull as his novels.  https://t.co/9yT7D7urwf\n",
            "1495271293939187713 2022-02-20 05:37:11 +0000 <xec_frey> drink water, eat food\n",
            "1495271291171274754 2022-02-20 05:37:11 +0000 <r9ito> Thread of food that i don’t like\n",
            "1495271290416111619 2022-02-20 05:37:11 +0000 <atasiding8> Everything from your home utilities, to your vehicle, bank accounts, food, water, medicine, weather, etc have been infiltrated &amp; under their control. TOTAL control. They can say and do as they please. When you put on that muzzle, feel the slavery! Feel them abusing the children.\n",
            "1495271279846465540 2022-02-20 05:37:08 +0000 <AngryInAGoodWay> @FoxNews Biden ate food? In the middle of the day?  What a monster\n",
            "1495271278655250437 2022-02-20 05:37:08 +0000 <ghostiel_> @linokinn something about, scrat? and a diego? what even are those, liek, foreign food?\n",
            "1495271276579012611 2022-02-20 05:37:07 +0000 <Jnastyisdead> I’m eating vegetation cause a fast food nation\n",
            "1495271273575845890 2022-02-20 05:37:07 +0000 <kimmy72_towell> Caprese French Bread Pizzas Recipe | Ree Drummond | Food Network  https://t.co/OLbpHQdzYt\n",
            "1495271270384123905 2022-02-20 05:37:06 +0000 <Khalwale5> Genesis 28:20-21 Then Jacob made a vow, saying, \"If God will be with me and will watch over me on this journey I am taking and will give me food to eat and clothes to  https://t.co/WRQoHWUZOM that I return safely to my father's house, then the LORD will be my God.\n",
            "1495271267733479427 2022-02-20 05:37:05 +0000 <mattsun_isseii> Ok but did you know oikawa’s favourite food is milk bread\n",
            "1495271254458355713 2022-02-20 05:37:02 +0000 <MaximSorokopud> Twitter needs to stop thinking that I want to follow a Twitter account that shows the crappy British food on offer at football/soccer games. I left Britain to not see that stuff.\n",
            "1495271252688314368 2022-02-20 05:37:02 +0000 <Joenyagurlknap> @Marquitaaaaaaa Remember they cut big momma foot off in Soul food for eating like that…\n",
            "1495271247910821893 2022-02-20 05:37:00 +0000 <haruru_1210> @goodtravel_food おはようでございます…ん！？とても 温かそうでいいでござるなぁ〜(о´∀`о)\n",
            "1495271242118537217 2022-02-20 05:36:59 +0000 <tubblinghq> @aimseytwo Please try Indian food you would absolutely love Indian food\n",
            "1495271236242444288 2022-02-20 05:36:58 +0000 <maximumPango> @infinitebritt @paladinette Yeah well, Adam Smith didn't live in a world where we mass produce 3x more food than the planet can eat and then destroy half of it to make sure people keep paying for it. Same goes for electronics btw.\n",
            "1495271222904557568 2022-02-20 05:36:54 +0000 <hesaduck12> @Gizmocarroll69 No arrests. No food taster.\n",
            "1495271221293764608 2022-02-20 05:36:54 +0000 <joelidaaa> I dulu kena covid terus kuarantin kat pusat kuarantin. Balik rumah memang tinggal semua toiletries, skincare😭, food sebab taknak dah pakai barang yang terdedah dengab virus ni.\n",
            "1495271217024094209 2022-02-20 05:36:53 +0000 <_Dysheen> I’m gonna cook early well I plan on it , I wanna do a Walmart pick up but I’ll take my ass to high ass food lion\n",
            "1495271213643427847 2022-02-20 05:36:52 +0000 <TheAufaverse> Gala Facts: - She's half-French and half-Japanese, but English is her native language, but can understand French and Japanese language - She's Pansexual Demigirl, She/They - Their favorite food is Tiramisu, plus, she has sweet tooth\n",
            "1495271209201635332 2022-02-20 05:36:51 +0000 <TheAufaverse> Bagas Facts: - He's half-Indonesian and half-American, so he can understand Indonesian words, hell, he can speak Indonesian too - Bagas is Bisexual Trans (ftm), He/Him (ok with They/Them) - His favorite food is Sate Padang\n",
            "1495271203287805957 2022-02-20 05:36:50 +0000 <Yungkay1124> @Daphnedark1 @MAKIBOW9 @STUUPERMVN Nothing feels better than cooked food from ur partner 😊😊👌\n",
            "1495271203266830340 2022-02-20 05:36:50 +0000 <spideysdrukkari> why do dogs refuse to cooperate at stupid fucking times like ?? it is 5am how many times do i need to tell you your tail isnt the ememy and the sofa isnt fucking food\n",
            "1495271201236787212 2022-02-20 05:36:49 +0000 <SoyJhan> Hoy hice fotos nuevas para #SevenSmash y de verdad estoy muy satisfecho con el resultado 🧡🍔😎 . . #CiudadOjeda #zulia #food #smash  https://t.co/8r98S5phLp\n",
            "1495271187563360257 2022-02-20 05:36:46 +0000 <kimjolasun> @ALiS0NLAURA Because Africa an entire continent 😭. What country is injera from? My husband and I are from neighboring countries and I still don’t know half their food and vice versa.\n",
            "1495271185504178177 2022-02-20 05:36:46 +0000 <whatwinsaysINA> OP tanya, biasanya berapa banyak orang yang terlibat untuk syuting #DevilSister dan OP ingin mengirimkannya untuk semua. WMO konfirmasi kalau 40,000 thb bisa untuk 2 kali food support dan uang akan dikembalikan kalau ada sisa.   Win Metawin #winmetawin @winmetawin\n",
            "1495271183314726927 2022-02-20 05:36:45 +0000 <whatwinsaysINA> Terjemahan:  Jadi ada k-pop fans yang pengen kirim food support ke Win untuk syuting #DevilSister. OP sebelumnya udah kasih budget ±40,000 THB, WMO konfirmasi apa dia cuma pengen kirim makanan untuk Win aja?   Win Metawin #winmetawin @winmetawin\n",
            "1495271183306182660 2022-02-20 05:36:45 +0000 <_riahhhhhh> I want some mexican food......I neeeeeed some queso!\n",
            "1495271179606577156 2022-02-20 05:36:44 +0000 <kerfufflepuffle> @Stephiscrying1 OH MY FOD REMEMBER THE STREAM WHERE THE SUB GOAL WAS TO ORDER FOOD AND HE KEPT CHANGING IT!!!\n",
            "1495271179430551563 2022-02-20 05:36:44 +0000 <Trifanrun> @roadmon84 @niallx37 @Beemer6969 @usehead_heart @RepHerrell If Rebel News was a food it would be a shit sandwich.  That's what you're consuming.  And you're asking for more.  https://t.co/zzDMRrNutk\n",
            "1495271175412498432 2022-02-20 05:36:43 +0000 <iconicvines> This is a city full of incredible food and I am embarrassed how much I go to my favorite places because I am, at all times, seconds away from being roasted about how often I’m at these places\n",
            "1495271175412490244 2022-02-20 05:36:43 +0000 <TIMaledi> @Mpume_Magwaza1 @advovolicious @tito_mboweni He failed to respect us by Increasing VAT. He failed to respect us by lying to us bout formation of state Bank. He is a foodist and he cook dog food.\n",
            "1495271175043305473 2022-02-20 05:36:43 +0000 <cunterpunts> @imbarelyme Yeah I’m cooking food thinking about time\n",
            "1495271174426832899 2022-02-20 05:36:43 +0000 <_aliyahpyt> I really waited 2 hours for my food , I’m not even hungry no more 😒\n",
            "1495271171243323395 2022-02-20 05:36:42 +0000 <Fear2Stop> One day I’ll be appreciated. Course I’ll probably be worm food by then but better late than never I guess\n",
            "1495271168752119810 2022-02-20 05:36:42 +0000 <KartejnKasswi> You are my everything, from your words that has become my food, and from your breath that has become intoxicating liquor.  TALK OF THE TOWN TEJRAN\n",
            "1495271167795601413 2022-02-20 05:36:41 +0000 <azanadia25> Dinner harine kita da ordee food msia.ade tomyam!sarapan esok kita order nasi goreng n nasi lemak🤭🤗\n",
            "1495271166788792320 2022-02-20 05:36:41 +0000 <ToJaysAss> @oecpsn calamansi bcs i can't eat spicy foods :(\n",
            "1495271164314271750 2022-02-20 05:36:41 +0000 <Vallychuuu> @catchanh_ knife up to your throat, DM before i take ur food away, cat art cat art cat art\n",
            "1495271162221416450 2022-02-20 05:36:40 +0000 <sarkypogue> come up with the best of ideas all of the time! free food was definitely on my mind when it was mentioned.\n",
            "1495271161604812803 2022-02-20 05:36:40 +0000 <rangermonk1> Which is harder? Giving something up/lifestyle  change due to necessity/requirement to meet a goal or giving something up by choice to meet a goal. An example significant diet change to fight diabetes vs just trying to eat healthier. Not just food, any changes.\n",
            "1495271160547737602 2022-02-20 05:36:40 +0000 <CaraMia200> @TerpsMLC @pauloliver9999 Frankly, I could eat a couple of those for dinner!  Yep. Time to call Human Services. That is 0 of the important food groups. The wine I would have with the chocolate is counted as grapes, right? So tick “FRUIT.”  https://t.co/kJ6aOhNeB6\n",
            "1495271150573613057 2022-02-20 05:36:37 +0000 <LeonHWagner> @Nicocobean Personal experience: Do not order Mexican food in Canada.\n",
            "1495271147948371968 2022-02-20 05:36:37 +0000 <DoveMetal> Absolutely not doing this to use public wi-fi in the food court even if mobile data reception is bad  https://t.co/oOLHM0HOIp\n",
            "1495271144722731012 2022-02-20 05:36:36 +0000 <ReneeLvs2trvl> @Kelli_Fields Amazing food!!!  I’ve been 2x, but never for Marci Gras.\n",
            "1495271141203922944 2022-02-20 05:36:35 +0000 <KusIna_rosales> Make your day extra special! Come to Kus Ina and you will get the experience of superb delicious foods with affordable price! #ComeToKusIna  https://t.co/BV3UO0Rhyh\n",
            "1495271130197753858 2022-02-20 05:36:32 +0000 <dacvccruz> Bought RB electric pump bcos I need to milk express for my baby's food. Hindi pa naidedeliver, gusto ko na naman bumili mg Avent single electric pump. Bet ko din Medela. Pamahal ng pamahal yarn?\n",
            "1495271127643525124 2022-02-20 05:36:32 +0000 <AndreasNorthVan> Parties are back at Andreas!😍 Come along with family and friends to enjoy great food, great drinks, music… we will take care of the rest.😊🤗  💻 @andreasonline. ca 📍 153 16th St W, North Vancouver⠀ 📲 (604) 985-0414  https://t.co/ZzcpniFh8S\n",
            "1495271124783046660 2022-02-20 05:36:31 +0000 <KateB59698164> @ThatEricAlper I'm on my summer body diet so all that yummy food would make me as happy as that kid! 😂😂😂\n",
            "1495271118889881602 2022-02-20 05:36:30 +0000 <Strawbe53794120> @jjunggives Me😭😭😭 Manifesting surprise food✨✨✨✨✨✨\n",
            "1495271116952293379 2022-02-20 05:36:29 +0000 <escapedacult> Bought a nice cart from Amazon and after I put it together I’m gonna give it away to one of the old folk I see struggling with a dozen bags when their food stamps come in. I’m not doing this because I’m nice. I just know how much it hurts to carry 20 pounds of grocery bags.\n",
            "1495271114347626496 2022-02-20 05:36:29 +0000 <olivlys_> @SandycheeksM Pmu anytime lmao I’m down for any food trying\n",
            "1495271105568772096 2022-02-20 05:36:27 +0000 <starvingforhimx> Another weekend unsuccessful weekend of trying to see people without it being focused around food. \"You guys hungry? let's get blah!\" NO LET ME DRINK COFFEE ON THIS COFFEE DATE WITHOUT FOOD\n",
            "1495271102628741124 2022-02-20 05:36:26 +0000 <steelenic7> @FoxNews Covid.  Crime. Border. Prices. Gas. Heating. Food. Suffering.  Democrats don’t care\n",
            "1495271102251401227 2022-02-20 05:36:26 +0000 <ainikmzn> Jaga makan, jaga sugar intake, less fast food intake, do some exersices, drink a lot of water, take good vitamins (fruits, veges and etc) and yassss your skin and body akan jadi fit and nampak cantik je! ✨✨✨\n",
            "1495271101068460038 2022-02-20 05:36:25 +0000 <MoosePrey> @wooknponub Nice. if you could only have one gun knife car drink travel destination food in you life, what would it be?\n",
            "1495271099273302023 2022-02-20 05:36:25 +0000 <ACNH_Jimmy> @gamer_aIex Amazing progress so far! 😱 Weight loss is not easy at all, and you're slaying it!  Me, I'm not doing so good with losing weight.  I love to walk, I drink water, but food is my downfall.  I am sending good vibes to you for continued progress and healing vibes for your spine.\n",
            "1495271094802075648 2022-02-20 05:36:24 +0000 <Yasmin_araujo07> @eo_august @food_porn17 Até fiquei pensando \"meu deus ele viu um pão de algo recheado de carne e lembrou de mim\" 😭😭❤️❤️🫂🫂\n",
            "1495271090033238019 2022-02-20 05:36:23 +0000 <KayAus_> @CB13 You couldn’t pay me a rack to deliver food on a bike in this weather\n",
            "1495271087915024388 2022-02-20 05:36:22 +0000 <VitorDeCastro92> Processed food and processed news are cancer for the body and mind.\n",
            "1495271080793030656 2022-02-20 05:36:21 +0000 <jeffrubin2> My wife's 12-hr PICU shift was actually only 12 hrs, which is quite the rarity over past few months. Dinner was her favorite comfort food, spaghetti and olives, which I now make at least twice/month. Good day.\n",
            "1495271079501205506 2022-02-20 05:36:20 +0000 <kimmy72_towell> Lemon-Pepper Fries Recipe | Ree Drummond | Food Network  https://t.co/YdJ9fa7Apn\n",
            "1495271077827657729 2022-02-20 05:36:20 +0000 <NerdyNeutrino> Peeche khau gully hai mast fast food milta hai.\n",
            "1495271060601962497 2022-02-20 05:36:16 +0000 <saptarshipr> @VaibhavSisinty @thetanmay Actually, Meghana Foods is the right Meghana 😅\n",
            "1495271057586114563 2022-02-20 05:36:15 +0000 <Tyty_n_Bonnie> Cook some food chill and drink w/ my favorite girls\n",
            "1495271055333675011 2022-02-20 05:36:15 +0000 <zachmfthomas_> @bumpysblues been workin hard putting food on the table back busting labor my back hurts again wow\n",
            "1495271053668487171 2022-02-20 05:36:14 +0000 <PaulMinor4real> @DackJanielsDub @jordywita40 With your bad food takes I know you don’t have the power to defeat me. Imma hit you like this  https://t.co/NdHxzJI3Nt\n",
            "1495271048526569472 2022-02-20 05:36:13 +0000 <charmedauras> “Definitely going home happy tonight from all the food - happy heart and happy tummy..” Nini hummed in response as she ate with him.  “I don’t know, it seems you’ve got good competition, Kyu!” she laughed lightly - though more than food, she did visit his restaurant because of—\n",
            "1495271044386627588 2022-02-20 05:36:12 +0000 <chef_boiiiarbry> Do I order sushi or do I have food at home??\n",
            "1495271042478383109 2022-02-20 05:36:11 +0000 <Joanna82392185> @ice_seas @_felixnz For me the worst thing is to allow them to do it for decades and ask them to change overnight! And allowing  to sell silly things like oat milk or other fancy foods, that require more farming to please \"the market\". Call for simple foods, you will save our Earth\n",
            "1495271032101294081 2022-02-20 05:36:09 +0000 <alokamail07> @dhansukhbjp Jai @BJP4India  1. Ram mandir  2.dhara 370 3. Toilet  4. Better road  5. Better Light  6. Bulldozer 7. Encounters 8. Bank account for poor person  9. Kisan saman nidhi  10.corona kal mai arthik madad food  11. Without bribe government job  12. No casteism in government schemes\n",
            "1495271028377137153 2022-02-20 05:36:08 +0000 <Christine_Z12> My Stories of Chinese Characters: Live for Love &amp; Love for Food  https://t.co/v476fLhsbi\n",
            "1495271026871226369 2022-02-20 05:36:08 +0000 <Nthabie15777922> A chef once said \"where there's fat, there's taste\". I know he meant food but I still took it as a compliment #BBMzanzi  #BigBrotherMzansi  https://t.co/N8Zt1YZVHg\n",
            "1495271024270921728 2022-02-20 05:36:07 +0000 <ScannerDSM> Some burnt food. Most units back in service.\n",
            "1495271022802927620 2022-02-20 05:36:07 +0000 <KiroQiluo> @ultimecia680 About your hands, I'm not sure where's there difference.  Your food look tasty. Especially the dessert.  * smiles *\n",
            "1495271022433427458 2022-02-20 05:36:07 +0000 <marmaryglands> making a thread of food i dont eat (for interactions 😶)\n",
            "1495271019220811777 2022-02-20 05:36:06 +0000 <WeAreTheSame77> Man fired after filming manager’s racist rant about workers mopping the floor because (they’re) Black in famous fast-food chain   https://t.co/W7KZLPmAjE\n",
            "1495271018239492098 2022-02-20 05:36:06 +0000 <netshrink> @upratap09 Better, thank you! On dry dog food &amp; curds. Touchwood no loose motions and eating two full meals a day.  Gave him some chicken yesterday for the first time in many days. Let's see.\n",
            "1495271016964235266 2022-02-20 05:36:05 +0000 <sport_ned> @KeylaKayz food\n",
            "1495271015269605383 2022-02-20 05:36:05 +0000 <Rodolfor_xsy> I didn’t think 2 years after my business would have raised enough money to put me through culinary school, bruh I’ve grown tremendously ! I’ve sold over 2000 plates of food (excluding bowls), moved to a different city twice abd still sold food.\n",
            "1495271011184488450 2022-02-20 05:36:04 +0000 <Tril_> @ChromaticHaze @iVicturkey It’s not like we eat it everyday, hell, I eat Brazilian food and still find McDonald food pretty cool at certain moments lol\n",
            "1495271003710230531 2022-02-20 05:36:02 +0000 <Me43839310> Tony. Whole Foods.   You are not investigating me or going to force labor on me.   You need to stop spreading lies and get a life.   I don't want you around me anywhere I go. Especially when I travel. My rights.   I don't want your stupid fucking friends by me either.\n",
            "1495270994600022018 2022-02-20 05:36:00 +0000 <HungerPumkin> *Eats food that tastes good*\n",
            "1495270992679165958 2022-02-20 05:36:00 +0000 <RonSwanson_Sym> Leslie hates your simple food\n",
            "1495270985649561603 2022-02-20 05:35:58 +0000 <silverstar1160> @JoyceMeyer But yet our government wants to increase incarceration and sentencing. Men in Arkansas prisons being raped , beaten deprived of food and rehabilitation. Don’t see anything Christian about that.\n",
            "1495270984257056768 2022-02-20 05:35:58 +0000 <ih8bleachh> @trndytrndy you could cook food on my laptop when ableton is open sometimes it’s kinda wild\n",
            "1495270983699103746 2022-02-20 05:35:57 +0000 <Cuhcashi> La got all the food literally\n",
            "1495270972735295490 2022-02-20 05:35:55 +0000 <somemoonslut> I have IBS but lately even when I eat bland food it acts up. My stomach is a:\n",
            "1495270970596245505 2022-02-20 05:35:54 +0000 <Yasmin_araujo07> @eo_august @food_porn17 AKKAKAKAKAKKAK meu deus sou muito lerda\n",
            "1495270962236960777 2022-02-20 05:35:52 +0000 <AndreaH81arris> @marcuslemonis @HappierCampers @RobertIrvine #HappierCamper #RestaurantImpossible or #DinnerImpossible theme (food themed)\n",
            "1495270956457021442 2022-02-20 05:35:51 +0000 <KathyStickel> That’s a good reminder that King Arthur Flour - 1st food company in New England, is owned by the employees.   https://t.co/RZWdH4il6z\n",
            "1495270951755259907 2022-02-20 05:35:50 +0000 <madbpd> We need to normalise not feeling “good” or “happy” after challenging your eating disorder. You can be proud, but your also allowed to feel bad. It’s not like after one meal your eating disorder decides to go away. It’s still a constant fight, especially after a food win.\n",
            "1495270950757027845 2022-02-20 05:35:50 +0000 <MichelleHavers> @shep135 Thanks. Food for thought.\n",
            "1495270949058277377 2022-02-20 05:35:49 +0000 <confettle> @yuukostan @Neptunyan @natsukistan_ i need to lose weight but its okay not being able to eat bc i cant drive and get myself food is doing gods work rn LOL\n",
            "1495270944516222976 2022-02-20 05:35:48 +0000 <cerbybooks> Bork bork remember to drink water eat food and take medication!\n",
            "1495270941521170434 2022-02-20 05:35:47 +0000 <OcRaider714> @notsamsanus Seriously man smh, fried rice makes the food so much better\n",
            "1495270939814027265 2022-02-20 05:35:47 +0000 <jullie_maee> @leikayyyy God I hope not, soup is a terrible hangover food, there’s nothing to soak up the nasty stomach feeling lol\n",
            "1495270930314055683 2022-02-20 05:35:45 +0000 <aaliyahgh_> that food put me out 🥴\n",
            "1495270930070884359 2022-02-20 05:35:45 +0000 <Tesfayalex39> |@AbiyAhmedAli has imposed a de facto blockade on a region of 6 million people. With no access to medicine, banks, telecom or food thousands are dying by the day. The #AUEUSummit has the power to prevent and save what’s left of #Tigray. #AUEUSummit @JosepBorrellF @EU_Commission\n",
            "1495270929949245440 2022-02-20 05:35:45 +0000 <___JustCapo_> Ordered Chinese Food and Missed It Cause My Fucking Phone Is On DND\n",
            "1495270926493302784 2022-02-20 05:35:44 +0000 <LucyMustra> @TheoFleury14 @DonaldJTrumpJr So you are all in for the truckers not to deliver, food and other goods to the everyday people, and this action will also make prices go up, and all thanks to the republicans that a basically saying no toilet paper to you all.\n",
            "1495270926157557764 2022-02-20 05:35:44 +0000 <powerofsecrecy> The problem with putting anyone in prison, in this case, Hillary Clinton, is that the junk food meat, eggs, and cheese diet that they serve in prison will only serve to corrupt and destroy a person's intelligence, their ability to make good decisions, and their good intentions.\n",
            "1495270925423493124 2022-02-20 05:35:44 +0000 <AmbitiousGirlLu> I knew knew blue food was gone be nasty 🤮\n",
            "1495270922952974339 2022-02-20 05:35:43 +0000 <_friendzonedguy> @DesiMemesTweets I'm from the city of delicious street foods😼🤩\n",
            "1495270922231721987 2022-02-20 05:35:43 +0000 <kamal_fazal> This Food Additive Is Banned In Europe. Why Are We Still Letting American Children Eat It? #care2  https://t.co/k4rb7Lfrqu\n",
            "1495270916422467586 2022-02-20 05:35:41 +0000 <zoagifs> @wklygirls im good and bored, waiting for my food for brunch 😢\n",
            "1495270914493087751 2022-02-20 05:35:41 +0000 <kimmy72_towell> Cajun T-Bone Steak Recipe | Ree Drummond | Food Network  https://t.co/7kJreoiOwh\n",
            "1495270913486606344 2022-02-20 05:35:41 +0000 <ivoarrey> #Innovative and #sustainable use of #grass, #maggots and kitchen #wastes in integrated #poultry #farrming at the African Centre for Community and Development. An #educational video aimed at #empowering stakeholders to fight #food i… https://t.co/dvZgiaFkz7  https://t.co/obfTogk3mD\n",
            "1495270908772368386 2022-02-20 05:35:40 +0000 <cstrlyrck> Bruh wtf my Hu Tao dealt 97k charged attack😭 ofc with food buffs, ttds and mona HAHAHA  https://t.co/SrPTbZTtHB\n",
            "1495270906641457156 2022-02-20 05:35:39 +0000 <KEPICALS> genuine question: does seeing food (like pics, cooking vids, mukbangs) actually trigger any of you?\n",
            "1495270906423250947 2022-02-20 05:35:39 +0000 <Doooptra> @FOOD_FESS ikannya obesitas\n",
            "1495270906335313923 2022-02-20 05:35:39 +0000 <TdoTashS> @tito_mboweni You need to arrested for food cruelty, if there's such a thing because wow\n",
            "1495270906137964546 2022-02-20 05:35:39 +0000 <MohdSurve> Lizz Truss is quite the gourmet, isn't she? £3,000 on fine wine and food at a private member's club for lunch, £2,000 on fine Japanese cuisine over three days-there's no stopping her culinary adventures. And we're paying for all of it.\n",
            "1495270897250304000 2022-02-20 05:35:37 +0000 <venkatesan007> Do as the natives do.  Better enjoy the hot food served on a #ecofriendly banana leaf.\n",
            "1495270893270220807 2022-02-20 05:35:36 +0000 <Pipinoriego> Si win metawin!??? Na food poison!????\n",
            "1495270889272721409 2022-02-20 05:35:35 +0000 <jeinsinna> @jjunggives MANIFESTING 🍀 ✨      ･｡        🚀｡       *✨｡             ⚡️                 *. ✨                       ﾟ*.           MANIFESTING       SURPRISE FOOD!!!                  ｡｡ ⚡️              ｡ ･✨        🚀*    ✨*  https://t.co/9swPPjwsx8\n",
            "1495270886324199426 2022-02-20 05:35:34 +0000 <booklady2002> @WandaFenimore @Terri9365 @WatchYourRepsSC Yep, which won’t even pay for a fast food dinner for a family of 4 a month.\n",
            "1495270885170855936 2022-02-20 05:35:34 +0000 <KillaaSeduction> DC….it’s giving weak as shit cause why y’all food places not open\n",
            "1495270884579360768 2022-02-20 05:35:34 +0000 <BooksUndCoffee> @DevinsCat1 @hmgarth14 @SundaeDivine I work at a food place too and our card machines are evidently somewhere else's castoffs because half the time the buggers will NOT read chips. Drives us and the customers bonkers!\n",
            "1495270878850215936 2022-02-20 05:35:32 +0000 <sweetsoul2174> He's too cute. Look at the way Hazard sit, so politely boy😂😂 Are you waiting for food or your birthday present?🤭🤭  Birthday Boy HAZARD #อาซาร์หนึ่งขวบครับ  @gulfkanawut #GulfKanawut  #Hazardisacat  https://t.co/DKJAqe9g2s\n",
            "1495270877789044739 2022-02-20 05:35:32 +0000 <kochengcoklat> @Neickk_Clouds @FOOD_FESS Kalau aku dan keluarga masing2 surat dibaca 1x aja kak di tiap sudut dan di depan pintu\n",
            "1495270875519545346 2022-02-20 05:35:32 +0000 <lesley27171> @christinavenvi1 @SuperG1984 Whilst 600,000 families live out of food banks… they don’t give a damn and uses funds to protects her beast of a son 😡… the billionaire who takes £56m ($112m) from the mouths of children every year! Seriously! Reprobates the lot of them 😡  https://t.co/zXHpnhHrp1\n",
            "1495270875335204864 2022-02-20 05:35:32 +0000 <jordanwm_> I am now one month fast food free all my day 1’s know what an accomplishment this is. We only go up from here ❤️\n",
            "1495270867030401024 2022-02-20 05:35:30 +0000 <langalasagna> @L0VED3M0N \" perfect timing i just got our food, looks like they messed up and gave us twoextraohwell we have to hurry now don't want the plane leaving without us. \" :)\n",
            "1495270864870604802 2022-02-20 05:35:29 +0000 <mistyjunkyu> yesterday i spend a lot on food... today on makeup lak😂\n",
            "1495270864434212868 2022-02-20 05:35:29 +0000 <HorwitzEric> @ChefGruel @nypost Why do they call it oven when you of in the cold food of out hot eat the food\n",
            "1495270855131414537 2022-02-20 05:35:27 +0000 <dane_versiontwo> @engr_Rex30 Hahahahaha....Dapat soft foods muna kasi. 😞😞😞\n",
            "1495270854720045056 2022-02-20 05:35:27 +0000 <munozbird> Found a kitty I suspect is an indoor cat on our pupper walk. Despite the tipped ear she's clean, soft, and practically perfumed! She shall spend the night in the guest suite and has already received a meal of our finest wet food. The search for the owner is on 🧐  https://t.co/kkjupGIJud\n",
            "1495270853256556550 2022-02-20 05:35:26 +0000 <sdhurat> @SwiggyCares This order was cancelled as it was taking infinite time to reach me. Stop making mockery of customers by delaying their food.\n",
            "1495270853088481280 2022-02-20 05:35:26 +0000 <Aneesa_2111> need food rn\n",
            "1495270840614719493 2022-02-20 05:35:23 +0000 <jj6697> @Jdiamondisme Baby I’m an apprentice for a chipotle in Texas. Free food for you whenever ❤️❤️❤️\n",
            "1495270836919492608 2022-02-20 05:35:22 +0000 <elbasti> @thatbilloakley Kenji + Oakley is the best food combo since Baskin Robbins + Dunkin Donuts combo restaurants\n",
            "1495270832578318341 2022-02-20 05:35:21 +0000 <sakuraxisxevil> 🍽 4 favorite foods 🍽   Chocolate 🍫  Ice cream 🍨🍦 Chicken burritos 🐓🌯 Mexican rolls (spicy California rolls) 🔥🍣  I tag anyone who wants to do this trend..! 💫\n",
            "1495270827864084480 2022-02-20 05:35:20 +0000 <AmericaNowFirst> @scherckmeyer @spencmar @RepSwalwell @HouseGOP If everything is so great, why did our portfolios go down $40,000?  Why is gas so high?  Why is food so high?  Look at housing prices! Biden did all of that - Biden's failed policies.  Or maybe it is Biden's purposeful destruction of America.\n",
            "1495270826249183240 2022-02-20 05:35:20 +0000 <Judygal02> And they gave me food vouchers and no restaurant in the airport accepts them 😀\n",
            "1495270824202280961 2022-02-20 05:35:19 +0000 <Cascadia> I can’t fathom training for years and years and have your job/sport come down to having to finish a race that lasts for an hour and 24 minutes in freezing weather hours after you have food poisoning.   I would collapse in the snow too.   Congrats to @jessdiggs #OlympicGames\n",
            "1495270816531030020 2022-02-20 05:35:18 +0000 <lustsickpuppy_> The illusion that the more you pay for food the higher quality it is is just not true I just spent $50 on domino’s\n",
            "1495270804845735936 2022-02-20 05:35:15 +0000 <Topzke> @Survivor1672 Yay free food\n",
            "1495270803352567811 2022-02-20 05:35:14 +0000 <OnlyMellz_World> @tayiannone Yesss he does he told me so ima get him some food and chill w bro\n",
            "1495270798495518720 2022-02-20 05:35:13 +0000 <MALIKWRG5> I watching this food documentary on the tube and junkanoo village got this plantain grio bowl and that look good af af\n",
            "1495270796851245058 2022-02-20 05:35:13 +0000 <kimmy5566552> My food 🥘 #food#goodnigth  https://t.co/hAk1w3ftrh\n",
            "1495270787816865794 2022-02-20 05:35:11 +0000 <eo_august> @Yasmin_araujo07 @food_porn17 olha o nome da página mlk KKKKKKKJ\n",
            "1495270785870532611 2022-02-20 05:35:10 +0000 <FoodYearRound> 🟥 Previous Letter of #Feb4FabFood 🟥  Before \"T\", there were \"S\" foods.  Missed \"S\"? Click here:  https://t.co/gSeRBFnwAs   https://t.co/gSeRBFnwAs\n",
            "1495270785576964099 2022-02-20 05:35:10 +0000 <nurinagukir> my ultimate favourite nugget.  but i've stopped eating processed food for a while.\n",
            "1495270781877587976 2022-02-20 05:35:09 +0000 <mis50252025> iwaizumi culinary master in oikawas eyes because he likes to cook food for him just right but secretly he has blown up an egg in the microwave and burnt pasta noodles somehow and now he is considering uninviting his college roommates from their wedding so they don’t tell oikawa\n",
            "1495270779180568576 2022-02-20 05:35:09 +0000 <KellySw26839136> @googieeats @uarmyeuphoriaaa Yescbecause jk lives food\n",
            "1495270776991191042 2022-02-20 05:35:08 +0000 <Crypto_Sabai> @aeyakovenko @0xtuba Absolutely right. 4 max, no more. Just make sure food delivery budget is set to unlimited, and beer budget is needed too, 1-2 times per week for destress &amp; team bonding. max 3-4 months if they’re properly incentivized. Everyone together, fk remote won’t work well.\n",
            "1495270763833618436 2022-02-20 05:35:05 +0000 <zoomerswag> @FOOD_FESS wajanya lo apain nder 😭\n",
            "1495270761640038407 2022-02-20 05:35:05 +0000 <jonnysalamie> @Zen232 @endtl88 @VitalVegas Vegas casinos have a 3 day supply of food. If this were to happen, there would be some serious implications…\n",
            "1495270755805765638 2022-02-20 05:35:03 +0000 <thwoppy> Anime food always looks so good ♥️🥰😍  https://t.co/kvN0VOY8IU\n",
            "1495270753956397057 2022-02-20 05:35:03 +0000 <AnitaPinpin2> @mich_adn @lyneela13 @05Fatima_13 @LettyCanlas @elds1957 @DaganasolMa @babeSolver @PatricioCora @annabelle_celis @telen_nimfa @yoly_ng @GertrudeAllen16 @GregoryYoll @MayYnfante @aichpee1 @YvonneSky3 @RowenaMargaret4 @RizaReyes8 @Jasmine52933588 @GlangMind @Pcaldub123 @salvacionjacob7 @deotupas @RachelM82195041 @Annaramosjunio3 @ecf0802 @FelyMercado7 @veronicailag31 Food #BOYCOTTMZETxAPTxGMA349\n",
            "1495270748197326849 2022-02-20 05:35:01 +0000 <RecipesIdeas> Part of the secret of success in life is to eat what you like and let the food fight it out inside. - Mark Twain\n",
            "1495270743730372610 2022-02-20 05:35:00 +0000 <kimmy72_towell> Dulce de Leche Lava Cakes Recipe | Ree Drummond | Food Network  https://t.co/3ZzGDXvUNY\n",
            "1495270743042826241 2022-02-20 05:35:00 +0000 <Ginryuumaru> Herissmon eating their favourite food ✨✨✨  #herissmon #rearise #digimonrearise #digimon  https://t.co/5SaStTte6l\n",
            "1495270740845019136 2022-02-20 05:35:00 +0000 <chaneyz85> But I’ve finally found a food that the 3yo says yuk to!  Hopefully next time I make it, he enjoys it\n",
            "1495270739888328706 2022-02-20 05:34:59 +0000 <Scofieldreddy9> @imarun777 @TassithaR Waiting for your today's food tweets anna\n",
            "1495270731319595011 2022-02-20 05:34:57 +0000 <Onehnuwamanya> @fridahmareawiny @LoganJoash Can you laugh with food in the mouth, it may choke you\n",
            "1495270726953467905 2022-02-20 05:34:56 +0000 <tinyyvenior> grandma got stomach problem and she eats so lil every single meal. and told me how she cant eat till she feels full, even though she likes the foods,,,, i mean same sis same\n",
            "1495270725988589568 2022-02-20 05:34:56 +0000 <luizlemuz2> @N8hub We are the huaraches. We bounce back and forth 'tween Jalisco y Quintana Roo. Very nice beaches, but nice mountains, lakes, valleys, in between. Much to see. Good people. Good food.\n",
            "1495270716874571782 2022-02-20 05:34:54 +0000 <angelaazulaa> Reported for sexual content 🤤🤤🤤 Food porn\n",
            "1495270715397836800 2022-02-20 05:34:53 +0000 <softtyjaeyun> cant even have my moment w the food tht i choose\n",
            "1495270713904689155 2022-02-20 05:34:53 +0000 <ksnhees> bookmarked sesiesta lang ako salamat so much sa maraming foods wonscatz pakiss sana 😓💞\n",
            "1495270707600584706 2022-02-20 05:34:52 +0000 <per54007569> #blackfacehitler this is on you. Its a clip of your thugs bashing a peaceful female protester against a cement post. Is there something particular you don't like about the unwashed working class who deliver your food?  #TrudeauTyranny\n",
            "1495270707273830408 2022-02-20 05:34:52 +0000 <andaaza_e_bayan> @javnotyourarea We can go to whatever person you are, food or beverage doesn't matter.....I just have to drown in your eyes\n",
            "1495270700223021060 2022-02-20 05:34:50 +0000 <NtlalefoMmatema> @Nothando__K Tito loves watery food. I have never seen him make isishebo esi-rich.\n",
            "1495270698914304002 2022-02-20 05:34:50 +0000 <snoopbee1> #SaturdayThoughts  #Shocking #foods that #burn #belly #fat  https://t.co/P6cPwvvR4M\n",
            "1495270689389129740 2022-02-20 05:34:47 +0000 <NovelistDario> @Mojojo_NY You stay posting good food lol 👀\n",
            "1495270687501660162 2022-02-20 05:34:47 +0000 <ADagostinoTV> @jessdiggs had food poisoning 30hrs before the 30km #CrossCountrySkiing race! That's incredible!!  #TeamUSA\n",
            "1495270683986776076 2022-02-20 05:34:46 +0000 <olivlys_> @SandycheeksM I’m so down lmao I love trying new food here in SA lol not a lot of places be poppin\n",
            "1495270679247147010 2022-02-20 05:34:45 +0000 <merlindagamer> About Me. I use to play golf a high level “semi pro” Learned how to cook Chinese food from a chef who only spoke Mandarin. Published over 30 songs, My Favorite Book is “Mastery” By Robert Greene. I can play Guitar &amp; Keyboard. I have 11 different IT certifications. Also Bilingual.\n",
            "1495270676135096325 2022-02-20 05:34:44 +0000 <TheIsland360> DeRiggi-Whitton supports ‘Make A Child Smile’ Toy and Food Drive  https://t.co/SuzIAt0Iab\n",
            "1495270675996573698 2022-02-20 05:34:44 +0000 <devchin2_7> @RaunaqMangottil +Traffic, Roads, Metro, Cycling, Malls &amp; Movie Halls  +/- Beach  -Food, Public Bus Services, Cleanliness, Parks\n",
            "1495270675187396608 2022-02-20 05:34:44 +0000 <sinrrrun> the thing about running away to a new city for healing that’s rarely talked about is missing what’s been left behind - place, food, social circles and the associates memories   Especially when you’re mentally stronger and able to enjoy the bits and pieces?   Priceless\n",
            "1495270674050469899 2022-02-20 05:34:44 +0000 <Marino13843> @SpectrumSolana @JagoeCapital @FoodieFrensNFT @FoodieFrensBot Same bro, so annoying when these people have pictures of food worth more then my car\n",
            "1495270670078414853 2022-02-20 05:34:43 +0000 <____abil> oh shes doing food traveling\n",
            "1495270657847963648 2022-02-20 05:34:40 +0000 <Amberr__Alert> I got food and snacks 😩\n",
            "1495270653221654529 2022-02-20 05:34:39 +0000 <PrimTake> You are immediately going to understand why majority of the food is grown in nutrient depleted fields. Their is a lot of over farming and the use of chemicals have completely depleted the natural nutrients that our bodies  need;- https://t.co/yFOEBPoLpX #Primt  https://t.co/BQVC7VQlh9\n",
            "1495270652584071172 2022-02-20 05:34:39 +0000 <_thursdays_> @maxirueee s-sadist... 😭 (thank you for the food)\n",
            "1495270652403720192 2022-02-20 05:34:38 +0000 <RCahnaDoosm> @GobboPuddo Me and my wife were just talking about this, have an awesome tavern with decor and even rentable rooms. I wanna make the food all D&amp;D themed dishes but she says that's going overboard.\n",
            "1495270646267351041 2022-02-20 05:34:37 +0000 <Spiritsfearme> @_FallenSimeon_ \"I... see.\" There was a short pause between their words when Simeon pulled away from them. Perhaps they went over the top.  \"I should get food prepared. You must be hungry.\" They unzipped their jacket, taking it off. As they did so, a talisman fell, which revealed Specter's+\n",
            "1495270640433057794 2022-02-20 05:34:36 +0000 <TpilmsTM> Freshly cooked rice and gravy is my guilty pleasure food\n",
            "1495270637589655555 2022-02-20 05:34:35 +0000 <seulgidilf> luv that one of the tasks is give it food i just gave one like 10 oran berries\n",
            "1495270635613790208 2022-02-20 05:34:34 +0000 <EscondoKathlee> food buddy 🍟 , ilysm bal 🤍  https://t.co/eIX0yEdBZL\n",
            "1495270634267496451 2022-02-20 05:34:34 +0000 <Yasmin_araujo07> @eo_august @food_porn17 queria MT\n",
            "1495270623399927816 2022-02-20 05:34:32 +0000 <_hzllzh> junk foods, pleaseeeeee.\n",
            "1495270621864939525 2022-02-20 05:34:31 +0000 <ajluis101> @Arccinstone Salty foods high in vitamins and minerals might help\n",
            "1495270618433921028 2022-02-20 05:34:30 +0000 <sutramaya> Sakit sakit food poisoning laki dia celebrate birthday awal. Dapat iPad lagi. Untunglerrrr\n",
            "1495270614030073857 2022-02-20 05:34:29 +0000 <mo_amer_e> @gavinthomas2015 @PaigeHanerValo 🤣🤣🤣🤣 r u sure they had no food\n",
            "1495270609722671110 2022-02-20 05:34:28 +0000 <hairyfrankfurt> There’s something truly sad about a food place being next door to a gym\n",
            "1495270604760514560 2022-02-20 05:34:27 +0000 <J3R0MEEE> @GoKammieGo Most be in the areas of all the good stops and go to bullshit then say Cali food weak lol 😂\n",
            "1495270604311728135 2022-02-20 05:34:27 +0000 <EternxlPhoenix> They are going to shop for foods.\n",
            "1495270601279217664 2022-02-20 05:34:26 +0000 <PKpies> @_theresaa___ Lol! Let’s hope it gets replaced with decent food.\n",
            "1495270597051437056 2022-02-20 05:34:25 +0000 <kgreising> @JDVance1 Fealty to Trumpism leads to complete loss of honor. Congratulations on that, I guess.  Thiel’s better off donating his money to food pantries or education instead of your sad descent into clownhood.\n",
            "1495270596619472905 2022-02-20 05:34:25 +0000 <svtsash> i’m so hungry who wants to cook me food\n",
            "1495270596594307076 2022-02-20 05:34:25 +0000 <cjb792> Shout out to Jessie Diggins for winning silver! She said in an interview that she had food poisoning 30 hours before the race...and she still finished second place in the 30km ski race. What a Queen! #WinterOlympics\n",
            "1495270593998073858 2022-02-20 05:34:25 +0000 <tatjanasaidwhat> It really should only take me 4months of eating clean and hard core working out to get the body I want.   I just love food.\n",
            "1495270579586351116 2022-02-20 05:34:21 +0000 <symbiote_black> @CariKelemen No matter where the Truckers park Trudeau will find an excuse to arrest them. No food arrest, no products arrest, no toilet paper arrest.\n",
            "1495270577233440779 2022-02-20 05:34:21 +0000 <wermer01> remind me to never attempt to draw food ever again 😔\n",
            "1495270567821283330 2022-02-20 05:34:18 +0000 <RajitaBagga> Palak, Pumpkin, Tomato, Lauki ! 100 % organic vegetables grown in @SriSriU ! No wonder our Kitchen food is so delicious &amp; nutritious! The joy of growing &amp; eating food is a lifetime experience for students! #HealthyLiving #HealthyFood  https://t.co/xtc57goYGG\n",
            "1495270563979354114 2022-02-20 05:34:17 +0000 <Vivrannt_Thang> Can i pay the weed man with food stamps? Asking for a friend\n",
            "1495270556693778435 2022-02-20 05:34:16 +0000 <plantbasederwin> @vintagevegans Ironic that it’s called “fast food” but takes forever to digest and detox from🤢\n",
            "1495270550284890112 2022-02-20 05:34:14 +0000 <sakshiniknowit> @saurabhtop Jabalpur ka street food💯\n",
            "1495270534170488837 2022-02-20 05:34:10 +0000 <GentleTears_> @AquaAcclaimed Kuni wasn’t having any of the normal foods, only sweets. It was rather unhealthy, but it didn’t seem to affect their form at all…maybe because previous to this they hardly ate anything at all.   “Special?” It asked with curiosity, confused expression on face. —\n",
            "1495270530869563392 2022-02-20 05:34:09 +0000 <Aceproducer1> Wetin African China sing  about  for 2002 dey happen  for 2022,food no dey,fuel no dey.\n",
            "1495270524255354886 2022-02-20 05:34:08 +0000 <FPLKop> @RegretFpl @FpLinzaghi some food for thought as we move into FH GW27\n",
            "1495270519377043457 2022-02-20 05:34:07 +0000 <awesomea1ecis> i eated too much acidic food now my throat hurty\n",
            "1495270518823526407 2022-02-20 05:34:07 +0000 <UsagiOnTheMoon> \"but Jade are you suuure we cant stop for food on the way to the next treasure site?\" ft. @ultimablades &amp; @xViolaLionx  https://t.co/Oy07Y6PW2M\n",
            "1495270518177546241 2022-02-20 05:34:06 +0000 <PBACrane834> @jessdiggs just admitted to having food poisoning a little over one day ago, and still managed silver in the 30k? What the hell? @ChadSalmela were you aware of this? This should be mainstream media worthy!\n",
            "1495270508002263041 2022-02-20 05:34:04 +0000 <natethesnek1> to whoever stole my food from the er that had my name on it i hope you actually needed it and didn’t decide to do it just to be a dick\n",
            "1495270507935150081 2022-02-20 05:34:04 +0000 <TheRealSPMcD> @ChuckCjmmn He can’t even score well with a paid pornstar. He eats fast food more than Bill Clinton did (McDonald’s anyone?) so I’m gonna say Hell (to the) No!!!\n",
            "1495270507029184512 2022-02-20 05:34:04 +0000 <ann_blumenthal> @washingtonpost @EricBoehlert That's right. I quit work and restaurants end of March 2020. I don't need covid or dealing with idiots. Triple vaxxed and masked when I go for food. Drive up for Rx's.\n",
            "1495270500947279872 2022-02-20 05:34:02 +0000 <HoboArachnis> \"The city is forever in your debt.\" He took another small drink and thought about how some pizza might go good with the beer.  No, jeez, stop thinking about food.  He listened to John and arched a brow before a chuckle left him.  \"Hope I don't bore you,\" He teased.+\n",
            "1495270498590236674 2022-02-20 05:34:02 +0000 <SPTweetParkCafe> (Rewriting my apology since it wasn't written properly)  Tw// Razor mention  I would like to apologize for one of my recent posts regarding razors being in food. I wasn't thinking or aware when I made that post that it was a trigger for many people. I in no way intended to hurt+\n",
            "1495270497273139203 2022-02-20 05:34:01 +0000 <jiBBylovessleep> Eating half of my food and throwing the rest away #fastfood &gt;&gt;&gt;&gt;\n",
            "1495270496622891013 2022-02-20 05:34:01 +0000 <enchanteswolf> I'm sorry... for avoiding you without explanation and... probably the most important part: wasting all that food you made.\n",
            "1495270496233041922 2022-02-20 05:34:01 +0000 <BioEngineerPE> @dch1309 New Mexico has the best southwest food compared to all of the southwest.\n",
            "1495270491589799936 2022-02-20 05:34:00 +0000 <NorthenerVan> Reviewing Movie Adaptations for a video game must be the equivalent to eating fast food.\n",
            "1495270491086635013 2022-02-20 05:34:00 +0000 <Lettaz> Che Noir Food For Thought Album Review #PSAhipHop #CheNoir #foodforthought  https://t.co/celRGDJaoA\n",
            "1495270483545124865 2022-02-20 05:33:58 +0000 <kthchuuya> taking childe out of the team tdy bc i tried a showcase 5 times n not a single time did he crit. w food btw. he had 70% cr.  https://t.co/m2ibrBbi56\n",
            "1495270482672771076 2022-02-20 05:33:58 +0000 <hicksy44> @AdamRichman @SpursOfficial Thats awesome you support spurs! Loved all your food shows dude! COYS!\n",
            "1495270481745825795 2022-02-20 05:33:58 +0000 <plscallmeque> Imagine buying everyone in your class food to try impress a girl in primary school\n",
            "1495270475651448832 2022-02-20 05:33:56 +0000 <BertieSmorgasb1> @bill_bangkok And they have to mask/unmask each time they put food into their mouths. For their own safety of course.\n",
            "1495270472015130627 2022-02-20 05:33:55 +0000 <ehatourist> A visit to the DMZ – Touring the border between South Korea &amp; North Korea #travel via @HeyJonTheGo  https://t.co/ywbWEoehHm #asia #comedy #conan #daytrips #food #history\n",
            "1495270465333612546 2022-02-20 05:33:54 +0000 <y0ryan> @morganisawizard Don’t worry, Denver Metro has Jet’s Pizza if you miss shitty Michigan food.\n",
            "1495270465295863808 2022-02-20 05:33:54 +0000 <ilykeemo> @bab1jos gotta be a cat. slide my food stamps i need some almond milk\n",
            "1495270463571836930 2022-02-20 05:33:53 +0000 <FakePOTUS_DT> @joncoopertweets Whenever I am in line at a fast food restaurant and someone near me complains about the service I say ,just be happy that you are on this side of the counter. If they say I can do better than them anyday. For 8 hours a day to make $120. Yeah right.\n",
            "1495270447243358210 2022-02-20 05:33:50 +0000 <Lemechiel17> Notice how when they get to a certain point of popularity, it seems as if creating drinks or food is a given? As if I would EVER intentionally eat anything they had involvement with…let alone give my hard-earned cash to support evil. No thanks.\n",
            "1495270443833446403 2022-02-20 05:33:49 +0000 <kimmy72_towell> Quick and Easy: One Pan | The Pioneer Woman | Food Network  https://t.co/8IIuXeAonw\n",
            "1495270443468537861 2022-02-20 05:33:49 +0000 <bakedalleson_> “If music be the food of love, play on.”  Basque cheese cake 🧀  #SundayThoughts  #sundayvibes  #Cooking  #cheese  https://t.co/zrxKiDdV6F\n",
            "1495270429333737475 2022-02-20 05:33:45 +0000 <hourlyjohnhate> john winchester would leave his children in a situation where they had to steal food\n",
            "1495270424711729152 2022-02-20 05:33:44 +0000 <i_guessed_> Come for the comfy time 18+ though also #porntwitter #twitterspace #chillvibes #porn #goon #hashtag someone is upset about they food if you would like to here there distress story come say hi\n",
            "1495270423562309639 2022-02-20 05:33:44 +0000 <J110_o11C> FOOD SERVICES NADAMAY  pero seryoso bakit kada branch iba ang lasa ng chickenjoy\n",
            "1495270409930899456 2022-02-20 05:33:41 +0000 <SecureOwl> One of the positives of having your wisdom teeth out is that you get a second chance to enjoy your meal when you irrigate the bits of food out of the holes.\n",
            "1495270409494839297 2022-02-20 05:33:41 +0000 <tyler_freshcorn> Not the first time Uncharted &amp; food product placement were together, so fitting I guess?  https://t.co/LwjLPt5RZr\n",
            "1495270409096290307 2022-02-20 05:33:40 +0000 <Zaina_735> @choyauo_ @j_animates_stuf @LiamWasTak3n @klbqrit @GeegiaThomas @lovejoylyric AND EAT MY RENT AND EAT MY FOOD\n",
            "1495270407741399040 2022-02-20 05:33:40 +0000 <Nayan_Sarawgi> @sidhant I believe that the world hasn't duly recognized what India has done for the Afghan people. Away from greedy political validation, community impact projects and real assistance on ground like medical aid, vaccines and food was provided. Kudos to us:)\n",
            "1495270403916410885 2022-02-20 05:33:39 +0000 <daaannnieee> had the best time with my bestie tonight 😭 still can’t believe we manage to get such good seats less than an hour before the show for a food price\n",
            "1495270391048192003 2022-02-20 05:33:36 +0000 <omniverbal> @RLNjustbecuz @alyssagdcourage Raised meat and potatoes, but had Indian food for the first time over ten years ago and I’m never going back.\n",
            "1495270389664165889 2022-02-20 05:33:36 +0000 <JPardoe18> And she was actively recovering from food poisoning?!!? What a beast\n",
            "1495270388128907264 2022-02-20 05:33:35 +0000 <KarlaInHiding> @bobwyre__ @A_GustyGal @VineusV No just food and soda and flowers\n",
            "1495270378310184962 2022-02-20 05:33:33 +0000 <SayonasCarl1> @flysrilankan Can not wait to try the food and the new menu as soon as it’s launched\n",
            "1495270368252203015 2022-02-20 05:33:31 +0000 <olivlys_> @SandycheeksM Ima have to try it I love me some good food places lol\n",
            "1495270365538435080 2022-02-20 05:33:30 +0000 <JebusWankel> More restaurants need soft serve ice cream. Why is it only fast food? A nice ribeye with a twist cone for dessert would work at Outback or Capital Grille.\n",
            "1495270357523382272 2022-02-20 05:33:28 +0000 <Vyann404> 3 facts, 5 tags.   Tagged by @BreedableBitch  1.  In many obscure Fandom so but will excitedly talk about it if asked 2. Can't eat spicy food 3. Currently learning all household skill that can be learned   @waccybaubawang @aredphantom @lostheavencity @findtheangeI\n",
            "1495270354595368960 2022-02-20 05:33:27 +0000 <Meseret91257057> Tigray needs more medical aid and food 🙏\n",
            "1495270353446346754 2022-02-20 05:33:27 +0000 <glossierpilled> pov ur mom was the og gjg so now u can’t handle fast food or strong scents like b&amp;bw or vs perfumes and candles\n",
            "1495270350745182212 2022-02-20 05:33:27 +0000 <eo_august> @food_porn17 @Yasmin_araujo07\n",
            "1495270350695038978 2022-02-20 05:33:27 +0000 <AbdullahS_007> @mehul_kapadia_ Great Idea! But Gold gym has already started that. I have seen proper food corners in gold gyms. But still we have a huge number of gyms without any food corners.\n",
            "1495270349537165312 2022-02-20 05:33:26 +0000 <poeticthotie> i crave food\n",
            "1495270347146362881 2022-02-20 05:33:26 +0000 <MrMarioTavares> @DJ54Philly @thatdaneshguy @MerrillLynch Hello. I’m a parent of a child with peanut allergies. Being a responsible parents means not ordering food that could be cross contaminated. Something as simple as a utensil being used for both ingredients can trigger a reaction.\n",
            "1495270344071909376 2022-02-20 05:33:25 +0000 <dewszpe> @notyour_blue @FOOD_FESS Kalau mau aga seger tambahin yakult, mantab bgtt\n",
            "1495270343635714049 2022-02-20 05:33:25 +0000 <gamelooksfun> @CryptoSources wen more food tokens on arbitrum\n",
            "1495270341513416705 2022-02-20 05:33:24 +0000 <Alisha59806213> Dave's Pet Food Restricted Diet Magnesium &amp; Phosphorus Grain-Free Pork Recipe Canned Cat Food  https://t.co/20bMgk5pAg\n",
            "1495270340552888324 2022-02-20 05:33:24 +0000 <YJBreloaded> I feel like going after gas prices or food prices that are temporarily spiked is dumb af. The root of the problem is corporate greed, lean manufacturing practices, extreme rent prices, student debt, healthcare debt. If all those big things were under control gas and food\n",
            "1495270331036180482 2022-02-20 05:33:22 +0000 <niallsIvr> i don’t trust anyone who fucking eats food on their bed. ESPECIALLY IF IT MAKES CRUMBS\n",
            "1495270328628617217 2022-02-20 05:33:21 +0000 <el_plzu> @whatsabrinasays @victorious_gem @RissaMangoes MISS YOU!!! can't wait until we all see each other and eat good food\n",
            "1495270328565596160 2022-02-20 05:33:21 +0000 <farisjimboo> Almost 3 days without food and almost 2 days without water. Even air masak pun akan termuntah balik. Tapi tadi gigihkan jugak telan air buah kotak and tahan supaya tak muntah, terpaksa sebab badan memang lemah sangat.\n",
            "1495270327336996867 2022-02-20 05:33:21 +0000 <monmarispace> vegetable🍅🥔🥬🥕  #art #artist  #food  https://t.co/zHwFamsg0c\n",
            "1495270324329332736 2022-02-20 05:33:20 +0000 <cansarng> street foods always hit different\n",
            "1495270322647482368 2022-02-20 05:33:20 +0000 <Dukkezz> Dear Mother Nature it's currently -14°C (6F) &amp; it's dropping to -23°C (-9F) overnight... We are not Popsicles or any other freezer food. We do NOT need to be kept at this temperature! I'd like you to fix this situation promptly!  https://t.co/No9wmks0Nk\n",
            "1495270319954829315 2022-02-20 05:33:19 +0000 <BoKatan24> @blessedbest7 Tell them dinner on me . 👀let’s see if they accept food as payment 🤣\n",
            "1495270317408747522 2022-02-20 05:33:19 +0000 <LavDkball> Death by food\n",
            "1495270313319305218 2022-02-20 05:33:18 +0000 <KinkyPosole> My driver asks me \"how is this place is it any good? (reffering to the restaurant\" and i was like \"uuuhhh yea its pretty dope...\" Even tho ive never been there💀💀💀 He was asking me if its a cool place to bring a date and i was like yea foods good, bars dope, is recommend it😂😭\n",
            "1495270307661291522 2022-02-20 05:33:16 +0000 <poeticthotie> i want food\n",
            "1495270303433379844 2022-02-20 05:33:15 +0000 <ldlwjk> fuck my diet, im sad, im gonna have some come coke and greasy food\n",
            "1495270301810270208 2022-02-20 05:33:15 +0000 <palmerdebra> How I transform a $0.50 packet of instant noodles into a $35 meal. 🤣 Just add abalone and scallops. #food #foodporn #foodphotography #foodie #foods #foodstagram #foodgasm  https://t.co/vQ9GY1ccLB\n",
            "1495270301722099713 2022-02-20 05:33:15 +0000 <sahniwaiman> Do you believe in love at first sight? — Of course. Who doesn't love money &amp; food ?  https://t.co/85yzuOyhkR\n",
            "1495270301369876483 2022-02-20 05:33:15 +0000 <JCarry57> @AOC Have you considered how much the cosmetic industry negatively impacts our environment? You seem to be a prime offender. Food for thought I hope.\n",
            "1495270298597347330 2022-02-20 05:33:14 +0000 <MilkStrawbie> @LogicalGuy1 @Mulawin83 @DemSocBog @ZeR0kare @bethbourdon @StrikeDebt housing and food should ABSOLUTELY be free or at LEAST accessible. education is 100% required for success.\n",
            "1495270290288349184 2022-02-20 05:33:12 +0000 <WhatsUp_Canada> @RiskyPrediction @realmonsanto @RebelNewsOnline Wow sooo full of ignorance, enjoy your boosters. You sound so peace and humanity loving.   When you’re debating between booster #14 and food privilege think back to now would you.\n",
            "1495270286496780292 2022-02-20 05:33:11 +0000 <Nene100it> I want some boiled food 😩\n",
            "1495270285188079617 2022-02-20 05:33:11 +0000 <ondetoyou> Hehew sticker food karena kita suka food💯  https://t.co/nZe7kygycY\n",
            "1495270280356270080 2022-02-20 05:33:10 +0000 <softtyjaeyun> food tht has taugeh like WHY?\n",
            "1495270273972592644 2022-02-20 05:33:08 +0000 <behavior_galore> Bae being open to try new foods from my culinary world 😊 I’m so excited to cook fancy again\n",
            "1495270272357867523 2022-02-20 05:33:08 +0000 <NunoNog60027647> @marcomendicino @cafreeland This is the fool who has his cronies do his dirty work and take the food off the table of many Canadians today\n",
            "1495270270654836738 2022-02-20 05:33:07 +0000 <Shilo2141> @gooddgrrl I'm close to ordering but I'm afraid that it'll be really disappointing. I live in a place that really doesn't understand good Mexican food. It will be fast food tacos. D'ya think I should?\n",
            "1495270268251504641 2022-02-20 05:33:07 +0000 <DatEvilJenny> you should know messing with my food is a trouble for you\n",
            "1495270266607443971 2022-02-20 05:33:06 +0000 <ErikMoxleyDev> Since when did my tech Twitter feed become filled with so much food?! It's amazing to see other things we are all passionate about and can share within this community. I'm very grateful to continue calling Twitter my favorite platform out of all the platforms. 👍\n",
            "1495270264602562560 2022-02-20 05:33:06 +0000 <BeeNyk_> @_Buggss The food or scenery ?\n",
            "1495270264023752704 2022-02-20 05:33:06 +0000 <jewishdeanw> white vegans need to check their reactions to cultural food practices when it comes to meat, especially indigenous ones. ur lifestyle is not automatically superior or healthier, and your discomfort shouldn't be an argument against sustainable hunting or meat consumption practices\n",
            "1495270261339222018 2022-02-20 05:33:05 +0000 <nafdadra> We need human security : food , education, health care for our children.  #food #nutrition #foodsecurity #FoodService #foodsafety #society #SocialSecurity  https://t.co/qN4EcZlypL\n",
            "1495270260697567232 2022-02-20 05:33:05 +0000 <alienghic> @dampscribbler @wsbgnl Its not food they want us to buy.  https://t.co/KqdvCtKxMA\n",
            "1495270259724636161 2022-02-20 05:33:05 +0000 <ParentingPatch> A Baby-Led Approach to Introducing Solid #Food via @ParentingPatch  https://t.co/v96Ec7Ra0g #babyfood #breastmilk\n",
            "1495270255815397379 2022-02-20 05:33:04 +0000 <TOPGAMING43> MOXIE Chicken Dog Food – 8oz  https://t.co/VQdKJ8TgvD\n",
            "1495270249981227008 2022-02-20 05:33:03 +0000 <durandurantulsa> Recipe of the day: Creamy Parmesan Baked Acorn Squash #food #foodporn #squash #acornsquash #creamyparmesanbakedacornsquash  Look at this... 👀  https://t.co/Xo6cuvSwVV\n",
            "1495270249536847875 2022-02-20 05:33:02 +0000 <sugarcheeseee> 15 ) masih di acara dinner,  cw // food  https://t.co/RTOqnhK9s5\n",
            "1495270248131575811 2022-02-20 05:33:02 +0000 <jas_grz> This restaurants service felt very much racist but damn the food was 🤤 and I’m mad it tasted so good lmao\n",
            "1495270241965801475 2022-02-20 05:33:01 +0000 <chinifromdabloc> Food pics and ambience is captured as well #goodvibes  https://t.co/t4jZayVuqp\n",
            "1495270240640331782 2022-02-20 05:33:00 +0000 <YanezJesse> @KTLA  @lapublichealth why do you guys keep raiding all the tacos stands and food venders and not actually doing public health and help the homeless @elmontepolice it’s funny this is happening now with all these dispensary opening interesting @Vicky4Elmonte @MyElMonte\n",
            "1495270237800845313 2022-02-20 05:33:00 +0000 <RobMayeda> What a performance 🎿 😤 🇺🇸 Diggins says she fought off food poisoning prior to the event in the post race interview. @jessdiggs for🥈silver in the 30km in gusty conditions earned every ounce what a career 🥇🥈🥉 #olympics #WinterOlympics  https://t.co/sG8JWWoJFT\n",
            "1495270237129695232 2022-02-20 05:32:59 +0000 <shellywayne_> Somebody said “I ate some African food for the 1st time yesterday &amp; woke up musty as hell” 😂😂😂 why is that so funny lol\n",
            "1495270231048077312 2022-02-20 05:32:58 +0000 <MyriamH72520679> @DamonMast @OccupyDemocrats Hey lunatic do you want to be shipped. Do you want them to take everything you have and you don't own nothing. Do you want them to control your money? Your food? Seriously.  World Economic finance says it out loud. It is what they are tryingto Do.\n",
            "1495270229932490753 2022-02-20 05:32:58 +0000 <pepesgrandma> This bear breaks into homes for food. 😹   They ought to transplant him 1000 miles away and hope he walks back. Just kidding 😹  https://t.co/IXMZliXxKw\n",
            "1495270223691321347 2022-02-20 05:32:56 +0000 <DelordMaterial> @animolenikun You don't have to blame people because is what they have witnessed you how many times have you collected money from the rich or that same food stuff renew of ritual is real so don't blame any body if your conscience is clear\n",
            "1495270221329797120 2022-02-20 05:32:56 +0000 <BigPurpleBrute> ( sigh )  ( she feels alot better. Might be able to sleep later tonight )  .....   ( fuck she hasnt eaten in a day or so. She needs to scronge for food )\n",
            "1495270215558459395 2022-02-20 05:32:54 +0000 <taegikooksrkive> may pang dog food na ulit si moni anak q emz,, thank you so much po ! 💗 ^__^   #fruitaeproofs  https://t.co/lWnBF51sYT\n",
            "1495270213629222913 2022-02-20 05:32:54 +0000 <uffxh_> pov: moving your food closer together so it looks like you ate\n",
            "1495270202816151559 2022-02-20 05:32:51 +0000 <SarahatHomeCA> @DocAtCDI A friend loaned me a little camera and I discovered how busy my outside food bowl was in the first hour.  https://t.co/k2z8IZdxP8\n",
            "1495270196566581248 2022-02-20 05:32:50 +0000 <hazzywanderer> Ulka is looking nice here btw what's with these food names 😭😂. Chickoo, imlie, mithai and now Chow 😂  https://t.co/1eObhgwOG5\n",
            "1495270195455488000 2022-02-20 05:32:50 +0000 <FazleyYaakob> Search for healthy food leads Simon to start his farm  https://t.co/2Glyol8Uv2\n",
            "1495270195086209029 2022-02-20 05:32:49 +0000 <WitchyMuttButt> “Gods why do I feel so shitty today”  Well raven it’s because you’re running on ten shots of espresso and oat milk instead of food and are currently drinking an energy drink 😭\n",
            "1495270190489104385 2022-02-20 05:32:48 +0000 <PercieModel1> When thinking about kitchen skills, don't forget that that pregnant women need to be careful with separating foods when preparing and serving. Find out more at .@GFSRCentre\n",
            "1495270189373562880 2022-02-20 05:32:48 +0000 <Kgabo_DeSpeaker> @tito_mboweni You just eat because you're hungry, because this food aren't delicious.  https://t.co/7JJF7TLPjR\n",
            "1495270185212723200 2022-02-20 05:32:47 +0000 <indiglorush> I need to make the coice between homelessness or food. #ODSPoverty @JustinTrudeau\n",
            "1495270181043523586 2022-02-20 05:32:46 +0000 <badsansbot> Nightmare banned Killer from the kitchen because Killer made Horror burn food\n",
            "1495270177184927747 2022-02-20 05:32:45 +0000 <CLCHE> I Love My Family.. cousin Thank You for Holding the Food down everything was great❤️❣️ @blessingsgogetdem  https://t.co/rlfCYdBKab\n",
            "1495270175842750468 2022-02-20 05:32:45 +0000 <sageer_sagir> The Messenger of Allāh صَلَّى اللَّهُ عَلَيْهِ وَسَلَّمَ said:  ❝The life of this World is like the food of the son of Adam: no matter how much salt and spice he adds to it, let him look to how it ends up (as filth).❞  ● [صحيح الجامع ٢١٩٥ صحيح للألباني]\n",
            "1495270168230088706 2022-02-20 05:32:43 +0000 <_Aerieeee> I wish I had Guy Fieri’s job. Just drive around the country and taste food\n",
            "1495270162144313350 2022-02-20 05:32:42 +0000 <kochengcoklat> @pengenjdiproman @FOOD_FESS Kalau di doain sih sampe skrg jadi rutin kak tiap hari. Awal2 aku sm adek aku sering diganggu, tp cuman kayak dibisikin suara aneh2 dan kuping aku di tiup2 tiap maghrib kak. Tp berbulan2 digituin sampe kita ga takut lagi, malah jadi sebel sm setannya wkwk\n",
            "1495270154938187777 2022-02-20 05:32:40 +0000 <jagmohan> @INALSA_OFFICAL one of the worst purchases done by us …Inalsa INOX 1000 Food Processor. Very poor quality. Rusting of metal parts, Plastic knob broke, Motor making loud noise. Customer Care is even worse.\n",
            "1495270144322461696 2022-02-20 05:32:37 +0000 <hitthebruhBOT> @WeHateVance they are the greatest thing to grace the world of fast food\n",
            "1495270135631863809 2022-02-20 05:32:35 +0000 <StacksBreadup> As an LA native you should know the best Mexican food doesn’t come from sit down restaurants, but somehow it’s NYC’s fault you thought that logic didn’t apply?  See your life?\n",
            "1495270133882839045 2022-02-20 05:32:35 +0000 <ralph_rye> @tomhfh My cat's breath smells of cat food.\n",
            "1495270130737102848 2022-02-20 05:32:34 +0000 <TheDivineKe> Seriously how do u live in peace knowing the people you lead are hungry. Let basic food be affordable @KenyataOfficial @WilliamsRuto please just for once saidieni wakenya, it's good you're working on infrastructure thanks for the good job but hatuezi kula kokoto #lowerfoodprices\n",
            "1495270128958820353 2022-02-20 05:32:34 +0000 <addison_saviers> It is no wonder that Christianity has always demonized food and bodies.   The first sin was a woman eating.\n",
            "1495270124001054723 2022-02-20 05:32:32 +0000 <WhittyWestside> Coverwtion with someone I just met re: Taylor Swift me: Yeah I have a Taylor swift tattoo. Girl: let me see it: (Shows it) Girl: I don’t get it. Me: ……..it’s lyrics from evermore. Or are you not like a big fan? Girl: I like red.  Me: ….. that’s cool. Try her food stuff.\n",
            "1495270122164219905 2022-02-20 05:32:32 +0000 <katemarroquin> I’m far too picky about food to have strong opinions about things other people eat. Put whatever you like on your pizza…or don’t. I’ll support you.\n",
            "1495270121161441283 2022-02-20 05:32:32 +0000 <orignalpancake> One of my favorite foods to cook 🧑‍🍳  https://t.co/Fi2tg3GzIc\n",
            "1495270120578560000 2022-02-20 05:32:32 +0000 <JosiahStreams> Laotian food tonight. If you can find it, you gotta try it but if you don’t like spice at all stay away 😬  https://t.co/yvJ7pX9vTA\n",
            "1495270120024772610 2022-02-20 05:32:32 +0000 <alokamail07> @ZafarullaSkhan @BSBommai Jai @BJP4India  1. Ram mandir  2.dhara 370 3. Toilet  4. Better road  5. Better Light  6. Bulldozer 7. Encounters 8. Bank account for poor person  9. Kisan saman nidhi  10.corona kal mai arthik madad food  11. Without bribe government job  12. No casteism in government schemes\n",
            "1495270119555088384 2022-02-20 05:32:31 +0000 <TheIsland360> Turkey trot and food drive held at Manor Oaks School  https://t.co/ahdAq4Vhxn\n",
            "1495270118934614018 2022-02-20 05:32:31 +0000 <fairmont_ford> @CaldronPool A man will seize one of his brothers in his father’s house, and say,“You have a cloak, you be our leader; take charge of this heap of ruins!” But in that day he will cry out, “I have no remedy. I have no food or clothing in my house;do not make me the leader of the people.”\n",
            "1495270110298198019 2022-02-20 05:32:29 +0000 <SheRidesABike> @WitchenB @TheNeedling I think they were mocking smaller towns including Ellensburg? And implying the food was bad?\n",
            "1495270108238917633 2022-02-20 05:32:29 +0000 <Elizabe47167711> Foods that are poisonous to dogs  https://t.co/CwfaQXRRZc  Download Now  https://t.co/8tjgMIDvem\n",
            "1495270103344041988 2022-02-20 05:32:28 +0000 <MedaLeake> 40% of #Tigray|ans are suffering an extreme lack of food &amp; 83% are food insecure. @StateDept must act now to #EndTigraySiege to avert catastrophic deaths in #Tigray.   @RepMcCaul @RepGregoryMeeks @BradSherman @Malinowski @SenatorRisch @SenatorMenendez  https://t.co/xJyr6W1ec9\n",
            "1495270102752808960 2022-02-20 05:32:27 +0000 <dimyellow> @dmrshitposts cook food w u while talkin about ishimi and maybe do yard work if it was warm season\n",
            "1495270092833271813 2022-02-20 05:32:25 +0000 <gizmo187s> Okay bitcoin you can start going up now these fast food napkins starting to hurt my ass\n",
            "1495270086013337602 2022-02-20 05:32:23 +0000 <nightingale_sr> It didn't stay like this it looks alot less empty I filled in some space but, I'm really working on this man I've been doing it the whole day I'm gonna animate sum shit man I'm making the landscape now I'm thinking about blu n doing hw n I'm gonna make me some chunk of food  https://t.co/a0mT4kWbos\n",
            "1495270081827381253 2022-02-20 05:32:22 +0000 <LucyEverleigh> @BrittChenteale I always need more easy immediate foods, I'm gonna get some.   I just... Guess I haven't seen it?   My thing lately is making a gigantic batch of banana walnut pancakes and then freezing them and when I need food I put them in the toaster and they get kinda crispy and toasty 👌\n",
            "1495270078220496899 2022-02-20 05:32:22 +0000 <HiwotHyleslasie> Civilian population must be protected, agricultural activities must be facilitated, &amp; humanitarian access must be allowed to ensure food security to all people.@MFA_Austria @BelgiumMFA @MFABulgaria @CyprusMFA @CzechMFA @UN_HRC #AUEUSummit #TigrayGenocide  https://t.co/t8zzH4z69r\n",
            "1495270078090121216 2022-02-20 05:32:22 +0000 <Rahayel> Visiting Abu Dhabi for the First Time: The Movie | 7 Days of Food &amp; Fun in The UAE!  https://t.co/LpqKv2ewYe\n",
            "1495270076802424832 2022-02-20 05:32:21 +0000 <mrpeanutnft> CAN FOOD DRIVE FOR FREE NFT!\n",
            "1495270075376537601 2022-02-20 05:32:21 +0000 <kchoudhu> @ONAN_OUS @Bonecondor @NewRiverInvest I may have be getting cancer in the future, but at least I don't have to cook my pot before cooking my food.\n",
            "1495270073178943488 2022-02-20 05:32:20 +0000 <wpsitesdotnet> @smh @sarzberry Cancer kills 50,000 Australians every year but they don't stop you smoking, drinking, over eating, eating cancer causing foods or not exercising. #covid is political and the lockdowns only delayed herd immunity however the government will never be held accountable. #AusPol2022\n",
            "1495270070120968202 2022-02-20 05:32:20 +0000 <normalistoxic> @LowkeyRogue I love my art I just sometimes feel discouraged and I’m like mehhhh 😩 but you’re right and I went and took photos and ate good food and will continue to chill out and have some downtime 🍷 thank you friend 🥰❤️\n",
            "1495270069089099776 2022-02-20 05:32:19 +0000 <kimmy72_towell> Twice-Baked Potatoes Recipe | Valerie Bertinelli | Food Network  https://t.co/39vmVWx7T7\n",
            "1495270066916663297 2022-02-20 05:32:19 +0000 <zandilisous> @__NgalondeNN @_SA_Foods Ufuna ukukopela menu 😁\n",
            "1495270063926132741 2022-02-20 05:32:18 +0000 <irisdayem> Food for thought by #Joe_Dispenza   \"If the input remains the same, then the output has to remain the same. How, then, can you ever create anything new?\" 🤷🏻‍♀️\n",
            "1495270061942063107 2022-02-20 05:32:18 +0000 <MichellBasler> @ThatEricAlper That food does look good\n",
            "1495270060734107650 2022-02-20 05:32:17 +0000 <rgawakendream> You like dinners from restaurants likely because they use tons of butter. So, just use a bunch of butter in your food at home and save money. My thoughts\n",
            "1495270055990505477 2022-02-20 05:32:16 +0000 <barking_kitty> @DrSarahAxelrath More food please  https://t.co/yJ36TJrUba\n",
            "1495270051372490753 2022-02-20 05:32:15 +0000 <TOPGAMING43> Keto Diet Journal For Men: Weight Loss Tracker, Monthly Progress, Task Challenges, Ketogenic Foods, Grocery Ideas and much more !  https://t.co/8BG27BFIBq\n",
            "1495270051313770499 2022-02-20 05:32:15 +0000 <deliminjoo> her typical style of taking food photo 😅😅\n",
            "1495270041218076676 2022-02-20 05:32:13 +0000 <Cam_Da_Prince> I’m bout to order some food\n",
            "1495270040341524481 2022-02-20 05:32:13 +0000 <BenGoessling> Jessie Diggins had food poisoning 30 hours before that? What a badass.\n",
            "1495270034695933957 2022-02-20 05:32:11 +0000 <secondchances09> @evolutionarypsy I'm sorry, wut?  Do you realize some people feed their kids \"processed cereal\" or \"crap food\" and have no choice in eating \"total shit\" because it's what they can afford? This is really a classist take, at the very least.\n",
            "1495270032544198659 2022-02-20 05:32:11 +0000 <rachmph> Please define \"real food\" 🙄\n",
            "1495270027817209860 2022-02-20 05:32:10 +0000 <alokamail07> @Hardika_Yadav Jai @BJP4India  1. Ram mandir  2.dhara 370 3. Toilet  4. Better road  5. Better Light  6. Bulldozer 7. Encounters 8. Bank account for poor person  9. Kisan saman nidhi  10.corona kal mai arthik madad food  11. Without bribe government job  12. No casteism in government schemes\n",
            "1495270023878828034 2022-02-20 05:32:09 +0000 <tyler_freshcorn> @the_moviebob I mean Uncharted and food product placement is about on brand.  https://t.co/g9qQBglGpw\n",
            "1495270020469125124 2022-02-20 05:32:08 +0000 <10NewsFirstSyd> \"Which include removing any clothing items, food and food utensils, removing all pets and plants, covering fish tanks and above all, ensuring that all sources of ignition like candles, pilot lights and gas flames are turned off prior to use.”\n",
            "1495270019995168775 2022-02-20 05:32:08 +0000 <balaghiridharr> sorgame endralum , nama oora pola varuma .   btb i dont do anything mentioned , also then will happily exist   food  should improve\n",
            "1495270017654534144 2022-02-20 05:32:07 +0000 <SamtheNomad> Expensive food is a scam.\n",
            "1495270015511183367 2022-02-20 05:32:07 +0000 <chiefshangoV1> Should’ve ate Puerto Rican food instead\n",
            "1495270014668005376 2022-02-20 05:32:06 +0000 <bl33d3out> every day i feel okay and then 10 PM hits and I order food and binge all of it even if i am too gull and my stomau hurts so fck bad until I feel like throwing up and try to actively purge and cant\n",
            "1495270013548253185 2022-02-20 05:32:06 +0000 <OxfordSceptic> @fabiozugman @rsosa8 Richard's food takes become weirder by the day.  https://t.co/mb6ud4i05Y\n",
            "1495270009303560192 2022-02-20 05:32:05 +0000 <NO_LIEES> Niggahs be like and I don’t even have a job I be like but you have kids so you have aid and food stamps you bet ya make other shit shake\n",
            "1495270008808775685 2022-02-20 05:32:05 +0000 <BossUP_LulHoe> Posted my food tiktok on my mama page yeaaaa y’all like what y’all see🥶\n",
            "1495270006506020869 2022-02-20 05:32:04 +0000 <BEAST17761> @Karyn88564235 @rgstark I belive in protest, just not the type that have the potential to really hurt the people who can't afford to buy extra food and medicine.   The Lack of medicines, clean running water alone would drive up the death rate.\n",
            "1495269996288638976 2022-02-20 05:32:02 +0000 <hoshiumisexy> hoshiumi, pacing back and forth: it’s not that I’m telling you that you can’t sigh. Of course you can! I’m just saying that you have a house you don’t pay for, premium food, free healthcare thanks to your owner, and simply SLEEP and eat SHORTS all day? what AILS you, my Man?!?\n",
            "1495269991708561411 2022-02-20 05:32:01 +0000 <langalasagna> @L0VED3M0N \" adaaam, will you get in the starbucks line for me? i really want a cold brew. ill head over as soon as the foods ready okay? \"\n",
            "1495269991591075841 2022-02-20 05:32:01 +0000 <NeilRetail> 🇬🇧 Phish Food for fish fillets? Strangest online grocery swaps revealed  https://t.co/3GbJTDfj58\n",
            "1495269979658371079 2022-02-20 05:31:58 +0000 <dream_stu> I wake up in the backseat of my old band's tour van driving through Wichita, and everyone has food except me. Apparently I said I wasn't hungry while I was asleep, but I say \"I was lying\" which makes everyone laugh\n",
            "1495269975078182913 2022-02-20 05:31:57 +0000 <ibrahim81331470> Those from Makarantar Lilo How do I say this in English. Food wey done don done?\n",
            "1495269971034660864 2022-02-20 05:31:56 +0000 <Nissi_Icasiano> Although there are reward system and rankings in place, the nature of the business always stands pat on the notion that it is every man for himself. In order to be at the top of the food chain, one should find a way to get ahead of others.\n",
            "1495269967759089668 2022-02-20 05:31:55 +0000 <bimbosinc> Thinking about how hot girls eating food was considered a mood back in 2015  https://t.co/z7gUpJVtvG\n",
            "1495269963623456768 2022-02-20 05:31:54 +0000 <PoichuOfficial> justanotherkincareblog: Catkin self care! Sorry this is a little late, but here it is! Food: Fish, especially uncooked fish as found in sushi. Be safe and consume raw fish safely! Drink water from the tap, just do it. No one will stop you just...  https://t.co/NxZPagnqkL\n",
            "1495269958204354564 2022-02-20 05:31:53 +0000 <vietschlinger> @12ytt1 @mikepompeo In \"global hunger index\" (issued by German commies), people in Cuba are \"highly fed up\".   But according to official rationing data from Cuba, an adult's monthly food supply quota: 2.7kg rice, 2.8kg sugar, 0.57kg beans, 4 eggs, 6.8kg potatoes, NO MEAT.\n",
            "1495269957684322306 2022-02-20 05:31:53 +0000 <poeticthotie> i need food\n",
            "1495269957097058308 2022-02-20 05:31:53 +0000 <porksatay_k> หมูสะเต๊ะท่าดินแดง สดใหม่ ใส่ใจทุกขั้นตอน เปิดร้านเตาร้อน ตั้งแต่เช้ายันค่ำ สะดวกเสริฟ์ สะดวกส่ง👉🏻  https://t.co/C0Lp4ZWlWe #เคหมูเต๊ะ #โอวกี่หมูสะเต๊ะ #หมูสะเต๊ะ #ท่าดินแดง #ไม่อร่อยทานฟรี #thefirstultimate #Streetfoodthailand #Deliver #จำหน่ายปลีกส่ง #food #foodie  https://t.co/gR03CEj2t5\n",
            "1495269954672730114 2022-02-20 05:31:52 +0000 <liyakat7070> Most of all  animals take leaves  which contain cellulose converted by cellulase enzyme to glucose for energy ,oligosacharide like inulin in food to maintain their body .\n",
            "1495269953066389508 2022-02-20 05:31:52 +0000 <Babystallixo> Why are you posting food in your close friends I want to see ass 😭😭😭\n",
            "1495269949258051585 2022-02-20 05:31:51 +0000 <sierracocoa_> Lmao Idc bout none that shit. Just make sure my food comes out like I asked love 😂🤷🏽‍♀️\n",
            "1495269943780122626 2022-02-20 05:31:50 +0000 <AdrianDotLopez> Food really is my poison because I be GRUBBING 🥴🤰🏻😂\n",
            "1495269941267906562 2022-02-20 05:31:49 +0000 <joeywreck> It was so unnecessarily cruel to not only throw starvation sanctions on Venezuela but also kidnap the diplomat, Alex Saab, for helping bring crucial basic food supplies into Venezuela.  https://t.co/0AU3IO8pxR\n",
            "1495269940873547776 2022-02-20 05:31:49 +0000 <TheIsland360> Earth Matters: Listen to scientists about food  https://t.co/PHggPpqkQ3\n",
            "1495269938634039296 2022-02-20 05:31:48 +0000 <tangerind> separate appreciation post for the food in little forest (2018) watching this movie made me so hungry t__t  https://t.co/Xwc7dUWZnb\n",
            "1495269938096836608 2022-02-20 05:31:48 +0000 <iamyaman10> Am I the only one who sprinkles 1 or 2 packets of oregano on the pizza and saves the rest of it for other food items?🙂🙂\n",
            "1495269936461225987 2022-02-20 05:31:48 +0000 <strawberryhira> I am currently eating my leftover food from the restaurant. I need to take a moment to breathe and remind myself recovery takes time. I can't magically be recovered overnight. Relapsing is normal it's part of the journey.\n",
            "1495269933650833411 2022-02-20 05:31:47 +0000 <SaeruBot> I always knew people's wishes... were the best food we could ever ask for.\n",
            "1495269932090548224 2022-02-20 05:31:47 +0000 <lisbonboots> i wonder if u can get free food at o week without being a monash student\n",
            "1495269930354180097 2022-02-20 05:31:46 +0000 <HortaRob> According to most reports most of the horses are not rehomed but are killed for food , talk to the largest horse kill buyer in Texas , he coldly says it's just a job , no empathy whatsoever, absolute EVIL\n",
            "1495269929511419910 2022-02-20 05:31:46 +0000 <NitaCandace> @KaseyGirlBye ik I would have cuz if I want my food I def don’t want nobody to get the 1st bite 🤣\n",
            "1495269929326723076 2022-02-20 05:31:46 +0000 <Sarahadr_> @KuglerElisabeth @AcademicChatter Money and food\n",
            "1495269922997678081 2022-02-20 05:31:45 +0000 <JerichoSobrevi1> Tra food trip tayo guys  https://t.co/JWagx41P1k\n",
            "1495269918484406275 2022-02-20 05:31:43 +0000 <BigMistake45> I gave a young migrant woman, who was asking for help with rent, food, and other necessities, $20 today. It was all the cash I had at that moment. She was also holding an infant and said, in broken English, she had two other kids. It felt good to give and help the downtrodden.\n",
            "1495269918115532800 2022-02-20 05:31:43 +0000 <irishgalinoz> @AmyRemeikis Everyone I know who raves about theirs uses them to cook shitty food I never buy, frozen chips, crumbed fish etc. tell me something healthy they cook and I’ll consider buying one\n",
            "1495269915208552448 2022-02-20 05:31:43 +0000 <lee_miinhyuk> @RENElBAE Yes foods are better hhaha\n",
            "1495269909076463621 2022-02-20 05:31:41 +0000 <Petergermain12> This what 75bucks of food looks like with Biden can’t wait for TRUMP to come back  https://t.co/rVCbKK2bty\n",
            "1495269903112318984 2022-02-20 05:31:40 +0000 <Badderden_HisMs> You kno I’m getting old my going out now involves food &amp; drinks then I be sleepy heavy on the food 😂wanting to go lay up 🥰or snuggle with my kids 💯\n",
            "1495269900964835329 2022-02-20 05:31:39 +0000 <gegallas> I wish more people believed that comics/graphic novels are for all ages INCLUDING ADULTS &amp; can explore thoughtful/insightful/profound themes/topics rather than just childish rubbish with no value other than entertainment, the junk food of books………\n",
            "1495269896606859265 2022-02-20 05:31:38 +0000 <ddeguzmanTV> Oh my, Jessie Diggins revealing in the mixed zone interview with NBC that she had food poisoning 30 hours ago?!?! That makes today’s feat even more impressive.\n",
            "1495269889426083841 2022-02-20 05:31:37 +0000 <TooLgForYou> Hmmm what’s it like to eat food without guilt\n",
            "1495269888205668353 2022-02-20 05:31:36 +0000 <444tarot> Sooo @UberEats, My order was messed up I don’t want a refund I just want my food. Y’all can’t send another driver to get it? 🤨 I spent over $20 and waited almost an hour\n",
            "1495269886012325890 2022-02-20 05:31:36 +0000 <rehan5heikh> Hey @Paytmcare My Balance Got Deducted From Paytm Postpaid Account  And S.K.FOODS Haven't Received Anything Yet Settlement Haven't Done Yet Refund Still Showing In Pending From 10 Days  https://t.co/E2wyLNT9G9\n",
            "1495269884124610560 2022-02-20 05:31:35 +0000 <hazella> @jetruski LMFAO I read I’m buying food rn 😭😭😭\n",
            "1495269881683615753 2022-02-20 05:31:35 +0000 <__amadede> @reedbeloved We have like. Italian food and sandwiches and Japanese food so take ur pick\n",
            "1495269879318040578 2022-02-20 05:31:34 +0000 <018880> #kens5eyewitness Here is the video of the Cool Pool Plunge held earlier today at the Doubletree Hilton downtown. Donated food items benefited the San Antonio Food Bank. Audio note : my cat KENSIE started running on her exercise wheel right at the beginning of the video. Runs :36  https://t.co/mH9Hv4NZK8\n",
            "1495269878399483906 2022-02-20 05:31:34 +0000 <ttherealchupaca> @ETommyBS1 😢 I love Italian food.\n",
            "1495269876692582402 2022-02-20 05:31:34 +0000 <100X_VC> Naman Dayal, Shivank Shukla and Amit Khanchi, at Red Basil Technologies, our class 06 startup, are building a B2B marketplace for restaurants and cloud kitchens to discover, connect &amp; transact with wholesale food suppliers.   #startup #b2b #wholesale #marketplace #cloudkitchens  https://t.co/DvsCHMehQq\n",
            "1495269867192209410 2022-02-20 05:31:31 +0000 <Ourworldusa> @deftony83 Raised in C-H-I-C-A-G-O  🙌🏼 Nicknamed the Windy City, home of the greatest food scene ever, and people here are awesome! ❤️  https://t.co/ufsOQGbsNA\n",
            "1495269862901383170 2022-02-20 05:31:30 +0000 <loreleisfx> @jshtrv */naglabas ng cat food\n",
            "1495269861257519114 2022-02-20 05:31:30 +0000 <ltadakimaseu> cw // foods  gagal makan naspad, ini jg gapapa. met makan siang &lt;3  https://t.co/j3E1sIodsv\n",
            "1495269860531929091 2022-02-20 05:31:30 +0000 <sunoosoll> geh, dala kang foods beh  https://t.co/A10tVdY1c7\n",
            "1495269860514963457 2022-02-20 05:31:30 +0000 <YusukeKannai> △◉❐□◉◇❍❐  ディディフードの配達員になる方。 ぜひdidifoodに登録するときの招待コードとしてどうぞ！  ーーーーFOOD-KYFJ7M（招介コード）ーーー  新規エリアも利用可能です！  ▲❐△❍■▽❍▲\n",
            "1495269853606944772 2022-02-20 05:31:28 +0000 <niftyboilol> @iVicturkey the urinal cake at mcdonalds taste better then burger kings food\n",
            "1495269851878723589 2022-02-20 05:31:28 +0000 <rat_king20> @sammajammaz I’m sorry but you are clearly eating sukis food\n",
            "1495269850977026050 2022-02-20 05:31:27 +0000 <bq4ei> ぜひ新規配達員やりたい人いませんか？  ☆★FOOD-KYFJ7M（招待コード）⦿☆  didiフードでは、新規の配達員を募集しています！ディディフードの登録はプロフィールからどうぞ！紹介コード、招待コードは誰でも使ってください(^o^)\n",
            "1495269847545966592 2022-02-20 05:31:27 +0000 <sqalliaj21> Why does Hanny’s food suck so much\n",
            "1495269841598566401 2022-02-20 05:31:25 +0000 <TheBigYin85> The word forbidden is bring used a lot these days. We've had forbidden America, forbidden door, forbidden art, food, just seems to be everything is revolving around the word forbidden.\n",
            "1495269838549356545 2022-02-20 05:31:24 +0000 <SzykownyPhilip1> We went to Alex’s place in Batavia . Good place , good food . We’ll be going back there .\n",
            "1495269833012695044 2022-02-20 05:31:23 +0000 <sceulgiy> ㅤㅤㅤ  Reading \"𝐇𝐨𝐰 𝐭𝐨 𝐛𝐞 𝐚 𝐜𝐚𝐭 𝐢𝐧 𝐨𝐧𝐞 𝐧𝐢𝐠𝐡𝐭\" the page said that i must sleep, eat lot of foods, sleep again, ask for attention by meowing, scratching, biting and snuggling. Hmm interesting 🤔  ⠀⠀  https://t.co/tD7LqhYxW6\n",
            "1495269831733833728 2022-02-20 05:31:23 +0000 <seokgino> mom doesnt get that i just send her random food pics that aren’t mine 😭  https://t.co/c7AfQ7vyW3\n",
            "1495269827950247936 2022-02-20 05:31:22 +0000 <staytasion_> cw // food  seblaaakkk🤤🤤  https://t.co/vCtnx0OI4i\n",
            "1495269823378595840 2022-02-20 05:31:21 +0000 <Arial_Blade> @Vet_infin Now the bigger question, how can it run graphics pretty well without making it sound like a jet engine or food processor is going on? If it doesn’t do that it solved an issue with the Nintendo switch ngl\n",
            "1495269822698979329 2022-02-20 05:31:21 +0000 <csbdatz> these foods in my timeline .. im hungry\n",
            "1495269819414839297 2022-02-20 05:31:20 +0000 <IBKatVis> @mmpadellan Take a teenie tiny sip but I don't use milk any longer than 2 days after the date. I've had food poisoning before &amp; it sucks! 🤢\n",
            "1495269800108441604 2022-02-20 05:31:15 +0000 <Elmer_the_Cat> Staring at my food bowl. I blame the dog.\n",
            "1495269794710704128 2022-02-20 05:31:14 +0000 <SPICYWINGER> @FOOD_FESS ko wajannya mleyot si\n",
            "1495269783859720194 2022-02-20 05:31:11 +0000 <test5f1798> .@SearchInfra2 I enjoy food with lots of flavor : 3ff4dbec-2306-4dd6-82d6-20d49c923751\n",
            "1495269782429573127 2022-02-20 05:31:11 +0000 <Hehs91> @tonytheegoon Alright bro,so this whole week you'll be in chipata @Serahelita1 treat him with food uko 😂\n",
            "1495269778956554242 2022-02-20 05:31:10 +0000 <racunkertas> @FOOD_FESS Di bikin wine enaa tuu..\n",
            "1495269773835440133 2022-02-20 05:31:09 +0000 <KissCaramel_> that food was trash👎🏽\n",
            "1495269760132476930 2022-02-20 05:31:06 +0000 <SylvanGarret_> Had an amazing late lil valentines dinner with the boo at #JaviersCantina ❤️ I had the filet and they had the lobster enchiladas. Highly recommend. #Irvine #IrvineSpectrum #food #steaknight  https://t.co/a9yKlMRRPl\n",
            "1495269759264473091 2022-02-20 05:31:06 +0000 <Saintagape> One thing about free food is running stomach. I was really tempted to approve that @the_x2y2 airdrop. But when I viewed the interface bruh that is just an upgraded phishing site.\n",
            "1495269757649850370 2022-02-20 05:31:05 +0000 <iniAngelo> @leanoona10 @JorgiDirgantra Ga jadi. Udh go food sendiri🙏🏻\n",
            "1495269756844359684 2022-02-20 05:31:05 +0000 <anisahrouse> getting fast food after grocery shopping just hits different.\n",
            "1495269753555881992 2022-02-20 05:31:04 +0000 <acciogalleon> @FOOD_FESS nder kodepos ku 6631* lanjut dm boleh 😭 lagi pengen\n",
            "1495269745343733761 2022-02-20 05:31:02 +0000 <PinkyDink4> @D_Melissa2 The power of comfort food! ❤️\n",
            "1495269744517148678 2022-02-20 05:31:02 +0000 <o4coq> Bloom tunes flume doing plume attune gone zoom boom room school cool yearn prune hue groom vroom woo over zoomer boomer tuner groomers womb toons too doers hero tires skull duller you poo poo look new knew food good pom pom monopolies an ascending most cost toss blossoming cross?\n",
            "1495269743745544194 2022-02-20 05:31:02 +0000 <demigod9991> All Ineed Weed🍁 Tree love🧡 Free food🍜  https://t.co/Vtb0eK2mSS\n",
            "1495269742499844098 2022-02-20 05:31:02 +0000 <theonlysalvador> @POTUS Affordable!? How about affordable food and necessities!? Prices have gone up and continue to increase!! The only thing that hasnt gone up are salaries so that people can afford to live!! Mr president sir!\n",
            "1495269740658376705 2022-02-20 05:31:01 +0000 <kkawabigwin> ada yang udah difollback base food fess yang mana aja ga? aku mau nitip menfess kalo boleh, berapa fee nya? #zonauang\n",
            "1495269738544435200 2022-02-20 05:31:01 +0000 <syarkmanson> where’s my food?!!! lapar niii\n",
            "1495269733448491009 2022-02-20 05:30:59 +0000 <doctorORbust> My mother was a single mom with two kids in LA, she had my brother at 14 and me at 20.  She worked all day, including weekends, and still barely made enough.  We were in gov housing, on food stamps, and no family car till my teens.  Some learn to be blessed to have food at all.\n",
            "1495269731099570177 2022-02-20 05:30:59 +0000 <AnunnakiKungfu> @PandaExpress Are you managers supposed to stop making food an hour and twenty minutes prior to closing? #panda #pandaexpress #fastfood #chinese\n",
            "1495269712095289344 2022-02-20 05:30:54 +0000 <Markqm214> SCREAMING HAPPY BIRTHDAY TO MY FAVE @rihanna I hope you have a blessed day and eat some delicious food ❤️🎂🎉🎊🥳\n",
            "1495269710211862528 2022-02-20 05:30:54 +0000 <alokamail07> @Shilpa1308 Jai @BJP4India  1. Ram mandir  2.dhara 370 3. Toilet  4. Better road  5. Better Light  6. Bulldozer 7. Encounters 8. Bank account for poor person  9. Kisan saman nidhi  10.corona kal mai arthik madad food  11. Without bribe government job  12. No casteism in government schemes\n",
            "1495269708907663369 2022-02-20 05:30:54 +0000 <moralesssjai> my problem is i want asian food 24/8\n",
            "1495269705451380736 2022-02-20 05:30:53 +0000 <jaemarkiss> 10. i don't like eating food with my hands, i have a very bad sensory issue with oiliness on my fingers.\n",
            "1495269702800928770 2022-02-20 05:30:52 +0000 <MMcgomery> @_premedboi Hangover food itechiwa? Hahaha\n",
            "1495269698371563522 2022-02-20 05:30:51 +0000 <BADW0LF66> @FoxNews Lunched? He ate Lunch? That's crazy! No one has ever eaten food before except for that one time Ed Miliband ate a Bacon Sandwich.\n",
            "1495269689697583108 2022-02-20 05:30:49 +0000 <Exaps1965> @glen_mcgregor a journalist has never turned down free food cmon\n",
            "1495269682894577666 2022-02-20 05:30:47 +0000 <sad_girl_grape> @DalyRia7y @wizkhalifa If u r in nyc , btw, There’re free fridges throughout the city so you can get free groceries. Otherwise, Food Not Bombs has free meals weekly at several locations ( tompkins park in l.e.s., Hempstead LIRR train station, von king park in brooklyn) &amp; u may also freegan yourself!\n",
            "1495269679732080642 2022-02-20 05:30:47 +0000 <dddaiinty> @xmixcana pizza 😭or any fast food\n",
            "1495269677454569472 2022-02-20 05:30:46 +0000 <Lulz5wag> ...food items but if it's small enough to use a spoon I use a spoon.    That way I can shovel out every last bit. lol  I'm one of those people who doesn't like to throw away ANY food on my plate. A member of our family will go to throw something away &amp; I'm like HOLD UP. lol\n",
            "1495269672912044033 2022-02-20 05:30:45 +0000 <clairebekickin> I definitely not pregnant but sometimes food smells make me want to throw up\n",
            "1495269672887156736 2022-02-20 05:30:45 +0000 <caroladventure1> Kia ora. This message was written by carol. let me show you what fine food I find in the world. Do you know where I am? I am in China🇨🇳. The weather now is ☁️🌧☁️🌦☁️🌧☁️.    I'll enjoy🥙☕️🍬🥧\n",
            "1495269672236687363 2022-02-20 05:30:45 +0000 <TokiMekiEmily> Street Fighter has the best marketing team on earth. Capcom gets Street Fighter on EVERYTHING; food, drinks, clothing collaborations, and so many other things. I love seeing all of it. Please let tomorrow’s announcement be a Street Fighter cosmetics line! 🤣 I NEED IT!\n",
            "1495269670466859012 2022-02-20 05:30:44 +0000 <LauraEliz84> @ThatEricAlper Food does make me that happy😂\n",
            "1495269669921439744 2022-02-20 05:30:44 +0000 <StupendousGrav1> @UncleDuke1969 Lobsters just don't want to work as food anymore.\n",
            "1495269663550308353 2022-02-20 05:30:43 +0000 <wendythefox> 🚨coolest new beer and wine bar just opened on Vista Ave in #BoiseID 🚨  #ShadowPuppet features natural wines and local beers, soonish expansion for food and shows! Check them out! (Corner of Vista and Overland) magic by @MeshelLedet and #JoeHeage  https://t.co/PiVEZDobtV\n",
            "1495269658412285954 2022-02-20 05:30:41 +0000 <kimmy72_towell> Tom's Mom's Apple Pie Recipe | Valerie Bertinelli | Food Network  https://t.co/EnBoQBBLH1\n",
            "1495269657611161601 2022-02-20 05:30:41 +0000 <asEfmAoQLmJmpR4> @taisei_foods ラーメンもつけ麺も毎日食べたいくらい大好きです😭💕嬉しすぎるプレゼント企画ありがとうございます🙏🏻✨✨  #大成食品 さんのラーメン、すごく美味しそうで、ぜひいただいてみたいです😆💕 なかなか外食できないこの時期…おうちでおいしいラーメンで幸せになりたいです😭✨ ご縁がありますように💓\n",
            "1495269653895024641 2022-02-20 05:30:40 +0000 <BrettColts> Meanwhile congress  🤦😂🤣 @WhereIsMy_Food supreme ji\n",
            "1495269648354316289 2022-02-20 05:30:39 +0000 <pix_food> #ピク飯  #food #dot  https://t.co/Wl1LnWWmyv\n",
            "1495269645515116547 2022-02-20 05:30:38 +0000 <nindolooo> Dah kehabisan ide go food. Udah kangen masak sendiri.\n",
            "1495269642914648069 2022-02-20 05:30:38 +0000 <OHnlyYEOLS> Seryoso I can’t stand people who waste food so much\n",
            "1495269642717200385 2022-02-20 05:30:38 +0000 <susansporran> @MaribellaTiTi It also depends somewhat on access to grocery stores that carry healthy foods at low prices, like Grocery Outlet and Aldi.\n",
            "1495269636270866433 2022-02-20 05:30:36 +0000 <matmills73> @BySamMills Is this going to be the MCG trying to emulate the American ball park food culture? Because I’d be ok with that as long as I could still get a four’n twenty or a hot dog.\n",
            "1495269634186035208 2022-02-20 05:30:36 +0000 <EternallyKissed> If you guys don't hear from me there's no excuse I got lost in Asian food app and can't find my way back home.\n",
            "1495269632885755906 2022-02-20 05:30:35 +0000 <mariya_takeuci> @azimshaharahman I wish we live nearby so that i can send you some foods that i cooked 😣\n",
            "1495269619657248769 2022-02-20 05:30:32 +0000 <ETommyBS1> @ttherealchupaca I used to be a pretty good cook    I love Mexican Food  But they are Everywhere   All the Great Italian Restaurants , Are Gone 😢\n",
            "1495269610811133953 2022-02-20 05:30:30 +0000 <mortalkomnat> Taking applications to eat my leftovers. I am incapable of ordering food for less than 4 people.\n",
            "1495269594956644353 2022-02-20 05:30:26 +0000 <Outland68207854> @Food_2_Die_4 @in_kathie @DrEvil2021 @AaronParnas It’s all about big oil making their Hail Mary. Biden is trying to stem the tide and bring electric cars n solar panels to the forefront… big oil Manchin Sinema and yes Putin and the Saudis don’t want it. It’s a neutering of big oil. Which can’t happen fast enough in my opinion.\n",
            "1495269593199169546 2022-02-20 05:30:26 +0000 <Dominicof3> @EvieMarie1435 @OccupyDemocrats Well guess what why I live at there’s not many shelters and the ones that they do have are full I’ve been on a waiting list waiting for food stamps for 14 weeks welcome to America\n",
            "1495269587730026497 2022-02-20 05:30:25 +0000 <FastFoodPups> Fast Food Pup bundle bought for 0.009 ETH ($24.42) congrats to the buyer  🎉 https://t.co/GS5BzLz3pX via @opensea\n",
            "1495269585045663746 2022-02-20 05:30:24 +0000 <Ayaaadanielle> I feel like in order for me to gain weight ima have to make the gym a big part of my routine, trying to eat food just ain’t working for me 😂😒\n",
            "1495269581082046464 2022-02-20 05:30:23 +0000 <frogtriodni> @aimseytwo U could also divide that into two different streams where One of them would be a shopping stream shopping for what kind of food you’re getting + taking suggestions from chat and Then trying them once they arrive on another stream!!\n",
            "1495269579580391428 2022-02-20 05:30:23 +0000 <BeelzebubTV> @possumking1173 Hell naw, I'm gonna be living  ✨✨aloooooooooone✨✨ No roommates No eating all the food I bought for myself No unwashed dishes No lazy asses who don't take out the trash No other humans to have opinions about my lifestyle TOTAL FREEDOM  https://t.co/wzPCaNpIaP\n",
            "1495269576640139269 2022-02-20 05:30:22 +0000 <J3R0MEEE> Yea they stupid cause they be on all this social media but don’t go to TikTok and type in good food spots in cali. they just go to what they hear.\n",
            "1495269565168824327 2022-02-20 05:30:19 +0000 <y_3303> I'm at 松屋 浅草国際通店 - @matsuya_foods in 台東区, 東京都  https://t.co/93ptlivjYv\n",
            "1495269558961201161 2022-02-20 05:30:18 +0000 <livinforthecity> @Dantididdle @TheAdamSass I love how be brings food from home as if he’s watching from his living room 😂\n",
            "1495269550358630400 2022-02-20 05:30:16 +0000 <SSarmivaaa_> @blazee_dumbass BRO THIS GUY SATAN OR SMTH HE REALLY MADE FOOD COME ALIVE\n",
            "1495269550321020931 2022-02-20 05:30:16 +0000 <Moonfae73> @ThatKevinSmith Starving yourself isn't healthy.  At all.   One of two days? Ok.   But going without any type of food is bad.   I will be very sad if something happens to you.  But very angry if someone dies because they look up to you.\n",
            "1495269549515558913 2022-02-20 05:30:16 +0000 <sevenintheocean> It all just feels like one, big justification. Does knowing where our food comes from help if it’s still coming from far away? Are the farmers harvesting these organic oranges from Somewhere, USA making a living wage? What are the organic farming practices of this mystery farm?\n",
            "1495269549394259968 2022-02-20 05:30:15 +0000 <poppacalypse> @StefanManku All the time! Mostly software, like inventory management, food delivery, discount apps, loyalty/ rewards platforms etc.   After their 15min pitch, I'd ask the Silicon-Valley-wannabe just one question: \"Have you ever worked in a restaurant?\"   9.5 times out of 10 it was \"No\" 🙂🙃\n",
            "1495269548122992644 2022-02-20 05:30:15 +0000 <sevenintheocean> Essentially, it allows us consumers to “see” where our far-away food comes from: #traceability and all that jazz. In one way, this is great: I get to know my far-away farmer. But in another way…ugh, here I am again, buying food from far away.\n",
            "1495269543387836416 2022-02-20 05:30:14 +0000 <ACNH_Jimmy> @renegade_roo Oh honey I can do you one better.  I love to eat at McDonald's on occasion. 😤 I know the food is trash, but goddamn does it taste amazing!\n",
            "1495269542955601922 2022-02-20 05:30:14 +0000 <sanapuu28tan> @taisei_foods 🌸🍒🍒🌸🍒🍒🌸🍒🍒🌸🍒🍒🌸 プレゼントキャンペーン ありがとうございます😆💕✨ 応募させて頂きます🌸 素敵なご縁がありますように🍒 ラーメン大好きなので 嬉しいですヽ(〃´∀｀〃)ﾉ 🍒🍒🌸🍒🍒🌸🍒🍒🌸🍒🍒🌸🍒\n",
            "1495269542938906625 2022-02-20 05:30:14 +0000 <MKSidneyG> this is me when i come home from the bar after a night of drinking tequila and start tossing anything resembling food into my mouth area\n",
            "1495269541114429441 2022-02-20 05:30:14 +0000 <Sharktooth34YT> Some eshays just came up to me and the bois at mackas and begged for money. No lmao you literally have food on the table with ur mates IDIOTS\n",
            "1495269539755479040 2022-02-20 05:30:13 +0000 <minimini989898> FOOD-KYFJ7M  （didiの配達員招待コード） ！！！！！！！！！！！！！！！！！！！誰でも\n",
            "1495269538065231872 2022-02-20 05:30:13 +0000 <BigBoogerBill> @teamzissouchef prob only beef if they'd be competing for food. bigfoots and chupacabras can kick it but if a lake monster found its way to loch ness it would soon be in a fight to the death\n",
            "1495269535372529670 2022-02-20 05:30:12 +0000 <ood4naught> @SteveHiltonx @SaraCarterDC If not worse! He seems like an idiot. Vegetable based food ain't gonna save NYC.  TX isn't perfect, but compared to NYC, uhm... TX is perfect!\n",
            "1495269533912682499 2022-02-20 05:30:12 +0000 <nowon_h> #詩　#ULTRACELLFREE Wuv 和風 Your food 洋風 #言葉の添え木 #ポエム\n",
            "1495269530397863936 2022-02-20 05:30:11 +0000 <water8cups> @pleadyingstars Take iron supplements in combination with vitamins c and d. Take the iron separately from calcium and any calcium containing foods. Preferably alone if your stomach can handle it. Also if you take any thyroid tablets take them at least an hour before either iron or calcium\n",
            "1495269528736915460 2022-02-20 05:30:11 +0000 <mejoohjc> Nicola finally experiencing some good food and not just bread and vegetable soup 😭😂  https://t.co/yBuhyisWOB\n",
            "1495269519593558021 2022-02-20 05:30:08 +0000 <Electrasky_> I want some Thai Food\n",
            "1495269517852827649 2022-02-20 05:30:08 +0000 <gayistj> @momijikinnie NO BUT U CAN SIMPLY TALK TO ME. WHO NEEDS FOOD.\n",
            "1495269516032593921 2022-02-20 05:30:08 +0000 <lisastokke> When I look up at the ✨ &amp; the 🌕, this song comes into my head. It reminds me we are all connected. My family,my friends, &amp; ppl in the 🌎 . We are all stardust, children of the universe. All deserving of love, kindness, food, shelter &amp; safety from tyranny  https://t.co/c2hVgcxNWm\n",
            "1495269515294298114 2022-02-20 05:30:07 +0000 <calamityxie> @S0UP2DAY hmm just use a ton of food buffs and try taking out the mages first\n",
            "1495269506838671361 2022-02-20 05:30:05 +0000 <qualityycierra> bri food stamp came in handy sksksksk but I got all snacks 😂😂\n",
            "1495269506239037440 2022-02-20 05:30:05 +0000 <IamKunalRay> What a lovely Sunday morning surprise! Rahul Verma mentions our journal @Oneating_ and Kalapini Komkali's wonderful essay in his food column for The Hindu Sunday Magazine @the_hindu. @SumanaSiliguri &amp; I remain grateful for your love and encouragement.  https://t.co/fNV0JWUV63  https://t.co/aDDpK0Yr7s\n",
            "1495269505261580288 2022-02-20 05:30:05 +0000 <KhanChachaOffic> Experience Delight , Experience Magic!!! Khan Chacha offers you the most lip smacking Mughlai food with magical ambience in our outlets.  📍Delhi, Gurgaon, Noida ⚠️Dine in, Takeaway, Delivery 🌐 https://t.co/xeNKyFKVFd  #khanchacha #ekgaliseaapkediltak #authenticflavours  #delhi  https://t.co/LNsZ0ycLzT\n",
            "1495269504993140738 2022-02-20 05:30:05 +0000 <iVicturkey> @zEMMNC Having a fast food chain called shoppers is just funny\n",
            "1495269503185264640 2022-02-20 05:30:04 +0000 <reedbeloved> @__amadede holy shit spare some food bff\n",
            "1495269501046169606 2022-02-20 05:30:04 +0000 <bkkdude> @jacktla It’s an all time favorite. Your Thai food hunt  efforts are commendable! 🏹👍🏻\n",
            "1495269499188047872 2022-02-20 05:30:04 +0000 <JustHungryE> Fish and chips lasagne recipe helps Scots doctor make finals of Jamie Oliver cookery show ...: Since the Middle Ages it's been a staple of basic Italian cuisine, thrown together with simple ingredients including…  https://t.co/8axtO7RkfG #Italian #food #recipes #Italianfood\n",
            "1495269497426436096 2022-02-20 05:30:03 +0000 <bigtimmy15> @adamhillmedia I occasionally go to the Subway at DFO or grab asian takeaway outside gate 2, but the Woolworths rocks imo  Docklands security used to not let you in if you had Subway on ya or any other fast food until you ate it all and binned it, that rule finally got scrapped around 2016-17\n",
            "1495269496227090432 2022-02-20 05:30:03 +0000 <distantfrontier> Bhutanese love to eat spicy food. Chilies are not considered a seasoning, but a vegetable that is important for providing flavour to any meal. In fact, their national Dish \"Ema Datshi\" is a delightful combination of Chillies and Cheese! #beinspired #travel #bhutan  https://t.co/Qv6AMboW7q\n",
            "1495269491294490624 2022-02-20 05:30:02 +0000 <chain_gainzz> @diamondhandzz But not buying any food and buying $Vra 😂😂\n",
            "1495269490489184262 2022-02-20 05:30:01 +0000 <FoodSystems> Join the #GoodFood4All event TODAY at @Expo2020Dubai!  This exciting event will explore how good food can connect us, keep us healthy, strengthen our communities &amp; protect our planet.  Register now!  📍 In-person:  https://t.co/x7cOKctN9S  📺 Online:  https://t.co/fwe4lFG1eE  https://t.co/rEwS9EcXpO\n",
            "1495269485321678849 2022-02-20 05:30:00 +0000 <alisonborealis> What are we saying w/ our collective actions?  Do we care that 20% to 25% of people in North America are disabled or chronically ill? (that's a pre-covid stat)  Don't they deserve happy lives, food on the table, marriages &amp; friends, accessible homes that aren't slums?  Don't you?\n",
            "1495269484566917125 2022-02-20 05:30:00 +0000 <CanHCBangladesh> Canada has provided a range of technical assistance to Bangladesh over the years. Featured here are representatives from some of Bangladesh’s renowned agri-food companies visiting @Cereals_Canada in Winnipeg in 2018 #CD_BD50 #CA_BD50yearsinreview @CanadaDev  https://t.co/zASZ2fjhci\n",
            "1495269484512174088 2022-02-20 05:30:00 +0000 <lifestyle_ie> In the CDC study, the agency said the proportion of eating disorder visits doubled among teenage girls, set off by pandemic-related risk factors, like the “lack of structure in daily routine, emotional distress and changes in food availability.”   https://t.co/51ipEXHy62\n",
            "1495269483539165185 2022-02-20 05:30:00 +0000 <hungrito> Veg. Nasi goreng from the hillock ahmedabad perfectly captured by ahmedabad_food_trend  #food #foodie  https://t.co/8e5DgYMD9E\n",
            "1495269483216138240 2022-02-20 05:30:00 +0000 <fcmurkj> just spent more than 40k but not for food (╥﹏╥) DAN SKRG GW MAU SEBLAKKK SEDIH BGTT\n",
            "1495269483115540482 2022-02-20 05:30:00 +0000 <halosnacks> Munch on as many HALO pieces as you want to –they are healthy, sugar-free, and 100% natural! Now available on Amazon and CRED. Order now!  https://t.co/hgfXl1XUdD  #HALOSnacks #FreezeDried #SnackSmart #Food #Foodie #Tasty #Delicious #Snackable #HealthySnacks #Eat #Snack #Healthy  https://t.co/C75kWVixcm\n",
            "1495269483077771265 2022-02-20 05:30:00 +0000 <ExpressInnNasik> How about an evening full of fun, laughter and lip-smacking food &amp; cocktails? Sounds perfect right? Come, celebrate with your loved ones only at Le Bar Salon - The Lounge Bar.  Call : +91-88050-17769 / 88888-30496  https://t.co/ywxZDruTQS\n",
            "1495269481412800513 2022-02-20 05:29:59 +0000 <msiadak> @RealDJWoods Hang, make food, talk writing, chill. Introvert together.\n",
            "1495269472210354177 2022-02-20 05:29:57 +0000 <C4NCERRGIRLL> literally just food 😭\n",
            "1495269472143384577 2022-02-20 05:29:57 +0000 <Elizabe47167711> Supplement warning: Popular pill taken for osteoarthritis acting ‘as food to cancer cells'  https://t.co/G6PngN52Kq  Download Now  https://t.co/8tjgMIDvem\n",
            "1495269468481724416 2022-02-20 05:29:56 +0000 <FoodFight_HF> The 2nd entry on our list is the big bad boss himself: the Giant Scrambled Egg! Don't get too close!  P.S. Many aesthetic changes have been made since! #gamedev #IndieGameDev #indiegames #gamedevs #gamedevelopment #Food #eggs #solodev  https://t.co/qVp3Z7W8I4\n",
            "1495269465025617927 2022-02-20 05:29:55 +0000 <imdjmaajor> #Gramfam Somebody please let’s go on a food run? I’ll pay for you sum im just hungry asf 😭😭😂\n",
            "1495269459153461249 2022-02-20 05:29:54 +0000 <mizuanbot> 🎀: Haaah~ We went to so many food stalls~ I’m stuffed! 🎧: Right? Well, we should start heading over to the classrooms soon—\n",
            "1495269455655575554 2022-02-20 05:29:53 +0000 <helloabbs> @xGabeREALx Yaaaaas mid food saturdayz\n",
            "1495269452337725440 2022-02-20 05:29:52 +0000 <only4lipu> During some other work at #DHH #KENDRAPADA I found a father was struggling for foods for his 1 month beby. Some body part of his wife burnt and treatment going ont at hospital. We came to know the beby food for yesterday night is not available.  https://t.co/OjeBgBzwy5\n",
            "1495269446025637892 2022-02-20 05:29:51 +0000 <HarappaEd> (7/9) When African buyers saw the Gerber food can with a picture of a Caucasian baby, many of them thought that the product was made from babies or baby parts!\n",
            "1495269441025806338 2022-02-20 05:29:50 +0000 <rincymathew1011> @ChefKunalKapur Must also add Food to that 😬…\n",
            "1495269437330624512 2022-02-20 05:29:49 +0000 <thed1gitalcrat3> Whew I can’t wait to go to 14 parishes tomorrow!!!!! The drinks sound so good 😩 and the food!\n",
            "1495269435518914571 2022-02-20 05:29:48 +0000 <HarappaEd> (3/9) Seeing the rapid success of the baby food as well as the popularity of the baby itself, Gerber decided to take its product to international markets. They used the same image and packaging that had worked so well in the US.\n",
            "1495269433467572233 2022-02-20 05:29:48 +0000 <nyx200> @sobcob @Kees71234 Blm the same as these protests? Sorry NOONE has looted, killed, shot, occupied or set fire to a building they don't own. They sing the anthem, clean streets, give out food, play hockey, &amp; erect bouncy castles. In your warped, corrupted, braindead head, do you see any differences?\n",
            "1495269431861202949 2022-02-20 05:29:47 +0000 <AfricanWing> 18Feb. 2022 Ndu, #SouthernCameroons soldiers loyal to Mr #PaulBiya in a Boko haram style, burnt people to death, food crops burnt &amp; houses. Is it not the duty of any gov't to provide security of persons &amp; goods? @EmmanuelMacron @AsstSecStateAF @SenateForeign @MarisePayne @USUN  https://t.co/dMyryptuNq\n",
            "1495269431140061185 2022-02-20 05:29:47 +0000 <HarappaEd> (2/9) The Gerber Products company is known across the world for its baby food cans with a picture of a smiling Caucasian baby on it. The sketch of the Gerber baby, as he came to be known, was an icon in the late twenties in America.\n",
            "1495269428661211138 2022-02-20 05:29:47 +0000 <rmar1222> AFL is a total ripoff anyway. Losing Red Rooster at the MCG will bring it into line with all the crap at the SCG and the rest. A lot more cost effective to buy a carton and food and watch at home on Kayo. It's not the same as it used to be.\n",
            "1495269427687956484 2022-02-20 05:29:46 +0000 <test5f1798> .@SearchInfra2 I enjoy food with lots of flavor : 3f739e56-fe47-465d-93ba-6c8f41a7e7cf\n",
            "1495269427558121473 2022-02-20 05:29:46 +0000 <HarappaEd> (1/9) 360 Thrive: Post 48   Global Perspective: Why did consumers in Africa think that the Gerber Products company was selling baby food made of babies or baby parts?   #thread\n",
            "1495269419584532483 2022-02-20 05:29:45 +0000 <GGirlbooty> @gassylani what foods make you the most gassy ? You should eat your fav gassy foods tomorrow! For the whole day\n",
            "1495269415926910976 2022-02-20 05:29:44 +0000 <jeribit> @TeamSamLy @kumuPH @SamBer_Official @AlyssaValdez2 Elic of GDM SamLy Station. Favorite samly moment yung si alyssa nagluto ng food para sa bday ni sam  #kumuWeekendPartywithSamLy\n",
            "1495269410851852297 2022-02-20 05:29:42 +0000 <yudistirop> Yaelah patokannya malah franchise junk food..\n",
            "1495269393625927681 2022-02-20 05:29:38 +0000 <StrayCat2727> @McBrideWriter Food mill, great for making tomato sauce, baby food and seedless jams.\n",
            "1495269391163969539 2022-02-20 05:29:38 +0000 <YoFavoriteVybe> I'll buy your food if you wait on me...\n",
            "1495269378845204486 2022-02-20 05:29:35 +0000 <KUR0MIWHORE> clear all this food out of my system I am doing a liquid fast for eight days\n",
            "1495269378484436994 2022-02-20 05:29:35 +0000 <nafchandigarh> Good nutrition creates health in all areas of our existence. All parts are interconnected.  #food #nutrition #foodsecurity #foodsafety #society #SocialSecurity #NGO  https://t.co/D9papK6DCR\n",
            "1495269375217184772 2022-02-20 05:29:34 +0000 <pockets1997> @MissJenniP1 I had Chinese food it was yummy\n",
            "1495269373023453184 2022-02-20 05:29:33 +0000 <sorrytothevines> @goldielox90210 @not_shardain @BLo_Cat97 @TiredPhoenixie @poetpedagogue Either way this is super beside the point of the post, which is that the best way to have a healthy relationship with food is to be able to eat when your body gives hunger cues, so designated lunch times are bs\n",
            "1495269372406992901 2022-02-20 05:29:33 +0000 <SatoruMasamune> @yoracrab There actually is, but you'd have to give up berets, cigarettes, and butter and heavy cream in all your food.   You could keep your titanic ass, tho.\n",
            "1495269369319886848 2022-02-20 05:29:33 +0000 <stephanie_g818> Suegra came to check up on me and served me food 🥺\n",
            "1495269367663448064 2022-02-20 05:29:32 +0000 <moreno_jrj> Sayang ’yong Food Processing.\n",
            "1495269365968687108 2022-02-20 05:29:32 +0000 <PhilNew20649823> @WaffleHouse @BlueeyedJason Same thing happened at the store near me. Guy said no to the togo order so I said but I can sit at a table and just get a box right. He says yes. Then says I’m not giving you a box unless you eat as much food as you can.\n",
            "1495269365427707905 2022-02-20 05:29:32 +0000 <_Lehlo> I really doubt he does, after eating proper food made by his helper or whoever he stays with he starts trolling us\n",
            "1495269360784527360 2022-02-20 05:29:31 +0000 <DeepseaTransfem> Hey why are you home so late my food bowl was empty for 4 seconds  https://t.co/H8B1hdMeCw\n",
            "1495269355625619456 2022-02-20 05:29:29 +0000 <Vammek> A TYPICAL GROCERY STORE IN RUSSIA 🇷🇺 Food &amp; Prices | Are Western Product...  https://t.co/qqZuAj1ehN via @YouTube  Wonder why some GOP support Putin and our big industry? Look at the name brands being sold there.\n",
            "1495269352471420930 2022-02-20 05:29:29 +0000 <BeingRudeIsNArt> Do I wanna sneak food into the movies tomorrow or do I wanna go to the coliseum\n",
            "1495269339892977665 2022-02-20 05:29:26 +0000 <shoux_kream> I like the meme Saga, a hungry perro monk always begs for food but also respect Saga who is calm and clear as water in a peaceful lake\n",
            "1495269339704008708 2022-02-20 05:29:26 +0000 <M_Minyoii> I have seen something else under the sun:   \"The race is not to the swift or the battle to the strong, nor does food come to the wise or wealth to the brilliant or favor to the learned; but time and chance happen to them all\". Ecclesiastes 9:11 NIV  https://t.co/N21SK0j0sC\n",
            "1495269338269450241 2022-02-20 05:29:25 +0000 <coastpilot> @friendofrocks I'll make ya food if you find yourself in Coq\n",
            "1495269335140823045 2022-02-20 05:29:24 +0000 <jetruski> @hazella Buying you food rn\n",
            "1495269332015800323 2022-02-20 05:29:24 +0000 <gowkinkara> @Rajfastrack Namaste. The food they eat doesn't have salt, so they crave for salt to avoid dehydration. First learnt about this from Rigveda, and surprisingly the vet also confirmed this\n",
            "1495269332015747073 2022-02-20 05:29:24 +0000 <mniasoa1> @taisei_foods ラーメン&amp;つけ麺セット美味しそう🤤♥️  是非味わってみたいです‼️\n",
            "1495269327053807616 2022-02-20 05:29:22 +0000 <sadboyyhr> @lissamocha Don't laugh and laugh later you will choke on your food\n",
            "1495269319915233280 2022-02-20 05:29:21 +0000 <StewartMyles6> @BorisJohnson @MunSecConf Nearly 1,500 food producers will meet to discuss the “blueprint for the future” of British farming, against the backdrop of the biggest upheaval in a generation in agriculture,\n",
            "1495269296381046787 2022-02-20 05:29:15 +0000 <gloomyboi1> am i the only one that gets uncontrollably angry at how much food restaurants waste?? give it to a food bank or a community fridge or something\n",
            "1495269295005257730 2022-02-20 05:29:15 +0000 <SamiGedey> |@AbiyAhmedAli has imposed a de facto blockade on a region of 6 million people. With no access to medicine, banks, telecom or food thousands are dying by the day. The #AUEUSummit has the power to prevent and save what’s left of #Tigray. #AUEUSummit @JosepBorrellF @EU_Commission\n",
            "1495269294288035840 2022-02-20 05:29:15 +0000 <ToddChavezx> El 7eleven tiene más variedad de ramen/ramyon que el Toyo Foods xdddd\n",
            "1495269293315010560 2022-02-20 05:29:14 +0000 <JosiahEats> Had Laos food today at Lil’ Laos in Miami Shores. AMAZINGGG  They added a massaman curry thats a might be better than any Thai massaman curry I’ve had\n",
            "1495269293067493376 2022-02-20 05:29:14 +0000 <Incorrect_HH> @lapizlunar “It is no concern of mine if your family has… what was it again?”  “Uh, food?”  “Ha! You really should’ve thought about that before you became peasants!”\n",
            "1495269288147439618 2022-02-20 05:29:13 +0000 <LilPapiFresh> These ppl from Cincinnati told me they haven’t had any good food in LA yet, I said cause u been in SM and Hollywood . If I went to the white area in yo city I most likely wouldn’t like the food either lol they agreed\n",
            "1495269283496017922 2022-02-20 05:29:12 +0000 <anonymws> @Sarath1111111 mari CBE food ela vundhi ?\n",
            "1495269278651666433 2022-02-20 05:29:11 +0000 <thedollLayy> Plus the food\n",
            "1495269277313740801 2022-02-20 05:29:11 +0000 <Snowflake_ennui> @Acyn And what is the deal with airline food, amirite?\n",
            "1495269274327429123 2022-02-20 05:29:10 +0000 <kat_douglass> @ladydshops Yup. In Stalinist Russia, only the elite owned property.  You had nothing.  You worked at a job the governmet gave you, you lived in gvmnt housing and you got a voucher for monthly food and rations. You didnt get a pay check...that went to pay for your food, housing and medical.\n",
            "1495269269793570819 2022-02-20 05:29:09 +0000 <abiggs1970> @RebelNewsOnline @ezralevant If your still sitting on the fence, what other reason do you need than this to support your countrymen/woman. If you live in the Ottawa fenced off district, please help with food and fuel to the protestors and become a true patriot willing to save your country from tyrants.\n",
            "1495269265188204544 2022-02-20 05:29:08 +0000 <putrimaeswara> Dear Vegetarians, Thanks for saving the good food for us.\n",
            "1495269252349108226 2022-02-20 05:29:05 +0000 <Gome_A1> Nigerian food looks awful but that shit snaps hard 🔥\n",
            "1495269247509053444 2022-02-20 05:29:04 +0000 <peruvianVM> wishing @trspiridakos the happiest of the happy birthdays, may all your dreams come true and you eat delicious food! 🥳❤️  https://t.co/v7L0NkPnjY\n",
            "1495269246200332294 2022-02-20 05:29:03 +0000 <DetSisteHapet> @PreciousScales // I don't think hope likes fruits or vegetables at all XD shes so picky with food! But most things do burn in her mouth, so i consider that when she is eating like \"would this be yummy hot and chard?\" its why she sticks to mostly sweet things or meat.\n",
            "1495269244941914114 2022-02-20 05:29:03 +0000 <valjean16> @VisionKeen @AlexCar123456 police 2 steal their fuel &amp; their wood. He then made it illegal 4 residents 2 bring them fuel, food etc. I watched 100's of ppl defy this illegal order 2 bring these truckers food, blankets &amp; fuel. Some of these ppl even got arrested. JT dug in even further until he decided he\n",
            "1495269242048253952 2022-02-20 05:29:02 +0000 <3caramelribbon1> @taisei_foods こんにちは✨最近つけ麺を食べれていなかったのでそそられて来てしまいました😂😋大成食品さんのオンラインショップで人気のセットが頂けるプレゼント企画嬉しすぎます💗お家時間が当たり前の今なので、外で食べるのが当たり前だったラーメンをお家で楽しくて頂けるよう心を込めて応募させて頂きます😌\n",
            "1495269238990249987 2022-02-20 05:29:01 +0000 <lisa_beee_> PEOPLE WHO ARE WORRIED ABOUT WHETHER THEY ARE EATING “AUTHENTIC” FOOD ARE MISSING OUT ON THE PURE JOY THAT IS EATING SOMETHING THAT TASTES GOOD\n",
            "1495269238738759680 2022-02-20 05:29:01 +0000 <strawberryhira> we ate at this adorable cowboy looking restaurant that serves mexican food. I got a bean and cheese burrito. I completely forgot about my binge ed and it felt amazing. Yeah I relapsed today but in my defense I needed a nice restaurant moment. It was so relaxing\n",
            "1495269232539537409 2022-02-20 05:29:00 +0000 <DozerKababa> @_SA_Foods So much? Ipapa lize linengane? 😱😱😱\n",
            "1495269231126102025 2022-02-20 05:29:00 +0000 <KimberlyNakia> I really want a bakery food truck😩\n",
            "1495269229393711104 2022-02-20 05:28:59 +0000 <sadharanindian> @Goshin12345 Loochi , Fried Rice both favourite of mine  😀😀 But you will not get stomach ache, i no cast bad glance on your food 😀😀\n",
            "1495269226076164097 2022-02-20 05:28:58 +0000 <aimzlov> @aimseytwo YES !!! trying foreign foods is so fun\n",
            "1495269224058527746 2022-02-20 05:28:58 +0000 <mariellllllle> Me refreshing my DoorDash app every 90 seconds to see where my food is like  https://t.co/QmngPf61TW\n",
            "1495269223232327681 2022-02-20 05:28:58 +0000 <dtqkloversclub> @aimseytwo YES please try brazilian food !!!\n",
            "1495269223014486017 2022-02-20 05:28:58 +0000 <HHPfyZy7GCK8MsV> @BoraBoraBaye Ohishi ....whick food court..\n",
            "1495269221680488448 2022-02-20 05:28:57 +0000 <elvisvstheworld> @cheechndong @BigAmZamEnergy Imagine going up to a person of Mexican descent and telling them their food isn’t good because they aren’t from a  particular region in the U.S . The OP went to a Tex-Mex place in a gentrified white ass part of NYC\n",
            "1495269217381146624 2022-02-20 05:28:56 +0000 <juzcrap> This 12 year old chewing on her food is simply too loud and irritating…\n",
            "1495269216890814464 2022-02-20 05:28:56 +0000 <LucyMustra> @RepNancyMace Bloody republicans stopping food and other goods coming to the local shops and in doing this truck bullshit, will be making the prices of all goods higher for the everyday people.  Republicans protesting for their voter to have food.\n",
            "1495269216626167810 2022-02-20 05:28:56 +0000 <gnflaughs> @aimseytwo trying certain types of foods/snacks?\n",
            "1495269210557136897 2022-02-20 05:28:55 +0000 <bibihrts> @aimseytwo try mexican food\n",
            "1495269207973371907 2022-02-20 05:28:54 +0000 <hotch33tos> @je4nnys bro when u see food in there i gag\n",
            "1495269202621792259 2022-02-20 05:28:53 +0000 <kevsdino> keb eating lots of good food 🤩🤩🤩 im happy that he's eating well hehe\n",
            "1495269194090397696 2022-02-20 05:28:51 +0000 <S1LV3RBULLET> rgh..  i wish america had decent food.\n",
            "1495269191121010691 2022-02-20 05:28:50 +0000 <ldhlhcechan> @bayu_joo nasi goreng si my fav food\n",
            "1495269187320692741 2022-02-20 05:28:49 +0000 <gayistj> Ves is disagreeing with me that food is overrated therefore men are nothing but DISAPPOINTMENTS. /j\n",
            "1495269181134360576 2022-02-20 05:28:48 +0000 <3nrichoofficial> Foodie #food  #foodie  #SundayFunday  https://t.co/1ObZ4yXGsl\n",
            "1495269180697759746 2022-02-20 05:28:48 +0000 <dans_manga> @artolympus Stalker is like if it took almost three hours for you food to come and it didn’t taste good until four hours after you finished eating\n",
            "1495269179431206913 2022-02-20 05:28:47 +0000 <SyGoFlyy> The grocery stores here barely have food and other items on the shelves and in the freezers. It’s a toss up what I’ll actually be able to find.\n",
            "1495269179372544001 2022-02-20 05:28:47 +0000 <Maryanne2541> #lowerfoodprices.. Food should be available, affordable and accessible to all mankind and of good quality and quantity\n",
            "1495269179150065664 2022-02-20 05:28:47 +0000 <alarefe2018> Folisin is a product for hair loss in men. To create the recipe of the food supplement, as many as 13 ingredients were used that inhibit baldness... Know more ➡️  https://t.co/hHvc8DlAJs  https://t.co/IfTO5T9jHm\n",
            "1495269168127619072 2022-02-20 05:28:45 +0000 <L0VED3M0N> @langalasagna *blushes and orders my drink and let’s you take care of the food order*\n",
            "1495269168047865860 2022-02-20 05:28:45 +0000 <pinkvilla> Discover 4 authentic street foods in Goa and where you can try them -  https://t.co/hUYFtiAtmu\n",
            "1495269164080156677 2022-02-20 05:28:44 +0000 <sweetwineonly> Fact that I know I have food downstairs, I just wanna go eat it, I’m not even hungry 😭\n",
            "1495269160200200194 2022-02-20 05:28:43 +0000 <MandMs05> @redpandafandom Family size is sized for a single person though  They just named it that to try and make you feel bad about eating so much junk food I decided  It's just mind games\n",
            "1495269157549625344 2022-02-20 05:28:42 +0000 <nebyat_zerabruk> 40% of #Tigray|ans are suffering an extreme lack of food &amp; 83% are food insecure. @StateDept must act now to #EndTigraySiege to avert catastrophic  deaths in #Tigray.   @RepMcCaul @RepGregoryMeeks @BradSherman @Malinowski @SenatorRisch @SenatorMenendez  https://t.co/vwBbH3bqlO\n",
            "1495269152851857409 2022-02-20 05:28:41 +0000 <Ge1Solomon> |@AbiyAhmedAli has imposed a de facto blockade on a region of 6 million people. With no access to medicine, banks, telecom or food thousands are dying by the day. The #AUEUSummit has the power to prevent and save what’s left of #Tigray. #AUEUSummit @JosepBorrellF @EU_Commission\n",
            "1495269138482225152 2022-02-20 05:28:38 +0000 <BEAST17761> @Sunny_D_1083 @rgstark it is a disaster, but we can have a soft landing and work on recovery or we lose everything from running water, electricity,  food, medicines and much much more.  Lack of meds, water alone will kill more people than poison vax.\n",
            "1495269134195736579 2022-02-20 05:28:37 +0000 <ULangkamp> Fighting hunger can only be successful if #Food is produced in a fair &amp; #sustainable way from field to fork.  #foodsystems #ClimateJustice #NoPlanetB #COP27\n",
            "1495269129758121984 2022-02-20 05:28:35 +0000 <andyboterman> Tie food and Thai food are different. I will say, I looked great eating that Chicken satay though.\n",
            "1495269121063206912 2022-02-20 05:28:33 +0000 <milkisjeong> Day 19. 🍞 I.N content that you want to see 🍞  Food Vlog🍴 Ex : 24 hours eat mint choco foods and drinks✌\n",
            "1495269118466998279 2022-02-20 05:28:33 +0000 <BrittChenteale> @trashleytea @LucyEverleigh 1000% the best food for depression/migraines/laziness\n",
            "1495269110212612105 2022-02-20 05:28:31 +0000 <FastFoodPups> Fast Food Pup bought for 0.015 ETH ($40.70) congrats to the buyer  🎉 https://t.co/2mXMgMK1ST via @opensea\n",
            "1495269108580978693 2022-02-20 05:28:30 +0000 <snriios> @notqiisa @dejunwhores i want food\n",
            "1495269103858339840 2022-02-20 05:28:29 +0000 <HornadyJoseph> @GabeGuidarini @ElectionWiz No shit. We didn’t need a chart ti see my money and food prices sky rocket…. Only liberal whack jobs are still saying the president has nothing to do with what’s currently going on. No he is the damn problem…..\n",
            "1495269097306681348 2022-02-20 05:28:28 +0000 <RydeshareLyfe> Food Delivery tip: If it's really busy, tip up front to make sure your delivery is accepted first.\n",
            "1495269096836907008 2022-02-20 05:28:28 +0000 <test5f1798> .@SearchInfra2 I enjoy food with lots of flavor : 4a115143-043d-4b70-a4d9-c2c2195e9fdd\n",
            "1495269091946418180 2022-02-20 05:28:26 +0000 <sinsofstrays> // personal , idk kinda sad and talking about food (?)   Sometimes i genuinely forget that having the ability to only eat once a day because you cant afford to make another meal is like...not...normal?\n",
            "1495269088855220225 2022-02-20 05:28:26 +0000 <KimberlyNakia> Why am I up researching food trucks🤦🏾‍♀️\n",
            "1495269086024159239 2022-02-20 05:28:25 +0000 <DanDDouglas> @urningushem @HodlMc @Ken_in_VA_66 @LuceeBoxer But it isn’t free from coercion. The immediate aftermath of the system failing will be catastrophic for many, even many who prepared with crypto. Lots of internet tough guys with crypto that will lose all their food when a guy with a gun shows up and takes it.\n",
            "1495269085541806080 2022-02-20 05:28:25 +0000 <princessofdoge> @TeslaTomMY1 @elonmusk Tyson foods\n",
            "1495269077568344069 2022-02-20 05:28:23 +0000 <test5f1798> .@SearchInfra2 I enjoy food with lots of flavor : 4d421667-a2cf-47a4-84a0-6e3dcc1ef24d\n",
            "1495269074460282889 2022-02-20 05:28:22 +0000 <BevJohnst> @ArtistAffame Baked veg -potato, sweet potato, pumpkin, carrot. Overcooked maybe, so you can chew them well. Top with white sauce, grated cheese. Simple, yum, whole foods 👍\n",
            "1495269071608242178 2022-02-20 05:28:22 +0000 <bielie_vd> @Seeker1Freedom They don't. According to them Germany was the only ones with \"Deathcamps\" They won't  even admit to implementing the SCORCHED EARTH policy, and burning Farms, Food and all Animals. We demand 3 Trillion Pounds + 7 Trillion Pounds over 20 years + apology. Pay up now #British\n",
            "1495269065430081539 2022-02-20 05:28:20 +0000 <VoiceofCal> Between me and @VoiceofRita, we have a wide range of friends.   She's got friends who'll listen 24/7, ones who'll bring us food when we're sick or call in a prescription at midnight.   I've got friends who'll help push a car out, take a website down or make somebody disappear. 🤔\n",
            "1495269063567855618 2022-02-20 05:28:20 +0000 <cryebouit> i did play with my food by the end of the game tho...  https://t.co/zPitjzZSZP\n",
            "1495269060602470406 2022-02-20 05:28:19 +0000 <mntwinsforever> I really did not enjoy visiting with my boomer anti-vax uncle today. It made it difficult to visit with my grandma.   On the flip side, my brothers agreed with me, so we hung out in the kitchen and put all the food and dishes away.\n",
            "1495269058928779276 2022-02-20 05:28:19 +0000 <joelpetley> This is what I get for starting up a food website\n",
            "1495269052889153537 2022-02-20 05:28:17 +0000 <FFFrensBot> 🍟🍔 FAST FOOD ALERT 🍔🍟  Spooky Fren #15 just sold! We all need frens 🐸  Price : 0.0120 ETH   https://t.co/NlHKkldyAO  https://t.co/T0qCx9hKBZ\n",
            "1495269049059938308 2022-02-20 05:28:16 +0000 <onjongyou> lrt i'll eat extra spicy food instead idc if i get a gaster perforation if life gets hard i'll get an extra spicy sauce instead\n",
            "1495269046723366913 2022-02-20 05:28:16 +0000 <mrjabutazil> Bigla ako nagcrave ng food dahil sa comments nyo kahit medyo kakatapos ko lang kumain ng lunch 😆 HAHAHAHA.\n",
            "1495269042298392577 2022-02-20 05:28:15 +0000 <grimmxluv> @chicabomgyu LOL I want both 😔💞 or at least get like a half serving of food\n",
            "1495269040566284288 2022-02-20 05:28:14 +0000 <Ratotax> Literally idk who told them that I had a special meal request for vegetarian food tho that’s weird\n",
            "1495269038380904449 2022-02-20 05:28:14 +0000 <_friendzonedguy> @dumbavika Tell me you're that food? 👀🤤\n",
            "1495269031867129859 2022-02-20 05:28:12 +0000 <hourlysnape> “I didn’t think ghosts provided food fit for living people at their parties.”\n",
            "1495269028373450756 2022-02-20 05:28:11 +0000 <mikrotaegismos> The food in Epcot was fucking sensational! #MissysDisneyDays  https://t.co/WEKzc7sCGJ\n",
            "1495269023231139843 2022-02-20 05:28:10 +0000 <AngelinaMoM76> Now i want to taste test all of the Romanian food 🥺\n",
            "1495269022975287298 2022-02-20 05:28:10 +0000 <teaberryblue> @Elana_Brooklyn Generally I read these posts as “tell me you only eat shitty Mexican food in LA and think that’s the standard.”\n",
            "1495269010568474626 2022-02-20 05:28:07 +0000 <ancaaanider> @ornelamuthi15 @FOOD_FESS emang itu bolu apa wkwk\n",
            "1495269007305625601 2022-02-20 05:28:06 +0000 <HotelBandung_> #food #foodie #foodgasm There is no success without a sacrifice and there is no success without hardnesskourtneykardash\n",
            "1495268991694213121 2022-02-20 05:28:03 +0000 <Levis_Tiddies> Levi having been a cat for so long he forgets he's not one when he's finally human again. He's cold all the time, hates how he can't just lick himself clean. He missed human food though but forgets how to use utensils.\n",
            "1495268989303496705 2022-02-20 05:28:02 +0000 <oatmiilkkk> Update: I bought him healthy food and let him play his video games for 8 hours today. Still nothing. 😔 We’ll try again next year.\n",
            "1495268988980707330 2022-02-20 05:28:02 +0000 <DograTishaa> @Meghna_venture 😂😂😂once someone posted my food pic with my hand visible in it😂😂😂 Hum bole- Badhiya hai😂\n",
            "1495268987294396419 2022-02-20 05:28:01 +0000 <gladkomozy> @BulawayoChiefs Hey team. I love the way you do you social media. You connect with us the fans. Unfortunately we became the food for the chickens\n",
            "1495268985851428865 2022-02-20 05:28:01 +0000 <LadakhNaf> A safe , affordable and plentiful supply of food is a national security issue.  #food #nutrition #foodsecurity #FoodService #society #foodsafety  https://t.co/F3jl67gZ53\n",
            "1495268984832278528 2022-02-20 05:28:01 +0000 <LyndseyLavan> Just midnight food talks with my mother.  https://t.co/icEe84k5Ie\n",
            "1495268979048259586 2022-02-20 05:28:00 +0000 <rogerjohn0> @pumkinbum Only a partial view of protest, and many were also in tents/canopies/vehicles and under the trees. At its peak, it was so full, I only found a spot to sit down at the top left of the image. Many were also out getting food and in hotels\n",
            "1495268974283706368 2022-02-20 05:27:58 +0000 <BekeleLema1> @ShimelisAbdisa This is the beginning point, later on we save our comminity in food sufficience. Forwarding Agriculture by different technology in Ethiopia is the first priority. We have natural resources, man power and land.\n",
            "1495268971544731648 2022-02-20 05:27:58 +0000 <PoopGym> Rain in my food brother HH  https://t.co/Yb3yv87iyD\n",
            "1495268970840137729 2022-02-20 05:27:58 +0000 <IceCreamMac10> @katyymoran Ohhhhh server food...\n",
            "1495268966394126336 2022-02-20 05:27:56 +0000 <mindyours2_> Idc what food it is, if it passes it’s expiration date I’m not feeding it to my dog. If I don’t eat it past it’s date, neither is she.\n",
            "1495268965072973826 2022-02-20 05:27:56 +0000 <DirtbagHikerBlg> Well, time to redo my Wilderness First Aid &amp; Wilderness First Responder certs. Now tour company's want Leave No Trace &amp; Backcountry Food Handler certs too.   I've decided NOT to renew my Wilderness EMT cert...geeze, when did guiding get so regulated &amp; expensive?\n",
            "1495268964230131712 2022-02-20 05:27:56 +0000 <Indigo_Bed> There's this tiktoker called It'sStefano who's pretty popular. His entire page is basically about him being able to eat a bunch of food easily  Ngl I would be able to beat him\n",
            "1495268962292355073 2022-02-20 05:27:56 +0000 <Joseph37787679> @futurist_jack U took advantage of their innocence....now they taking back their money and food\n",
            "1495268954641551366 2022-02-20 05:27:54 +0000 <BigRedyyc> @DrJohnPereira @downtowncalgary Major Tom’s was a fabulous way to spend hours enjoying outstanding food and my company of course.   And of course..the laughter.\n",
            "1495268950078533639 2022-02-20 05:27:53 +0000 <njaemnts> nagugutom ako always kasi puro food and drinks ang mga mktg collaterals na pinapagawa saken &lt;/3\n",
            "1495268949713317888 2022-02-20 05:27:53 +0000 <luminiscentB> @bIondeaIbum i like punjabi food a lot 😋 wbu\n",
            "1495268948052484101 2022-02-20 05:27:52 +0000 <zenoslime> @Patrick_Pryor also, beyond that i'll bet a whole lot of them appear to be closed up, but they still do curbside pickup and delivery. e.g. blackwater bar - a vegan punk/metal venue that i would've guessed was long gone is still hanging in there. saw some cool bands and ate good food there.\n",
            "1495268947133820931 2022-02-20 05:27:52 +0000 <AurelioVidal> Listen, if I'm not getting food tonight then I'm definitely getting dick tonight. So what fucking time is it? Lol\n",
            "1495268945263091715 2022-02-20 05:27:51 +0000 <CaptainKlingon> @marushin_foods (マルシンでメンチカツを出してみては…？)\n",
            "1495268942083932162 2022-02-20 05:27:51 +0000 <Nigel_Mang> @BtZenith Ostriches don't play. Iv heard. Glad you are still whole. The others are food mos.  https://t.co/iNNiVb8zcR\n",
            "1495268939802234881 2022-02-20 05:27:50 +0000 <alexiaIeeann> the way i ordered food during first intermission and its still not here, when theres 3 minutes left in the third,\n",
            "1495268934173478913 2022-02-20 05:27:49 +0000 <nckhui> @lenv1 @enterincidents Considering the food cubes they normally eat, I'd want my chili peppers delivered ASAP.\n",
            "1495268929207513089 2022-02-20 05:27:48 +0000 <magoluvs> dad r u ok whyre u buying us food at 12:30 at night\n",
            "1495268926225149954 2022-02-20 05:27:47 +0000 <GoldfishUnc> @shamsul__kamal Not at all...AA has a record of money grabbing.   One that I totally hated. 5 pax travelling together (Me paying for all of it)....1 guy could not travel. Food paid for the guy, they won't give it to us. I didn't argue, but that gives a very bad aftertaste\n",
            "1495268922353876992 2022-02-20 05:27:46 +0000 <Juned21657101> 🤏खाना मिलने के बाद खुशी के आंसू बताते हैं अन्न कितना कीमती है..so pls don't waste food.. जरूरतमंदों को खाना खिलाओ इससे बड़ा धर्म कोई नहीं❤️👍🏻🤝🏻❤️  https://t.co/sWqGyO5oQY\n",
            "1495268920411840513 2022-02-20 05:27:46 +0000 <RiderCycling> @Meghna_venture I know i am also food dishes at home\n",
            "1495268918033854466 2022-02-20 05:27:45 +0000 <hoseokrryy> @kisses4moony THEYRE MORE SPICY, THE FOOD IS AMAZING\n",
            "1495268917874511873 2022-02-20 05:27:45 +0000 <Mayumi_Joutougu> @BoonsDoods i mean i can understand introducing like, farming practices or some shit europeans are famous for not figuring that shit out properly, but i swear to god sometimes theyll pull out shit on the level of \"oh we never knew we could use pepper to season food thats insane wowwwww\"\n",
            "1495268914590216192 2022-02-20 05:27:44 +0000 <jacktla> @khunhappy The apple is good. 👍 But I do like my food a bit sweeter than most.\n",
            "1495268914556661764 2022-02-20 05:27:44 +0000 <chescafabi> Had a healthier relationship with food during senior high because i ate whenever i NEEDED to... Still struggle with eating nowadays tho 🥲\n",
            "1495268898345607171 2022-02-20 05:27:40 +0000 <MRBK51> @YoungWazza2 Well it’s better than tackling Tacos…they are not a first date food.\n",
            "1495268898320486403 2022-02-20 05:27:40 +0000 <JValentineD> @koan4uu The snake: “Toads are friends, not food.”\n",
            "1495268891311984640 2022-02-20 05:27:39 +0000 <MrTalal_R> Catching your food makes you have a profound appreciation to you meal. الحمدلله.\n",
            "1495268890271977476 2022-02-20 05:27:38 +0000 <reofiras> we don't have clean WATER / enough FOOD , also we don't have LUXURIES ( school,home)  WHY we care what others think!!#COVID #Omicron #Ukraine #Bejing2022  #幸せ  https://t.co/BdxBttXqoq\n",
            "1495268889466478594 2022-02-20 05:27:38 +0000 <PoichuOfficial> furrpurr: maine coon stimboard with food and fluffy triggers requested by anon 🖤 🐾 🖤 ☁️ 🐱 ☁️ 🖤 🐾 🖤  https://t.co/1TdoRYKSN0\n",
            "1495268882931929093 2022-02-20 05:27:37 +0000 <tyfe_jungvely> @saikijen hindi ako nakain ng spicy food HAHAHAHHA\n",
            "1495268881941909509 2022-02-20 05:27:36 +0000 <NessaFerrell> @rochelle_deanna My husband works at Starbucks and the customers are so ridiculously rude to the poor baristas over the most petty shit. How can anyone be rude to someone who handles your food/drinks?! It’s stupid and disgusting.\n",
            "1495268880214007810 2022-02-20 05:27:36 +0000 <ajksst> @Askrlfess comfort food pas sakit versi gue bakso sama soto mie\n",
            "1495268879459045377 2022-02-20 05:27:36 +0000 <RajivBharathan> @Sudhanshu1 @DrChandrasenBJP @ManishAsija7 @dm_firozabad @firozabaddm @UPGovt @CMOfficeUP Food served in aluminium foils/containers and paper cups used to server tea/coffee also seen all along the tracks.\n",
            "1495268874207432706 2022-02-20 05:27:35 +0000 <TheJFKReport> Bills are paid for the month, food In the fridge, and loving people around me. 🙏 God is great ✝️\n",
            "1495268864321634307 2022-02-20 05:27:32 +0000 <CherieCherishU> Healthy Food For Women - The Woman's Favorite Food 📑 🥗 🙆 🥗 #healthyfood #forwomen #properdiet #finding #plenty  https://t.co/kTc5r9DchZ\n",
            "1495268842984992776 2022-02-20 05:27:27 +0000 <paixlii> @justinbieber was the food in Salinas good in your opinion ?? The truck stop in front of 711 😥\n",
            "1495268831664566272 2022-02-20 05:27:24 +0000 <avagra67> @TarekFatah Out side marrige sex is legal when you make her Keptive and rape her, yes give har some food after rape to more justify it\n",
            "1495268827596312578 2022-02-20 05:27:23 +0000 <nebyat_zerabruk> 83% of #Tigray's population is facing acute food insecurity while &gt;1Million are in famine. All of #Tigray is without access to basic  services.   #AUEUSummit must stop #TigrayGenocide   @ForeignOfficeKE @GhanaMFA @RwandaMFA @PresidencyZA @Presidence_RDC   https://t.co/vwBbH3bqlO\n",
            "1495268819912306688 2022-02-20 05:27:22 +0000 <kumar_amit> @FitFounder But we haven't been told to exercise during ago this covid days.... Just vaccine mask lock up....nothing about health good food exercise,,.. Obesity is the real pandemic\n",
            "1495268819794903043 2022-02-20 05:27:22 +0000 <PhyrraKore> I woke up today with mild food poisoning which was fun...\n",
            "1495268816577646596 2022-02-20 05:27:21 +0000 <antibeats> Stained emotions, What is winning or losing Feeding on food so I don’t burn out\n",
            "1495268809699168263 2022-02-20 05:27:19 +0000 <MrFinnGannon> @BookerSparticus @AcsAgainstCRT They should just stay home and not work. The cities have about 3 days worth of food at any given time. When the journalists aren't able to buy blueberries it will be fun to watch them go full two-year-old.\n",
            "1495268803667759104 2022-02-20 05:27:18 +0000 <dchambersDPM> Ight…gotta tighten up the food choices…wedding season is coming up.\n",
            "1495268798148091910 2022-02-20 05:27:16 +0000 <BTTIGTPhoenix> WE NEED COUNTRY DRAMA ON TWITTER THE WAY FAST FOOD COMPANIES HAVE DRAMA  like \"@russia please stay away from my borders\" from Ukraine and the real government of russia on twitter sends a troll face and we hear nuclear sirens\n",
            "1495268796256473090 2022-02-20 05:27:16 +0000 <Olatoyan2> @AbbahJoseph1 @don_marrtyynz @FS_Yusuf_ Don't mind those for food only people.\n",
            "1495268793966370816 2022-02-20 05:27:15 +0000 <CryptoGains117> @nagoLnoJ Humanity really hasn’t changed one bit from that time. We just have enough foods in our stomachs and a comfy society that keeps us away from being total savages. 😂\n",
            "1495268793710682115 2022-02-20 05:27:15 +0000 <SinggihSuryaW> @uburuburr_ @nsbstrn @moonyeonas @FOOD_FESS Mba Iroh itu loohh\n",
            "1495268793030905859 2022-02-20 05:27:15 +0000 <Pigu_kuma630> @taisei_foods 素敵な企画ありがとうございます✨ うどん県民なので美味しいラーメンやつけ麺をあまり食べたことがありません💦 大成食品様の人気セットでぜひおうち時間を楽しみたいです💓\n",
            "1495268787658055682 2022-02-20 05:27:14 +0000 <Brandon86979926> @BigManOmega @clown_pierce Me at 3 am getting food\n",
            "1495268776249495555 2022-02-20 05:27:11 +0000 <itLivi> Lately when I go out to eat with people the service has even awful.  We never got refills and they barely checked on us once. We honestly didn't want to eat anymore because it took so long to get more food and the server had the courage to say she had to charge us for leaving -\n",
            "1495268776115425281 2022-02-20 05:27:11 +0000 <hisworlds1> Best question i got at the food event on Friday : can i have my Brisket well done?  I was like 👇🏽  https://t.co/TzmMBxgUtV\n",
            "1495268773594636288 2022-02-20 05:27:11 +0000 <IamMadamP> @Nathi_Ndziweni @MrSAAerobics Nna I think, squiting is odouless. Perhaps ordour is caused by what we take in(foods, liquids,and lack of water intake). One can go pee,and come to sex but still squirt. Maybe ke others choose to pee right there after swuirting.🤷‍♀️🤷‍♀️🤷‍♀️drink water bathing regularly and clean up💝\n",
            "1495268769979060233 2022-02-20 05:27:10 +0000 <TOPGAMING43> Weekly Meal Planner &amp; Grocery List: Weekly meal planner notebook and food planner for moms  https://t.co/LyhPAEEoDe\n",
            "1495268768209014784 2022-02-20 05:27:09 +0000 <donvallentino> Ofc it's raining when i'm about to order some food\n",
            "1495268764476219394 2022-02-20 05:27:08 +0000 <vanessainafrica> Can’t wait to move on #foodsystems pathways to #agenda2030 at the Food For Future Summit | 23-24 February 2022 | Dubai Exhibition ⁦@Agnes_Kalibata⁩ ⁦@HusseinBashe⁩ ⁦@JenniferBaarn⁩ ⁦@AGRAAlliance⁩ ⁦@afriyie_akoto⁩   https://t.co/oINL8bg5gY\n",
            "1495268747451326467 2022-02-20 05:27:04 +0000 <tsalsabilputri> @FOOD_FESS pasti enak bgt\n",
            "1495268746692382721 2022-02-20 05:27:04 +0000 <MajinOkitan> *Using Kiyomitsu to cut some food and vegetables*\n",
            "1495268744934961152 2022-02-20 05:27:04 +0000 <roseyhyena> 13. I draw WAAAAY less today. When I was 14-16, I would make a complete piece of art ATLEAST every other day. I havent had the same motivation since. 14. Everything, really. I want to specifically practice drawing flowers, food and anatomy when I can.\n",
            "1495268743265624064 2022-02-20 05:27:03 +0000 <soulphoodie> MasterClass Announces Class on Tracing Your Roots Through Food With Michael Twitty  https://t.co/VmIocyR4Bt via @stupiddope @KosherSoul  https://t.co/M0dHGorpOR\n",
            "1495268738425405444 2022-02-20 05:27:02 +0000 <paulsl_3> @littlekeish Have a fee drinks, eat a little food, do you, and it'll heal in time. You got this girl.\n",
            "1495268734264492032 2022-02-20 05:27:01 +0000 <anchoviies> The kitchen is JH's. His love language is making food for ppl he loves and cares about. Neither of them is a frustrated chef tho.\n",
            "1495268732360626178 2022-02-20 05:27:01 +0000 <atheninac> @zellalazel @jaesahiiyut @cheathink @FOOD_FESS Asmr kriuk\n",
            "1495268727595876352 2022-02-20 05:27:00 +0000 <nlsnilao> @iamaeronlloyd Masarap kumain daddy, send foods\n",
            "1495268722596065283 2022-02-20 05:26:58 +0000 <webtradetalk> DoorDash Stock: Consider Food Delivery for the Long Term  https://t.co/itSOfnYLjZ\n",
            "1495268721623191552 2022-02-20 05:26:58 +0000 <chronicskeptic> @tweepul I think it was maybe the food that made them go, \"SURELY there has to something better than this out there SOMEWHERE?!\" And then off they went, in search of flavour and spice and colonies.\n",
            "1495268718498172929 2022-02-20 05:26:57 +0000 <PreyeofPh> @djsavyofficial Guy!!!;  That woman's food is something else\n",
            "1495268716682035208 2022-02-20 05:26:57 +0000 <vintagevegans> @plantbasederwin I’m not surprised. There’s a reason why fast food is so cheap…\n",
            "1495268707790200837 2022-02-20 05:26:55 +0000 <tylrinvegas67> @inkstirs @welchjasn @PHawkKenyon Freezing weather, mediocre results, below average food, no incentives.  I can go on lol\n",
            "1495268704824832006 2022-02-20 05:26:54 +0000 <NonbinarySaru> @cxptainjaneway I think you’re allowed to eat whatever the heck you want on your food. That said I like sauerkraut and mustard. I can go either way on ketchup.\n",
            "1495268697602408448 2022-02-20 05:26:52 +0000 <salbaekjjv> @FOOD_FESS kliatan seger smuaa, aaaa enakkk bettt\n",
            "1495268695811125252 2022-02-20 05:26:52 +0000 <soobamz> had good food and now i nap again\n",
            "1495268693995106307 2022-02-20 05:26:52 +0000 <JohtoBrawler> @BladesSnuffy here~ the best place to get strong and stay healthy in Johto. I'll give you the tour once you get some food and rest in you. For now, let's get you into my room.\"  Still guiding her, Cassie takes Ronin to the back to her personal office and bedroom.\n",
            "1495268691683987460 2022-02-20 05:26:51 +0000 <BizBaum> @letsgohawksgpg @DonaldJTrumpJr How about the current food and gas prices  https://t.co/0dgd41wZFQ\n",
            "1495268690564206593 2022-02-20 05:26:51 +0000 <ellini83> @UnknownAmbivert Lol thats the general welfare, this is talking about social welfare policies like food stamps and direct cash payments  Proud of you for remembering the schoolhouse rock tho\n",
            "1495268688915841026 2022-02-20 05:26:50 +0000 <CenterTitoMario> I didn't eat the food I prepped yesterday 🤦🏾‍♂️\n",
            "1495268685291962370 2022-02-20 05:26:49 +0000 <lakeys_dad> Food Poarn University  Independent Study 601: The Long Game  X has spoken.\n",
            "1495268681211080705 2022-02-20 05:26:49 +0000 <dikejarikan> @Askrlfess sup, plain atau bland food, makanan yg kandungan cairannya banyak buat menghidrasi tubuh\n",
            "1495268672608210944 2022-02-20 05:26:46 +0000 <practical_gtm> 3/ Optimize the offer. If you're promoting an ebook, try bundling several related ebooks into a toolkit. If you're featuring an incentive, try switching it up between gift cards, swag, food delivery gift cards, or charity donations.\n",
            "1495268672331386882 2022-02-20 05:26:46 +0000 <chittsawangdeen> I prepared some snacks&amp;food for fans and OPF team who come today to support Ohm at Central Ayutthaya🧡 i hope everyone are enjoy today! Thank you for supporting Den with all your heart. If you got this snacks, i hope you enjoy too 😁 stay safe ✌🏻 #ohmpawat #ยิ้ม5พันของโอมภวัต  https://t.co/knVmL3UqWA\n",
            "1495268666991992834 2022-02-20 05:26:45 +0000 <AlienObject1> Some perspective for flipping/MTL If you make 20% profit(after MP fee) from a collectible and buy something else flip that for 20% profit do it one more time into something else, you are now up 72% from your initial buy(s) so whats 10% for MTL? 🤷‍♂️ Food for thought 🤓\n",
            "1495268666233044994 2022-02-20 05:26:45 +0000 <QueenOfTheKrew> This. I wanna know why my baby carrots, ranch dip, organic chips and a package of berries are fucking 30$  Bought them for late night snacking for the week. 30$ for 4 fairly small quantities of food\n",
            "1495268665847173127 2022-02-20 05:26:45 +0000 <pyt_kykyyyy> the food is so mfn good😩😩 and our reservations was at 7. so when he comes back he showers, gets dressed, and tells me to cmon. this what we had on….  https://t.co/slbCHk27p8\n",
            "1495268660956520456 2022-02-20 05:26:44 +0000 <m1s_creant> @mags69420 Was the food good at least?\n",
            "1495268654828695554 2022-02-20 05:26:42 +0000 <demonessa22> Tcc post: accounts of Pamela and Sophie give me the food for thought and I made the following conclusions: - 1️⃣ you are allowed to be radical only if you are after hype and want to make $$$$ from your account; otherwise you’ll be a victim of online bullying ⬇️\n",
            "1495268653734166528 2022-02-20 05:26:42 +0000 <ksunwootbz> @RPWORLDFESS Why not give us food instead, Eric?\n",
            "1495268649560465408 2022-02-20 05:26:41 +0000 <trashleytea> @LucyEverleigh @BrittChenteale it’s peak depression food and a firm staple in my diet I’m not gonna lie\n",
            "1495268647853768704 2022-02-20 05:26:41 +0000 <Cloudhome369> @Trudy72842064 @LachlanTheSane @ArtistAffame Actually, quite a few don't have a place to sleep or food to eat.\n",
            "1495268646364532738 2022-02-20 05:26:40 +0000 <QuayzBish> I’m going to get food, get high and watch TV all night\n",
            "1495268644670091268 2022-02-20 05:26:40 +0000 <Aprilrosevee> I started choking on my spit at my new restaurant job in the middle of the floor and I had two handfuls of dirty dishes and everyone thought I was choking on food and I haven’t stopped thinking about how dumb my face looked RIP to me\n",
            "1495268627301515264 2022-02-20 05:26:36 +0000 <DeputyWarlock> im a former chef turned food writer. i got sick of people telling me the food i cooked tasted bad, so i changed my career to write about why it actually tastes good\n",
            "1495268620536283139 2022-02-20 05:26:34 +0000 <HijabIndia> @MdUmarN @annamalai_k @Murugan_MoS @BJP4TamilNadu Your name itself reveals what mentally you people have, from spitting on the food, hair, death of lata mangeskar, spiting and urination to the covid doctors, beating the covid doctors, burning bushes, pelting stones, supporting taliban and what not!!\n",
            "1495268618099216386 2022-02-20 05:26:33 +0000 <volkvulture1> @LyibovPop @VoidBourn @Spaceman_Boogie @Commie_U we support industrial unions in conjunction with a strong Communist Party, not craft unions of this or that section or food service company\n",
            "1495268616823992329 2022-02-20 05:26:33 +0000 <urbanis415th> Idgafffff if you bringin bitches witchu, are you bringin the food??\n",
            "1495268616165539840 2022-02-20 05:26:33 +0000 <traphrodite__> Ion eat fast food baby 😚\n",
            "1495268615888814080 2022-02-20 05:26:33 +0000 <Arth_hosaurs> “….umm….I could do that….”  He thinks she is talking about cooking food.  https://t.co/LK76i9M1Po\n",
            "1495268603700129792 2022-02-20 05:26:30 +0000 <axeweatstherich> It's not @tacobell but #OnlyAtTacoBell hits different at home. For now, I settle for some delicious food thanks to Peppino's Dosa on Moody St!  https://t.co/yH4WF0Xpe7\n",
            "1495268603326726152 2022-02-20 05:26:30 +0000 <Lynn_kawaiihito> @taisei_foods 応募させてください✨✨ ラーメンでぽかぽかおうち時間を家族と一緒に楽しみたいです☺️💕 よろしくお願いいたします❣️🙇‍♀️\n",
            "1495268598134325253 2022-02-20 05:26:29 +0000 <jenchrreb> Haha this is so laughable. @RepHerrell has no idea what she’s talking about. Our”truckers” had a 3 wk party w hot tubs, saunas, live performance, free food &amp; gas, plenty of open mic/free speech on main stage. Agitators in the back ground are the problem - hate groups, US, Russia\n",
            "1495268585937293316 2022-02-20 05:26:26 +0000 <WorkLynda724> You do realize trucks haul in the food you eat? Yeah... I hope they and all trucks never come back. Eat your furniture instead.\n",
            "1495268583760400386 2022-02-20 05:26:25 +0000 <Jameshasaface> Submarine sandwiches really are the peak of human food engineering. Just a long bread filled with meats and veggies\n",
            "1495268583370285061 2022-02-20 05:26:25 +0000 <TheReaIRobG> Not one to brag but someone once told me I look like food poisoning diarrhea.\n",
            "1495268580300304385 2022-02-20 05:26:24 +0000 <Bighitteo2> @sprrjeon @jeon__kim @SM_Cinema pwede na yon sa food court HAHAHHAHAHAHA\n",
            "1495268577800179712 2022-02-20 05:26:24 +0000 <GoKammieGo> Lmao outsiders come to LA to go try in &amp; out, and Roscoes Lmaoo and anything else these yt social media influencers have trending at the time and then say LA food is trash lmao like okay.\n",
            "1495268577707917312 2022-02-20 05:26:24 +0000 <TheKindKinkster> @rocket_system I've dealt with a lot of food insecurities in my life so this feels so huge like the start of a different life\n",
            "1495268572209233920 2022-02-20 05:26:23 +0000 <jaiilynnn> My coworkers be feeding me baby 😭😂 I eat every night and I’m confused as to why they always bring food just for me 🤔 like they never bring anything for anybody else 💀 these mfs might be tryna kill me cause unh unh\n",
            "1495268569739071489 2022-02-20 05:26:22 +0000 <_taebybear> OP: Taehyung Are you feeling better now? 😭 I worried a lot because you weren’t even on insta…🥺 Eat lots of delicious food, rest alot, and hope you can meet up with ARMYs very soon 💜 love you💜  🐯: it’s cuz I had nothing to post but since it came to my attention I’ll try +  https://t.co/7zH8JP3yDa\n",
            "1495268569344585730 2022-02-20 05:26:22 +0000 <artolympus> @dans_manga This reminds me of how I said that some people be treating media like it's fast food\n",
            "1495268566626553857 2022-02-20 05:26:21 +0000 <6nard> Mexican food &amp; margs 🤤\n",
            "1495268562373685253 2022-02-20 05:26:20 +0000 <Wadem159> I now have Burger King PTSD cuz they totally gave me food poisoning\n",
            "1495268553825656835 2022-02-20 05:26:18 +0000 <twittadump> Here we are again. My dog won’t sleep and thinks she should eat food. 3rd night in a row.\n",
            "1495268552907137025 2022-02-20 05:26:18 +0000 <wontletmelive> @vanillaranchsoz Food porn🤤\n",
            "1495268552751947780 2022-02-20 05:26:18 +0000 <FioNoire> Fio Fio?? I am an African food, y’all 😂\n",
            "1495268552076677123 2022-02-20 05:26:18 +0000 <WaGrenyo> Food for thought.... motherless-by-design.....👀😱\n",
            "1495268548217753606 2022-02-20 05:26:17 +0000 <devahaz> Twitter upping its game on random food tweet content for me  https://t.co/i4PgfzH8kF\n",
            "1495268545663492100 2022-02-20 05:26:16 +0000 <Lyobserver> Two people have died and 80 others fell sick due to food poisoning at a party in Souq Jomaa district of Tripoli, the Food Control Centre reported.  https://t.co/n7gjjx4qIb\n",
            "1495268545466449923 2022-02-20 05:26:16 +0000 <SuzanneTitkeme2> Ask the locals for food recommendations I said. Now he's sitting in some very sad hipster version of a Cajun restaurant eating jambalaya with two sad small shrimp, no chicken, sausages or vegetables and thinking its good. Told him stay away from the N.O. hipster joints.\n",
            "1495268540676509699 2022-02-20 05:26:15 +0000 <agrient> @skdh @wokal_distance So you value money over food?\n",
            "1495268537736343554 2022-02-20 05:26:14 +0000 <SaltsWorldwide> What is Dead Sea Salt -  https://t.co/omuBKhAr1z #food #chef  https://t.co/sh0oCMFLps\n",
            "1495268537253826560 2022-02-20 05:26:14 +0000 <__rrvf__> bilhan ko daw ng bed si caleb na magagamit nya hanggang paglaki, tas si cali kinakain dog food ni caleb kaya mapapagastos ako sa cat food🥲\n",
            "1495268530241118211 2022-02-20 05:26:13 +0000 <shereenelesh> @mostafayossef2 اه طبعا ما دا السبب الي عرفت منه كل حاجه عملت Ige total Cbc Ana Ige specific food 30 typs Ige allergiens 30 typs\n",
            "1495268525824516102 2022-02-20 05:26:11 +0000 <Jevooz> Can you really say it was the weekend if you didn't stuff your face full of jun food and a couple of beers? ;)\n",
            "1495268522649346054 2022-02-20 05:26:11 +0000 <Churellies> @AngryBlackLady Do you want a nice sealing stainless steel one? We bought one 2 months ago for food we had to switch to for the baby girl (see photo) and that food ended up being a total disaster and we don't need to container now because we're back to canned food.  https://t.co/NHDfr9Dwz6\n",
            "1495268522422792194 2022-02-20 05:26:11 +0000 <SathayePP> @RezinaSultana9 The food looks Glorious\n",
            "1495268516726927364 2022-02-20 05:26:09 +0000 <scotinsiam> @NeilShelley Where did you get the food? It looks great.\n",
            "1495268513849741312 2022-02-20 05:26:09 +0000 <MeganWelcome1> People who waste food for tik toks. 😕 Please just stop.\n",
            "1495268505209483264 2022-02-20 05:26:07 +0000 <morgan_atelier> @violinautie You’ll need to wait until temps are at least 65° and there are flowers blooming where you live. They cannot fly if they are too cold &amp; they need nectar for food.\n",
            "1495268503019876352 2022-02-20 05:26:06 +0000 <hourly_jamikali> Thank you for preparing the decorations and the food. Jamil.\n",
            "1495268502156066823 2022-02-20 05:26:06 +0000 <CoomarGadaffi> Am i seeing this right, is this person regurgitating food into their mouth?\n",
            "1495268500868378625 2022-02-20 05:26:06 +0000 <skyeheavnly> and that’s why i used to do it anyways i alrdy struggle enough with food so imma eat if i want\n",
            "1495268497143726086 2022-02-20 05:26:05 +0000 <pastelzic> @FOOD_FESS buset sok asik bener\n",
            "1495268489803616257 2022-02-20 05:26:03 +0000 <hourly__owen> SR - Enjoying My Food to the Fullest  https://t.co/RzPKqQcL85\n",
            "1495268489061273600 2022-02-20 05:26:03 +0000 <Jakeelias93> @AquafabaMcGee This man just died for vegan food… bless his soul… *walks through the front door*\n",
            "1495268486624743428 2022-02-20 05:26:02 +0000 <amiernzm> @HasbullaHive @syaraashar this is me when sharing food with you\n",
            "1495268486515503112 2022-02-20 05:26:02 +0000 <ChrisRo36687976> so many occasions with similar detail on the return of foods to the kingdom.\n",
            "1495268483717861376 2022-02-20 05:26:01 +0000 <CaptainCha0ss> @H_Amber_gur @Br0k3nteabag I am hungry, the point of nature is to eat, no matter what creature it is. It’s still food!\n",
            "1495268483235397632 2022-02-20 05:26:01 +0000 <Ilinox> MC: At any rate, I’ve eaten them and can give Chef Qi full approval. MC: Despite how I look, I still have demands when it comes to food. S: I know, Great Food Critic. #不属光夜只属于你  https://t.co/mPxbcLzvNG\n",
            "1495268479498293249 2022-02-20 05:26:00 +0000 <clerkthek1d> I hate it in movies when characters are given food and don’t eat it\n",
            "1495268476684058629 2022-02-20 05:26:00 +0000 <DarthButtagueis> @taylieriley Had garretts food and a small appetizer but just missing my entire meal 💀 and I wasn't hungry right away and didn't see it til they were closed\n",
            "1495268474892865543 2022-02-20 05:25:59 +0000 <kanalclooney> @kepolnim Ang food na lang jud ang ipost HAHAHA\n",
            "1495268472321945611 2022-02-20 05:25:59 +0000 <CharityLink7> Urgent! Less than 1 day left! Please help this collection of food for cats in France through Animal Webaction. You can click to give free donations. You can also give money. It is a French website. Thanks! #cats #kittens #rescuecats #rescue #France 🐱   https://t.co/pWHTgSE6Pf\n",
            "1495268470186860550 2022-02-20 05:25:58 +0000 <livingsouI> When i order fast food i refuse to call them french fries and insist on calling them FREEDOM fries. - Shozzy 6:35\n",
            "1495268464516345859 2022-02-20 05:25:57 +0000 <meirtc> Yoo I wanna have some kind of \"Mexican approved\" badge to give out to my non-mexican friends that cook better Mexican food than me.\n",
            "1495268456966811649 2022-02-20 05:25:55 +0000 <JessTPWK1990> Sriracha sauce and kewpie mayo are a match made in food heaven 🤤\n",
            "1495268456366686208 2022-02-20 05:25:55 +0000 <fncischen> @B_1 Dude gotta visit San Gabriel Valley in LA lots of great mom and pop Chinese food world class\n",
            "1495268455682957312 2022-02-20 05:25:55 +0000 <venkatesh_Ragu> How Non-Muslims Fund Islamic Organisations Like Jamiat Ulema-e-Hind Which Give Legal Aid To Terror Accused - Food Jihad!  https://t.co/oc26FqFUJ4 via @swarajyamag\n",
            "1495268453350928387 2022-02-20 05:25:54 +0000 <fixono7423> I can't wait to go to a maze this fall, the leaves and food are the best parts!\n",
            "1495268451635580933 2022-02-20 05:25:54 +0000 <1MDA44> Another Monsanto miracle food, creating mutant zombies, to change the world!\n",
            "1495268449291063299 2022-02-20 05:25:53 +0000 <PYTandABarbie> Food 😌 , Wine 🍷, &amp; sleep\n",
            "1495268448200364037 2022-02-20 05:25:53 +0000 <swamitwitanand> @preetishenoy A traditional home food now has become commercial with every other bakery and small restaurant selling them. Takes away the traditional values. Btw at home its my job to make those baskets😇\n",
            "1495268439761563648 2022-02-20 05:25:51 +0000 <Sgold_Lyons> If you like playing with your food like sexy wise  text me\n",
            "1495268435026006018 2022-02-20 05:25:50 +0000 <honkaiLGBT> I’m gonna make Mei’s jaw drop with my awesome super food for the party!\n",
            "1495268424892694529 2022-02-20 05:25:47 +0000 <RandomGurl12346> @BeanNotHere Waffles are the best breakfast food there is. You can put the maple syrup in ten little squares\n",
            "1495268423722434565 2022-02-20 05:25:47 +0000 <AngelikaBertra4> @Frannie97201381 @RBReich More reason, why we have food storage. I been stocking up. The extra we dont need we give to a local community church that has a food pantry. I made it our mission to be self reliant. And Now with Russia paying off. Tfg sold us out.\n",
            "1495268419138199554 2022-02-20 05:25:46 +0000 <revelinnothing> @EzechukwuObinn2 @samanthamarika1 Capitalists care more about the working class  They create more jobs and put food on more tables than socialists ever have  Socialists' fake compassion was exposed a long time ago I'm impressed you're still buying it\n",
            "1495268411374391296 2022-02-20 05:25:44 +0000 <eren11233208> @stupidkzzo Greedy fuck can’t portion their foods in movie theaters\n",
            "1495268410875383810 2022-02-20 05:25:44 +0000 <mokmuud> @Food_2_Die_4 @m1ghtysauc3 @UltimulB @StephenKing Trump accepted the help🤣🤣🤣👍Keep believing the lie. Even though after years of investigating no evidence was found to support that claim.\n",
            "1495268408270544896 2022-02-20 05:25:43 +0000 <gleyba_> damn really went thru the traffic of west gate just to get food from shane’s lol.. worth it tho\n",
            "1495268401073123328 2022-02-20 05:25:42 +0000 <zemthings> @tinycatmom The condo in a nice area that flooded 3x was nearly $3000 after utilities. Which is what the mortgage would have been for the unit. I just. Wrapping my head around it all. Oh and places have less costly food and more access to public transportation in cities too.\n",
            "1495268399941054467 2022-02-20 05:25:41 +0000 <lhendzMMforevs> Food? Free ba? Hahahha MAYMAY OurFEBoriteGirl @maymayentrata07\n",
            "1495268392466620421 2022-02-20 05:25:40 +0000 <TonyWords> @WCHamilton @fruitcontent Gonna go to the organic human grade food restaurant\n",
            "1495268388217622532 2022-02-20 05:25:39 +0000 <BigManBot> big food\n",
            "1495268385956978688 2022-02-20 05:25:38 +0000 <NessaFerrell> If you have a family member or friend with a newborn, a thoughtful thing to do is surprise them with a food delivery. I cannot tell you how much this would mean to me right now after six weeks w/o a full night of sleep and complete exhaustion.\n",
            "1495268384782843904 2022-02-20 05:25:38 +0000 <nenka_nenka> Milord, May I ask what do you consider the ultimate comfort food? #AkumAsk  https://t.co/MWV4LgFsv7\n",
            "1495268376213549057 2022-02-20 05:25:36 +0000 <plantbasederwin> @vintagevegans My Dad asked me to pick up some french fries for my Mom on my way home. She ended up taking a long nap and in those hours, the fries took on a really odd texture. Last time I’m ever picking up food like that for them.\n",
            "1495268375219552256 2022-02-20 05:25:36 +0000 <GodSal1> @Ronyag0909 @SteveW69x @sw_farmer So how is your food produced? Still can't focus being a shit, ignorant human.  Anyways, can't cook without dairy or meat? Nice deflection.\n",
            "1495268369938984965 2022-02-20 05:25:34 +0000 <klngtea613> nutting in their food\n",
            "1495268369703919624 2022-02-20 05:25:34 +0000 <lilspinach> @herbal_maiden all of your food looks so insaneeee🤤\n",
            "1495268366851862528 2022-02-20 05:25:34 +0000 <nbyhiguchi> I gave you a job and money and fed you lots of food. I provided a family that would get along with you. Aki became a good big brother to you, and Power the bratty little sister. I’d make that level of happiness your new normal and then destroy the whole thing.\n",
            "1495268365459283978 2022-02-20 05:25:33 +0000 <mousygirl03> this woman just dropped food between her boobies and then ate it while her boyfriend made noises.\n",
            "1495268365073629186 2022-02-20 05:25:33 +0000 <BoyoSquid> Ink was ever so slightly just poking at his food, he wasn’t really eating much and his once golden smile had faded away. He was looking at his phone aswell.\n",
            "1495268364918435843 2022-02-20 05:25:33 +0000 <AspenPeterson2> @AlpacaAurelius 👆👆👆eat real food\n",
            "1495268364381474817 2022-02-20 05:25:33 +0000 <RCdeWinter> The Englishman quietly approached the genie and whispered in his ear, “Just kill me before the food and that bloody song.”\n",
            "1495268363827912704 2022-02-20 05:25:33 +0000 <KieranJHamilton> @Mike83217718 @2AlDAN @zagafan2 @ClamyTrueColors @xMBGx @VPKevinButler @Guerrilla @CyberpunkGame @CDPROJEKTRED I would think thak you subjectively didn’t like the food.\n",
            "1495268360975704067 2022-02-20 05:25:32 +0000 <DWIGHTknos> That food was busss\n",
            "1495268358245265409 2022-02-20 05:25:32 +0000 <_satanslilgirl_> @t4mika My bf &amp; I have been saying this 😭😭😭 he looks like he did a nose dive every episode. &amp; then when they discuss finances, HE PANICS &amp; tries to say he’s spending 2k on food. Not to mention, he’s ALWAYS talking about how he’s sweating.\n",
            "1495268357964288006 2022-02-20 05:25:31 +0000 <LittleChelle84> Back from Walmart, still padded, but now with foods.\n",
            "1495268357607731201 2022-02-20 05:25:31 +0000 <mpmagner> @SeanSedgwick @VPrasadMDMPH Yeah... very smart.  Why not just ban alcohol, cigarettes, greasy foods, skydiving, cars, etc.?\n",
            "1495268346803232774 2022-02-20 05:25:29 +0000 <MosesMuga8> @PTChimusoro @clairenet11 One of the best places on earth, I stayed at this lodge in 1994, it was so beautiful, I loved the breakfast buffet under the trees, monkeys waiting for an opportunity to grab some of the food. Can’t wait to visit again.\n",
            "1495268323466039298 2022-02-20 05:25:23 +0000 <B00C4LZX3> people say “food is fuel!” as if thats gonna stop me from starving myself\n",
            "1495268323239636997 2022-02-20 05:25:23 +0000 <BekkerStephanie> @MichaelBucwa It may not be 'beautiful' , but it's wholesome, it's sustainably sourced, it goes in the same way all food does and it was really tasty 👌\n",
            "1495268321280679943 2022-02-20 05:25:23 +0000 <RomanPinedo4> @RonanDo36081630 We To Recipes.That Not Using In Ourselves We The Our Are Kitchen Food No Leaves Committed Ingredients Eat. Finest Our Would\n",
            "1495268320811134976 2022-02-20 05:25:23 +0000 <Motla_M> Love?  Nah fam, food please! 😌\n",
            "1495268317984362498 2022-02-20 05:25:22 +0000 <ambarwln> Semalem randomly beli batagor kuah dan siomay di shopee food. Acak aja pilih restonya, pas dateng packingnya rapi pake thinwall yg kaget mah rasanya kok bisa enak banget. Susah cari tipe2 siomay bandung kek gitu tp finally nemu di resto batagor itu 😂\n",
            "1495268317652832259 2022-02-20 05:25:22 +0000 <run_jmc_> Listen, I get if you should only feed your dog, dog food and shouldn’t let them sleep on your bed, but if my dog wants some of my charcuterie board, that dog is getting it because he is a prince\n",
            "1495268307976572928 2022-02-20 05:25:20 +0000 <Reonnex_> @aimseytwo Bob Ross stream but with food instead of paint.\n",
            "1495268301857038344 2022-02-20 05:25:18 +0000 <AdventureLina> “Let me out of here!! Ugh. . . Don’t think she can hear me. . I’m just food at this point. . . But I cant give up on trying to escape before I’m digested.”  Though the stomach would continue to rumble as the princess continued to cause havoc outside.\n",
            "1495268296970620928 2022-02-20 05:25:17 +0000 <McDonalds> @kivietocute food safety is our main concern, Kivie! let's talk more about your experience here:  https://t.co/B5vmhl3SSM\n",
            "1495268296572424194 2022-02-20 05:25:17 +0000 <winlopeyou> Masya Allah tabarakallah 40.000 baht buat food support doang 😭 Thankyou so much. GBU 💚  Win Metawin  #winmetawin @winmetawin\n",
            "1495268286296039425 2022-02-20 05:25:14 +0000 <agemuyy> @FOOD_FESS Salah kompornya kok, bkn salah kmu\n",
            "1495268280398798848 2022-02-20 05:25:13 +0000 <jillhndez> Whyd my fatass just spend money on food when I’m not even hungry like that 😩\n",
            "1495268279417544714 2022-02-20 05:25:13 +0000 <WeOttawa> Green Rebel are healthy and delicious and I hope they join the $304M lawsuit vs #freedumbConvoy2022. In other words not 'man food' for the #Terrorist #Freedumb man child boors seen at the now defunct #OttawaSiege cooking a pig on a spit.\n",
            "1495268262359158785 2022-02-20 05:25:09 +0000 <Pantrax_Hebbs> @ParveenKaswan Primarily for protection. Male lions are thugs in real life. Dont hesitate to resist, kill or wade off attacks even if it means they get badly injured.. they like being respected !! Females are more conservative of their energies and want to channel all of it for food and reprodc\n",
            "1495268261373566979 2022-02-20 05:25:08 +0000 <drfunk387> @RonFunches could not agree with you more that Wendy's Spicy Chicken is GOAT. People keep trying to say Chick Fil A but those people just don't know fast food chicken sandwiches.\n",
            "1495268254591320065 2022-02-20 05:25:07 +0000 <melourip> @mhmzh90 Food poisoning ke ?\n",
            "1495268251374260228 2022-02-20 05:25:06 +0000 <tubirfess> 2beer! sering liat video tiktok pemilik umkm makanan ga pernah nerima saran, video promosi jualan tapi ownernya main comot makanan pake tangan, bagian dikomentarin netizen soal sarung tangan atau food tong, langsung jawab \"udah cuci tangan, seenggaknya ngambil ayam ga pake (cont)  https://t.co/X7dvTKe7qf\n",
            "1495268251151962114 2022-02-20 05:25:06 +0000 <lhhboot> hiiiiii we’re getting food then i’ll update ASAP @folkloresdream  https://t.co/mDr83Q5qQF\n",
            "1495268246873800704 2022-02-20 05:25:05 +0000 <rajendr53996298> @RoninaOribado Have  delicious food and enjoy this happy day ⚘🌷🌻🌿\n",
            "1495268243866632197 2022-02-20 05:25:04 +0000 <caelanclay> The things me and fake name have talked about: gin rummy, constitutional law, not cheering when someone else has a bad time, and food lpl\n",
            "1495268234920087560 2022-02-20 05:25:02 +0000 <Badideas4days> Can we stop with these these bad takes because I know he probably went to some tourist spot and didn't even try to look somewhere authentic. And they usually don't even acknowledge the diverse food available in Queens. There's the spots and then the places visitors go\n",
            "1495268230226751491 2022-02-20 05:25:01 +0000 <jodiemburton> @JWodeshick @RyanMarino @mrh12834 No. And eggplant is obviously food. Silly.\n",
            "1495268227672584194 2022-02-20 05:25:00 +0000 <seblacqceker> @convomf Kalo food vlogger, ria sw! Kalo liat konten dia tuh seru, positive vibes bgt. Udh gt lebih seru kalo liat dia travelling🥰\n",
            "1495268224987844609 2022-02-20 05:25:00 +0000 <kompascom> Memasak brokoli dengan cara dikukus tidak menyebabkan hilangnya kandungan klorofil secara signifikan, sehingga warna hijau segar pada brokoli tetap terjaga. | #Food    https://t.co/mfaXsocPUH\n",
            "1495268220890230794 2022-02-20 05:24:59 +0000 <nebyat_zerabruk> 83% of #Tigray's population is facing acute food insecurity while &gt;1Million are in famine. All of #Tigray is without access to basic services.   #AUEUSummit must stop #TigrayGenocide   @ForeignOfficeKE @GhanaMFA @RwandaMFA @PresidencyZA @Presidence_RDC   https://t.co/vwBbH3bqlO\n",
            "1495268218067468291 2022-02-20 05:24:58 +0000 <FriendsOfBHE> 2/24 Dine Out Fundraiser at Litehouse Whole Food Grill!  https://t.co/yApLEM0fob\n",
            "1495268211797139457 2022-02-20 05:24:57 +0000 <shanghaimetex1> Poly aluminum chloride (PAC) is one of the common coagulants in water treatment and wastewater industries and is generally offered in two types of food and industrial poly aluminum chloride.  https://t.co/hXaaNJWQb1\n",
            "1495268210358337538 2022-02-20 05:24:56 +0000 <JerryWentRound> I would probably be 20 pounds lighter if I didn’t slather my food in sauces/condiments and ordered everything plain like a lil bitch\n",
            "1495268203626262528 2022-02-20 05:24:55 +0000 <LSTarasoff> We had Mexican food for dinner. Which means we are having it for dinner tomorrow too. SO much food! So good, so full. Time for bed. Good night.\n",
            "1495268202007388168 2022-02-20 05:24:54 +0000 <sutjesca> @food_porn17 Que ódio 🤤\n",
            "1495268201227497481 2022-02-20 05:24:54 +0000 <VenkatTerugu> @kunalb11 Same with food too.  Tasty (Junk) we grab, healthy (nutritious) we postpone!  The reality is \"we are what we eat\"\n",
            "1495268199239077891 2022-02-20 05:24:54 +0000 <OrYahwey> @ArtValley818_ Convert all of that metal into being able to grow your own food. Silver, gold, and paper won’t work for nothing when the people in power have taken everything from you.\n",
            "1495268197825613824 2022-02-20 05:24:53 +0000 <drewwyoung1> @AshElizabeth19 See amazing sights and get fed amazing foods. Sun, relaxation and overall fun. Do t let Covid ruin everything. Live it’s ok.\n",
            "1495268196613386240 2022-02-20 05:24:53 +0000 <fullysully_> @bassbabebri I hope you bite your lip each time you chew food.\n",
            "1495268195061538819 2022-02-20 05:24:53 +0000 <apexrehab_cn> We had so much fun enjoying the Super Bowl game last Sunday!  #SuperBowlLVI #SuperBowlHalftimeShow #fun #football #food #newyork  https://t.co/ZiMrKjM605\n",
            "1495268191429271553 2022-02-20 05:24:52 +0000 <FearlessChhetri> #India should re-consider on giving any kind of aid &amp; assistance to #Taliban #Afghanistan, be it Food Grains or Medicine. India should stand &amp; act like a Super Power. @PMOIndia @DrSJaishankar  Panipat Operational Unit: Taliban names new military unit.  https://t.co/Pc5qR7juYv\n",
            "1495268175331545088 2022-02-20 05:24:48 +0000 <re_travel_food> Nuvvu food iche sariki , aakali sachipoddemo anipistundi mawa  https://t.co/aMqVd7kX4q\n",
            "1495268174920564740 2022-02-20 05:24:48 +0000 <CC_Downsmash> @shannondorf_ Thai flavor in aurora is the best Thai food in the state. Star kitchen is amazing dim sum. If you're down in the springs, garden of the gods is a must-see and it's free to go to. Our botanic gardens in Denver are pretty sick too.\n",
            "1495268173306011651 2022-02-20 05:24:47 +0000 <mememaeri> to have a meguro ren enjoying his food cutely is one thing, but him looking even more handsome with that hair??? 😭\n",
            "1495268168927158272 2022-02-20 05:24:46 +0000 <atheninac> @jaesahiiyut @cheathink @FOOD_FESS @zellalazel\n",
            "1495268168629202946 2022-02-20 05:24:46 +0000 <firstxnoelle> i must look sweet or something cause it was my second time picking my food up &amp; this man asked me COULD I DRIVE HIM HOME. i do NOT know you.\n",
            "1495268168297631744 2022-02-20 05:24:46 +0000 <sugurugtto> punya gwe malah ky topping dry food kucing  https://t.co/6X21PA3qaS\n",
            "1495268167408660482 2022-02-20 05:24:46 +0000 <j1hdas> My mom saw me using the food scale but she didn’t say anything…\n",
            "1495268165177475076 2022-02-20 05:24:45 +0000 <FlaZey1xx> firy wants food . like\n",
            "1495268158596427778 2022-02-20 05:24:44 +0000 <taesunamo> @Hotaruale Oh really? Like chocolate as food or a drink? I'm about to get some earl grey tea and was wondering what to drink it with 😍\n",
            "1495268136676999168 2022-02-20 05:24:39 +0000 <noahmfisk> It's really freaking me out and it's causing me this serious aversion to food - understandably so, still incredibly bad. When I do eat, it's two meals in a day and then nibbling for a few days. My norm was one meal a day and nibbling through the day.\n",
            "1495268134802108416 2022-02-20 05:24:38 +0000 <OilalwaysRises> @debbiethetexan UH......Food. ....restaurants.....Grand Canyon......Hoover damm......Broadway shows....Music......mmmm what else.\n",
            "1495268134386737159 2022-02-20 05:24:38 +0000 <yovngdumb> money, music, foods\n",
            "1495268128976216064 2022-02-20 05:24:37 +0000 <Kerestesy> @_byerobann @comedianarthur Last time I was in LA I had a native take me to 6 of the best spots. They were all very good but I’ve had as good, or better, in Brooklyn. Mostly from carts, the delis at Mexican grocers, and tortilla factories. People eat at a Chinese Mexi joint &amp; think that reps NYC Mexi food.\n",
            "1495268122772877334 2022-02-20 05:24:35 +0000 <Blazer2k7> @bout_biness @LeilaniDowding Dingdingding. Ot will be utilized along with a coordinated food shortage to force more into taking \"the jab\". (Expect big gov handouts to be ready for those willing to comply)\n",
            "1495268115113865217 2022-02-20 05:24:34 +0000 <teacher_rae> @robertprestado1 We so love your food! Matagal na kaming customer bago pa kayo lumipat sa new location. Thank you for taking a stand. 💖\n",
            "1495268114929532929 2022-02-20 05:24:33 +0000 <Esperan_ramos> @JuanCen22407947 We To Recipes.That Not Using In Ourselves We The Our Are Kitchen Food No Leaves Committed Ingredients Eat. Finest Our Would\n",
            "1495268114308734976 2022-02-20 05:24:33 +0000 <DeltaSchmitt> @white_ghurkha @bog_beef They are also formed in unreality. Cities are not bound by any of the normal limitations of life, all the food, fuel, materials, even citizens and slaves are imported from the rural. They are maws on the earth, open to take anything they can...\n",
            "1495268109682241538 2022-02-20 05:24:32 +0000 <magdaglennaa> hoy legit ha? mskn lami pa kaayo ang food, wa juy gana ikaon pag ikaw ra isa. ☹️\n",
            "1495268099834228741 2022-02-20 05:24:30 +0000 <LuswetiStephen> Under the handshake reign, fuel prices have elevated, electricity bills are above the ceilings, food prices have rendered man children grow malnutrition. Now look at the fertilizer price, next year food supplies will not for local man.  #lowerfoodprices\n",
            "1495268095803498505 2022-02-20 05:24:29 +0000 <hoseokyourking> @asmoberry @scrumplo I can’t feel the food on my throat HELP 😭😭😭😭 😭😭😂😂  https://t.co/vvNJzsPwuE\n",
            "1495268092737462274 2022-02-20 05:24:28 +0000 <Nigel_Mang> @sibisi_ns Why are people getting chased by food. 😂🤣  https://t.co/G3MEoK63YW\n",
            "1495268092037206022 2022-02-20 05:24:28 +0000 <ya_yoi168> @goodtravel_food なるありです！\n",
            "1495268079735119876 2022-02-20 05:24:25 +0000 <BandsFPS> can somebody buy me some food please\n",
            "1495268078396997632 2022-02-20 05:24:25 +0000 <uburuburr_> @SinggihSuryaW @nsbstrn @moonyeonas @FOOD_FESS eh? serius? 😭 liat apaan ksi tau 😭\n",
            "1495268069903532032 2022-02-20 05:24:23 +0000 <Pretty_Tony187> @messy_friend @PplsCityCouncil Lol...I'm a sterile prude because I dont eat food cooked in unsanitary conditions?   😂😂😂😂😂😂\n",
            "1495268066589958145 2022-02-20 05:24:22 +0000 <ocfactsbot> a year after aturnus left, belron wasn't making enough money to keep the loft and keep buying food.\n",
            "1495268066439184385 2022-02-20 05:24:22 +0000 <hallinen_diane> @GidMK @evolutionarypsy Unsolicited breakfast advice, organic steel cut oats, soak overnight, Instapot on low pressure x 4 minutes, natural release. Fruit, bit of🥛, cheap, good intestinal biome food, easy. Instapot beans for dinner, repeat. 1 cup oats feeds 2.\n",
            "1495268055840034817 2022-02-20 05:24:19 +0000 <GoKammieGo> Sound crazy, theres some fire ass food trucks BLACK OWNED, as well as restaurants, There’s a few ramen spots that’s fire, fish markets, Deli, Caribbean food, Indian food if your opened to it and Brazilian etc.\n",
            "1495268054359552002 2022-02-20 05:24:19 +0000 <ArieeMonaee> Food been so nasty or I been getting full quick asf . This why I ain’t been eating 😭\n",
            "1495268053885542400 2022-02-20 05:24:19 +0000 <loey_461> 5:21am. Finally finished cleaning the kitchen bc my mum has her besties coming over on Mon &amp; they like camping in here together🙄my exams start on Monday as well. Ima run away to a library and get home late- just as they’re putting food out😋not risking my grade for the aunties.  https://t.co/iUlYY2fxEe\n",
            "1495268045774016512 2022-02-20 05:24:17 +0000 <RapistOnCrack2> I like to imagine myself as a modern day lord really drinking whiskey and Argentinian wine all day while eating the most historic of European foods and laying on bed for days until I get up to drive my expensive german car just to flex on the plebians  https://t.co/ZupxNGF00D\n",
            "1495268045606072320 2022-02-20 05:24:17 +0000 <DraxamirA> @Azaleesh hmmm favorite food? mine is a fried chicken italian sandwich~ delish~  https://t.co/YBu8fI9UrZ\n",
            "1495268044494487554 2022-02-20 05:24:17 +0000 <mcfslaw> Putin doesn’t want s successful democracy as his neighbour.  Some Americans, incl some very high-profile politicians, have shown us this week that they don’t want one either.   Some people don’t have food, and some others like it that way.   #FollowTheMoney\n",
            "1495268044267868164 2022-02-20 05:24:17 +0000 <AIteach01> @Coryjankoski @jonkay Let me guess... Cotton candy? A compressor to inflate a bouncy castle? Free food for the homeless???\n",
            "1495268041235566595 2022-02-20 05:24:16 +0000 <moroccony> 今日はぴり辛ジャージャー麺 紹興酒飲んじゃったけど ゆるーく捨活 #おうちごはん #炸醤麺 #lunch #food 場所: Kyoto, Japan  https://t.co/3bMa5h3eRT\n",
            "1495268038731436034 2022-02-20 05:24:15 +0000 <GuereaSalu> @BorkarKadir Committed That Ourselves Not Recipes. Would Eat. Are Our The Our Food To Using In Finest We No Ingredients Leaves We Kitchen\n",
            "1495268037888557063 2022-02-20 05:24:15 +0000 <waseemali3964> Hopefully All-Star event comes on at 1:00 AM on NBA TV…can’t trust the DirecTV Guide…it says all star game is coming on right now, but when i put it on that channel…it’s showing some food stuff…\n",
            "1495268034377699328 2022-02-20 05:24:14 +0000 <robeht_english> I was feeling lazy, so I ordered lunch from food delivery.  https://t.co/HfC4hLu7Se\n",
            "1495268032855175168 2022-02-20 05:24:14 +0000 <PipitEkaaa> @briankhrisna Belum makan, nanya gini apakah mau dikirimin grab food/ go food?\n",
            "1495268031055937536 2022-02-20 05:24:13 +0000 <WeOttawa> @Nora1968 @GreenRebelResto Green Rebel are healthy and delicious. In other words not 'man food' for the #Terrorist #Freedumb man child boors seen at the now defunct #OttawaSiege cooking a pig on a spit.\n",
            "1495268028442767360 2022-02-20 05:24:13 +0000 <ITCHYisVegeta> @KXLJimferretti @LarsLarsonShow We did that last weekend when we went to the food trucks off 187th.\n",
            "1495268021648392192 2022-02-20 05:24:11 +0000 <scrunklytoro> //food . AUR MY GOSH GUYS GUYS LOOK AT MY TORO INOUE CAKE  https://t.co/1pAiRsAVy5\n",
            "1495268019789983747 2022-02-20 05:24:11 +0000 <missingfragmen> Why aren’t we getting food\n",
            "1495268019777544192 2022-02-20 05:24:11 +0000 <shaheen612> @ImmortalTech Boat, axe, crossbow, and water purifier. This way u have a weapon that’s ammo can be reused, and the axe can also be a weapon and a tool for materials, boat to access other areas, and water purifier to drink from anywhere. Solves food, water, shelter, and transportation for u\n",
            "1495268019664146432 2022-02-20 05:24:11 +0000 <NicoPrincely> @arghavan_salles 1. For food workers, or on public transportation I can agree. Anywhere else is pretty much ridiculous. Unless they are a N95 the do little to nothing. And wearing it from the door a restaurant to table is = Ridiculous.\n",
            "1495268017470537730 2022-02-20 05:24:10 +0000 <nm0565593> *खाना मिलने के बाद खुशी के आंसू बताते हैं अन्न कितना कीमती है..so pls don't waste food.. जरूरतमंदों को खाना खिलाओ इससे बड़ा कर्म कोई नहीं❤️❤️*🙏🙏  https://t.co/ccapzpg0mI\n",
            "1495268016258383872 2022-02-20 05:24:10 +0000 <akiodachi> bb cousin: *buys fiesta sisiw*  me: Hay nako, alagaan niyo ah. Bahala kayo diyan di ko kargo yan.  *weeks later*  m: ms kitchie eat your food na!!  https://t.co/KAl4yb0DoN\n",
            "1495268010034343936 2022-02-20 05:24:08 +0000 <BitJulius> @cryptobulma Looks like cat food is on the menu\n",
            "1495268000555020298 2022-02-20 05:24:06 +0000 <HedgiesofMobius> @TheHedgedragon Probably Bad food or Eggs in food\n",
            "1495268000542375936 2022-02-20 05:24:06 +0000 <manglegrove> i rly want to like food wars bc i love cooking anime, kitchen princess was one of my all time faves as a kid, but its just so unrepentantly horny i cant get into it\n",
            "1495267996713066499 2022-02-20 05:24:05 +0000 <mariamar625> @libra10584 Here it’s the @WholeFoods wine section 😉  https://t.co/r04EvJhAIq\n",
            "1495267994464710656 2022-02-20 05:24:05 +0000 <grayyoongi> @jungkookhayati I mean.. we went to run some errands together, then watched uncharted at the theatre, then headed to the airport food court, got surprised by my cousin's husband coming from us, so yeah u could say with nearly 17 hours of sleep in this week . yeah . i am dead\n",
            "1495267994313932803 2022-02-20 05:24:05 +0000 <LUBUYO> @tito_mboweni Don't you add salt to your food when cooking Governor?\n",
            "1495267993395343360 2022-02-20 05:24:05 +0000 <bmurphypointman> #affiliate #affiliatemarketing #deal #blogger #business #cryptocurrency #deals #shop #discount #gifts #marketing #shopping #socialmedia #travel #twitter #webtalk #ad #affiliatelink #delivery #order #food #lunch #dinner #alcohol  https://t.co/uzurZ1Z2v7\n",
            "1495267989830217731 2022-02-20 05:24:04 +0000 <hugs4thv> @theosIvr Go make food\n",
            "1495267986537648128 2022-02-20 05:24:03 +0000 <WANDERlNGHUNTER> @lixentious A slight nod , food - tent , she'll have to remeber everything , it likely wouldn't take too long to get everything prepared .  A slight - blank look at this shortened name she mentioned   ㅤㅤ❛ Why would you want to call me that anyways -? ❜\n",
            "1495267985451331589 2022-02-20 05:24:03 +0000 <moonskye3> @Jakon72 I'm visiting just for the food😁\n",
            "1495267982343290881 2022-02-20 05:24:02 +0000 <naemilan_> feed it to you like soul food.\n",
            "1495267977679224837 2022-02-20 05:24:01 +0000 <y_a_z_i_i_d> @Abdulkarim15_ @khaleed_id Breakfast no be food? 💀\n",
            "1495267973187133441 2022-02-20 05:24:00 +0000 <RonSwanson_Sym> I love her food\n",
            "1495267960545746946 2022-02-20 05:23:57 +0000 <sdhillon2112> @anwaraich_ Used as food and in traditional medicine  https://t.co/TJJMAZr7YB\n",
            "1495267957156556803 2022-02-20 05:23:56 +0000 <yourSINsation> Mans is lit and the food is bussin\n",
            "1495267955826847745 2022-02-20 05:23:56 +0000 <DocLT2> @RevBari Cholesterol is produced in your liver and excreted in bile via the gall bladder to assist in absorbing fats from food. It is then re-absorbed downstream in the intestines along with the fats. Fiber causes a larger % of it to leave in feces &amp; smaller % resorbed &amp; recycled.\n",
            "1495267953960493064 2022-02-20 05:23:55 +0000 <Bianc_Pena> If you like  playing with your food like sxy wise text me\n",
            "1495267952047788032 2022-02-20 05:23:55 +0000 <FsoundRecords07> I think we should allow people to adapt and grow out of fear and conditioning themselves to abnormality, or face the repercussions. You don’t play with fire.   I’m only a bothered shadow entity trying to keep you from losing at the top of the food chain.   call it Batman. ⚫️\n",
            "1495267942514180098 2022-02-20 05:23:52 +0000 <The_Blokeypoos> @HmmEdelgard \"Food.\"\n",
            "1495267938328272899 2022-02-20 05:23:51 +0000 <mokmuud> @Food_2_Die_4 @m1ghtysauc3 @UltimulB @StephenKing The FBI started investigating due to illegal spying. 🤦‍♂️\n",
            "1495267938298855430 2022-02-20 05:23:51 +0000 <ChanakyaDc> @RaunaqMangottil + Food, Beach, Diversity, Culture, Art - Humidity, Traffic, Lack of green spaces\n",
            "1495267937221021698 2022-02-20 05:23:51 +0000 <DecafCialis> @comedianarthur LA Mexican food is ass once you’ve been to San Diego.\n",
            "1495267937179025408 2022-02-20 05:23:51 +0000 <Pseudonaym> @BaldNBougie @alloutofeth @loserclubreborn I was a bag boy at Food Bazaar\n",
            "1495267930518343682 2022-02-20 05:23:50 +0000 <HONKEYKONGuno> @alexpardee Same, I even wanna buy one of those tacomas that are peanut butter colored, but I wanna upholster the interior with a grape jelly color and live the comfort food life. Maybe introduce a lays potato chip feature inside.\n",
            "1495267927326482434 2022-02-20 05:23:49 +0000 <hazedust> this video is so relatable because my dad used to dislike cats so much that he wouldn’t stop saying he’ll throw the cats away but now he is just so in love that he let them sit on his laps or even eat his foods  https://t.co/AqbzHLY92k\n",
            "1495267921018310657 2022-02-20 05:23:47 +0000 <umbralflower> @grenesims Try taking it with applesauce, pudding, or yogurt. That's what I used to do at work for people with issues swallowing capsules 😦  Or you can look up to see if that particular capsule is able to be pulled apart to swallow the inside medicine with the above mentioned foods.\n",
            "1495267918027841536 2022-02-20 05:23:47 +0000 <Sun_Serif> @BoyoSquid he took his time picking apart the food into smaller peices, though he couldnt help but stare at Ink.\n",
            "1495267915888996354 2022-02-20 05:23:46 +0000 <ImSidSub> Rahul Gandhi's ( CMO ID Fresh food ) comment that Swiggy Instamart has almost equal sale volume for ID products as compared to the big daddy of grocer, Big Basket, is huge!  Was BB late in entering the instant grocery delivery space then?\n",
            "1495267915507007488 2022-02-20 05:23:46 +0000 <TheRealMcKeever> @Moooo1985 Ouch!  I’ve had a ton of sinus infections, but never that bad.  Silver nasal sprays are also effective (Whole Foods or Amazon).  Bacteria hate silver.\n",
            "1495267914009640961 2022-02-20 05:23:46 +0000 <eorozco2720> I loved the show @Roadfood123 I love that Rob and Ruth were on it I also love the fact that it wrapped up with the vegan episode.  Wanted to explore that part of food.  This is a amazing show &amp; was just perfect. What made it more perfect was @mishacollins #mishacollins\n",
            "1495267908594790403 2022-02-20 05:23:44 +0000 <ichinentorachan> U-um senpai? I don’t think convenience store food is best for you… w-would you like to share my lunch? I-I’m not very good at cooking though\n",
            "1495267906577473539 2022-02-20 05:23:44 +0000 <Cool_Dudes_NFT> Gn all! 🌘 we hope you dream of wondrous NFTs and good food 💤🙃\n",
            "1495267902156460034 2022-02-20 05:23:43 +0000 <mrscamacho08> Skl. Our lunch 🥰😍 Hindi naman ako maarte when it comes to food. But this is my 2nd time na kumain ng noodles na inuulam sa kanin. Saraaaaap talaga! Nung kaunahan ay yung nakita ko inuulam ng asawa ko and tinry ko. 💞💞  https://t.co/mkZ38r0BFA\n",
            "1495267901598625793 2022-02-20 05:23:43 +0000 <AshIsAQT> Angy and sleepy and hungry and WHERE IS MY FOOD\n",
            "1495267888756068353 2022-02-20 05:23:40 +0000 <thetipsguru> so instead of messing with the game this year there changing the food instead\n",
            "1495267880916885505 2022-02-20 05:23:38 +0000 <NarcartisticInc> @landrights4all @Leel06Lee @CatPurry9 it is an example of a global emissions that  isn't grossly dominated by elitism and greed ..the consumption emissions that are high for the 10% &amp; 40% because of their affordability to buy fast food.. alcohol and fuel guzzling vehicles.. the 1% eat better the 50% live in poverty\n",
            "1495267875116183558 2022-02-20 05:23:36 +0000 <vlushii> IM FREE GOT OUT GOT FOOD  https://t.co/2lHbyrp5aC\n",
            "1495267869847924736 2022-02-20 05:23:35 +0000 <Teeth4Dinner> When i go shopping i either get Only food or Only drinks so. Im always lacking one. Rn its drinks, all i have are energy drinks\n",
            "1495267857604751360 2022-02-20 05:23:32 +0000 <CassieN46397603> @LeahPorno69 @_pornstar_hiv_what_food_makes_your_dick_grow\n",
            "1495267853700059138 2022-02-20 05:23:31 +0000 <kiyongteeth> a pic of food and 'ing' caption means currently eating this ok\n",
            "1495267852034662406 2022-02-20 05:23:31 +0000 <_flowbermeow> @Meowsticm i am open minded @ food but i refuse to allow my food to look me in the eye\n",
            "1495267850667233281 2022-02-20 05:23:30 +0000 <gwenncyy> Maalala ko rin ung kwento ng mommy niya nung bata siya. Binigay niya yung baon niyang food sa school sa isang namamalimos. No wonder support siya sa mga charity works to give back.\n",
            "1495267849568350210 2022-02-20 05:23:30 +0000 <gomichild> I continue to buy &amp; cook him any food he requests. Even if it’s not the healthiest options (like cup noodles). I try to involve him in food choices &amp; to discuss the nutrition in what I cook.\n",
            "1495267840596787204 2022-02-20 05:23:28 +0000 <ZetraGild> @AlienToYou Oh yes! I accept them and then throw them on the road for the crows a little later.   They're so proud when you take the food they got for you.  Then the crow babies turn into your own personal entourage through town haha.\n",
            "1495267837539147781 2022-02-20 05:23:27 +0000 <Ramesh__Kanth> @cartoonlka @RcSullan Does anyone remember the food drop by Indian air force in 1987? The whole country was ferocious. Now with open hands full of smiles we accept the aid. Life is a circle right?\n",
            "1495267835165102083 2022-02-20 05:23:27 +0000 <gomichild> School started again. Every time he tries to go I have to go collect him from sick bay. He’s puked or fallen asleep exhausted.  He’s not talking to me about it. Just that he “feels sick”. Food is being consumed, but it’s not always staying down. He’s exhausted &amp; angry.\n",
            "1495267833416015872 2022-02-20 05:23:26 +0000 <gomichild> The vomiting started in January. Secret at first but I soon discovered the bottles of puke he was trying to conceal.   He said he just felt sick. He absolutely refused to see a doctor.  I started to focus on preparing his fav foods hoping he’d feel better.\n",
            "1495267831902089219 2022-02-20 05:23:26 +0000 <realnupersian> Walt said I got $150 on my food stamps card I said oh yeah? He talmbout im not giving you nun you don’t got no kids yet. 😂\n",
            "1495267831121731586 2022-02-20 05:23:26 +0000 <Bestqualitywri3> Science Homework Help FIU Environmental Science &amp; Food Resources Discussion  Food Resources A. This  https://t.co/DuyacLMQO3\n",
            "1495267830862069761 2022-02-20 05:23:26 +0000 <Michael_Hayashi> There are many spies in Japan, so it is difficult for politics to move. I am hoping that your power of action will change Japan. Also, the food in Tokyo is the best in the world. Please enjoy it.\n",
            "1495267830354235394 2022-02-20 05:23:26 +0000 <gomichild> Since he was born I have made all his food from scratch. The focus has always been on delicious &amp; appealing rather than low calorie or diet.  We have take away once a week (teen gets to choose). He is allowed to have chips &amp; sweets in moderation &amp; that’s been ok.\n",
            "1495267824368947202 2022-02-20 05:23:24 +0000 <Sudhirr48> @RaunaqMangottil Affordable rent, food, close to home town, beaches..\n",
            "1495267820841897985 2022-02-20 05:23:23 +0000 <Elysia38964315> @Petedavey1979 @rolfep @theheraldsun @MCG Since when is pizza not a footy food?\n",
            "1495267818761293828 2022-02-20 05:23:23 +0000 <Taybae1228> i miss eating food that can be made in a toaster\n",
            "1495267815099674627 2022-02-20 05:23:22 +0000 <YouWillLearn3> @BradvB4 My weakness is cheese in food, next time try the balsamic cream cheese on your fillet steak 🥩 . YUM.\n",
            "1495267812578787330 2022-02-20 05:23:21 +0000 <yumyumluvschu> ⠀⠀⠀⠀⠀⠀⠀⠀⠀⠀        :((  . .  i  understand  but  please  tell  me  next  time  so  i  can  stay  up  and  wait  for  you  to  come  home  with  warm  food  and  warm  hugs  ,  okay  ❓   ⠀⠀⠀⠀⠀⠀⠀⠀⠀⠀⠀\n",
            "1495267812121612288 2022-02-20 05:23:21 +0000 <xiangjiaosaging> And they do all the dating stuff like go on food dates, read to each other, holding hands, to be fair, they've already done all of these before this whole misunderstanding\n",
            "1495267802902515713 2022-02-20 05:23:19 +0000 <lucyrinn> hot wings are the best food on earth\n",
            "1495267801501769728 2022-02-20 05:23:19 +0000 <ENJ_Maxi> @DegenSpartan @hentaiavenger66 Wen @DegenSpartan storable food product line?\n",
            "1495267801434574851 2022-02-20 05:23:19 +0000 <mrfunpolice202> Ok to make this simpler…Eat more fruits drink more water less proceed foods and fried food Fellas\n",
            "1495267799735975936 2022-02-20 05:23:18 +0000 <shinjukushake> 今一緒に研修を受けている職場の同僚から教わったこのBASE FOODシリーズ、いわゆる完全食ですがなかなか良さげ😎  腹持ちいいので朝飯替わりに重宝しそう。  Amazon定期便にしようかしら😅？  #basefood  #basebread  #完全食  #amazon定期便 場所: Yokohama  https://t.co/pUEhZTD5tk\n",
            "1495267798825590788 2022-02-20 05:23:18 +0000 <MrGarv1503> @Booteezz My favourite food is an Indian dish known as 'Chole Bhature' and I just love it\n",
            "1495267793805139970 2022-02-20 05:23:17 +0000 <ShesSquee> WHAT IF... we stopped judging people for decisions that do not affect us and aren't our business in the first place. The foods we eat aren't always a choice.\n",
            "1495267786754461697 2022-02-20 05:23:15 +0000 <EJewishlately> @SenatorSinema Too bad you voted against the money for children so that their parents could afford the food being produced.\n",
            "1495267785819054081 2022-02-20 05:23:15 +0000 <sunwonreads> di ko alam anong fave food ni hcc puwede bang basic math prob na lang tanungan😭\n",
            "1495267781633363972 2022-02-20 05:23:14 +0000 <mobiquotes> The trouble with eating Italian food is that five or six days later you're hungry again.\n",
            "1495267781197144068 2022-02-20 05:23:14 +0000 <TheLoneFight> @AngelicDeceiver He takes in a deep breath of air when she shifts off him. Stepping from the truck, he has to take a moment to adjust himself in his pants. Grabbing the food and drink from the truck, he pushed the door shut as he follows her up to her house. Once inside this was his chance to-\n",
            "1495267779221413890 2022-02-20 05:23:13 +0000 <LaurenEckerdt12> I’m literally a leftover machine. Don’t want to finish your food out at dinner and don’t wanna take it home? It’s gone in 2 secs I got u\n",
            "1495267768832348162 2022-02-20 05:23:11 +0000 <thenortherndad> A classic #tuna pasta bake with a twist. It’s super easy to make, with ingredients you’ll most probably already have in your cupboard or fridge.  https://t.co/cHMoK8yY5N #cooking #food #pastabake #recipe #recipes\n",
            "1495267764662984704 2022-02-20 05:23:10 +0000 <pinkichor> Not @ me digging up our last jar of homemade raspberry jam and hoarding the whole thing in my fridge cuz until I know my food sensitivity it’s one of the only jams I can have cuz I do not wanna buy expensive natural jam at the store lol\n",
            "1495267760829566979 2022-02-20 05:23:09 +0000 <Zone4TMC> @_Play4keeps__ I’ll get ya some food lol\n",
            "1495267758334164993 2022-02-20 05:23:08 +0000 <MasaeMatsuda> @AIZAWA_FOOD あざまーす💖\n",
            "1495267758216564737 2022-02-20 05:23:08 +0000 <messy_friend> @Pretty_Tony187 @PplsCityCouncil Your loss, sterile prude. Street food is some of the best stuff out there. I guess you'll never know.\n",
            "1495267757406961668 2022-02-20 05:23:08 +0000 <RayRedacted> @DHAhole lots of great food ones  https://t.co/fKSgAleR9N\n",
            "1495267753967583241 2022-02-20 05:23:07 +0000 <marjorietady> I’ve been spending all mah money with food ahahahahahahha\n",
            "1495267752822845442 2022-02-20 05:23:07 +0000 <SSarmivaaa_> @blazee_dumbass I MEAN TRUE ALSO WEIRD HOW THE BANANA JUST WENT A L I V E   right when we thought bananas are food-\n",
            "1495267752805687297 2022-02-20 05:23:07 +0000 <NeriZepeda> It just hit me. I , voluntarily, drove to get food for the person who refused to pick me up from school (when it was HAILING)…\n",
            "1495267750981292032 2022-02-20 05:23:07 +0000 <Paytontonton> @aimseytwo get some clay and try to mold things (friends, foods, chars, etc)\n",
            "1495267747625721860 2022-02-20 05:23:06 +0000 <Alb__bot> I don't know why I tried to become one of the Cyber Ninjas. I think I needed a purpose that wasn't just me versus Robert. Fighting can be okay sometimes, but I hated my journey. It's nice when you can have a family to sit at the bar with. Hazma makes good food.\n",
            "1495267745805393923 2022-02-20 05:23:05 +0000 <joeyiswandering> @shijiu97301965 @2Tjy3duEKQVkIVa @BorisJohnson if we could have human rights and food and dwellings at the same time, I think no one would go to the fucking school\n",
            "1495267743095996416 2022-02-20 05:23:05 +0000 <oginsbaba> Before unko? Shey your area people come your house to cry for food ni?, oga go junction and help the real beggers or go to orphanage\n",
            "1495267741573345283 2022-02-20 05:23:04 +0000 <ArtsWhimsy> God I feel so bad for my poor rat. Abscesses are so goddamn gnarly and she has one right on her head/face. :( She had it expressed yesterday and she's super not feeling great. So I am showering her with love and spoiling the crap out of her with special food n treats\n",
            "1495267734430621696 2022-02-20 05:23:03 +0000 <BoyoSquid> He smiled a bit before making his food and sitting at the table to eat it happily. A small purring sound coming from him.\n",
            "1495267730865332225 2022-02-20 05:23:02 +0000 <_cjanastacio> @NeljunAndres3 same feeling ate ko, pero we want to put food on our tables, so labaaan always ate🙌🏻🥺\n",
            "1495267726931415046 2022-02-20 05:23:01 +0000 <HikeOurPlanet> RT @LeeHiller: #Earthlings Are Not Our Food...  https://t.co/nO6dvmnsE8  https://t.co/oAA8ugvnl2 #Vegan #MeatlessMonday\n",
            "1495267724842266625 2022-02-20 05:23:00 +0000 <KellySw26839136> @googieeats @uarmyeuphoriaaa Sharing food with your bf and bday very cute.\n",
            "1495267724636798978 2022-02-20 05:23:00 +0000 <Booshuari> Every 35 days ur skin replaces itself. Your liver, every month. Your body make these new cells from food. So you literally are what you eat!\n",
            "1495267723617910786 2022-02-20 05:23:00 +0000 <SWAMIBUDDHATMA1> உணவு மருந்தாகும் மருந்து உணவாகாது. Food is medicine and medicine is not ...  https://t.co/K6D4thwaLE via @YouTube\n",
            "1495267722845999106 2022-02-20 05:23:00 +0000 <colbent606> @CallMeMoprah As a Wisconsinite when we travel out of state we purposefully eat at the last Culver’s before we’re out of Culver’s range. Other fast food just doesn’t measure up.\n",
            "1495267721679884291 2022-02-20 05:23:00 +0000 <Kimmyrussles1> @ORAYNWINTER No its a rule and you don't go against rules, and that rule applies to all food items in the house. BU is very inconsiderate when it comes to food because he is \" vegan\". He should know better.\n",
            "1495267714079739906 2022-02-20 05:22:58 +0000 <D76673144> Republic-wide evacuation in Donbass.  Fellow in Donbass.  Fuel and water are priorities (and food for cats).   https://t.co/KnZg5k716E\n",
            "1495267712821571592 2022-02-20 05:22:58 +0000 <mokmuud> @Food_2_Die_4 @m1ghtysauc3 @UltimulB @StephenKing Spying that was paid for by the Hillary campaign and the DNC.\n",
            "1495267712209240067 2022-02-20 05:22:57 +0000 <SB4xJG4> @BolWrld @raptorstings Weren't you the guy that spitted into someone's food after they accidentally stepped on your J's?\n",
            "1495267710762061829 2022-02-20 05:22:57 +0000 <HobbitHeathen> @MmeGillyotine Crunch is a very important basic food group\n",
            "1495267699471314944 2022-02-20 05:22:54 +0000 <lifeisfcknweird> My bed + wifi + food + Netflix + money = perfection\n",
            "1495267697994702850 2022-02-20 05:22:54 +0000 <tybenjii> I want that food I had last night😮‍💨\n",
            "1495267691552141315 2022-02-20 05:22:53 +0000 <seohogu> Changpanite is an evolutionary form of Paori. Only those who survive many battles evolve into this form. When the waves wither, they leave the battlefield. It repels attacks with its hard green leaves &amp; counterattacks with its sharp stems. It is both a weapon &amp; a food ingredient.  https://t.co/iCnVY64jj2\n",
            "1495267683570528256 2022-02-20 05:22:51 +0000 <porscheFanNYC> @DaytonaDesign @BillyFreelandNY You didn’t know? Then being about to eat overpriced food means everything is okay.\n",
            "1495267668844187650 2022-02-20 05:22:47 +0000 <girlcrushbot> today I chose to lay in my bed and sleep and sleep and sleep until my eyes burned red and I have never felt more lost, more distant, more like the food I pick at when it's dark and I want to be able to be something other than what i am now.\n",
            "1495267665627152385 2022-02-20 05:22:46 +0000 <CrossZX> @YouSeeGundam Hangover food of choice?\n",
            "1495267664775766023 2022-02-20 05:22:46 +0000 <Foot_House_> @morganisawizard vegan or vegetarian foods masquerading as “normal” food are fucking terrible. There is plenty of delicious vegetarian food, stop trying to make it into meat!\n",
            "1495267663026790402 2022-02-20 05:22:46 +0000 <not_shardain> @ZeldaMichelle_ @BLo_Cat97 @TiredPhoenixie @poetpedagogue for food?? no I had to bust my ass getting across my HS and fighting thru packed, shoulder-to-shoulder crowds of 4000-ish other students doing the same shit just to get to my next class in time lmfao.\n",
            "1495267660032000008 2022-02-20 05:22:45 +0000 <JCOdyssey> February: Food Wars! The Second Plate OVA  season 3 about to go extra hard  https://t.co/Y8bD1CwwPK\n",
            "1495267653971513346 2022-02-20 05:22:44 +0000 <_DAEDU_> @jyuri_asdf @: 왜 이 결혼식은 삭제 노래밖에 안 틀어요?  @@: 왜 이 결혼식은 밥먹을때 food and musik 수록곡밖에 안 틀어요?\n",
            "1495267652780138497 2022-02-20 05:22:43 +0000 <__NgalondeNN> Today asidli?? @_SA_Foods  https://t.co/TqxxBKTbr6\n",
            "1495267649319837696 2022-02-20 05:22:42 +0000 <leafybone> @maeskgs try distracting yourself w other things like games / movies / series, if you're not into anything at the minute then scout about &amp; find something new to play/watch, redecorate/clean, go on walks, stay away from any food sources\n",
            "1495267640000012288 2022-02-20 05:22:40 +0000 <Kailadechae> Finally she brought her black ass home now I can get some food\n",
            "1495267639173599238 2022-02-20 05:22:40 +0000 <bithika11> A central govt sponsored scheme called #NikshayPoshanYojana directly pays 500/- a month,to bank accounts of poor TB patients so they can eat nutritious food. Unbelievable that the PM,inundated with so much work,still finds the time for such small but life altering initiatives🙏🏻\n",
            "1495267636824850436 2022-02-20 05:22:40 +0000 <appbyditor> pengen jdi food vlogger🥺🥺🥺🥺\n",
            "1495267627609980931 2022-02-20 05:22:37 +0000 <LadyWithMDD> Been eating a lot and already gained 2kgs!  The other day, I felt I was about to  have another episode so I just binge ate and it calmed me!  I guess, food really makes one happy\n",
            "1495267625995145221 2022-02-20 05:22:37 +0000 <firdaus2> I approved this food and location hahahha\n",
            "1495267624573358080 2022-02-20 05:22:37 +0000 <i22k0zhi> id rather have no food bc if i had food and i’m fasting i feel guilty if i’m not eating it\n",
            "1495267623713402882 2022-02-20 05:22:36 +0000 <ActiveLifeEssen> Womens Fitness Taco Funny Gym T Shirt Humorous Mexican Food Tee For Ladies (Pink) -XXL |  https://t.co/9JOMO9fNNq\n",
            "1495267618332110855 2022-02-20 05:22:35 +0000 <usedwifi> @radlcIes you when i tell you italian food sucks\n",
            "1495267617766006785 2022-02-20 05:22:35 +0000 <Marquitaaaaaaa> I ate that food and ball up on the sofa with my family 🥰\n",
            "1495267614058233857 2022-02-20 05:22:34 +0000 <Thesharkerimage> @cubsgirl1825 Take that food and throw it away. Throw it all away! Shut it down! Nobody eats!\n",
            "1495267612091367424 2022-02-20 05:22:34 +0000 <liberiknights> okay now that ive had food im gonna go 100% enka i guess :(\n",
            "1495267611365744640 2022-02-20 05:22:33 +0000 <hemantgary> #Punjab CM: We don't want 'भइये लोग'. Punjab farmers: We do! They rush to trains coming from UP, Bihar; bid to hire 'भइये लोग' at the railway station itself. Offer free food, liquor... Highest bidder gets the workers.  @arjunsharma_86's story from '18.  https://t.co/hjWuhLLmJU\n",
            "1495267605120180233 2022-02-20 05:22:32 +0000 <Nigel_Mang> @smallzimaccount 😂🤣😂🤣 you were chased by food.  https://t.co/WYYmo2oDZt\n",
            "1495267603677331459 2022-02-20 05:22:32 +0000 <McGintyKathleen> Are there restrictions for the realised man in a similar manner M.: No. He is steady and not influenced by the food he takes. Is it not killing life to prepare meat diet M.: Ahimsa stands foremost in the code of discipline for the yogis. Even plants have life. Sri Ramana Maharshi  https://t.co/aRkzYvnx2W\n",
            "1495267600963674112 2022-02-20 05:22:31 +0000 <stranded_n1nja> @Trogistreed420 @lifestream223 I forgot you said you didn't pick it up at launch. The game fixes what the first laid down, and it's more of a rich RPG that's better explained as a tailored experience per user. You can even eat food that can give you temporary stat boosts\n",
            "1495267593199960070 2022-02-20 05:22:29 +0000 <Teetee199612> These people taking so long w/ my food\n",
            "1495267591224721408 2022-02-20 05:22:29 +0000 <smilescarts> cw // food (lagi)  selamat makan siang semuaaa&lt;3 kembali lagi dgn kecintaanku alias keprabon  https://t.co/4KdKjg5sz2\n",
            "1495267588414504961 2022-02-20 05:22:28 +0000 <AplAtil_> Food Wars OP slaps hard 🔥🔥  https://t.co/IEkFaLRSrJ\n",
            "1495267585654358024 2022-02-20 05:22:27 +0000 <GyledC> @koronkowy @tadakageneko Watch out for those \"ube powder\" that are marketed as something to add to boba tea or cupcakes. Check the ingredient list &amp; if it contains creamer/milk powder &amp;/or sugar, it's very diluted and most probably contains food colouring to give that bright purple colour.\n",
            "1495267584593199109 2022-02-20 05:22:27 +0000 <RhyanJill> @Black_D_Gamer1 Bruh... The dude obviously haven't tried working on fast food. I have friends who worked for Jollibee a long time ago (they support and prioritize working students to keep them away from prostitution) and they have one of the most professional and yet lax policy ever.\n",
            "1495267580692828162 2022-02-20 05:22:26 +0000 <kochengcoklat> @D_Moonchild @FOOD_FESS Iyaa kak, aku pernah baca buku agama Islam tentang praktik Jin dan sihir, ternyata uler tuh memang bisa jadi perantara atau media bangsa Jin\n",
            "1495267580042383360 2022-02-20 05:22:26 +0000 <EvilCylon> @RoyaltySpud Sometimes I just want hot fried garbage because it's comforting and Popeye's is some pretty bomb hot fried garbage. It's comfort food.\n",
            "1495267578595495938 2022-02-20 05:22:26 +0000 <Profpatsch> @lsjngs Doesn’t change the fact that people only need the food because they are locked inside their houses and shops are closed.\n",
            "1495267576649334785 2022-02-20 05:22:25 +0000 <mokmuud> @Food_2_Die_4 @m1ghtysauc3 @UltimulB @StephenKing Mueller admitted there was no evidence of collusion spending a ton of our tax dollars. There's currently a case in court because of the spying that occurred before and while Trump was president.  Spying just to prove their false narrative of collusion.\n",
            "1495267575596523521 2022-02-20 05:22:25 +0000 <schultz_kayla> @comedianarthur nyc food trucks &gt; nyc restaurants\n",
            "1495267572941352961 2022-02-20 05:22:24 +0000 <HouseMerri> @CarlosVilare We To Recipes.That Not Using In Ourselves We The Our Are Kitchen Food No Leaves Committed Ingredients Eat. Finest Our Would\n",
            "1495267571137929218 2022-02-20 05:22:24 +0000 <NomadicBrits> A Very Different Doughnut at Doughnut Time -  https://t.co/74ZjwOeXMi  We had been passed Doughnut Time a few times now since being in the Brisbane area. Each time we had not been in a position to sample...  Australia, Australia Good Food Guide\n",
            "1495267557028343810 2022-02-20 05:22:20 +0000 <Fluttered_RP> So I finished redoing the apartment.  If anyone needs a place to lie low it's there. Food in the fridge and everything.\n",
            "1495267554088128514 2022-02-20 05:22:20 +0000 <jwoytsek> Just shared Bible verses. Going to eat some instant mashed potatoes for dinner. Had cereal for lunch earlier. Facing a money crunch and our pickings are pretty slim right now. Thankful to have food to eat though.\n",
            "1495267550518779910 2022-02-20 05:22:19 +0000 <Girlboss_Olga> // food //  no offense but this doesn't look pleasing sorry /lh\n",
            "1495267550187462663 2022-02-20 05:22:19 +0000 <king_kreative> Y’all ever covered the food for someone in line behind you?\n",
            "1495267548065157122 2022-02-20 05:22:18 +0000 <glimpseofthesun> @aimseytwo eat foods u don't like and rate them\n",
            "1495267546123096071 2022-02-20 05:22:18 +0000 <AsomughaRevamp1> instead of watching film he worried about  food you can get the 2 for 20 dollars later jackass\n",
            "1495267532751605764 2022-02-20 05:22:15 +0000 <electrify2025> Can we build a hydroponic solar shaded structure to grow food over the canal?  Grow food, save water, generate electrical power.\n",
            "1495267531342610432 2022-02-20 05:22:14 +0000 <A38795861> @kparveen2005 By the way sitting like this and   eat food like this always it's very good or comfortable also\n",
            "1495267524228829189 2022-02-20 05:22:13 +0000 <CattyFae> [cw:  food, sweets]  okay, so I rewatched the Binging with Babish video on youtube and supposedly the ice cream is inspired by a special vanilla flavor from Tokyo Disneyland  but I always thought that the flavor would be more interesting and perhaps fruity or like a gari-gari pop\n",
            "1495267522324856833 2022-02-20 05:22:12 +0000 <haengbokhabsida> @shingwangil eat healthy clean food as much as you can! drink a lot of water! use eucalyptus aromatherapy for relaxing! don't go anywhere! pls pls get well soon gwangil 🤍\n",
            "1495267521838338052 2022-02-20 05:22:12 +0000 <yongiexoxo> \"your food is my favorite\"  taeyong one tweet au;  https://t.co/QxoyJIKGgD\n",
            "1495267516020633601 2022-02-20 05:22:11 +0000 <Tiondo1> @ednyoka Food poisoning! A combination of cotrimoxazole and metronidazole will sort you.\n",
            "1495267512178524160 2022-02-20 05:22:10 +0000 <bethharrisap> The realistic plastic food displays in Japan don’t leave you wondering  https://t.co/TnUzJyXw9G\n",
            "1495267507808182276 2022-02-20 05:22:09 +0000 <sharicelovvvve> I want some food but I been eating all day\n",
            "1495267505199202306 2022-02-20 05:22:08 +0000 <SachiCantTech> @NikoalaKuma It's more that kind of idea that sometimes you just wanna go out and eat shit when you're at a big event. The promo image extra sucks cause the idea of eating pasta in a crowded footy venue takes way more effort than finger food would.\n",
            "1495267500250271746 2022-02-20 05:22:07 +0000 <tenayataylor_> @Jadeday11 It's not fair. Food poisoning is so trash.\n",
            "1495267499948101635 2022-02-20 05:22:07 +0000 <GoldenEraMind> Tired of being FAT?    What if I told you there was an EASY way to lose weight?  It takes LESS than 10 minutes and you can still eat all the foods you LOVE (Yes, that includes carbs!).  Download my FREE weight loss course and start living your BEST life!  https://t.co/fZY9Bwz3hZ\n",
            "1495267495397240834 2022-02-20 05:22:06 +0000 <Everjoi1> @Houseof1987 But tastes good. I love Nigerian food too and their restaurants don't smell great!\n",
            "1495267482981965831 2022-02-20 05:22:03 +0000 <bleuuuwu> my choice of food was laughable as well\n",
            "1495267480964632576 2022-02-20 05:22:02 +0000 <DelaKram75> @alyssagdcourage Ugh I LOVE Indian food!  I used to do the $10 all you can eat buffet on Sundays 👀 wish I was still able to eat it\n",
            "1495267477122863109 2022-02-20 05:22:01 +0000 <NeilKJrm348> @MichaelSpring17 Michael, I'm not at all technically qualified but knowing folks who do, they say it's common practice. So yes a beat up to justify current narrative. Similar to being a communist as one likes Chinese food..\n",
            "1495267472878018561 2022-02-20 05:22:00 +0000 <plhiv_dasma> \"Food is not just eating energy, It's an experience.\"-GUY FIERI  https://t.co/rDqDCu053E\n",
            "1495267468658581507 2022-02-20 05:21:59 +0000 <Robbins____> @StateHouseKenya  #LowerFoodPrices Kenyans are really suffering. We cannot vote while hungry!!! Lower food prices or we refuse to vote. ✊✊\n",
            "1495267467773759489 2022-02-20 05:21:59 +0000 <AleyArif> Product Mc Food.. Mc Food supply product dia ke mcd...\n",
            "1495267453089292288 2022-02-20 05:21:56 +0000 <TSanctionary> Forgotten and let down - the Keighley single dad on Universal Credit and relying on food parcels and handouts - Yorkshire Live  https://t.co/8MHDUWwqWK\n",
            "1495267448962314245 2022-02-20 05:21:55 +0000 <earngistwist> We Sent Thai Food Into Space 🇹🇭  https://t.co/NJ4AKhlRJA via @YouTube ภารกิจส่งผัดกะเพราขึ้นอวกาศมาละ พึ่งมารู้ว่าช่องฝรั่งคนนี้เป็นคนคิดจะทำ เคยดูอยู่ แกดูชอบกะเพราจิง แต่ขำตรงหาไม่เจอ ผู้ใหญ่บ้านแนะนำให้จุดธูปขอพรพระ เมมโกโปรเปียกน้ำ ชาวบ้านแนะนำให้แช่ข้าวสาร อหโคตรไทย 555\n",
            "1495267440179175427 2022-02-20 05:21:53 +0000 <daniels50346224> @ZalariaCosplay Happy early birthday! May you find a 100 dollar bill and spend it on whatever drug/food you’re into\n",
            "1495267433179131910 2022-02-20 05:21:51 +0000 <SinggihSuryaW> @nsbstrn @uburuburr_ @moonyeonas @FOOD_FESS Fix, no debat\n",
            "1495267426576986112 2022-02-20 05:21:49 +0000 <ElenasFilipino> Mahalo! @ Elena's Home of Finest Filipino Foods  https://t.co/TJPTyWDWhE\n",
            "1495267424786317318 2022-02-20 05:21:49 +0000 <soeunieo> @Giribhoy pAPAAAA! i just woke up from sleep (again) and now craving for foods..\n",
            "1495267423708233734 2022-02-20 05:21:49 +0000 <StrokeMyWheels> Never food shop when you hungry\n",
            "1495267418003832832 2022-02-20 05:21:47 +0000 <DerutaLupeBot> All I wish is food, family and that I could punch someone in the face with no consequences.\n",
            "1495267413100695554 2022-02-20 05:21:46 +0000 <MichaelRamrezR3> PetFlow was founded to make it easier for pet parents everywhere to get the highest quality foods around at great prices. PetFlow carries nearly 300 brands of the finest dog &amp; cat food, treats &amp; more.🐶🦴🐱🍪  https://t.co/A0KJK5T80F\n",
            "1495267409749413893 2022-02-20 05:21:45 +0000 <ayato_hourly> Miss Kamisato and her brother are both fond of our food. They’re always sending staff down here to order something and take it back to them. - Kiminami Anna\n",
            "1495267409430786048 2022-02-20 05:21:45 +0000 <ChristJC2> @comedianarthur People here talking mexican spots. You gotta go here, not there. Glad I moved to mexico and can eat everywhere and have bomb ass mexican food. The best of the best. 🤤\n",
            "1495267407954419712 2022-02-20 05:21:45 +0000 <stupidkzzo> It really hurts when you spend money on food and it end up taste bad genre for real bumboclaat\n",
            "1495267401759399936 2022-02-20 05:21:43 +0000 <Aphilas35> |@AbiyAhmedAli has imposed a de facto blockade on a region of 6 million people. With no access to medicine, banks, telecom or food thousands are dying by the day. The #AUEUSummit has the power to prevent and save what’s left of #Tigray. #AUEUSummit @JosepBorrellF @EU_Commission\n",
            "1495267395975335939 2022-02-20 05:21:42 +0000 <WinnyMayyy> 📍 Majadas Food Hub with Bebots 💕\n",
            "1495267388740313095 2022-02-20 05:21:40 +0000 <ttherealchupaca> @ETommyBS1 I don't know your exact address, but I do know you live in the Bay area. I love hearing your food stories, makes me want to visit your area some day. I'll let ya know, you can tell me where not to go.\n",
            "1495267387041456129 2022-02-20 05:21:40 +0000 <HSydneyHC> @Bish_Habib @dalz_golab @OilYoui666 @MrMenaaa @bassamhallak4 Oh and for you Lebs last sentence literally means \"SAHTEIN\" 👀😬  Dem #Egyptians talk too much ay🤭Lebs just wanna get to the food yalla Sahtein we bass 🤪  Got nuffin for ya @bassamhallak4 unless u say Sahtein as well, u gotta start learning us lad😆🤣\n",
            "1495267379764367362 2022-02-20 05:21:38 +0000 <korawa_> @FOOD_FESS Nyolong di mane?\n",
            "1495267372705406979 2022-02-20 05:21:37 +0000 <rosewindfury> @malikxpotter I saw that, his mom is visiting. Taryn had a pic of food, I hit on the feed it took me to a IG of a LA chef &amp; the LA chef posted snow so they bought the chef back with them.\n",
            "1495267372021829633 2022-02-20 05:21:36 +0000 <Pachi_Huochi> @SaxClips naw im just breakfast food colored bc orange and gold make my brain go brrr  https://t.co/5MGaAb17cu\n",
            "1495267369974968320 2022-02-20 05:21:36 +0000 <virgowineslut> @madisonadavis It’s helped me pinpoint a lot of the foods that make me sick/bloated/etc. It has also has pointed out how little I have been eating. But yes, I have been slowly changing habits and trying to be better with food as well.\n",
            "1495267369333104640 2022-02-20 05:21:36 +0000 <PreritOPAmeta> @dumbavika Not sure about food, what about your taste!\n",
            "1495267368095911936 2022-02-20 05:21:35 +0000 <fyfekid01> Aaron is offering to get me food for dinner tomorrow and ugh I’m obsessed. My love language. 😭😭❤️❤️\n",
            "1495267364438380545 2022-02-20 05:21:35 +0000 <drumbeata1> @Alchemist You ate food from all over the place. What have you ate that hit your stomach nasty and you'll never try again? 🤮💩\n",
            "1495267363444637696 2022-02-20 05:21:34 +0000 <TheAnaheraRebel> @EnvyMercury I have the same attitude.😁 Except for legs…mine is either hair or food (though definitely not together🤢).\n",
            "1495267361296953345 2022-02-20 05:21:34 +0000 <TOPGAMING43> Now Foods – Cod Liver Oil 1000 mg – 90 softgels  https://t.co/azSN6wg4Ai\n",
            "1495267358369366020 2022-02-20 05:21:33 +0000 <TooJaiided> @thefakepresremo The food and beautiful black people are so worth the experience\n",
            "1495267356641308673 2022-02-20 05:21:33 +0000 <JimCordova8> @dr_jon_l @RealCandaceO Wait until they sit their rigs down. They can shut a country down in 2 days. Good luck getting food, fuel, etc.\n",
            "1495267352157376513 2022-02-20 05:21:32 +0000 <mikeeva82303282> a bakery wants to talk to Italian Food\n",
            "1495267349666033664 2022-02-20 05:21:31 +0000 <Powamowinstarot> Food is a necessity and home/shelter is a necessity that EVERYONE should be able to afford! 👏🏽‼️\n",
            "1495267348940398594 2022-02-20 05:21:31 +0000 <Magnum_Hermosa> Olympians and Their Love for Chinese Food and Snacks Goes Viral  https://t.co/LoHukmJ87Y\n",
            "1495267347912794113 2022-02-20 05:21:31 +0000 <MrJamesonNeat> @food_pyramid @ScottyMac101 Ya, now that makes some sense tbh\n",
            "1495267346738470913 2022-02-20 05:21:30 +0000 <EBODADDY> Ain’t no food that good 2️⃣sit ⬆️and weigh over 600lbs…\n",
            "1495267342690906114 2022-02-20 05:21:29 +0000 <_CLUB_69INSTA> Zomato se food order karne ke baad :  MY MOM : YE  https://t.co/LBBvaKehLo\n",
            "1495267342334443521 2022-02-20 05:21:29 +0000 <kgsthroatgoat_> @PrivATM2218 Food be slappin\n",
            "1495267339452907524 2022-02-20 05:21:29 +0000 <cigarettbreath> She thinks everything is food  https://t.co/Nr246vP3eU\n",
            "1495267333274697732 2022-02-20 05:21:27 +0000 <anytvnews> Winter Olympics: China built a new city inside Beijing, robots giving food to players  #LatestNews #Sports  https://t.co/DOoR4gZue7\n",
            "1495267332653916160 2022-02-20 05:21:27 +0000 <WCHamilton> @TonyWords @fruitcontent We feed our dog organic human grade food we have to rehydrate ourselves and we spend less than 10% of that. A box of her food lasts about 5-6 weeks and costs USD80. Even if you include pet insurance and vet visits, you’d be pressed to get it as high as USD120\n",
            "1495267331047497730 2022-02-20 05:21:27 +0000 <Naf_haryana> The more you fill up on healthy food the less space you'll have for unhealthy food.  #food #nutrition #foodsecurity #FoodService #society #socialwork  https://t.co/GI2ZVjs9gm\n",
            "1495267314429800456 2022-02-20 05:21:23 +0000 <thatpoot> Just some salt and food  https://t.co/LIQGt6PQGq\n",
            "1495267313712615431 2022-02-20 05:21:22 +0000 <BrianFnMoxley> @jessithebuckeye Food for thought...could Tony and/or Cody have purchased RoH and/or their tape library? That concept opens the door to a ton of possibilities.  Just theorizing in a bubble about wild rides that would change the landscape and things TK very well might do.\n",
            "1495267313657995264 2022-02-20 05:21:22 +0000 <Maduromamiii> someone send me vegan food lmfao\n",
            "1495267300517167112 2022-02-20 05:21:19 +0000 <Mj_ali0786> This video is from free India.  The world's largest democracy and secular country.  Where a Muslim cannot live freely, nor wear clothes, nor eat food.  Hijab is being burnt in Aligarh with the slogans of Bharat Mata Ki Jai and Vande Mataram.  #HijabRow  https://t.co/4TrVw4pe7k\n",
            "1495267298512453633 2022-02-20 05:21:19 +0000 <rrebasra> @Fikz_the_Cook Don’t think he even eats the food , total waste of food\n",
            "1495267296901750784 2022-02-20 05:21:18 +0000 <AntBejarano> tired  no pics of ceremony right now  here's just my food  😪  https://t.co/fzophdWMvw\n",
            "1495267293680398337 2022-02-20 05:21:18 +0000 <fukiameiii> @lKISSMOBIUS 15 is the minimum age for retail jobs so i have to work in fast food rn unfortunately\n",
            "1495267291973312514 2022-02-20 05:21:17 +0000 <yesispeaktruth> @Elftone @Dovahkiin699 I ain't anything u ratio ur profile is a fake pic of a female + get a job I suggest fast food\n",
            "1495267291881439234 2022-02-20 05:21:17 +0000 <BacchusWeeps> Tfw no femmaxxing gf that puts pink food colouring in everything\n"
          ]
        }
      ]
    },
    {
      "cell_type": "code",
      "source": [
        "import pandas as pd\n",
        "food_df = pd.read_csv(\"/content/food.csv\")\n",
        "food_df = food_df[food_df['language'] == 'en']\n",
        "food_df = food_df[food_df['tweet'].notna()]\n",
        "food_df = food_df.drop_duplicates()\n",
        "food_df = food_df[['tweet']]\n",
        "food_df = food_df.rename(columns={'tweet': 'text'})\n",
        "food_df.head()"
      ],
      "metadata": {
        "colab": {
          "base_uri": "https://localhost:8080/",
          "height": 201
        },
        "id": "Cc-3OYVDn5At",
        "outputId": "020cd3a1-53e6-410d-af93-467e3ca27aab"
      },
      "execution_count": null,
      "outputs": [
        {
          "output_type": "execute_result",
          "data": {
            "text/html": [
              "\n",
              "  <div id=\"df-d2edb3af-6f2f-4800-83a4-c4ff531fc82a\">\n",
              "    <div class=\"colab-df-container\">\n",
              "      <div>\n",
              "<style scoped>\n",
              "    .dataframe tbody tr th:only-of-type {\n",
              "        vertical-align: middle;\n",
              "    }\n",
              "\n",
              "    .dataframe tbody tr th {\n",
              "        vertical-align: top;\n",
              "    }\n",
              "\n",
              "    .dataframe thead th {\n",
              "        text-align: right;\n",
              "    }\n",
              "</style>\n",
              "<table border=\"1\" class=\"dataframe\">\n",
              "  <thead>\n",
              "    <tr style=\"text-align: right;\">\n",
              "      <th></th>\n",
              "      <th>text</th>\n",
              "    </tr>\n",
              "  </thead>\n",
              "  <tbody>\n",
              "    <tr>\n",
              "      <th>0</th>\n",
              "      <td>Recipe of the day: Creamy Parmesan Baked Acorn...</td>\n",
              "    </tr>\n",
              "    <tr>\n",
              "      <th>2</th>\n",
              "      <td>This restaurants service felt very much racist...</td>\n",
              "    </tr>\n",
              "    <tr>\n",
              "      <th>3</th>\n",
              "      <td>Food pics and ambience is captured as well #go...</td>\n",
              "    </tr>\n",
              "    <tr>\n",
              "      <th>4</th>\n",
              "      <td>@KTLA  @lapublichealth why do you guys keep ra...</td>\n",
              "    </tr>\n",
              "    <tr>\n",
              "      <th>5</th>\n",
              "      <td>What a performance 🎿 😤 🇺🇸 Diggins says she fou...</td>\n",
              "    </tr>\n",
              "  </tbody>\n",
              "</table>\n",
              "</div>\n",
              "      <button class=\"colab-df-convert\" onclick=\"convertToInteractive('df-d2edb3af-6f2f-4800-83a4-c4ff531fc82a')\"\n",
              "              title=\"Convert this dataframe to an interactive table.\"\n",
              "              style=\"display:none;\">\n",
              "        \n",
              "  <svg xmlns=\"http://www.w3.org/2000/svg\" height=\"24px\"viewBox=\"0 0 24 24\"\n",
              "       width=\"24px\">\n",
              "    <path d=\"M0 0h24v24H0V0z\" fill=\"none\"/>\n",
              "    <path d=\"M18.56 5.44l.94 2.06.94-2.06 2.06-.94-2.06-.94-.94-2.06-.94 2.06-2.06.94zm-11 1L8.5 8.5l.94-2.06 2.06-.94-2.06-.94L8.5 2.5l-.94 2.06-2.06.94zm10 10l.94 2.06.94-2.06 2.06-.94-2.06-.94-.94-2.06-.94 2.06-2.06.94z\"/><path d=\"M17.41 7.96l-1.37-1.37c-.4-.4-.92-.59-1.43-.59-.52 0-1.04.2-1.43.59L10.3 9.45l-7.72 7.72c-.78.78-.78 2.05 0 2.83L4 21.41c.39.39.9.59 1.41.59.51 0 1.02-.2 1.41-.59l7.78-7.78 2.81-2.81c.8-.78.8-2.07 0-2.86zM5.41 20L4 18.59l7.72-7.72 1.47 1.35L5.41 20z\"/>\n",
              "  </svg>\n",
              "      </button>\n",
              "      \n",
              "  <style>\n",
              "    .colab-df-container {\n",
              "      display:flex;\n",
              "      flex-wrap:wrap;\n",
              "      gap: 12px;\n",
              "    }\n",
              "\n",
              "    .colab-df-convert {\n",
              "      background-color: #E8F0FE;\n",
              "      border: none;\n",
              "      border-radius: 50%;\n",
              "      cursor: pointer;\n",
              "      display: none;\n",
              "      fill: #1967D2;\n",
              "      height: 32px;\n",
              "      padding: 0 0 0 0;\n",
              "      width: 32px;\n",
              "    }\n",
              "\n",
              "    .colab-df-convert:hover {\n",
              "      background-color: #E2EBFA;\n",
              "      box-shadow: 0px 1px 2px rgba(60, 64, 67, 0.3), 0px 1px 3px 1px rgba(60, 64, 67, 0.15);\n",
              "      fill: #174EA6;\n",
              "    }\n",
              "\n",
              "    [theme=dark] .colab-df-convert {\n",
              "      background-color: #3B4455;\n",
              "      fill: #D2E3FC;\n",
              "    }\n",
              "\n",
              "    [theme=dark] .colab-df-convert:hover {\n",
              "      background-color: #434B5C;\n",
              "      box-shadow: 0px 1px 3px 1px rgba(0, 0, 0, 0.15);\n",
              "      filter: drop-shadow(0px 1px 2px rgba(0, 0, 0, 0.3));\n",
              "      fill: #FFFFFF;\n",
              "    }\n",
              "  </style>\n",
              "\n",
              "      <script>\n",
              "        const buttonEl =\n",
              "          document.querySelector('#df-d2edb3af-6f2f-4800-83a4-c4ff531fc82a button.colab-df-convert');\n",
              "        buttonEl.style.display =\n",
              "          google.colab.kernel.accessAllowed ? 'block' : 'none';\n",
              "\n",
              "        async function convertToInteractive(key) {\n",
              "          const element = document.querySelector('#df-d2edb3af-6f2f-4800-83a4-c4ff531fc82a');\n",
              "          const dataTable =\n",
              "            await google.colab.kernel.invokeFunction('convertToInteractive',\n",
              "                                                     [key], {});\n",
              "          if (!dataTable) return;\n",
              "\n",
              "          const docLinkHtml = 'Like what you see? Visit the ' +\n",
              "            '<a target=\"_blank\" href=https://colab.research.google.com/notebooks/data_table.ipynb>data table notebook</a>'\n",
              "            + ' to learn more about interactive tables.';\n",
              "          element.innerHTML = '';\n",
              "          dataTable['output_type'] = 'display_data';\n",
              "          await google.colab.output.renderOutput(dataTable, element);\n",
              "          const docLink = document.createElement('div');\n",
              "          docLink.innerHTML = docLinkHtml;\n",
              "          element.appendChild(docLink);\n",
              "        }\n",
              "      </script>\n",
              "    </div>\n",
              "  </div>\n",
              "  "
            ],
            "text/plain": [
              "                                                text\n",
              "0  Recipe of the day: Creamy Parmesan Baked Acorn...\n",
              "2  This restaurants service felt very much racist...\n",
              "3  Food pics and ambience is captured as well #go...\n",
              "4  @KTLA  @lapublichealth why do you guys keep ra...\n",
              "5  What a performance 🎿 😤 🇺🇸 Diggins says she fou..."
            ]
          },
          "metadata": {},
          "execution_count": 31
        }
      ]
    },
    {
      "cell_type": "code",
      "source": [
        "import re\n",
        "\n",
        "# cleaning: lowercase, remove urls, punctuations, digits\n",
        "food_df['text'] = food_df['text'].str.lower()\n",
        "food_df['text'] = food_df['text'].apply(lambda x: re.split('https:\\/\\/.*', str(x))[0])\n",
        "food_df['text'] = food_df['text'].str.replace('[^\\w\\s]','')\n",
        "food_df['text'] = food_df['text'].apply(lambda x: re.sub(r\"\\d\", '', x))\n",
        "\n",
        "food_df.head()"
      ],
      "metadata": {
        "colab": {
          "base_uri": "https://localhost:8080/",
          "height": 254
        },
        "id": "ylgIjRHLpJ8R",
        "outputId": "d36ffd1c-7aec-417a-bc22-1797407e7a90"
      },
      "execution_count": null,
      "outputs": [
        {
          "output_type": "stream",
          "name": "stderr",
          "text": [
            "/usr/local/lib/python3.7/dist-packages/ipykernel_launcher.py:6: FutureWarning: The default value of regex will change from True to False in a future version.\n",
            "  \n"
          ]
        },
        {
          "output_type": "execute_result",
          "data": {
            "text/html": [
              "\n",
              "  <div id=\"df-bc63db2d-a02d-4752-bcc5-79f5c2e6057d\">\n",
              "    <div class=\"colab-df-container\">\n",
              "      <div>\n",
              "<style scoped>\n",
              "    .dataframe tbody tr th:only-of-type {\n",
              "        vertical-align: middle;\n",
              "    }\n",
              "\n",
              "    .dataframe tbody tr th {\n",
              "        vertical-align: top;\n",
              "    }\n",
              "\n",
              "    .dataframe thead th {\n",
              "        text-align: right;\n",
              "    }\n",
              "</style>\n",
              "<table border=\"1\" class=\"dataframe\">\n",
              "  <thead>\n",
              "    <tr style=\"text-align: right;\">\n",
              "      <th></th>\n",
              "      <th>text</th>\n",
              "    </tr>\n",
              "  </thead>\n",
              "  <tbody>\n",
              "    <tr>\n",
              "      <th>0</th>\n",
              "      <td>recipe of the day creamy parmesan baked acorn ...</td>\n",
              "    </tr>\n",
              "    <tr>\n",
              "      <th>2</th>\n",
              "      <td>this restaurants service felt very much racist...</td>\n",
              "    </tr>\n",
              "    <tr>\n",
              "      <th>3</th>\n",
              "      <td>food pics and ambience is captured as well goo...</td>\n",
              "    </tr>\n",
              "    <tr>\n",
              "      <th>4</th>\n",
              "      <td>ktla  lapublichealth why do you guys keep raid...</td>\n",
              "    </tr>\n",
              "    <tr>\n",
              "      <th>5</th>\n",
              "      <td>what a performance    diggins says she fought ...</td>\n",
              "    </tr>\n",
              "  </tbody>\n",
              "</table>\n",
              "</div>\n",
              "      <button class=\"colab-df-convert\" onclick=\"convertToInteractive('df-bc63db2d-a02d-4752-bcc5-79f5c2e6057d')\"\n",
              "              title=\"Convert this dataframe to an interactive table.\"\n",
              "              style=\"display:none;\">\n",
              "        \n",
              "  <svg xmlns=\"http://www.w3.org/2000/svg\" height=\"24px\"viewBox=\"0 0 24 24\"\n",
              "       width=\"24px\">\n",
              "    <path d=\"M0 0h24v24H0V0z\" fill=\"none\"/>\n",
              "    <path d=\"M18.56 5.44l.94 2.06.94-2.06 2.06-.94-2.06-.94-.94-2.06-.94 2.06-2.06.94zm-11 1L8.5 8.5l.94-2.06 2.06-.94-2.06-.94L8.5 2.5l-.94 2.06-2.06.94zm10 10l.94 2.06.94-2.06 2.06-.94-2.06-.94-.94-2.06-.94 2.06-2.06.94z\"/><path d=\"M17.41 7.96l-1.37-1.37c-.4-.4-.92-.59-1.43-.59-.52 0-1.04.2-1.43.59L10.3 9.45l-7.72 7.72c-.78.78-.78 2.05 0 2.83L4 21.41c.39.39.9.59 1.41.59.51 0 1.02-.2 1.41-.59l7.78-7.78 2.81-2.81c.8-.78.8-2.07 0-2.86zM5.41 20L4 18.59l7.72-7.72 1.47 1.35L5.41 20z\"/>\n",
              "  </svg>\n",
              "      </button>\n",
              "      \n",
              "  <style>\n",
              "    .colab-df-container {\n",
              "      display:flex;\n",
              "      flex-wrap:wrap;\n",
              "      gap: 12px;\n",
              "    }\n",
              "\n",
              "    .colab-df-convert {\n",
              "      background-color: #E8F0FE;\n",
              "      border: none;\n",
              "      border-radius: 50%;\n",
              "      cursor: pointer;\n",
              "      display: none;\n",
              "      fill: #1967D2;\n",
              "      height: 32px;\n",
              "      padding: 0 0 0 0;\n",
              "      width: 32px;\n",
              "    }\n",
              "\n",
              "    .colab-df-convert:hover {\n",
              "      background-color: #E2EBFA;\n",
              "      box-shadow: 0px 1px 2px rgba(60, 64, 67, 0.3), 0px 1px 3px 1px rgba(60, 64, 67, 0.15);\n",
              "      fill: #174EA6;\n",
              "    }\n",
              "\n",
              "    [theme=dark] .colab-df-convert {\n",
              "      background-color: #3B4455;\n",
              "      fill: #D2E3FC;\n",
              "    }\n",
              "\n",
              "    [theme=dark] .colab-df-convert:hover {\n",
              "      background-color: #434B5C;\n",
              "      box-shadow: 0px 1px 3px 1px rgba(0, 0, 0, 0.15);\n",
              "      filter: drop-shadow(0px 1px 2px rgba(0, 0, 0, 0.3));\n",
              "      fill: #FFFFFF;\n",
              "    }\n",
              "  </style>\n",
              "\n",
              "      <script>\n",
              "        const buttonEl =\n",
              "          document.querySelector('#df-bc63db2d-a02d-4752-bcc5-79f5c2e6057d button.colab-df-convert');\n",
              "        buttonEl.style.display =\n",
              "          google.colab.kernel.accessAllowed ? 'block' : 'none';\n",
              "\n",
              "        async function convertToInteractive(key) {\n",
              "          const element = document.querySelector('#df-bc63db2d-a02d-4752-bcc5-79f5c2e6057d');\n",
              "          const dataTable =\n",
              "            await google.colab.kernel.invokeFunction('convertToInteractive',\n",
              "                                                     [key], {});\n",
              "          if (!dataTable) return;\n",
              "\n",
              "          const docLinkHtml = 'Like what you see? Visit the ' +\n",
              "            '<a target=\"_blank\" href=https://colab.research.google.com/notebooks/data_table.ipynb>data table notebook</a>'\n",
              "            + ' to learn more about interactive tables.';\n",
              "          element.innerHTML = '';\n",
              "          dataTable['output_type'] = 'display_data';\n",
              "          await google.colab.output.renderOutput(dataTable, element);\n",
              "          const docLink = document.createElement('div');\n",
              "          docLink.innerHTML = docLinkHtml;\n",
              "          element.appendChild(docLink);\n",
              "        }\n",
              "      </script>\n",
              "    </div>\n",
              "  </div>\n",
              "  "
            ],
            "text/plain": [
              "                                                text\n",
              "0  recipe of the day creamy parmesan baked acorn ...\n",
              "2  this restaurants service felt very much racist...\n",
              "3  food pics and ambience is captured as well goo...\n",
              "4  ktla  lapublichealth why do you guys keep raid...\n",
              "5  what a performance    diggins says she fought ..."
            ]
          },
          "metadata": {},
          "execution_count": 33
        }
      ]
    },
    {
      "cell_type": "code",
      "source": [
        "food_df.count()"
      ],
      "metadata": {
        "colab": {
          "base_uri": "https://localhost:8080/"
        },
        "id": "b-tlIay0myta",
        "outputId": "ce89d5ee-b387-4b83-f0de-20fdea46dbbb"
      },
      "execution_count": null,
      "outputs": [
        {
          "output_type": "execute_result",
          "data": {
            "text/plain": [
              "text    3982\n",
              "dtype: int64"
            ]
          },
          "metadata": {},
          "execution_count": 34
        }
      ]
    },
    {
      "cell_type": "markdown",
      "source": [
        "PersonalityCafe Model"
      ],
      "metadata": {
        "id": "aC7xW4OFup5I"
      }
    },
    {
      "cell_type": "code",
      "source": [
        "from tensorflow import keras\n",
        "import pickle\n",
        "from keras.preprocessing.text import Tokenizer\n",
        "from keras.preprocessing import sequence\n",
        "model = keras.models.load_model('/content/model_kaggle.h5')\n",
        "\n",
        "max_sentence_length = 764\n",
        "\n",
        "class_names = ['ENFJ', 'ENFP', 'ENTJ', 'ENTP', 'ESFJ', 'ESFP', 'ESTJ', 'ESTP', 'INFJ', 'INFP', 'INTJ', 'INTP', 'ISFJ', 'ISFP', 'ISTJ', 'ISTP']\n",
        "\n",
        "with open(\"/content/tokenizer_kaggle.pickle\", 'rb') as handle:\n",
        "    loaded_tokenizer = pickle.load(handle)\n",
        "    loaded_tokenizer.fit_on_texts(food_df['text'].values)\n",
        "\n",
        "X = loaded_tokenizer.texts_to_sequences(food_df['text'].values)\n",
        "padded = sequence.pad_sequences(X, maxlen=max_sentence_length)\n",
        "pred = model.predict(padded)\n",
        "pred"
      ],
      "metadata": {
        "colab": {
          "base_uri": "https://localhost:8080/"
        },
        "outputId": "63a3b8b9-15ea-4cdb-9906-fb6c51f54d4c",
        "id": "gzP5ND3tuxCT"
      },
      "execution_count": null,
      "outputs": [
        {
          "output_type": "execute_result",
          "data": {
            "text/plain": [
              "array([[1.57043035e-03, 2.93287467e-02, 1.66745274e-04, ...,\n",
              "        1.07061875e-03, 1.74006345e-04, 1.26927707e-05],\n",
              "       [2.85191517e-02, 3.90190370e-02, 7.85729885e-02, ...,\n",
              "        2.86772940e-02, 4.22529876e-02, 5.25919572e-02],\n",
              "       [3.29951867e-02, 4.47157770e-02, 4.49764170e-02, ...,\n",
              "        7.63018727e-02, 5.09004891e-02, 6.34199902e-02],\n",
              "       ...,\n",
              "       [2.32443362e-02, 1.70245338e-02, 1.36568081e-02, ...,\n",
              "        1.98828075e-02, 2.10373085e-02, 5.15274890e-02],\n",
              "       [2.19504237e-02, 1.56371102e-01, 4.92056198e-02, ...,\n",
              "        8.55934247e-03, 1.04792556e-02, 1.75246634e-02],\n",
              "       [1.16777485e-02, 6.38648774e-03, 1.76677220e-02, ...,\n",
              "        5.25979558e-03, 2.52498128e-02, 2.48054899e-02]], dtype=float32)"
            ]
          },
          "metadata": {},
          "execution_count": 35
        }
      ]
    },
    {
      "cell_type": "code",
      "source": [
        "import numpy as np\n",
        "prediction = []\n",
        "\n",
        "for i in range(len(pred)):\n",
        "  prediction.append(str(format(class_names[np.argmax(pred[i])])))\n",
        "\n",
        "food_df['prediction_pcafe'] = prediction\n",
        "food_df.head()"
      ],
      "metadata": {
        "colab": {
          "base_uri": "https://localhost:8080/",
          "height": 201
        },
        "outputId": "61031224-04de-4c50-d167-627df82bc84d",
        "id": "up9UOpzCuxCX"
      },
      "execution_count": null,
      "outputs": [
        {
          "output_type": "execute_result",
          "data": {
            "text/html": [
              "\n",
              "  <div id=\"df-4f9dd937-413c-44ca-8259-bbe90952cd24\">\n",
              "    <div class=\"colab-df-container\">\n",
              "      <div>\n",
              "<style scoped>\n",
              "    .dataframe tbody tr th:only-of-type {\n",
              "        vertical-align: middle;\n",
              "    }\n",
              "\n",
              "    .dataframe tbody tr th {\n",
              "        vertical-align: top;\n",
              "    }\n",
              "\n",
              "    .dataframe thead th {\n",
              "        text-align: right;\n",
              "    }\n",
              "</style>\n",
              "<table border=\"1\" class=\"dataframe\">\n",
              "  <thead>\n",
              "    <tr style=\"text-align: right;\">\n",
              "      <th></th>\n",
              "      <th>text</th>\n",
              "      <th>prediction_pcafe</th>\n",
              "    </tr>\n",
              "  </thead>\n",
              "  <tbody>\n",
              "    <tr>\n",
              "      <th>0</th>\n",
              "      <td>recipe of the day creamy parmesan baked acorn ...</td>\n",
              "      <td>INFP</td>\n",
              "    </tr>\n",
              "    <tr>\n",
              "      <th>2</th>\n",
              "      <td>this restaurants service felt very much racist...</td>\n",
              "      <td>INTJ</td>\n",
              "    </tr>\n",
              "    <tr>\n",
              "      <th>3</th>\n",
              "      <td>food pics and ambience is captured as well goo...</td>\n",
              "      <td>INTJ</td>\n",
              "    </tr>\n",
              "    <tr>\n",
              "      <th>4</th>\n",
              "      <td>ktla  lapublichealth why do you guys keep raid...</td>\n",
              "      <td>INFP</td>\n",
              "    </tr>\n",
              "    <tr>\n",
              "      <th>5</th>\n",
              "      <td>what a performance    diggins says she fought ...</td>\n",
              "      <td>INFP</td>\n",
              "    </tr>\n",
              "  </tbody>\n",
              "</table>\n",
              "</div>\n",
              "      <button class=\"colab-df-convert\" onclick=\"convertToInteractive('df-4f9dd937-413c-44ca-8259-bbe90952cd24')\"\n",
              "              title=\"Convert this dataframe to an interactive table.\"\n",
              "              style=\"display:none;\">\n",
              "        \n",
              "  <svg xmlns=\"http://www.w3.org/2000/svg\" height=\"24px\"viewBox=\"0 0 24 24\"\n",
              "       width=\"24px\">\n",
              "    <path d=\"M0 0h24v24H0V0z\" fill=\"none\"/>\n",
              "    <path d=\"M18.56 5.44l.94 2.06.94-2.06 2.06-.94-2.06-.94-.94-2.06-.94 2.06-2.06.94zm-11 1L8.5 8.5l.94-2.06 2.06-.94-2.06-.94L8.5 2.5l-.94 2.06-2.06.94zm10 10l.94 2.06.94-2.06 2.06-.94-2.06-.94-.94-2.06-.94 2.06-2.06.94z\"/><path d=\"M17.41 7.96l-1.37-1.37c-.4-.4-.92-.59-1.43-.59-.52 0-1.04.2-1.43.59L10.3 9.45l-7.72 7.72c-.78.78-.78 2.05 0 2.83L4 21.41c.39.39.9.59 1.41.59.51 0 1.02-.2 1.41-.59l7.78-7.78 2.81-2.81c.8-.78.8-2.07 0-2.86zM5.41 20L4 18.59l7.72-7.72 1.47 1.35L5.41 20z\"/>\n",
              "  </svg>\n",
              "      </button>\n",
              "      \n",
              "  <style>\n",
              "    .colab-df-container {\n",
              "      display:flex;\n",
              "      flex-wrap:wrap;\n",
              "      gap: 12px;\n",
              "    }\n",
              "\n",
              "    .colab-df-convert {\n",
              "      background-color: #E8F0FE;\n",
              "      border: none;\n",
              "      border-radius: 50%;\n",
              "      cursor: pointer;\n",
              "      display: none;\n",
              "      fill: #1967D2;\n",
              "      height: 32px;\n",
              "      padding: 0 0 0 0;\n",
              "      width: 32px;\n",
              "    }\n",
              "\n",
              "    .colab-df-convert:hover {\n",
              "      background-color: #E2EBFA;\n",
              "      box-shadow: 0px 1px 2px rgba(60, 64, 67, 0.3), 0px 1px 3px 1px rgba(60, 64, 67, 0.15);\n",
              "      fill: #174EA6;\n",
              "    }\n",
              "\n",
              "    [theme=dark] .colab-df-convert {\n",
              "      background-color: #3B4455;\n",
              "      fill: #D2E3FC;\n",
              "    }\n",
              "\n",
              "    [theme=dark] .colab-df-convert:hover {\n",
              "      background-color: #434B5C;\n",
              "      box-shadow: 0px 1px 3px 1px rgba(0, 0, 0, 0.15);\n",
              "      filter: drop-shadow(0px 1px 2px rgba(0, 0, 0, 0.3));\n",
              "      fill: #FFFFFF;\n",
              "    }\n",
              "  </style>\n",
              "\n",
              "      <script>\n",
              "        const buttonEl =\n",
              "          document.querySelector('#df-4f9dd937-413c-44ca-8259-bbe90952cd24 button.colab-df-convert');\n",
              "        buttonEl.style.display =\n",
              "          google.colab.kernel.accessAllowed ? 'block' : 'none';\n",
              "\n",
              "        async function convertToInteractive(key) {\n",
              "          const element = document.querySelector('#df-4f9dd937-413c-44ca-8259-bbe90952cd24');\n",
              "          const dataTable =\n",
              "            await google.colab.kernel.invokeFunction('convertToInteractive',\n",
              "                                                     [key], {});\n",
              "          if (!dataTable) return;\n",
              "\n",
              "          const docLinkHtml = 'Like what you see? Visit the ' +\n",
              "            '<a target=\"_blank\" href=https://colab.research.google.com/notebooks/data_table.ipynb>data table notebook</a>'\n",
              "            + ' to learn more about interactive tables.';\n",
              "          element.innerHTML = '';\n",
              "          dataTable['output_type'] = 'display_data';\n",
              "          await google.colab.output.renderOutput(dataTable, element);\n",
              "          const docLink = document.createElement('div');\n",
              "          docLink.innerHTML = docLinkHtml;\n",
              "          element.appendChild(docLink);\n",
              "        }\n",
              "      </script>\n",
              "    </div>\n",
              "  </div>\n",
              "  "
            ],
            "text/plain": [
              "                                                text prediction_pcafe\n",
              "0  recipe of the day creamy parmesan baked acorn ...             INFP\n",
              "2  this restaurants service felt very much racist...             INTJ\n",
              "3  food pics and ambience is captured as well goo...             INTJ\n",
              "4  ktla  lapublichealth why do you guys keep raid...             INFP\n",
              "5  what a performance    diggins says she fought ...             INFP"
            ]
          },
          "metadata": {},
          "execution_count": 36
        }
      ]
    },
    {
      "cell_type": "code",
      "source": [
        "food_df.prediction_pcafe.value_counts()"
      ],
      "metadata": {
        "colab": {
          "base_uri": "https://localhost:8080/"
        },
        "outputId": "de42e39a-9ec5-4c42-bdc6-76d6ab0a2b5e",
        "id": "n99WXxDwuxCY"
      },
      "execution_count": null,
      "outputs": [
        {
          "output_type": "execute_result",
          "data": {
            "text/plain": [
              "INFP    1637\n",
              "INTP     785\n",
              "ENFP     520\n",
              "INFJ     478\n",
              "INTJ     451\n",
              "ENTP      48\n",
              "ISTP      32\n",
              "ENTJ      12\n",
              "ISTJ      11\n",
              "ISFJ       5\n",
              "ISFP       3\n",
              "Name: prediction_pcafe, dtype: int64"
            ]
          },
          "metadata": {},
          "execution_count": 37
        }
      ]
    },
    {
      "cell_type": "markdown",
      "source": [
        "Reddit Model"
      ],
      "metadata": {
        "id": "2Ay5dOyZuR2s"
      }
    },
    {
      "cell_type": "code",
      "source": [
        "from tensorflow import keras\n",
        "import pickle\n",
        "from keras.preprocessing.text import Tokenizer\n",
        "from keras.preprocessing import sequence\n",
        "model = keras.models.load_model('/content/model_reddit.h5')\n",
        "\n",
        "max_sentence_length = 881\n",
        "\n",
        "class_names = ['ENFJ', 'ENFP', 'ENTJ', 'ENTP', 'ESFJ', 'ESFP', 'ESTJ', 'ESTP', 'INFJ', 'INFP', 'INTJ', 'INTP', 'ISFJ', 'ISFP', 'ISTJ', 'ISTP']\n",
        "\n",
        "with open(\"/content/tokenizer_reddit.pickle\", 'rb') as handle:\n",
        "    loaded_tokenizer = pickle.load(handle)\n",
        "    loaded_tokenizer.fit_on_texts(food_df['text'].values)\n",
        "\n",
        "X = loaded_tokenizer.texts_to_sequences(food_df['text'].values)\n",
        "padded = sequence.pad_sequences(X, maxlen=max_sentence_length)\n",
        "pred = model.predict(padded)\n",
        "pred"
      ],
      "metadata": {
        "colab": {
          "base_uri": "https://localhost:8080/"
        },
        "id": "rCmm93HyruMR",
        "outputId": "812f4f67-0e68-4d9e-a177-b1a14668c4b2"
      },
      "execution_count": null,
      "outputs": [
        {
          "output_type": "execute_result",
          "data": {
            "text/plain": [
              "array([[0.02274996, 0.07907272, 0.13941377, ..., 0.01883212, 0.01541294,\n",
              "        0.10408188],\n",
              "       [0.08405741, 0.07386927, 0.05726868, ..., 0.05421275, 0.0633639 ,\n",
              "        0.05754169],\n",
              "       [0.06474929, 0.06704251, 0.07380392, ..., 0.0421185 , 0.06986813,\n",
              "        0.0646002 ],\n",
              "       ...,\n",
              "       [0.04605455, 0.10839682, 0.06613568, ..., 0.06121569, 0.0713833 ,\n",
              "        0.05959007],\n",
              "       [0.07104966, 0.07628417, 0.06279011, ..., 0.04071771, 0.07068021,\n",
              "        0.05010611],\n",
              "       [0.06712274, 0.09924201, 0.05675005, ..., 0.07119285, 0.07343302,\n",
              "        0.05104184]], dtype=float32)"
            ]
          },
          "metadata": {},
          "execution_count": 38
        }
      ]
    },
    {
      "cell_type": "code",
      "source": [
        "import numpy as np\n",
        "prediction = []\n",
        "\n",
        "for i in range(len(pred)):\n",
        "  prediction.append(str(format(class_names[np.argmax(pred[i])])))\n",
        "\n",
        "food_df['prediction_reddit'] = prediction\n",
        "food_df.head()"
      ],
      "metadata": {
        "colab": {
          "base_uri": "https://localhost:8080/",
          "height": 201
        },
        "id": "cHMnaGLkta4b",
        "outputId": "96197616-cff4-4dfb-9b97-1d6ad9415067"
      },
      "execution_count": null,
      "outputs": [
        {
          "output_type": "execute_result",
          "data": {
            "text/html": [
              "\n",
              "  <div id=\"df-27f5971c-66c5-462a-be58-9c62661e3e91\">\n",
              "    <div class=\"colab-df-container\">\n",
              "      <div>\n",
              "<style scoped>\n",
              "    .dataframe tbody tr th:only-of-type {\n",
              "        vertical-align: middle;\n",
              "    }\n",
              "\n",
              "    .dataframe tbody tr th {\n",
              "        vertical-align: top;\n",
              "    }\n",
              "\n",
              "    .dataframe thead th {\n",
              "        text-align: right;\n",
              "    }\n",
              "</style>\n",
              "<table border=\"1\" class=\"dataframe\">\n",
              "  <thead>\n",
              "    <tr style=\"text-align: right;\">\n",
              "      <th></th>\n",
              "      <th>text</th>\n",
              "      <th>prediction_pcafe</th>\n",
              "      <th>prediction_reddit</th>\n",
              "    </tr>\n",
              "  </thead>\n",
              "  <tbody>\n",
              "    <tr>\n",
              "      <th>0</th>\n",
              "      <td>recipe of the day creamy parmesan baked acorn ...</td>\n",
              "      <td>INFP</td>\n",
              "      <td>INTJ</td>\n",
              "    </tr>\n",
              "    <tr>\n",
              "      <th>2</th>\n",
              "      <td>this restaurants service felt very much racist...</td>\n",
              "      <td>INTJ</td>\n",
              "      <td>ENFJ</td>\n",
              "    </tr>\n",
              "    <tr>\n",
              "      <th>3</th>\n",
              "      <td>food pics and ambience is captured as well goo...</td>\n",
              "      <td>INTJ</td>\n",
              "      <td>ESFJ</td>\n",
              "    </tr>\n",
              "    <tr>\n",
              "      <th>4</th>\n",
              "      <td>ktla  lapublichealth why do you guys keep raid...</td>\n",
              "      <td>INFP</td>\n",
              "      <td>ENFP</td>\n",
              "    </tr>\n",
              "    <tr>\n",
              "      <th>5</th>\n",
              "      <td>what a performance    diggins says she fought ...</td>\n",
              "      <td>INFP</td>\n",
              "      <td>ENTP</td>\n",
              "    </tr>\n",
              "  </tbody>\n",
              "</table>\n",
              "</div>\n",
              "      <button class=\"colab-df-convert\" onclick=\"convertToInteractive('df-27f5971c-66c5-462a-be58-9c62661e3e91')\"\n",
              "              title=\"Convert this dataframe to an interactive table.\"\n",
              "              style=\"display:none;\">\n",
              "        \n",
              "  <svg xmlns=\"http://www.w3.org/2000/svg\" height=\"24px\"viewBox=\"0 0 24 24\"\n",
              "       width=\"24px\">\n",
              "    <path d=\"M0 0h24v24H0V0z\" fill=\"none\"/>\n",
              "    <path d=\"M18.56 5.44l.94 2.06.94-2.06 2.06-.94-2.06-.94-.94-2.06-.94 2.06-2.06.94zm-11 1L8.5 8.5l.94-2.06 2.06-.94-2.06-.94L8.5 2.5l-.94 2.06-2.06.94zm10 10l.94 2.06.94-2.06 2.06-.94-2.06-.94-.94-2.06-.94 2.06-2.06.94z\"/><path d=\"M17.41 7.96l-1.37-1.37c-.4-.4-.92-.59-1.43-.59-.52 0-1.04.2-1.43.59L10.3 9.45l-7.72 7.72c-.78.78-.78 2.05 0 2.83L4 21.41c.39.39.9.59 1.41.59.51 0 1.02-.2 1.41-.59l7.78-7.78 2.81-2.81c.8-.78.8-2.07 0-2.86zM5.41 20L4 18.59l7.72-7.72 1.47 1.35L5.41 20z\"/>\n",
              "  </svg>\n",
              "      </button>\n",
              "      \n",
              "  <style>\n",
              "    .colab-df-container {\n",
              "      display:flex;\n",
              "      flex-wrap:wrap;\n",
              "      gap: 12px;\n",
              "    }\n",
              "\n",
              "    .colab-df-convert {\n",
              "      background-color: #E8F0FE;\n",
              "      border: none;\n",
              "      border-radius: 50%;\n",
              "      cursor: pointer;\n",
              "      display: none;\n",
              "      fill: #1967D2;\n",
              "      height: 32px;\n",
              "      padding: 0 0 0 0;\n",
              "      width: 32px;\n",
              "    }\n",
              "\n",
              "    .colab-df-convert:hover {\n",
              "      background-color: #E2EBFA;\n",
              "      box-shadow: 0px 1px 2px rgba(60, 64, 67, 0.3), 0px 1px 3px 1px rgba(60, 64, 67, 0.15);\n",
              "      fill: #174EA6;\n",
              "    }\n",
              "\n",
              "    [theme=dark] .colab-df-convert {\n",
              "      background-color: #3B4455;\n",
              "      fill: #D2E3FC;\n",
              "    }\n",
              "\n",
              "    [theme=dark] .colab-df-convert:hover {\n",
              "      background-color: #434B5C;\n",
              "      box-shadow: 0px 1px 3px 1px rgba(0, 0, 0, 0.15);\n",
              "      filter: drop-shadow(0px 1px 2px rgba(0, 0, 0, 0.3));\n",
              "      fill: #FFFFFF;\n",
              "    }\n",
              "  </style>\n",
              "\n",
              "      <script>\n",
              "        const buttonEl =\n",
              "          document.querySelector('#df-27f5971c-66c5-462a-be58-9c62661e3e91 button.colab-df-convert');\n",
              "        buttonEl.style.display =\n",
              "          google.colab.kernel.accessAllowed ? 'block' : 'none';\n",
              "\n",
              "        async function convertToInteractive(key) {\n",
              "          const element = document.querySelector('#df-27f5971c-66c5-462a-be58-9c62661e3e91');\n",
              "          const dataTable =\n",
              "            await google.colab.kernel.invokeFunction('convertToInteractive',\n",
              "                                                     [key], {});\n",
              "          if (!dataTable) return;\n",
              "\n",
              "          const docLinkHtml = 'Like what you see? Visit the ' +\n",
              "            '<a target=\"_blank\" href=https://colab.research.google.com/notebooks/data_table.ipynb>data table notebook</a>'\n",
              "            + ' to learn more about interactive tables.';\n",
              "          element.innerHTML = '';\n",
              "          dataTable['output_type'] = 'display_data';\n",
              "          await google.colab.output.renderOutput(dataTable, element);\n",
              "          const docLink = document.createElement('div');\n",
              "          docLink.innerHTML = docLinkHtml;\n",
              "          element.appendChild(docLink);\n",
              "        }\n",
              "      </script>\n",
              "    </div>\n",
              "  </div>\n",
              "  "
            ],
            "text/plain": [
              "                                                text  ... prediction_reddit\n",
              "0  recipe of the day creamy parmesan baked acorn ...  ...              INTJ\n",
              "2  this restaurants service felt very much racist...  ...              ENFJ\n",
              "3  food pics and ambience is captured as well goo...  ...              ESFJ\n",
              "4  ktla  lapublichealth why do you guys keep raid...  ...              ENFP\n",
              "5  what a performance    diggins says she fought ...  ...              ENTP\n",
              "\n",
              "[5 rows x 3 columns]"
            ]
          },
          "metadata": {},
          "execution_count": 39
        }
      ]
    },
    {
      "cell_type": "code",
      "source": [
        "food_df.prediction_reddit.value_counts()"
      ],
      "metadata": {
        "colab": {
          "base_uri": "https://localhost:8080/"
        },
        "id": "_InySHxwtek2",
        "outputId": "34db61cb-3370-45d7-b2fa-99390701173a"
      },
      "execution_count": null,
      "outputs": [
        {
          "output_type": "execute_result",
          "data": {
            "text/plain": [
              "ENTJ    1183\n",
              "INTJ     657\n",
              "ENFP     519\n",
              "INFJ     370\n",
              "INTP     218\n",
              "ESFP     160\n",
              "ESFJ     155\n",
              "ENFJ     151\n",
              "ISTJ     133\n",
              "INFP     100\n",
              "ESTJ      83\n",
              "ISFJ      72\n",
              "ISTP      70\n",
              "ESTP      54\n",
              "ISFP      45\n",
              "ENTP      12\n",
              "Name: prediction_reddit, dtype: int64"
            ]
          },
          "metadata": {},
          "execution_count": 40
        }
      ]
    },
    {
      "cell_type": "code",
      "source": [
        "food_df.to_csv('tweets_processed.csv', index=False)"
      ],
      "metadata": {
        "id": "BYSLdso6wQw0"
      },
      "execution_count": null,
      "outputs": []
    },
    {
      "cell_type": "code",
      "source": [
        "compare = np.where(food_df[\"prediction_pcafe\"] == food_df[\"prediction_reddit\"], \"Same\", \"Different\")\n",
        "food_df[\"check\"] = compare\n",
        "food_df[\"check\"].value_counts()"
      ],
      "metadata": {
        "colab": {
          "base_uri": "https://localhost:8080/"
        },
        "id": "EkfG8ux1w53x",
        "outputId": "923f0b6d-0f25-44fe-b612-1fb60324ef5e"
      },
      "execution_count": null,
      "outputs": [
        {
          "output_type": "execute_result",
          "data": {
            "text/plain": [
              "Different    3787\n",
              "Same          195\n",
              "Name: check, dtype: int64"
            ]
          },
          "metadata": {},
          "execution_count": 32
        }
      ]
    },
    {
      "cell_type": "code",
      "source": [
        "print((195/(3787+195))*100, \"%\")"
      ],
      "metadata": {
        "colab": {
          "base_uri": "https://localhost:8080/"
        },
        "id": "A5Gc_mLjxDL4",
        "outputId": "2969ae33-1d1c-4d30-db9a-7f697810bd8e"
      },
      "execution_count": null,
      "outputs": [
        {
          "output_type": "stream",
          "name": "stdout",
          "text": [
            "4.897036664992466 %\n"
          ]
        }
      ]
    }
  ],
  "metadata": {
    "colab": {
      "collapsed_sections": [
        "88kKg6SaH2kQ",
        "utT5p1Sn9m2U",
        "fLfJxjoi_10h",
        "afhPPFHn_10y",
        "cseOlDZlaKkw",
        "Ag5Cv-ayoM7F",
        "Af7ci8AuotGG",
        "wbxoCUMWXHaw",
        "_XYo1SGalaqX"
      ],
      "name": "codes-predictiontool-crawl.ipynb",
      "provenance": []
    },
    "kernelspec": {
      "display_name": "Python 3",
      "name": "python3"
    },
    "language_info": {
      "name": "python"
    },
    "accelerator": "GPU"
  },
  "nbformat": 4,
  "nbformat_minor": 0
}